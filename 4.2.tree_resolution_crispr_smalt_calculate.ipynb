{
 "cells": [
  {
   "cell_type": "code",
   "execution_count": 8,
   "id": "cbb9bec4-b576-464d-831a-6f30c6a47a3a",
   "metadata": {},
   "outputs": [],
   "source": [
    "from ete3 import Tree\n",
    "from Bio import Phylo\n",
    "from io import StringIO\n",
    "import os\n",
    "import pandas as pd\n",
    "import matplotlib.pyplot as plt\n",
    "import pandas as pd"
   ]
  },
  {
   "cell_type": "code",
   "execution_count": 2,
   "id": "168bc410-8566-42e4-9a87-f2a187a00aee",
   "metadata": {},
   "outputs": [],
   "source": [
    "import numpy as np\n",
    "import seaborn as sns"
   ]
  },
  {
   "cell_type": "code",
   "execution_count": null,
   "id": "81a61bce-70fb-4378-af60-e124111d61dd",
   "metadata": {},
   "outputs": [],
   "source": [
    "from scipy.stats import spearmanr, pearsonr\n",
    "from tqdm import tqdm"
   ]
  },
  {
   "cell_type": "code",
   "execution_count": 3,
   "id": "57de55d2-af46-4ce5-b953-351a7931fd19",
   "metadata": {},
   "outputs": [],
   "source": [
    "def branching_factor(tree):\n",
    "    bf = []\n",
    "    for i in tree.get_nonterminals():\n",
    "        bf.append(len(i.clades))\n",
    "    bf = np.array(bf)\n",
    "    return bf[bf>1]"
   ]
  },
  {
   "cell_type": "code",
   "execution_count": 49,
   "id": "4b5b89ab-5c40-409c-ae70-afe6fa583d3b",
   "metadata": {},
   "outputs": [],
   "source": [
    "def allel_edit_distance(al1, al2):\n",
    "    n = len(al1)\n",
    "    diff, cnt = 0, 0\n",
    "    for i in range(n):\n",
    "        if (al1[i] == '_') or (al2[i] == '_'):\n",
    "            continue\n",
    "        cnt += 1\n",
    "        if al1[i] != al2[i]:\n",
    "            if (al1[i] == 0) or (al2[i] == 0) or (al1[i] == '0') or (al2[i] == '0'):\n",
    "                diff += 1\n",
    "            else:\n",
    "                diff += 2\n",
    "    return diff / cnt           \n",
    "\n",
    "def phylogenetic_distance(tree, node1, node2):\n",
    "    return tree.distance(node1, node2)\n",
    "\n"
   ]
  },
  {
   "cell_type": "code",
   "execution_count": null,
   "id": "f4229787-e4c5-428b-b64d-fc9687ec14f1",
   "metadata": {},
   "outputs": [],
   "source": []
  },
  {
   "cell_type": "code",
   "execution_count": 4,
   "id": "386a3e56-1b80-412f-b49a-15eddbe837c1",
   "metadata": {},
   "outputs": [],
   "source": [
    "data_path = '/data3/wangkun/phylovelo_datasets/embryo/'"
   ]
  },
  {
   "cell_type": "code",
   "execution_count": 127,
   "id": "e2d48a0d-77f4-4b4f-92b8-ab81ec985fe4",
   "metadata": {
    "tags": []
   },
   "outputs": [
    {
     "name": "stderr",
     "output_type": "stream",
     "text": [
      "100%|██████████| 1000/1000 [00:23<00:00, 42.36it/s]\n",
      "100%|██████████| 1000/1000 [01:10<00:00, 14.20it/s]\n",
      "100%|██████████| 1000/1000 [00:44<00:00, 22.56it/s]\n",
      "100%|██████████| 1000/1000 [00:51<00:00, 19.37it/s]\n"
     ]
    }
   ],
   "source": [
    "crispr_tree_chan = {'terminal':[], 'nonterminal':[], 'branching_factor':[], 'pearsonr':[], 'spearmanr':[]}\n",
    "data_path = '/data3/wangkun/phylovelo_datasets/embryo/'\n",
    "for i in [1,2,3,6]:\n",
    "    with open(data_path+f'trees/embryo{i}_all.newick', 'r') as f:\n",
    "        tree_nwk = f.readline()\n",
    "    t = Tree(tree_nwk)\n",
    "    f = StringIO(t.write())\n",
    "    tree = Phylo.read(f, 'newick')\n",
    "    f.close()\n",
    "    crispr_tree_chan['terminal'].append(len(tree.get_terminals()))\n",
    "    crispr_tree_chan['nonterminal'].append(len(tree.get_nonterminals()))\n",
    "    crispr_tree_chan['branching_factor'].append(branching_factor(tree).mean())\n",
    "    p_dist, ae_dist = [], []\n",
    "    em = i\n",
    "    if em == 2:\n",
    "        alleletab = pd.read_csv(data_path + f'GSM{3302825+em}_embryo{em}a_alleleTable.txt', sep='\\t', index_col=0)\n",
    "        alleletab1 = pd.read_csv(data_path + f'GSM{3302826+em}_embryo{em}b_alleleTable.txt', sep='\\t', index_col=0)\n",
    "    else:\n",
    "        if em >= 3:\n",
    "            alleletab = pd.read_csv(data_path + f'GSM{3302826+em}_embryo{em}_alleleTable.txt', sep='\\t', index_col=0)\n",
    "        else:                                          \n",
    "            alleletab = pd.read_csv(data_path + f'GSM{3302825+em}_embryo{em}_alleleTable.txt', sep='\\t', index_col=0)\n",
    "\n",
    "    for _ in tqdm(range(1000)):\n",
    "        terminals = tree.get_terminals()\n",
    "        c1, c2 = np.random.choice(range(len(terminals)), 2, replace=False)\n",
    "        c1, c2 = terminals[c1], terminals[c2]\n",
    "        p_dist.append(phylogenetic_distance(tree, c1, c2))\n",
    "        try:\n",
    "            al1 = alleletab.loc[f'{c1.name}-1']\n",
    "        except:\n",
    "            al1 = alleletab1.loc[f'{c1.name}-1']\n",
    "        try:\n",
    "            al2 = alleletab.loc[f'{c2.name}-1']\n",
    "        except:\n",
    "            al2 = alleletab1.loc[f'{c2.name}-1']\n",
    "            \n",
    "        \n",
    "        if len(al1.shape) == 1:\n",
    "            al1 = pd.DataFrame(al1).T\n",
    "        if len(al2.shape) == 1:\n",
    "            al2 = pd.DataFrame(al2).T\n",
    "        intbc = set(al1['intBC']).intersection(set(al2['intBC']))\n",
    "        all1 = ''\n",
    "        all2 = ''\n",
    "        for ibc in intbc:\n",
    "            all1 += str(al1[al1['intBC']==ibc]['allele1'])\n",
    "            all2 += str(al2[al2['intBC']==ibc]['allele1']) \n",
    "        ae_dist.append(allel_edit_distance(all1.split('_'), all2.split('_')))\n",
    "    crispr_tree_chan['pearsonr'].append(pearsonr(p_dist, ae_dist)[0])\n",
    "    crispr_tree_chan['spearmanr'].append(spearmanr(p_dist, ae_dist)[0])"
   ]
  },
  {
   "cell_type": "code",
   "execution_count": null,
   "id": "dd0b52f3-c383-493f-878f-24c9f812873f",
   "metadata": {},
   "outputs": [],
   "source": []
  },
  {
   "cell_type": "code",
   "execution_count": 177,
   "id": "d5481383-7037-43a3-b1cb-d6db8f60bf2d",
   "metadata": {
    "tags": []
   },
   "outputs": [
    {
     "name": "stderr",
     "output_type": "stream",
     "text": [
      "100%|██████████| 85/85 [07:16<00:00,  5.14s/it]\n"
     ]
    }
   ],
   "source": [
    "crispr_tree_yang = {'terminal':[], 'nonterminal':[], 'branching_factor':[], 'pearsonr':[], 'spearmanr':[]}\n",
    "data_path = '/data3/wangkun/phylovelo_datasets/KPTracer-Data/trees/'\n",
    "trees = os.listdir(data_path)\n",
    "trees = [i for i in trees if (i[-5:]=='e.nwk')]\n",
    "\n",
    "for i in tqdm(trees):\n",
    "    with open(data_path+i, 'r') as f:\n",
    "        tree_nwk = f.readline()\n",
    "    t = Tree(tree_nwk)\n",
    "    f = StringIO(t.write())\n",
    "    tree = Phylo.read(f, 'newick')\n",
    "    f.close()\n",
    "    n_nt = 0\n",
    "    for j in tree.get_nonterminals():\n",
    "        if len(j.clades) > 1:\n",
    "            n_nt += 1\n",
    "    crispr_tree_yang['terminal'].append(len(tree.get_terminals()))\n",
    "    crispr_tree_yang['nonterminal'].append(n_nt)\n",
    "    crispr_tree_yang['branching_factor'].append(branching_factor(tree).mean())\n",
    "    charater_mat = pd.read_csv(data_path+i.replace('_tree.nwk', '_character_matrix.txt'), sep='\\t', index_col=0)\n",
    "    p_dist, ae_dist = [], []\n",
    "    for _ in range(1000):\n",
    "        terminals = tree.get_terminals()\n",
    "        c1, c2 = np.random.choice(range(len(terminals)), 2, replace=False)\n",
    "        c1, c2 = terminals[c1], terminals[c2]\n",
    "        p_dist.append(phylogenetic_distance(tree, c1, c2))\n",
    "        ae_dist.append(allel_edit_distance(charater_mat.loc[c1.name], charater_mat.loc[c2.name]))\n",
    "    crispr_tree_yang['pearsonr'].append(pearsonr(p_dist, ae_dist)[0])\n",
    "    crispr_tree_yang['spearmanr'].append(spearmanr(p_dist, ae_dist)[0])"
   ]
  },
  {
   "cell_type": "code",
   "execution_count": null,
   "id": "7874d199-43bc-4848-9a2a-548fa8b86f6c",
   "metadata": {},
   "outputs": [],
   "source": []
  },
  {
   "cell_type": "code",
   "execution_count": 147,
   "id": "1cc5ed72-29cc-46e6-a054-6165bd254996",
   "metadata": {},
   "outputs": [],
   "source": [
    "smtree = pd.read_csv('/data2/kantian/LineageTracing/SMALT/0.Results/figures/3.1.CRC_Apc_stats.txt', sep='\\t')\n",
    "# smtree = smtree[smtree['sampleType']=='IBD_T']"
   ]
  },
  {
   "cell_type": "code",
   "execution_count": 167,
   "id": "846d6e0a-af84-4ad8-9653-736acfdf3519",
   "metadata": {
    "tags": []
   },
   "outputs": [
    {
     "name": "stderr",
     "output_type": "stream",
     "text": [
      "100%|██████████| 77/77 [12:24<00:00,  9.67s/it]\n"
     ]
    }
   ],
   "source": [
    "smalt_tree = {'terminal':[], 'nonterminal':[], 'branching_factor':[], 'pearsonr':[], 'spearmanr':[]}\n",
    "# smalt_tree_poly = {'terminal':[], 'nonterminal':[], 'branching_factor':[]}\n",
    "data_path = '/data2/kantian/LineageTracing/SMALT/0.Results/2.final_phy_re/'\n",
    "# trees = os.listdir(data_path)\n",
    "# trees = [i for i in trees if (i[-5:]=='e.nwk') and ('T' in i.split('_')[1])]\n",
    "for i in tqdm(smtree['sample']):\n",
    "    with open(data_path+f'{i}_filtered_re_rescale.nwk', 'r') as f:\n",
    "        tree_nwk = f.readline()\n",
    "    cls = tree_nwk.split(':0.00000)')\n",
    "    for j, cl in enumerate(cls[:-1]):\n",
    "        success = 0\n",
    "        jj = j\n",
    "        while not success:\n",
    "            try:\n",
    "                k = -cls[jj][::-1].index('(')\n",
    "                new = cls[jj][:k-1] + cls[jj][k:]\n",
    "                assert ')' not in cls[jj][k:]\n",
    "                cls[jj] = new\n",
    "                success = 1\n",
    "            except:\n",
    "                jj -= 1\n",
    "        assert success == 1\n",
    "    t = Tree(''.join(cls))\n",
    "    f = StringIO(t.write())\n",
    "    tree = Phylo.read(f, 'newick')\n",
    "    f.close()\n",
    "    smalt_tree['terminal'].append(len(tree.get_terminals()))\n",
    "    smalt_tree['nonterminal'].append(len(tree.get_nonterminals()))\n",
    "    smalt_tree['branching_factor'].append(branching_factor(tree).mean())\n",
    "    alltab = pd.read_csv(data_path+f'{i}_filtered_re.phy', sep=' ', index_col=0)\n",
    "    p_dist, ae_dist = [], []\n",
    "    for _ in range(1000):\n",
    "        terminals = tree.get_terminals()\n",
    "        c1, c2 = np.random.choice(range(len(terminals)), 2, replace=False)\n",
    "        c1, c2 = terminals[c1], terminals[c2]\n",
    "        p_dist.append(phylogenetic_distance(tree, c1, c2))\n",
    "        ae_dist.append(allel_edit_distance(alltab.loc[c1.name].iloc[0], alltab.loc[c2.name].iloc[0]))\n",
    "    smalt_tree['pearsonr'].append(pearsonr(p_dist, ae_dist)[0])\n",
    "    smalt_tree['spearmanr'].append(spearmanr(p_dist, ae_dist)[0])\n",
    "    # if '_'.join(i.split('_')[:2]) in mono:\n",
    "    #     smalt_tree_mono['terminal'].append(len(tree.get_terminals()))\n",
    "    #     smalt_tree_mono['nonterminal'].append(len(tree.get_nonterminals()))\n",
    "    #     smalt_tree_mono['branching_factor'].append(branching_factor(tree).mean())\n",
    "    # else:\n",
    "    #     smalt_tree_poly['terminal'].append(len(tree.get_terminals()))\n",
    "    #     smalt_tree_poly['nonterminal'].append(len(tree.get_nonterminals()))\n",
    "    #     smalt_tree_poly['branching_factor'].append(branching_factor(tree).mean())"
   ]
  },
  {
   "cell_type": "code",
   "execution_count": null,
   "id": "9cb9286b-51fa-41c1-97d6-c158dec3ae0a",
   "metadata": {},
   "outputs": [],
   "source": [
    "smalt_tree"
   ]
  },
  {
   "cell_type": "code",
   "execution_count": 169,
   "id": "5f456b2f-2168-46aa-b807-eee895c57c97",
   "metadata": {},
   "outputs": [],
   "source": [
    "pd.concat((smtree['sample'],pd.DataFrame(smalt_tree)), axis=1).to_csv('smalt_tree.csv')"
   ]
  },
  {
   "cell_type": "code",
   "execution_count": 30,
   "id": "79ada350-3d41-46d5-a3b5-68ae7d1163d7",
   "metadata": {},
   "outputs": [
    {
     "data": {
      "text/html": [
       "<div>\n",
       "<style scoped>\n",
       "    .dataframe tbody tr th:only-of-type {\n",
       "        vertical-align: middle;\n",
       "    }\n",
       "\n",
       "    .dataframe tbody tr th {\n",
       "        vertical-align: top;\n",
       "    }\n",
       "\n",
       "    .dataframe thead th {\n",
       "        text-align: right;\n",
       "    }\n",
       "</style>\n",
       "<table border=\"1\" class=\"dataframe\">\n",
       "  <thead>\n",
       "    <tr style=\"text-align: right;\">\n",
       "      <th></th>\n",
       "      <th>terminal</th>\n",
       "      <th>nonterminal</th>\n",
       "      <th>branching_factor</th>\n",
       "    </tr>\n",
       "  </thead>\n",
       "  <tbody>\n",
       "    <tr>\n",
       "      <th>0</th>\n",
       "      <td>776</td>\n",
       "      <td>648</td>\n",
       "      <td>2.195988</td>\n",
       "    </tr>\n",
       "    <tr>\n",
       "      <th>1</th>\n",
       "      <td>661</td>\n",
       "      <td>620</td>\n",
       "      <td>2.064516</td>\n",
       "    </tr>\n",
       "    <tr>\n",
       "      <th>2</th>\n",
       "      <td>2285</td>\n",
       "      <td>2043</td>\n",
       "      <td>2.117964</td>\n",
       "    </tr>\n",
       "    <tr>\n",
       "      <th>3</th>\n",
       "      <td>1228</td>\n",
       "      <td>1073</td>\n",
       "      <td>2.143523</td>\n",
       "    </tr>\n",
       "    <tr>\n",
       "      <th>4</th>\n",
       "      <td>1043</td>\n",
       "      <td>912</td>\n",
       "      <td>2.142544</td>\n",
       "    </tr>\n",
       "    <tr>\n",
       "      <th>...</th>\n",
       "      <td>...</td>\n",
       "      <td>...</td>\n",
       "      <td>...</td>\n",
       "    </tr>\n",
       "    <tr>\n",
       "      <th>72</th>\n",
       "      <td>464</td>\n",
       "      <td>447</td>\n",
       "      <td>2.035794</td>\n",
       "    </tr>\n",
       "    <tr>\n",
       "      <th>73</th>\n",
       "      <td>1267</td>\n",
       "      <td>1137</td>\n",
       "      <td>2.113456</td>\n",
       "    </tr>\n",
       "    <tr>\n",
       "      <th>74</th>\n",
       "      <td>1314</td>\n",
       "      <td>1207</td>\n",
       "      <td>2.087821</td>\n",
       "    </tr>\n",
       "    <tr>\n",
       "      <th>75</th>\n",
       "      <td>3650</td>\n",
       "      <td>3445</td>\n",
       "      <td>2.059216</td>\n",
       "    </tr>\n",
       "    <tr>\n",
       "      <th>76</th>\n",
       "      <td>2781</td>\n",
       "      <td>2488</td>\n",
       "      <td>2.117363</td>\n",
       "    </tr>\n",
       "  </tbody>\n",
       "</table>\n",
       "<p>77 rows × 3 columns</p>\n",
       "</div>"
      ],
      "text/plain": [
       "    terminal  nonterminal  branching_factor\n",
       "0        776          648          2.195988\n",
       "1        661          620          2.064516\n",
       "2       2285         2043          2.117964\n",
       "3       1228         1073          2.143523\n",
       "4       1043          912          2.142544\n",
       "..       ...          ...               ...\n",
       "72       464          447          2.035794\n",
       "73      1267         1137          2.113456\n",
       "74      1314         1207          2.087821\n",
       "75      3650         3445          2.059216\n",
       "76      2781         2488          2.117363\n",
       "\n",
       "[77 rows x 3 columns]"
      ]
     },
     "execution_count": 30,
     "metadata": {},
     "output_type": "execute_result"
    }
   ],
   "source": [
    "pd.DataFrame(smalt_tree)"
   ]
  },
  {
   "cell_type": "code",
   "execution_count": null,
   "id": "aabe61cf-6ae2-42e2-94d7-7dcbd4de0ae3",
   "metadata": {},
   "outputs": [],
   "source": []
  },
  {
   "cell_type": "code",
   "execution_count": 24,
   "id": "6bcfd519-58d6-4ad8-ba99-94493efae19f",
   "metadata": {},
   "outputs": [
    {
     "data": {
      "text/plain": [
       "[Text(0, 0, 'Crispr tree\\n(Chan 2019)'),\n",
       " Text(1, 0, 'Crispr tree\\n(Yang 2022)'),\n",
       " Text(2, 0, 'SMALT tree')]"
      ]
     },
     "execution_count": 24,
     "metadata": {},
     "output_type": "execute_result"
    },
    {
     "data": {
      "image/png": "[encoded data removed]",
      "text/plain": [
       "<Figure size 350x300 with 1 Axes>"
      ]
     },
     "metadata": {},
     "output_type": "display_data"
    }
   ],
   "source": [
    "fig, ax = plt.subplots(figsize=(3.5,3))\n",
    "sns.boxplot([np.array(crispr_tree_chan['nonterminal'])/np.array(crispr_tree_chan['terminal']), \n",
    "             np.array(crispr_tree_yang['nonterminal'])/np.array(crispr_tree_yang['terminal']),\n",
    "             np.array(smalt_tree['nonterminal'])/np.array(smalt_tree['terminal']),\n",
    "            ], width=0.2, ax=ax)\n",
    "ax.set_xticklabels(['Crispr tree\\n(Chan 2019)', 'Crispr tree\\n(Yang 2022)', 'SMALT tree'])"
   ]
  },
  {
   "cell_type": "code",
   "execution_count": 25,
   "id": "84405ea7-b7cb-42f5-a7ab-f9acfcdf9270",
   "metadata": {},
   "outputs": [
    {
     "data": {
      "text/plain": [
       "[Text(0, 0, 'Crispr tree\\n(Chan 2019)'),\n",
       " Text(1, 0, 'Crispr tree\\n(Yang 2022)'),\n",
       " Text(2, 0, 'SMALT tree')]"
      ]
     },
     "execution_count": 25,
     "metadata": {},
     "output_type": "execute_result"
    },
    {
     "data": {
      "image/png": "[encoded data removed]",
      "text/plain": [
       "<Figure size 350x300 with 1 Axes>"
      ]
     },
     "metadata": {},
     "output_type": "display_data"
    }
   ],
   "source": [
    "fig, ax = plt.subplots(figsize=(3.5,3))\n",
    "sns.boxplot([np.array(crispr_tree_chan['branching_factor']),\n",
    "             np.array(crispr_tree_yang['branching_factor']),\n",
    "             np.array(smalt_tree['branching_factor']),\n",
    "            ], width=0.2, ax=ax)\n",
    "ax.set_xticklabels(['Crispr tree\\n(Chan 2019)', 'Crispr tree\\n(Yang 2022)', 'SMALT tree'])"
   ]
  },
  {
   "cell_type": "code",
   "execution_count": 140,
   "id": "06c5ec8f-fded-477b-a079-d982b1a8da8e",
   "metadata": {},
   "outputs": [
    {
     "data": {
      "text/plain": [
       "2.1596548004314995"
      ]
     },
     "execution_count": 140,
     "metadata": {},
     "output_type": "execute_result"
    }
   ],
   "source": [
    "branching_factor(tree).mean()"
   ]
  },
  {
   "cell_type": "code",
   "execution_count": 41,
   "id": "e3d9df51-476a-40f6-8021-21f4531de046",
   "metadata": {},
   "outputs": [],
   "source": []
  },
  {
   "cell_type": "code",
   "execution_count": 170,
   "id": "f9cc602d-02e6-4c42-af94-424fb4a035be",
   "metadata": {},
   "outputs": [],
   "source": [
    "pd.DataFrame(crispr_tree_chan).to_csv('crispr_tree_chan.csv')"
   ]
  },
  {
   "cell_type": "code",
   "execution_count": 179,
   "id": "eb8cd173-2d96-439c-a658-f463442432e4",
   "metadata": {},
   "outputs": [],
   "source": [
    "pd.DataFrame(crispr_tree_yang).to_csv('crispr_tree_yang.csv')"
   ]
  },
  {
   "cell_type": "code",
   "execution_count": 26,
   "id": "b4a84193-d5f4-4b0d-8a59-a24b24ce731c",
   "metadata": {},
   "outputs": [],
   "source": [
    "pd.DataFrame(smalt_tree).to_csv('smalt_tree.csv')"
   ]
  },
  {
   "cell_type": "code",
   "execution_count": null,
   "id": "71623dbc-a781-4bc0-9032-e548d673d979",
   "metadata": {},
   "outputs": [],
   "source": []
  },
  {
   "cell_type": "code",
   "execution_count": null,
   "id": "ccf455df-7de9-4112-b31b-5368447ee643",
   "metadata": {},
   "outputs": [],
   "source": []
  }
 ],
 "metadata": {
  "kernelspec": {
   "display_name": "Python 3 (ipykernel)",
   "language": "python",
   "name": "python3"
  },
  "language_info": {
   "codemirror_mode": {
    "name": "ipython",
    "version": 3
   },
   "file_extension": ".py",
   "mimetype": "text/x-python",
   "name": "python",
   "nbconvert_exporter": "python",
   "pygments_lexer": "ipython3",
   "version": "3.11.4"
  }
 },
 "nbformat": 4,
 "nbformat_minor": 5
}
