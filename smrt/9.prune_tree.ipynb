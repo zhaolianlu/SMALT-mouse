{
 "cells": [
  {
   "cell_type": "code",
   "execution_count": 1,
   "id": "818b9442-88a4-421f-88a9-2c08deb93809",
   "metadata": {},
   "outputs": [],
   "source": [
    "from ete3 import Tree\n",
    "from ete3 import TreeStyle\n",
    "import os\n",
    "import matplotlib as plt\n",
    "from Bio import Phylo"
   ]
  },
  {
   "cell_type": "code",
   "execution_count": null,
   "id": "60aeb026-25f9-4945-a4cf-8dd7ee0824f2",
   "metadata": {},
   "outputs": [],
   "source": [
    "TREEDIR=\"/data/zhaolian/LineageTracing/DSS/PacBio/CCS5passes/8.tree/\"\n",
    "sample=\"5N\"\n",
    "NW=TREEDIR+sample+\".phy.treefile\"\n",
    "PHY = TREEDIR+sample+\".phy\"\n",
    "tree = Tree(NW)\n",
    "print(tree)"
   ]
  },
  {
   "cell_type": "code",
   "execution_count": 13,
   "id": "bd85c66c-4a04-47fa-ad8e-89e3639d0965",
   "metadata": {},
   "outputs": [],
   "source": [
    "t1 = Phylo.read(NW, 'newick')\n",
    "terminal_names = [i.name for i in t1.get_terminals()]\n",
    "# depth = [t1.depths()[t1.find_any(name=i)] for i in terminal_names]"
   ]
  },
  {
   "cell_type": "code",
   "execution_count": 14,
   "id": "bb146db7-de72-44df-b161-535f9eaf910c",
   "metadata": {},
   "outputs": [
    {
     "data": {
      "text/plain": [
       "['ref',\n",
       " 'C2',\n",
       " 'C37824',\n",
       " 'C40054',\n",
       " 'C5302',\n",
       " 'C25345',\n",
       " 'C3749',\n",
       " 'C18121',\n",
       " 'C38142',\n",
       " 'C29693']"
      ]
     },
     "execution_count": 14,
     "metadata": {},
     "output_type": "execute_result"
    }
   ],
   "source": [
    "terminal_names[:10]"
   ]
  },
  {
   "cell_type": "code",
   "execution_count": 21,
   "id": "13375f36-e095-4e93-8971-d2c188990542",
   "metadata": {},
   "outputs": [],
   "source": [
    "import numpy as np\n",
    "import pandas as pd\n",
    "from Bio import Phylo\n",
    "# import matplotlib.pyplot as plt\n",
    "from sklearn.linear_model import LinearRegression\n"
   ]
  },
  {
   "cell_type": "code",
   "execution_count": 61,
   "id": "d85f21c7-76a5-4f40-ac2d-0e09332cfc87",
   "metadata": {},
   "outputs": [
    {
     "name": "stdout",
     "output_type": "stream",
     "text": [
      "5N\n",
      "1493.3460981625215\n",
      "5T\n",
      "783.2961791765156\n",
      "16N\n",
      "1352.2123401041758\n",
      "16T\n",
      "869.6343330261255\n"
     ]
    }
   ],
   "source": [
    "samples= [\"5N\",\"5T\",\"16N\",\"16T\"]\n",
    "INDIR=\"/data/zhaolian/LineageTracing/DSS/PacBio/CCS5passes/8.tree/\"\n",
    "OUTDIR=\"/data/zhaolian/LineageTracing/DSS/PacBio/CCS5passes/9.tree_manipulation/\"\n",
    "if not os.path.exists(OUTDIR):\n",
    "    os.mkdir(OUTDIR)\n",
    "for mySample in samples:\n",
    "    print(mySample)\n",
    "    mut_nums = pd.read_csv(INDIR + mySample+\".phy\", delimiter = \" \", skiprows=1,header = None, names = [\"name\",\"bi\"], index_col=0)\n",
    "    mut_nums[\"numMuts\"] = [mut_nums[\"bi\"][i].count(\"1\") for i in range(mut_nums.shape[0])]\n",
    "    tree = Phylo.read(INDIR+mySample+'.phy.treefile', \"newick\")\n",
    "    tree_depths = tree.depths()\n",
    "    depths = []\n",
    "    mutations = []\n",
    "    for i in tree_depths:\n",
    "        if i.name in mut_nums.index:\n",
    "            depths.append(tree_depths[i])\n",
    "            mutations.append(mut_nums.loc[i.name].numMuts)\n",
    "    depths = np.array(depths)\n",
    "    mutations = np.array(mutations)\n",
    "    mutations\n",
    "\n",
    "    reg = LinearRegression(fit_intercept=False).fit(depths.reshape(-1,1), mutations)\n",
    "    scale = reg.coef_[0]\n",
    "    print(scale)\n",
    "\n",
    "    for clade in tree.get_terminals():\n",
    "        clade.branch_length = float(scale * clade.branch_length)\n",
    "    for clade in tree.get_nonterminals()[1:]:\n",
    "        clade.branch_length = float(scale * clade.branch_length)\n",
    "\n",
    "    Phylo.write(tree, OUTDIR+mySample+'_rescale.nwk','newick')"
   ]
  },
  {
   "cell_type": "code",
   "execution_count": 55,
   "id": "b1ef6c74-fdb2-4fe7-9ec7-3465c4a66700",
   "metadata": {},
   "outputs": [],
   "source": [
    "os.chdir(OUTDIR)"
   ]
  },
  {
   "cell_type": "code",
   "execution_count": 58,
   "id": "2e48eab1-a8de-42a5-9076-0ffd2d2ded40",
   "metadata": {},
   "outputs": [
    {
     "name": "stdout",
     "output_type": "stream",
     "text": [
      "1493.3460981625215\n"
     ]
    },
    {
     "data": {
      "text/plain": [
       "1"
      ]
     },
     "execution_count": 58,
     "metadata": {},
     "output_type": "execute_result"
    }
   ],
   "source": [
    "import numpy as np\n",
    "import pandas as pd\n",
    "from Bio import Phylo\n",
    "# import matplotlib.pyplot as plt\n",
    "from sklearn.linear_model import LinearRegression\n",
    "\n",
    "mut_nums = pd.read_csv('5N_phy_numMuts.txt', delimiter='\\t', index_col=1)\n",
    "tree = Phylo.read('5N.phy.treefile', \"newick\")\n",
    "tree_depths = tree.depths()\n",
    "depths = []\n",
    "mutations = []\n",
    "for i in tree_depths:\n",
    "    if i.name in mut_nums.index:\n",
    "        depths.append(tree_depths[i])\n",
    "        mutations.append(mut_nums.loc[i.name].numMuts)\n",
    "depths = np.array(depths)\n",
    "mutations = np.array(mutations)\n",
    "reg = LinearRegression(fit_intercept=False).fit(depths.reshape(-1,1), mutations)\n",
    "scale = reg.coef_[0]\n",
    "print(scale)\n",
    "for clade in tree.get_terminals():\n",
    "    clade.branch_length = float(scale * clade.branch_length)\n",
    "for clade in tree.get_nonterminals()[1:]:\n",
    "    clade.branch_length = float(scale * clade.branch_length)\n",
    "    \n",
    "Phylo.write(tree, 'tree.nwk','newick')"
   ]
  },
  {
   "cell_type": "code",
   "execution_count": 20,
   "id": "d9493b6e-f286-4637-8af3-f51c5a7f35c0",
   "metadata": {},
   "outputs": [
    {
     "data": {
      "text/plain": [
       "2838"
      ]
     },
     "execution_count": 20,
     "metadata": {},
     "output_type": "execute_result"
    }
   ],
   "source": [
    "depth"
   ]
  },
  {
   "cell_type": "code",
   "execution_count": 80,
   "id": "00b37f62-f78b-4b31-95b1-74135fe9309d",
   "metadata": {},
   "outputs": [],
   "source": [
    "tree.prune(terminal_names)"
   ]
  },
  {
   "cell_type": "code",
   "execution_count": 81,
   "id": "3d257da5-c679-4a19-86f1-0291a8af6c1a",
   "metadata": {},
   "outputs": [],
   "source": [
    "tree.write(format=1, outfile=sample+\"_pruned\"+\".nw\")"
   ]
  },
  {
   "cell_type": "code",
   "execution_count": null,
   "id": "0b4c270a-86c7-4dde-8db4-0bdccdb77e82",
   "metadata": {},
   "outputs": [],
   "source": []
  },
  {
   "cell_type": "code",
   "execution_count": 39,
   "id": "7b7f19c5-8fbd-4e20-bf14-113e9f393efa",
   "metadata": {},
   "outputs": [],
   "source": []
  },
  {
   "cell_type": "code",
   "execution_count": 43,
   "id": "ad0328f0-84fc-485a-91c8-cb357df2c17e",
   "metadata": {},
   "outputs": [],
   "source": []
  },
  {
   "cell_type": "code",
   "execution_count": 48,
   "id": "e8d5909f-18f5-4883-8f62-76589b14ef75",
   "metadata": {},
   "outputs": [],
   "source": []
  },
  {
   "cell_type": "code",
   "execution_count": 63,
   "id": "ebbb80fc-7d0b-44b7-bc2a-00b36da81642",
   "metadata": {},
   "outputs": [
    {
     "data": {
      "text/plain": [
       "False"
      ]
     },
     "execution_count": 63,
     "metadata": {},
     "output_type": "execute_result"
    }
   ],
   "source": [
    "\"C77515\" in terminal_names"
   ]
  },
  {
   "cell_type": "code",
   "execution_count": 65,
   "id": "bd5eefde-a45d-4fc5-a3a6-5bbd1fbe8edc",
   "metadata": {},
   "outputs": [
    {
     "data": {
      "text/plain": [
       "2474"
      ]
     },
     "execution_count": 65,
     "metadata": {},
     "output_type": "execute_result"
    }
   ],
   "source": [
    "len(depth)"
   ]
  },
  {
   "cell_type": "code",
   "execution_count": 31,
   "id": "f4b8d089-f999-47d1-8706-92a595566372",
   "metadata": {},
   "outputs": [
    {
     "data": {
      "text/plain": [
       "[Tree node 'C77515' (0x7f5683e9131)]"
      ]
     },
     "execution_count": 31,
     "metadata": {},
     "output_type": "execute_result"
    }
   ],
   "source": [
    "dir(tree)\n",
    "tree.children"
   ]
  },
  {
   "cell_type": "code",
   "execution_count": null,
   "id": "511b7a13-8070-4f1b-b092-c59f80f1801b",
   "metadata": {},
   "outputs": [],
   "source": []
  }
 ],
 "metadata": {
  "kernelspec": {
   "display_name": "Python 3 (ipykernel)",
   "language": "python",
   "name": "python3"
  },
  "language_info": {
   "codemirror_mode": {
    "name": "ipython",
    "version": 3
   },
   "file_extension": ".py",
   "mimetype": "text/x-python",
   "name": "python",
   "nbconvert_exporter": "python",
   "pygments_lexer": "ipython3",
   "version": "3.9.7"
  }
 },
 "nbformat": 4,
 "nbformat_minor": 5
}
