{
 "cells": [
  {
   "cell_type": "code",
   "execution_count": 12,
   "id": "d25322a2-8648-47ef-9603-3aac61a95e20",
   "metadata": {},
   "outputs": [],
   "source": [
    "import pandas as pd\n",
    "import os\n",
    "import re\n",
    "import csv"
   ]
  },
  {
   "cell_type": "code",
   "execution_count": 13,
   "id": "a7541e49-94dc-4000-b845-c4909151853c",
   "metadata": {},
   "outputs": [],
   "source": [
    "def createMatrix(INDIR, OUTDIR, sample):\n",
    "    infile=INDIR+sample+\"_umiConsensus\"+str(numUC)+\"_\"+str(mutFreq)+\".tsv\"\n",
    "    out_d=OUTDIR+sample+\"_\"+str(numUC)+\"_\"+str(mutFreq)+\".tsv\"\n",
    "    out_d2=OUTDIR+sample+\".phy\"\n",
    "    out_D=OUTDIR+sample+\"_type_\"+str(numUC)+\"_\"+str(mutFreq)+\".tsv\"\n",
    "    with open(infile,\"r\") as f_in, open(out_d, \"w\") as f_d, open(out_d2, \"w\") as f_d2, open (out_D, \"w\") as f_D:\n",
    "        f_in_lines = f_in.readlines()\n",
    "        numCell = len(f_in_lines)+1\n",
    "        f_d2.write(str(numCell)+\" \"+str(3004)+\"\\n\")\n",
    "        f_d2.write(str(\"ref\")+\" \"+''.join(map(str,[0]*3004))+\"\\n\")\n",
    "        for line in f_in_lines:\n",
    "            muts=line.replace(\"\\n\",\"\").split(\",\")\n",
    "            nam=\"C\"+muts[0]\n",
    "            muts.pop(0)\n",
    "            pos=[re.findall(\"(\\d+)\",s) for s in muts]\n",
    "            types=[re.findall(\"(\\D+)\",s) for s in muts]\n",
    "            pos_m=[]\n",
    "            for i in pos:\n",
    "                pos_m.append(int(i[0]))\n",
    "            type_m=[]\n",
    "            for i in types:\n",
    "                type_m.append(i[0])\n",
    "            s1=[0]*3004\n",
    "            s2=[0]*3004\n",
    "\n",
    "            for i in range(len(pos_m)):\n",
    "                pointer = pos_m[i]-1\n",
    "                s1[pointer]=1\n",
    "                s2[pointer]=type_m[i]\n",
    "            s0=''.join(map(str,s1))\n",
    "            f_d2.write(nam+\" \"+s0+\"\\n\")\n",
    "            writer1=csv.writer(f_d,delimiter=\",\")\n",
    "            writer1.writerow(s1)\n",
    "            writer2=csv.writer(f_D,delimiter=\",\")\n",
    "            writer2.writerow(s2)\n"
   ]
  },
  {
   "cell_type": "code",
   "execution_count": 15,
   "id": "6d7a6f85-ccd1-4048-9a4b-5e37e19109e3",
   "metadata": {},
   "outputs": [
    {
     "name": "stdout",
     "output_type": "stream",
     "text": [
      "4N\n",
      "5N\n",
      "16N\n",
      "47_1N\n",
      "47_4N\n",
      "47_5N\n",
      "47_6N\n",
      "47_8N\n",
      "50N\n",
      "66_1N\n"
     ]
    }
   ],
   "source": [
    "if __name__ == \"__main__\":\n",
    "    \"\"\"\n",
    "    generate consensus matrix\n",
    "    \"\"\"\n",
    "        \n",
    "    SAMPLE_NAME = \"DSSN\"\n",
    "    SAMPLE_BARCODES = \"/data/zhaolian/LineageTracing/DSS/PacBio/sampleBarcodes_\"+SAMPLE_NAME+\".txt\"\n",
    "    INDIR=\"/data/zhaolian/LineageTracing/DSS/PacBio/6.umiConsensus/\"\n",
    "    OUTDIR=\"/data/zhaolian/LineageTracing/DSS/PacBio/7.matrix/\"\n",
    "    numUC=3 ## minimum number of ccs reads in one consensus cluster\n",
    "    mutFreq=0.8 ## export the mutation if mutation frequency >= mutFreq \n",
    "\n",
    "    if not os.path.exists(OUTDIR):\n",
    "        os.mkdir(OUTDIR)\n",
    "\n",
    "    with open(SAMPLE_BARCODES,\"r\") as f_barcode:\n",
    "        for line in f_barcode.readlines():\n",
    "            sample = line.replace(\"\\n\", \"\").split(\"\\t\")[0]\n",
    "            print(sample)\n",
    "            createMatrix(INDIR, OUTDIR, sample)\n",
    "\n"
   ]
  },
  {
   "cell_type": "code",
   "execution_count": null,
   "id": "c3551808-85bf-470c-8584-9a981eaeede9",
   "metadata": {},
   "outputs": [],
   "source": []
  }
 ],
 "metadata": {
  "kernelspec": {
   "display_name": "Python 3 (ipykernel)",
   "language": "python",
   "name": "python3"
  },
  "language_info": {
   "codemirror_mode": {
    "name": "ipython",
    "version": 3
   },
   "file_extension": ".py",
   "mimetype": "text/x-python",
   "name": "python",
   "nbconvert_exporter": "python",
   "pygments_lexer": "ipython3",
   "version": "3.9.7"
  }
 },
 "nbformat": 4,
 "nbformat_minor": 5
}
