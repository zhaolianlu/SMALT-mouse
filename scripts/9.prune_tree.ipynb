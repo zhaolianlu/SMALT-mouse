{
 "cells": [
  {
   "cell_type": "code",
   "execution_count": 25,
   "id": "818b9442-88a4-421f-88a9-2c08deb93809",
   "metadata": {},
   "outputs": [],
   "source": [
    "from ete3 import Tree\n",
    "from ete3 import TreeStyle\n",
    "import os\n",
    "import matplotlib as plt\n",
    "from Bio import Phylo"
   ]
  },
  {
   "cell_type": "code",
   "execution_count": 82,
   "id": "60aeb026-25f9-4945-a4cf-8dd7ee0824f2",
   "metadata": {},
   "outputs": [],
   "source": [
    "TREEDIR=\"/data/zhaolian/LineageTracing/DSS/PacBio/8.tree/\"\n",
    "sample=\"16N\"\n",
    "NW=TREEDIR+sample+\"/\"+sample+\".phy.treefile\"\n",
    "tree = Tree(NW)\n",
    "\n",
    "# tree.prune([\"C77515\"])\n"
   ]
  },
  {
   "cell_type": "code",
   "execution_count": 86,
   "id": "bd85c66c-4a04-47fa-ad8e-89e3639d0965",
   "metadata": {},
   "outputs": [],
   "source": [
    "t1 = Phylo.read(NW, 'newick')\n",
    "terminal_names = [i.name for i in t1.get_terminals()]\n",
    "# depth = [t1.depths()[t1.find_any(name=i)] for i in terminal_names]"
   ]
  },
  {
   "cell_type": "code",
   "execution_count": 87,
   "id": "3c59ab57-bd83-4a68-9cd5-975c764e52bc",
   "metadata": {},
   "outputs": [
    {
     "ename": "ValueError",
     "evalue": "list.remove(x): x not in list",
     "output_type": "error",
     "traceback": [
      "\u001b[0;31m---------------------------------------------------------------------------\u001b[0m",
      "\u001b[0;31mValueError\u001b[0m                                Traceback (most recent call last)",
      "\u001b[0;32m/tmp/ipykernel_233869/1577583639.py\u001b[0m in \u001b[0;36m<module>\u001b[0;34m\u001b[0m\n\u001b[1;32m      1\u001b[0m \u001b[0;31m# terminal_names.remove()\u001b[0m\u001b[0;34m\u001b[0m\u001b[0;34m\u001b[0m\u001b[0m\n\u001b[0;32m----> 2\u001b[0;31m \u001b[0mterminal_names\u001b[0m\u001b[0;34m.\u001b[0m\u001b[0mremove\u001b[0m\u001b[0;34m(\u001b[0m\u001b[0;34m'C1741'\u001b[0m\u001b[0;34m)\u001b[0m\u001b[0;34m\u001b[0m\u001b[0;34m\u001b[0m\u001b[0m\n\u001b[0m\u001b[1;32m      3\u001b[0m \u001b[0;31m# terminal_names.remove('C1882')\u001b[0m\u001b[0;34m\u001b[0m\u001b[0;34m\u001b[0m\u001b[0m\n\u001b[1;32m      4\u001b[0m \u001b[0;34m\u001b[0m\u001b[0m\n\u001b[1;32m      5\u001b[0m \u001b[0;31m# terminal_names.remove('C66587')\u001b[0m\u001b[0;34m\u001b[0m\u001b[0;34m\u001b[0m\u001b[0m\n",
      "\u001b[0;31mValueError\u001b[0m: list.remove(x): x not in list"
     ]
    }
   ],
   "source": [
    "# terminal_names.remove()\n",
    "terminal_names.remove('C1741')\n",
    "# terminal_names.remove('C1882')\n",
    "\n",
    "# terminal_names.remove('C66587')\n"
   ]
  },
  {
   "cell_type": "code",
   "execution_count": 80,
   "id": "00b37f62-f78b-4b31-95b1-74135fe9309d",
   "metadata": {},
   "outputs": [],
   "source": [
    "tree.prune(terminal_names)"
   ]
  },
  {
   "cell_type": "code",
   "execution_count": 81,
   "id": "3d257da5-c679-4a19-86f1-0291a8af6c1a",
   "metadata": {},
   "outputs": [],
   "source": [
    "tree.write(format=1, outfile=sample+\"_pruned\"+\".nw\")"
   ]
  },
  {
   "cell_type": "code",
   "execution_count": null,
   "id": "0b4c270a-86c7-4dde-8db4-0bdccdb77e82",
   "metadata": {},
   "outputs": [],
   "source": []
  },
  {
   "cell_type": "code",
   "execution_count": 39,
   "id": "7b7f19c5-8fbd-4e20-bf14-113e9f393efa",
   "metadata": {},
   "outputs": [],
   "source": []
  },
  {
   "cell_type": "code",
   "execution_count": 43,
   "id": "ad0328f0-84fc-485a-91c8-cb357df2c17e",
   "metadata": {},
   "outputs": [],
   "source": []
  },
  {
   "cell_type": "code",
   "execution_count": 48,
   "id": "e8d5909f-18f5-4883-8f62-76589b14ef75",
   "metadata": {},
   "outputs": [],
   "source": []
  },
  {
   "cell_type": "code",
   "execution_count": 63,
   "id": "ebbb80fc-7d0b-44b7-bc2a-00b36da81642",
   "metadata": {},
   "outputs": [
    {
     "data": {
      "text/plain": [
       "False"
      ]
     },
     "execution_count": 63,
     "metadata": {},
     "output_type": "execute_result"
    }
   ],
   "source": [
    "\"C77515\" in terminal_names"
   ]
  },
  {
   "cell_type": "code",
   "execution_count": 65,
   "id": "bd5eefde-a45d-4fc5-a3a6-5bbd1fbe8edc",
   "metadata": {},
   "outputs": [
    {
     "data": {
      "text/plain": [
       "2474"
      ]
     },
     "execution_count": 65,
     "metadata": {},
     "output_type": "execute_result"
    }
   ],
   "source": [
    "len(depth)"
   ]
  },
  {
   "cell_type": "code",
   "execution_count": 31,
   "id": "f4b8d089-f999-47d1-8706-92a595566372",
   "metadata": {},
   "outputs": [
    {
     "data": {
      "text/plain": [
       "[Tree node 'C77515' (0x7f5683e9131)]"
      ]
     },
     "execution_count": 31,
     "metadata": {},
     "output_type": "execute_result"
    }
   ],
   "source": [
    "dir(tree)\n",
    "tree.children"
   ]
  },
  {
   "cell_type": "code",
   "execution_count": null,
   "id": "511b7a13-8070-4f1b-b092-c59f80f1801b",
   "metadata": {},
   "outputs": [],
   "source": []
  }
 ],
 "metadata": {
  "kernelspec": {
   "display_name": "Python 3 (ipykernel)",
   "language": "python",
   "name": "python3"
  },
  "language_info": {
   "codemirror_mode": {
    "name": "ipython",
    "version": 3
   },
   "file_extension": ".py",
   "mimetype": "text/x-python",
   "name": "python",
   "nbconvert_exporter": "python",
   "pygments_lexer": "ipython3",
   "version": "3.9.7"
  }
 },
 "nbformat": 4,
 "nbformat_minor": 5
}
