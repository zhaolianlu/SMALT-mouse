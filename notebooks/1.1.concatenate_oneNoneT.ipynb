{
 "cells": [
  {
   "cell_type": "markdown",
   "id": "7ec5b1f5-53de-4ee4-936d-3c0fe59655e0",
   "metadata": {},
   "source": [
    "## 0. Import"
   ]
  },
  {
   "cell_type": "code",
   "execution_count": 1,
   "id": "2404c8ca-1f9f-40bc-b76d-aafc4c69ec09",
   "metadata": {},
   "outputs": [
    {
     "name": "stderr",
     "output_type": "stream",
     "text": [
      "WARNING (pytensor.configdefaults): g++ not detected!  PyTensor will be unable to compile C-implementations and will default to Python. Performance may be severely degraded. To remove this warning, set PyTensor flags cxx to an empty string.\n",
      "WARNING (pytensor.tensor.blas): Using NumPy C-API based implementation for BLAS functions.\n"
     ]
    }
   ],
   "source": [
    "import os\n",
    "import numpy as np\n",
    "import pandas as pd\n",
    "import matplotlib.pyplot as plt\n",
    "import seaborn as sns\n",
    "from scipy.stats import nbinom, poisson, binom\n",
    "import pymc as pm\n",
    "import arviz as az\n",
    "from Bio import Phylo\n",
    "from tqdm.notebook import tqdm\n",
    "from Bio import SeqIO"
   ]
  },
  {
   "cell_type": "markdown",
   "id": "ccecfc7d-1962-4fe7-8e08-966accc3fbc5",
   "metadata": {},
   "source": [
    "## 1.combine one N with one T"
   ]
  },
  {
   "cell_type": "code",
   "execution_count": 2,
   "id": "f6a2cd71-f156-40ea-bade-89e9440fcb8c",
   "metadata": {},
   "outputs": [],
   "source": [
    "def concat_phyAfa(Ns, Ts, newNameT,outNameT, INDIR, OUTDIR, numUC=3, mutFreq=0.6, numMuts_N=2, numMuts_T=2):\n",
    "    \"\"\"\n",
    "    concat multi ple normal and tumors phy/fasta into one\n",
    "    add sampleID before cell barcode: ACAAAAGCTGGTCCAGACAGA -> N_ACAAAAGCTGGTCCAGACAGA\n",
    "    \"\"\"\n",
    "    for idx, x in enumerate(Ns):\n",
    "        print(x)\n",
    "        ## input N\n",
    "        N = pd.read_csv(INDIR+x+\"_\"+str(numUC)+\"_\"+str(mutFreq)+\".phy\",sep = \" \",names = [\"name\",\"bi\"],skiprows = 2)\n",
    "        mutN = pd.read_csv(INDIR+x+\"_\"+str(numUC)+\"_\"+str(mutFreq)+\"_mutations.txt\",sep = \"\\t\",names = [\"cellBC\",\"numRead\",\"numMut\",\"Del\"],skiprows = 0)\n",
    "        fastaN = INDIR+x+\"_\"+str(numUC)+\"_\"+str(mutFreq)+\".fa\"\n",
    "        selectedN=mutN[mutN[\"numMut\"]>=2].cellBC\n",
    "        N = N[N[\"name\"].isin(selectedN)]\n",
    "        N[\"name\"] = \"N_\"+N[\"name\"]\n",
    "        \n",
    "        ## input T\n",
    "        T = pd.read_csv(INDIR+Ts[idx]+\"_\"+str(numUC)+\"_\"+str(mutFreq)+\".phy\",sep = \" \",names = [\"name\",\"bi\"],skiprows = 2)\n",
    "        mutT = pd.read_csv(INDIR+Ts[idx]+\"_\"+str(numUC)+\"_\"+str(mutFreq)+\"_mutations.txt\",sep = \"\\t\",names = [\"cellBC\",\"numRead\",\"numMut\",\"Del\"],skiprows = 0)\n",
    "        fastaT = INDIR+Ts[idx]+\"_\"+str(numUC)+\"_\"+str(mutFreq)+\".fa\"\n",
    "        selectedT=mutT[mutT[\"numMut\"]>=2].cellBC\n",
    "        T = T[T[\"name\"].isin(selectedT)]\n",
    "        T[\"name\"] = newNameT[idx]+\"_\"+T[\"name\"]\n",
    "\n",
    "        ## output fasta\n",
    "        output_fasta= open(OUTDIR+outNameT[idx]+\"_N2T2.fasta\",\"w\")\n",
    "        for record in SeqIO.parse(ref, \"fasta\"):\n",
    "            record.name=record.description=record.id=\"ref\"\n",
    "            SeqIO.write(record, output_fasta, \"fasta-2line\")\n",
    "        for record in SeqIO.parse(fastaN, \"fasta\"):\n",
    "            if record.id in set(selectedN):\n",
    "                record.name=record.description=record.id = \"N_\"+record.id\n",
    "                SeqIO.write(record, output_fasta, \"fasta-2line\")\n",
    "        for record in SeqIO.parse(fastaT, \"fasta\"):\n",
    "            if record.id in set(selectedT):\n",
    "                record.name=record.description=record.id = newNameT[idx]+\"_\"+record.id\n",
    "                SeqIO.write(record, output_fasta, \"fasta-2line\")\n",
    "        output_fasta.close()\n",
    "\n",
    "        ## output phy\n",
    "        M = pd.concat([N,T])\n",
    "        new_row = pd.DataFrame({'name':str(len(M)+1), 'bi': 3004},index = [0])\n",
    "        ref_row = pd.DataFrame({'name':\"ref\", 'bi': \"\".join([\"0\"]*3004)},index = [1])\n",
    "        new = pd.concat([new_row,ref_row,M.loc[:]]).reset_index(drop=True)\n",
    "        new.to_csv(OUTDIR+outNameT[idx]+\"_N\"+str(numMuts_N)+\"T\"+str(numMuts_T)+\".phy\",sep = \" \",index=False,header = None)\n"
   ]
  },
  {
   "cell_type": "code",
   "execution_count": 4,
   "id": "aedcf759-606e-4dea-bb6c-3c1f28ead401",
   "metadata": {},
   "outputs": [
    {
     "name": "stdout",
     "output_type": "stream",
     "text": [
      "17_N\n",
      "151_N\n"
     ]
    }
   ],
   "source": [
    "\"\"\"\n",
    "combine one N with one T\n",
    "\"\"\"\n",
    "INDIR=\"/data2/kantian/LineageTracing/SMALT/0.Results0.99/0.5.consensus0.99/\"\n",
    "OUTDIR=\"/data2/kantian/LineageTracing/SMALT/0.Results/1.N2T2/\"\n",
    "ref=\"/data2/kantian/LineageTracing/SMALT/reference/3k_HMFonly.fasta\"\n",
    "\n",
    "############################################################################################################\n",
    "############################################################################################################\n",
    "Ns=[\"4_N\",\"50_N\"]\n",
    "Ts=['4_T','50_T']\n",
    "\n",
    "newNameT=['T','T']\n",
    "outNameT=['IBD4_T','IBD50_T']\n",
    "\n",
    "numUC=3                  ## number of ccs reads in one consensus cluster\n",
    "mutFreq=0.6              ## export the mutation if mutation frequency >= mutFreq \n",
    "numMuts_N = 2            ## minimum number of mutations in each CCS reads\n",
    "numMuts_T = 2\n",
    "\n",
    "concat_phyAfa(Ns, Ts, newNameT,outNameT, INDIR, OUTDIR, numUC=3, mutFreq=0.6, numMuts_N=2, numMuts_T=2)\n"
   ]
  }
 ],
 "metadata": {
  "kernelspec": {
   "display_name": "smalt_python3.11",
   "language": "python",
   "name": "smalt_python3.11"
  },
  "language_info": {
   "codemirror_mode": {
    "name": "ipython",
    "version": 3
   },
   "file_extension": ".py",
   "mimetype": "text/x-python",
   "name": "python",
   "nbconvert_exporter": "python",
   "pygments_lexer": "ipython3",
   "version": "3.11.0"
  }
 },
 "nbformat": 4,
 "nbformat_minor": 5
}
