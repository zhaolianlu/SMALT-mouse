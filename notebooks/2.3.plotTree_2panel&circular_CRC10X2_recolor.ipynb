{
 "cells": [
  {
   "cell_type": "code",
   "execution_count": 77,
   "id": "500bd294-703e-4d74-9955-3bb5fbba8cf3",
   "metadata": {
    "scrolled": true
   },
   "outputs": [],
   "source": [
    "library(ggtree)\n",
    "library(treeio)\n",
    "library(phangorn)\n",
    "library(data.table)\n",
    "library(ips)\n",
    "library(stringr)\n",
    "library(Biostrings)\n",
    "library(ggplot2)\n",
    "library(ggpubr)\n"
   ]
  },
  {
   "cell_type": "code",
   "execution_count": 2,
   "id": "d4b01e31-8332-4a4d-80dc-de90f5e6af3e",
   "metadata": {},
   "outputs": [
    {
     "data": {
      "text/html": [
       "'/home/kantian/miniconda3/envs/smalt/lib/R'"
      ],
      "text/latex": [
       "'/home/kantian/miniconda3/envs/smalt/lib/R'"
      ],
      "text/markdown": [
       "'/home/kantian/miniconda3/envs/smalt/lib/R'"
      ],
      "text/plain": [
       "[1] \"/home/kantian/miniconda3/envs/smalt/lib/R\""
      ]
     },
     "metadata": {},
     "output_type": "display_data"
    }
   ],
   "source": [
    "R.home()"
   ]
  },
  {
   "cell_type": "code",
   "execution_count": 3,
   "id": "cda73717-4a46-44fb-8ae9-0f08384170f1",
   "metadata": {},
   "outputs": [],
   "source": [
    "##------------------------------------------------------------------------------\n",
    "##------------------------------------------------------------------------------\n",
    "# \"\"\"\n",
    "# Calculate mutation table\n",
    "# input: binary table from phy files\n",
    "# output: mutation count at each position as a data frame\n",
    "# \"\"\"\n",
    ".mutTable <- function(binaryTable){\n",
    "  binaryTable = data.frame(binaryTable,do.call(rbind,str_split(binaryTable$V2,\"\")))\n",
    "  binaryTable <- binaryTable[,-2]\n",
    "  setDF(binaryTable)\n",
    "  colnames(binaryTable)[1] <- \"name\"\n",
    "  s = c()\n",
    "  for(i in 2:ncol(binaryTable)) {\n",
    "    binaryTable[,i] <- as.numeric(binaryTable[,i])\n",
    "    s <- c(s, sum(binaryTable[,i]))\n",
    "  }\n",
    "  s <- which(s>0)+1\n",
    "  binaryTable <- binaryTable[, c(1,s)]\n",
    "  new <- lapply(as.list(unique(binaryTable$name)),function(my.name){\n",
    "    df <- data.frame()\n",
    "    temp <- binaryTable[binaryTable$name == my.name,]\n",
    "    temp <- temp[,which(temp>0)]\n",
    "    if(!is.null(ncol(temp))){\n",
    "      for(j in 2:ncol(temp)){\n",
    "        df <- rbind(df, data.table(name = my.name, \n",
    "                                   pos = as.numeric(gsub(\"X\",\"\",colnames(temp)[j])), \n",
    "                                   mut = 1))\n",
    "      }\n",
    "    }\n",
    "    return(df)\n",
    "  })\n",
    "  df <- rbindlist(new)\n",
    "  return(df)\n",
    "}\n",
    "\n",
    "##------------------------------------------------------------------------------\n",
    "##------------------------------------------------------------------------------\n",
    ".plotTree_rect_2panel <- function(samples, PHYDIR, TREEDIR,labNames,sampleSize=TRUE){\n",
    "  setwd(TREEDIR)\n",
    "  for(i in 1:length(samples)){\n",
    "    message(\"Calculating \",samples[i], \"...\")\n",
    "    biTable <- read.table(paste0(PHYDIR,samples[i],\".phy\"),header = F,\n",
    "                          colClasses=c(\"character\", \"character\"),sep = \" \",skip=1)\n",
    "    if(!file.exists(paste0(TREEDIR,samples[i],\"_genotype_info_ML.txt\"))){\n",
    "      ##---generate info table\n",
    "      tipnames = biTable$V1\n",
    "      if(length(strsplit(tipnames[2],\"_\")[[1]]) ==1){\n",
    "        d1 <- substr(tipnames, 1,1)\n",
    "      }else{\n",
    "        d1=sapply(tipnames,function(x){\n",
    "          y = strsplit(x,\"_\")[[1]]\n",
    "          if(length(y)>2){\n",
    "            paste0(y[1],\"_\",y[2])\n",
    "          }else{y[1]}\n",
    "        },USE.NAMES = FALSE)\n",
    "      }\n",
    "      d1 <- data.frame(class = d1)\n",
    "      d1$id <- tipnames\n",
    "      d1 <- d1[,c(2,1)]\n",
    "      write.table(d1, file = paste0(TREEDIR,samples[i],\"_genotype_info_ML.txt\"),sep= \"\\t\", row.names = F, quote = F)\n",
    "    }\n",
    "    df_info <- read.table(paste0(TREEDIR,samples[i],\"_genotype_info_ML.txt\"), sep = \"\\t\", header = T)\n",
    "    table(df_info$class)\n",
    "    grp <- sapply(as.list(unique(df_info$class)),function(i){df_info[df_info$class==i,]$id})\n",
    "    names(grp) <- unique(df_info$class)\n",
    "    \n",
    "    # df_info$class <- factor(df_info$class, levels = c(\"T\",\"r\",\"N\"))\n",
    "    print(table(df_info$class))\n",
    "    if(!file.exists(paste0(samples[i],\"_mutation_table.txt\"))){\n",
    "      df <- .mutTable(biTable)\n",
    "      write.table(df, file = paste0(samples[i],\"_mutation_table.txt\"),sep = \"\\t\",\n",
    "                  row.names = F, quote = F)\n",
    "    }\n",
    "    df <- read.delim(paste0(samples[i],\"_mutation_table.txt\"), header = T)\n",
    "    setDT(df)\n",
    "    df2 <- lapply(as.list(as.list(unique(df$name))),function(nC){\n",
    "      data.table(name=nC, numMut = df[name==nC, sum(mut)])\n",
    "    })\n",
    "    df2 <- rbindlist(df2)\n",
    "    tree <- read.tree(paste0(samples[i],\"_rescale.nwk\"))\n",
    "    ##------------------------------\n",
    "    ## trim tree\n",
    "    # re <- names(tip[which(tip <= quantile(tip, 0.01) | tip >= quantile(tip, 0.99))])\n",
    "    tip <- tipHeights(tree)\n",
    "    re <- names(tip[which(tip >100)])\n",
    "    tree <- drop.tip(tree,re)\n",
    "    tree <- drop.tip(tree,\"ref\")\n",
    "    s = tree$tip.label\n",
    "    s <- substr(s, 1,1)\n",
    "    df <- df[!name %in% re]\n",
    "    if(length(strsplit(df$name[2],\"_\")[[1]]) ==1){\n",
    "      df$group <- substr(df$name, 1,1)\n",
    "      table(df$group)\n",
    "    }else{\n",
    "      df$group=sapply(df$name,function(x){\n",
    "        y = strsplit(x,\"_\")[[1]]\n",
    "        if(length(y)>2){\n",
    "          paste0(y[1],\"_\",y[2])\n",
    "        }else{y[1]}\n",
    "      },USE.NAMES = FALSE)\n",
    "      table(df$group)\n",
    "    }\n",
    "    mycols1 = c(N=\"#4F9EC2\",T=\"#C44754\")#N=\"#2885A9\",T=\"#9F1F31\" \n",
    "    mycols2 = c(N=\"#4F9EC2\",P=\"#C44754\")#ref=\"#b3de69\", \n",
    "    mycols3 = c(\"#C44754\",\"#66A61E\",\"#1B9E77\",\"#7570B3\",\"#D95F02\",\"#E7298A\",\"#E6AB02\",\"#A6761D\",\"#fb9a99\",\"#666666\")##Dark2 panel\n",
    "    ##--------------------------------------------------------------------------\n",
    "    df_info <- df_info[df_info$class != \"ref\",]\n",
    "    if(length(unique(df_info$class))==2 & \"N\" %in% unique(df_info$class) & \n",
    "       \"T\" %in% unique(df_info$class)){\n",
    "      mycols = mycols1\n",
    "    }else if(length(unique(df_info$class))==2 & \"N\" %in% unique(df_info$class) & \n",
    "             \"P\" %in% unique(df_info$class)){\n",
    "      mycols = mycols2\n",
    "    }else{\n",
    "      if(\"N\" %in% unique(df_info$class)){mycols = c(N=\"#4F9EC2\")}else{mycols = c()}\n",
    "      classes = unique(df_info$class)\n",
    "      classes <- classes[!classes %in% c(\"N\",\"ref\")]\n",
    "      for(my.class in 1:length(classes)){\n",
    "        temp = mycols3[my.class]\n",
    "        names(temp) <- classes[my.class]\n",
    "        mycols <- c(mycols, temp)\n",
    "      }\n",
    "    }\n",
    "    \n",
    "    p <- ggtree(tree, layout = \"rectangular\")#+ theme_tree2()#+xlim(0,lims)\n",
    "    p <- p %<+% df_info + geom_tippoint(aes(color=class))+\n",
    "      scale_color_manual(values=mycols,name=NULL)\n",
    "    p <- p+geom_facet(panel = \"Mutation\", data = df, geom = geom_point,\n",
    "                      mapping=aes(x = pos, color = class), shape = \".\")+\n",
    "      # geom_facet(panel = \"Mutation numbers\", data = df2, geom = geom_bar, \n",
    "      #            mapping = aes(x=numMut, fill=class,name=NULL),orientation=\"y\", stat=\"identity\")+\n",
    "      scale_fill_manual(values=mycols,name=NULL)+\n",
    "      ggtitle(labNames[i])+theme_classic()+#theme_tree2() + \n",
    "      theme(text = element_text(size=26),plot.title = element_text(hjust = 0.5, size = 30))\n",
    "    if(sampleSize == TRUE){\n",
    "      p <- p+ggtitle(paste0(labNames[i],\" (n=\",scales::comma(nrow(df_info)),\")\"))\n",
    "    }else{\n",
    "      p <- p+ggtitle(labNames[i])\n",
    "    }\n",
    "    \n",
    "    print(p)\n",
    "  }\n",
    "}\n",
    "\n",
    "##------------------------------------------------------------------------------\n",
    "##------------------------------------------------------------------------------\n",
    "##------------------------------------------------------------------------------\n",
    "##------------------------------------------------------------------------------\n",
    ".plotTree <- function(samples, PHYDIR, TREEDIR,labNames, layOut = \"rectagular\", \n",
    "                      branchLength = \"branch.length\",colorTip=TRUE,logBranch=FALSE,sampleSize=TRUE){\n",
    "  setwd(TREEDIR)\n",
    "  p2 <- list()\n",
    "  for(i in 1:length(samples)){\n",
    "    message(\"Calculating \",samples[i], \"...\")\n",
    "    if(!file.exists(paste0(TREEDIR,samples[i],\"_genotype_info_ML.txt\"))){\n",
    "      biTable <- read.table(paste0(PHYDIR,samples[i],\".phy\"),header = F,\n",
    "                            colClasses=c(\"character\", \"character\"),sep = \" \",skip=1)\n",
    "      ##---generate info table\n",
    "      tipnames = biTable$V1\n",
    "      if(length(strsplit(tipnames[2],\"_\")[[1]]) ==1){\n",
    "        d1 <- substr(tipnames, 1,1)\n",
    "      }else{\n",
    "        d1=sapply(tipnames,function(x){\n",
    "          y = strsplit(x,\"_\")[[1]]\n",
    "          if(length(y)>2){\n",
    "            paste0(y[1],\"_\",y[2])\n",
    "          }else{y[1]}\n",
    "        },USE.NAMES = FALSE)\n",
    "      }\n",
    "      d1 <- data.frame(class = d1)\n",
    "      d1$id <- tipnames\n",
    "      d1 <- d1[,c(2,1)]\n",
    "      write.table(d1, file = paste0(TREEDIR,samples[i],\"_genotype_info_ML.txt\"),sep= \"\\t\", row.names = F, quote = F)\n",
    "    }\n",
    "    df_info <- read.table(paste0(samples[i],\"_genotype_info_ML.txt\"), sep = \"\\t\", header = T)\n",
    "    print(table(df_info$class))\n",
    "    grp <- sapply(as.list(unique(df_info$class)),function(i){df_info[df_info$class==i,]$id})\n",
    "    names(grp) <- unique(df_info$class)\n",
    "    grp <- grp[names(grp) != \"ref\"]\n",
    "    tree <- read.tree(paste0(samples[i],\"_rescale.nwk\"))\n",
    "    ##------------------------------\n",
    "    ## trim tree\n",
    "    # re <- names(tip[which(tip <= quantile(tip, 0.01) | tip >= quantile(tip, 0.99))])\n",
    "    tip <- tipHeights(tree)\n",
    "    if(logBranch){\n",
    "        tree$edge.length <- log(tree$edge.length+1)\n",
    "    }\n",
    "    re <- names(tip[which(tip >100)])\n",
    "    tree <- drop.tip(tree,re)\n",
    "    tree <- drop.tip(tree,\"ref\")\n",
    "    s = tree$tip.label\n",
    "    s <- substr(s, 1,1)\n",
    "    \n",
    "    mycols1 = c(N=\"#2885A9\",T=\"#9F1F31\")#ref=\"#b3de69\", \n",
    "    mycols2 = c(N=\"#2885A9\",P=\"#9F1F31\")#ref=\"#b3de69\", \n",
    "    mycols3 = c(\"#9F1F31\",\"#66A61E\",\"#1B9E77\",\"#7570B3\",\"#D95F02\",\"#E7298A\",\"#E6AB02\",\"#A6761D\",\"#fb9a99\",\"#666666\")##fb9a99#Dark2 panel\n",
    "    #mycols3 = c(\"#2885A9\")##fb9a99#Dark2 panel\n",
    "    ##--------------------------------------------------------------------------\n",
    "    df_info <- df_info[df_info$class != \"ref\",]\n",
    "    if(length(unique(df_info$class))==2 & \"N\" %in% unique(df_info$class) & \n",
    "       \"T\" %in% unique(df_info$class)){\n",
    "      mycols = mycols1\n",
    "    }else if(length(unique(df_info$class))==2 & \"N\" %in% unique(df_info$class) & \n",
    "             \"P\" %in% unique(df_info$class)){\n",
    "      mycols = mycols2\n",
    "    }else{\n",
    "      if(\"N\" %in% unique(df_info$class)){mycols = c(N=\"#2885A9\")}else{mycols = c()}\n",
    "      classes = unique(df_info$class)\n",
    "      classes <- classes[!classes %in% c(\"N\",\"ref\")]\n",
    "      for(my.class in 1:length(classes)){\n",
    "        temp = mycols3[my.class]\n",
    "        names(temp) <- classes[my.class]\n",
    "        mycols <- c(mycols, temp)\n",
    "      }\n",
    "    }\n",
    "    ##--------------------------------------------------------------------------\n",
    "    if(colorTip){\n",
    "      rownames(df_info) <- df_info$id\n",
    "      # p <- ggtree(tree, layout = \"circular\", branch.length = branchLength)\n",
    "      p <- ggtree(tree,aes(color=class), layout=layOut,branch.length = branchLength,size=0.1) %<+% df_info  \n",
    "      p <- p+scale_color_manual(values=mycols,name=NULL,na.value = \"#A2A2A2\")\n",
    "    }else{\n",
    "      p <- ggtree(tree, layout = layOut, branch.length = branchLength)\n",
    "      p <- p+scale_color_manual(values=mycols,name=NULL)\n",
    "    }\n",
    "\n",
    "    p <- gheatmap(p, df_info[,\"class\",drop=FALSE], offset=.8, width=.2, colnames = FALSE, color=NA) +\n",
    "    theme(legend.position =\"right\",legend.key.size = unit(0.5, 'cm'))+\n",
    "    scale_fill_manual(values=mycols,name=NULL)\n",
    "    p <- p+theme(text = element_text(size=12),plot.title = element_text(hjust = 0.5, size = 14))\n",
    "    ##--------------------------------------------------------------------------\n",
    "        \n",
    "    ##--------------------------------------------------------------------------\n",
    "    if(sampleSize == TRUE){\n",
    "      p <- p+ggtitle(paste0(labNames[i],\" (n=\",scales::comma(nrow(df_info)),\")\"))\n",
    "    }else{\n",
    "      p <- p+ggtitle(labNames[i])\n",
    "    }\n",
    "    p2[[i]] <- p\n",
    "  }\n",
    "  return(p2)\n",
    "}\n"
   ]
  },
  {
   "cell_type": "markdown",
   "id": "f469085b-4475-460c-9fc7-4fdc9d903eac",
   "metadata": {},
   "source": [
    "## 1. filteredNT_re"
   ]
  },
  {
   "cell_type": "code",
   "execution_count": 11,
   "id": "d799f9eb-a6bb-47d4-9490-4d3ca90ad9d3",
   "metadata": {
    "scrolled": true
   },
   "outputs": [
    {
     "name": "stderr",
     "output_type": "stream",
     "text": [
      "Calculating 132_T1_filtered_re...\n",
      "\n"
     ]
    },
    {
     "name": "stdout",
     "output_type": "stream",
     "text": [
      "\n",
      "   N  ref   T1 \n",
      "1517    1 2629 \n"
     ]
    },
    {
     "name": "stderr",
     "output_type": "stream",
     "text": [
      "\u001b[36mℹ\u001b[39m \u001b[90minvalid tbl_tree object. Missing column: parent,node.\u001b[39m\n",
      "\n",
      "\u001b[36mℹ\u001b[39m \u001b[90minvalid tbl_tree object. Missing column: parent,node.\u001b[39m\n",
      "\n",
      "Calculating 142_T1_filtered_re...\n",
      "\n"
     ]
    },
    {
     "name": "stdout",
     "output_type": "stream",
     "text": [
      "\n",
      "   N  ref   T1 \n",
      "3327    1 5691 \n"
     ]
    },
    {
     "name": "stderr",
     "output_type": "stream",
     "text": [
      "\u001b[36mℹ\u001b[39m \u001b[90minvalid tbl_tree object. Missing column: parent,node.\u001b[39m\n",
      "\n",
      "\u001b[36mℹ\u001b[39m \u001b[90minvalid tbl_tree object. Missing column: parent,node.\u001b[39m\n",
      "\n",
      "Calculating 142_T2_filtered_re...\n",
      "\n"
     ]
    },
    {
     "name": "stdout",
     "output_type": "stream",
     "text": [
      "\n",
      "   N  ref   T2 \n",
      "3327    1 5853 \n"
     ]
    },
    {
     "name": "stderr",
     "output_type": "stream",
     "text": [
      "\u001b[36mℹ\u001b[39m \u001b[90minvalid tbl_tree object. Missing column: parent,node.\u001b[39m\n",
      "\n",
      "\u001b[36mℹ\u001b[39m \u001b[90minvalid tbl_tree object. Missing column: parent,node.\u001b[39m\n",
      "\n",
      "Calculating 142_T5-4_filtered_re...\n",
      "\n"
     ]
    },
    {
     "name": "stdout",
     "output_type": "stream",
     "text": [
      "\n",
      "   N  ref T5-4 \n",
      "3327    1  749 \n"
     ]
    },
    {
     "name": "stderr",
     "output_type": "stream",
     "text": [
      "\u001b[36mℹ\u001b[39m \u001b[90minvalid tbl_tree object. Missing column: parent,node.\u001b[39m\n",
      "\n",
      "\u001b[36mℹ\u001b[39m \u001b[90minvalid tbl_tree object. Missing column: parent,node.\u001b[39m\n",
      "\n",
      "Calculating 148_T1_filtered_re...\n",
      "\n"
     ]
    },
    {
     "name": "stdout",
     "output_type": "stream",
     "text": [
      "\n",
      "   N  ref   T1 \n",
      "4085    1 1626 \n"
     ]
    },
    {
     "name": "stderr",
     "output_type": "stream",
     "text": [
      "\u001b[36mℹ\u001b[39m \u001b[90minvalid tbl_tree object. Missing column: parent,node.\u001b[39m\n",
      "\n",
      "\u001b[36mℹ\u001b[39m \u001b[90minvalid tbl_tree object. Missing column: parent,node.\u001b[39m\n",
      "\n",
      "Calculating 148_T3_filtered_re...\n",
      "\n"
     ]
    },
    {
     "name": "stdout",
     "output_type": "stream",
     "text": [
      "\n",
      "   N  ref   T3 \n",
      "4085    1 2324 \n"
     ]
    },
    {
     "name": "stderr",
     "output_type": "stream",
     "text": [
      "\u001b[36mℹ\u001b[39m \u001b[90minvalid tbl_tree object. Missing column: parent,node.\u001b[39m\n",
      "\n",
      "\u001b[36mℹ\u001b[39m \u001b[90minvalid tbl_tree object. Missing column: parent,node.\u001b[39m\n",
      "\n",
      "Calculating 151_T4_filtered_re...\n",
      "\n"
     ]
    },
    {
     "name": "stdout",
     "output_type": "stream",
     "text": [
      "\n",
      "  N ref  T4 \n",
      "289   1 426 \n"
     ]
    },
    {
     "name": "stderr",
     "output_type": "stream",
     "text": [
      "\u001b[36mℹ\u001b[39m \u001b[90minvalid tbl_tree object. Missing column: parent,node.\u001b[39m\n",
      "\n",
      "\u001b[36mℹ\u001b[39m \u001b[90minvalid tbl_tree object. Missing column: parent,node.\u001b[39m\n",
      "\n",
      "Calculating 16_T_filtered_re...\n",
      "\n"
     ]
    },
    {
     "name": "stdout",
     "output_type": "stream",
     "text": [
      "\n",
      "   N  ref    T \n",
      "3835    1 3543 \n"
     ]
    },
    {
     "name": "stderr",
     "output_type": "stream",
     "text": [
      "\u001b[36mℹ\u001b[39m \u001b[90minvalid tbl_tree object. Missing column: parent,node.\u001b[39m\n",
      "\n",
      "\u001b[36mℹ\u001b[39m \u001b[90minvalid tbl_tree object. Missing column: parent,node.\u001b[39m\n",
      "\n",
      "Calculating 17_T4_filtered_re...\n",
      "\n"
     ]
    },
    {
     "name": "stdout",
     "output_type": "stream",
     "text": [
      "\n",
      "  N ref  T4 \n",
      "337   1 290 \n"
     ]
    },
    {
     "name": "stderr",
     "output_type": "stream",
     "text": [
      "\u001b[36mℹ\u001b[39m \u001b[90minvalid tbl_tree object. Missing column: parent,node.\u001b[39m\n",
      "\n",
      "\u001b[36mℹ\u001b[39m \u001b[90minvalid tbl_tree object. Missing column: parent,node.\u001b[39m\n",
      "\n",
      "Calculating 18_T3_filtered_re...\n",
      "\n"
     ]
    },
    {
     "name": "stdout",
     "output_type": "stream",
     "text": [
      "\n",
      "   N  ref   T3 \n",
      "1517    1 1007 \n"
     ]
    },
    {
     "name": "stderr",
     "output_type": "stream",
     "text": [
      "\u001b[36mℹ\u001b[39m \u001b[90minvalid tbl_tree object. Missing column: parent,node.\u001b[39m\n",
      "\n",
      "\u001b[36mℹ\u001b[39m \u001b[90minvalid tbl_tree object. Missing column: parent,node.\u001b[39m\n",
      "\n",
      "Calculating 18_T4_filtered_re...\n",
      "\n"
     ]
    },
    {
     "name": "stdout",
     "output_type": "stream",
     "text": [
      "\n",
      "   N  ref   T4 \n",
      "1517    1  161 \n"
     ]
    },
    {
     "name": "stderr",
     "output_type": "stream",
     "text": [
      "\u001b[36mℹ\u001b[39m \u001b[90minvalid tbl_tree object. Missing column: parent,node.\u001b[39m\n",
      "\n",
      "\u001b[36mℹ\u001b[39m \u001b[90minvalid tbl_tree object. Missing column: parent,node.\u001b[39m\n",
      "\n",
      "Calculating 19_T1_filtered_re...\n",
      "\n"
     ]
    },
    {
     "name": "stdout",
     "output_type": "stream",
     "text": [
      "\n",
      "   N  ref   T1 \n",
      "1375    1  660 \n"
     ]
    },
    {
     "name": "stderr",
     "output_type": "stream",
     "text": [
      "\u001b[36mℹ\u001b[39m \u001b[90minvalid tbl_tree object. Missing column: parent,node.\u001b[39m\n",
      "\n",
      "\u001b[36mℹ\u001b[39m \u001b[90minvalid tbl_tree object. Missing column: parent,node.\u001b[39m\n",
      "\n",
      "Calculating 19_T3_filtered_re...\n",
      "\n"
     ]
    },
    {
     "name": "stdout",
     "output_type": "stream",
     "text": [
      "\n",
      "   N  ref   T3 \n",
      "1375    1 1642 \n"
     ]
    },
    {
     "name": "stderr",
     "output_type": "stream",
     "text": [
      "\u001b[36mℹ\u001b[39m \u001b[90minvalid tbl_tree object. Missing column: parent,node.\u001b[39m\n",
      "\n",
      "\u001b[36mℹ\u001b[39m \u001b[90minvalid tbl_tree object. Missing column: parent,node.\u001b[39m\n",
      "\n",
      "Calculating 19_T4_filtered_re...\n",
      "\n"
     ]
    },
    {
     "name": "stdout",
     "output_type": "stream",
     "text": [
      "\n",
      "   N  ref   T4 \n",
      "1375    1 1336 \n"
     ]
    },
    {
     "name": "stderr",
     "output_type": "stream",
     "text": [
      "\u001b[36mℹ\u001b[39m \u001b[90minvalid tbl_tree object. Missing column: parent,node.\u001b[39m\n",
      "\n",
      "\u001b[36mℹ\u001b[39m \u001b[90minvalid tbl_tree object. Missing column: parent,node.\u001b[39m\n",
      "\n",
      "Calculating 19_T5_filtered_re...\n",
      "\n"
     ]
    },
    {
     "name": "stdout",
     "output_type": "stream",
     "text": [
      "\n",
      "   N  ref   T5 \n",
      "1375    1  778 \n"
     ]
    },
    {
     "name": "stderr",
     "output_type": "stream",
     "text": [
      "\u001b[36mℹ\u001b[39m \u001b[90minvalid tbl_tree object. Missing column: parent,node.\u001b[39m\n",
      "\n",
      "\u001b[36mℹ\u001b[39m \u001b[90minvalid tbl_tree object. Missing column: parent,node.\u001b[39m\n",
      "\n",
      "Calculating 2_T2_filtered_re...\n",
      "\n"
     ]
    },
    {
     "name": "stdout",
     "output_type": "stream",
     "text": [
      "\n",
      "  N ref  T2 \n",
      "206   1  39 \n"
     ]
    },
    {
     "name": "stderr",
     "output_type": "stream",
     "text": [
      "\u001b[36mℹ\u001b[39m \u001b[90minvalid tbl_tree object. Missing column: parent,node.\u001b[39m\n",
      "\n",
      "\u001b[36mℹ\u001b[39m \u001b[90minvalid tbl_tree object. Missing column: parent,node.\u001b[39m\n",
      "\n",
      "Calculating 2_T3_filtered_re...\n",
      "\n"
     ]
    },
    {
     "name": "stdout",
     "output_type": "stream",
     "text": [
      "\n",
      "  N ref  T3 \n",
      "206   1  55 \n"
     ]
    },
    {
     "name": "stderr",
     "output_type": "stream",
     "text": [
      "\u001b[36mℹ\u001b[39m \u001b[90minvalid tbl_tree object. Missing column: parent,node.\u001b[39m\n",
      "\n",
      "\u001b[36mℹ\u001b[39m \u001b[90minvalid tbl_tree object. Missing column: parent,node.\u001b[39m\n",
      "\n",
      "Calculating 47_T1_filtered_re...\n",
      "\n"
     ]
    },
    {
     "name": "stdout",
     "output_type": "stream",
     "text": [
      "\n",
      "   N  ref   T1 \n",
      "2196    1 1043 \n"
     ]
    },
    {
     "name": "stderr",
     "output_type": "stream",
     "text": [
      "\u001b[36mℹ\u001b[39m \u001b[90minvalid tbl_tree object. Missing column: parent,node.\u001b[39m\n",
      "\n",
      "\u001b[36mℹ\u001b[39m \u001b[90minvalid tbl_tree object. Missing column: parent,node.\u001b[39m\n",
      "\n",
      "Calculating 47_T4_filtered_re...\n",
      "\n"
     ]
    },
    {
     "name": "stdout",
     "output_type": "stream",
     "text": [
      "\n",
      "  N ref  T4 \n",
      "111   1 272 \n"
     ]
    },
    {
     "name": "stderr",
     "output_type": "stream",
     "text": [
      "\u001b[36mℹ\u001b[39m \u001b[90minvalid tbl_tree object. Missing column: parent,node.\u001b[39m\n",
      "\n",
      "\u001b[36mℹ\u001b[39m \u001b[90minvalid tbl_tree object. Missing column: parent,node.\u001b[39m\n",
      "\n",
      "Calculating 47_T5_filtered_re...\n",
      "\n"
     ]
    },
    {
     "name": "stdout",
     "output_type": "stream",
     "text": [
      "\n",
      "  N ref  T5 \n",
      "437   1 728 \n"
     ]
    },
    {
     "name": "stderr",
     "output_type": "stream",
     "text": [
      "\u001b[36mℹ\u001b[39m \u001b[90minvalid tbl_tree object. Missing column: parent,node.\u001b[39m\n",
      "\n",
      "\u001b[36mℹ\u001b[39m \u001b[90minvalid tbl_tree object. Missing column: parent,node.\u001b[39m\n",
      "\n",
      "Calculating 47_T6_filtered_re...\n",
      "\n"
     ]
    },
    {
     "name": "stdout",
     "output_type": "stream",
     "text": [
      "\n",
      "   N  ref   T6 \n",
      "1043    1  176 \n"
     ]
    },
    {
     "name": "stderr",
     "output_type": "stream",
     "text": [
      "\u001b[36mℹ\u001b[39m \u001b[90minvalid tbl_tree object. Missing column: parent,node.\u001b[39m\n",
      "\n",
      "\u001b[36mℹ\u001b[39m \u001b[90minvalid tbl_tree object. Missing column: parent,node.\u001b[39m\n",
      "\n",
      "Calculating 47_T8_filtered_re...\n",
      "\n"
     ]
    },
    {
     "name": "stdout",
     "output_type": "stream",
     "text": [
      "\n",
      "   N  ref   T8 \n",
      "3438    1  938 \n"
     ]
    },
    {
     "name": "stderr",
     "output_type": "stream",
     "text": [
      "\u001b[36mℹ\u001b[39m \u001b[90minvalid tbl_tree object. Missing column: parent,node.\u001b[39m\n",
      "\n",
      "\u001b[36mℹ\u001b[39m \u001b[90minvalid tbl_tree object. Missing column: parent,node.\u001b[39m\n",
      "\n",
      "Calculating 49_T1_filtered_re...\n",
      "\n"
     ]
    },
    {
     "name": "stdout",
     "output_type": "stream",
     "text": [
      "\n",
      "  N ref  T1 \n",
      "161   1 794 \n"
     ]
    },
    {
     "name": "stderr",
     "output_type": "stream",
     "text": [
      "\u001b[36mℹ\u001b[39m \u001b[90minvalid tbl_tree object. Missing column: parent,node.\u001b[39m\n",
      "\n",
      "\u001b[36mℹ\u001b[39m \u001b[90minvalid tbl_tree object. Missing column: parent,node.\u001b[39m\n",
      "\n",
      "Calculating 49_T3_filtered_re...\n",
      "\n"
     ]
    },
    {
     "name": "stdout",
     "output_type": "stream",
     "text": [
      "\n",
      "   N  ref   T3 \n",
      " 161    1 1569 \n"
     ]
    },
    {
     "name": "stderr",
     "output_type": "stream",
     "text": [
      "\u001b[36mℹ\u001b[39m \u001b[90minvalid tbl_tree object. Missing column: parent,node.\u001b[39m\n",
      "\n",
      "\u001b[36mℹ\u001b[39m \u001b[90minvalid tbl_tree object. Missing column: parent,node.\u001b[39m\n",
      "\n",
      "Calculating 4_T_filtered_re...\n",
      "\n"
     ]
    },
    {
     "name": "stdout",
     "output_type": "stream",
     "text": [
      "\n",
      "   N  ref    T \n",
      "1517    1 3513 \n"
     ]
    },
    {
     "name": "stderr",
     "output_type": "stream",
     "text": [
      "\u001b[36mℹ\u001b[39m \u001b[90minvalid tbl_tree object. Missing column: parent,node.\u001b[39m\n",
      "\n",
      "\u001b[36mℹ\u001b[39m \u001b[90minvalid tbl_tree object. Missing column: parent,node.\u001b[39m\n",
      "\n",
      "Calculating 50_T_filtered_re...\n",
      "\n"
     ]
    },
    {
     "name": "stdout",
     "output_type": "stream",
     "text": [
      "\n",
      "   N  ref    T \n",
      "2149    1 1075 \n"
     ]
    },
    {
     "name": "stderr",
     "output_type": "stream",
     "text": [
      "\u001b[36mℹ\u001b[39m \u001b[90minvalid tbl_tree object. Missing column: parent,node.\u001b[39m\n",
      "\n",
      "\u001b[36mℹ\u001b[39m \u001b[90minvalid tbl_tree object. Missing column: parent,node.\u001b[39m\n",
      "\n",
      "Calculating 5_T_filtered_re...\n",
      "\n"
     ]
    },
    {
     "name": "stdout",
     "output_type": "stream",
     "text": [
      "\n",
      "   N  ref    T \n",
      "3765    1 3803 \n"
     ]
    },
    {
     "name": "stderr",
     "output_type": "stream",
     "text": [
      "\u001b[36mℹ\u001b[39m \u001b[90minvalid tbl_tree object. Missing column: parent,node.\u001b[39m\n",
      "\n",
      "\u001b[36mℹ\u001b[39m \u001b[90minvalid tbl_tree object. Missing column: parent,node.\u001b[39m\n",
      "\n",
      "Calculating 65_T1_filtered_re...\n",
      "\n"
     ]
    },
    {
     "name": "stdout",
     "output_type": "stream",
     "text": [
      "\n",
      "  N ref  T1 \n",
      "253   1 122 \n"
     ]
    },
    {
     "name": "stderr",
     "output_type": "stream",
     "text": [
      "\u001b[36mℹ\u001b[39m \u001b[90minvalid tbl_tree object. Missing column: parent,node.\u001b[39m\n",
      "\n",
      "\u001b[36mℹ\u001b[39m \u001b[90minvalid tbl_tree object. Missing column: parent,node.\u001b[39m\n",
      "\n",
      "Calculating 65_T3_filtered_re...\n",
      "\n"
     ]
    },
    {
     "name": "stdout",
     "output_type": "stream",
     "text": [
      "\n",
      "  N ref  T3 \n",
      "253   1 343 \n"
     ]
    },
    {
     "name": "stderr",
     "output_type": "stream",
     "text": [
      "\u001b[36mℹ\u001b[39m \u001b[90minvalid tbl_tree object. Missing column: parent,node.\u001b[39m\n",
      "\n",
      "\u001b[36mℹ\u001b[39m \u001b[90minvalid tbl_tree object. Missing column: parent,node.\u001b[39m\n",
      "\n",
      "Calculating 66_T_filtered_re...\n",
      "\n"
     ]
    },
    {
     "name": "stdout",
     "output_type": "stream",
     "text": [
      "\n",
      "   N  ref    T \n",
      "2023    1  463 \n"
     ]
    },
    {
     "name": "stderr",
     "output_type": "stream",
     "text": [
      "\u001b[36mℹ\u001b[39m \u001b[90minvalid tbl_tree object. Missing column: parent,node.\u001b[39m\n",
      "\n",
      "\u001b[36mℹ\u001b[39m \u001b[90minvalid tbl_tree object. Missing column: parent,node.\u001b[39m\n",
      "\n",
      "Calculating 68_Ade1_filtered_re...\n",
      "\n"
     ]
    },
    {
     "name": "stdout",
     "output_type": "stream",
     "text": [
      "\n",
      "Ade1    N  ref \n",
      "1042  775    1 \n"
     ]
    },
    {
     "name": "stderr",
     "output_type": "stream",
     "text": [
      "\u001b[36mℹ\u001b[39m \u001b[90minvalid tbl_tree object. Missing column: parent,node.\u001b[39m\n",
      "\n",
      "\u001b[36mℹ\u001b[39m \u001b[90minvalid tbl_tree object. Missing column: parent,node.\u001b[39m\n",
      "\n",
      "Calculating 68_Ade2_filtered_re...\n",
      "\n"
     ]
    },
    {
     "name": "stdout",
     "output_type": "stream",
     "text": [
      "\n",
      "Ade2    N  ref \n",
      "1634  775    1 \n"
     ]
    },
    {
     "name": "stderr",
     "output_type": "stream",
     "text": [
      "\u001b[36mℹ\u001b[39m \u001b[90minvalid tbl_tree object. Missing column: parent,node.\u001b[39m\n",
      "\n",
      "\u001b[36mℹ\u001b[39m \u001b[90minvalid tbl_tree object. Missing column: parent,node.\u001b[39m\n",
      "\n",
      "Calculating 68_Ade3_filtered_re...\n",
      "\n"
     ]
    },
    {
     "name": "stdout",
     "output_type": "stream",
     "text": [
      "\n",
      "Ade3    N  ref \n",
      " 785  775    1 \n"
     ]
    },
    {
     "name": "stderr",
     "output_type": "stream",
     "text": [
      "\u001b[36mℹ\u001b[39m \u001b[90minvalid tbl_tree object. Missing column: parent,node.\u001b[39m\n",
      "\n",
      "\u001b[36mℹ\u001b[39m \u001b[90minvalid tbl_tree object. Missing column: parent,node.\u001b[39m\n",
      "\n",
      "Calculating 68_Ade4_filtered_re...\n",
      "\n"
     ]
    },
    {
     "name": "stdout",
     "output_type": "stream",
     "text": [
      "\n",
      "Ade4    N  ref \n",
      "2012  775    1 \n"
     ]
    },
    {
     "name": "stderr",
     "output_type": "stream",
     "text": [
      "\u001b[36mℹ\u001b[39m \u001b[90minvalid tbl_tree object. Missing column: parent,node.\u001b[39m\n",
      "\n",
      "\u001b[36mℹ\u001b[39m \u001b[90minvalid tbl_tree object. Missing column: parent,node.\u001b[39m\n",
      "\n",
      "Calculating 68_Ade5-1_filtered_re...\n",
      "\n"
     ]
    },
    {
     "name": "stdout",
     "output_type": "stream",
     "text": [
      "\n",
      "Ade5-1      N    ref \n",
      "   924    775      1 \n"
     ]
    },
    {
     "name": "stderr",
     "output_type": "stream",
     "text": [
      "\u001b[36mℹ\u001b[39m \u001b[90minvalid tbl_tree object. Missing column: parent,node.\u001b[39m\n",
      "\n",
      "\u001b[36mℹ\u001b[39m \u001b[90minvalid tbl_tree object. Missing column: parent,node.\u001b[39m\n",
      "\n",
      "Calculating 68_Ade5-2_filtered_re...\n",
      "\n"
     ]
    },
    {
     "name": "stdout",
     "output_type": "stream",
     "text": [
      "\n",
      "Ade5-2      N    ref \n",
      "   196    775      1 \n"
     ]
    },
    {
     "name": "stderr",
     "output_type": "stream",
     "text": [
      "\u001b[36mℹ\u001b[39m \u001b[90minvalid tbl_tree object. Missing column: parent,node.\u001b[39m\n",
      "\n",
      "\u001b[36mℹ\u001b[39m \u001b[90minvalid tbl_tree object. Missing column: parent,node.\u001b[39m\n",
      "\n",
      "Calculating 68_Ade5-3_filtered_re...\n",
      "\n"
     ]
    },
    {
     "name": "stdout",
     "output_type": "stream",
     "text": [
      "\n",
      "Ade5-3      N    ref \n",
      "   197    775      1 \n"
     ]
    },
    {
     "name": "stderr",
     "output_type": "stream",
     "text": [
      "\u001b[36mℹ\u001b[39m \u001b[90minvalid tbl_tree object. Missing column: parent,node.\u001b[39m\n",
      "\n",
      "\u001b[36mℹ\u001b[39m \u001b[90minvalid tbl_tree object. Missing column: parent,node.\u001b[39m\n",
      "\n",
      "Calculating 68_Ade5-4_filtered_re...\n",
      "\n"
     ]
    },
    {
     "name": "stdout",
     "output_type": "stream",
     "text": [
      "\n",
      "Ade5-4      N    ref \n",
      "   454    775      1 \n"
     ]
    },
    {
     "name": "stderr",
     "output_type": "stream",
     "text": [
      "\u001b[36mℹ\u001b[39m \u001b[90minvalid tbl_tree object. Missing column: parent,node.\u001b[39m\n",
      "\n",
      "\u001b[36mℹ\u001b[39m \u001b[90minvalid tbl_tree object. Missing column: parent,node.\u001b[39m\n",
      "\n",
      "Calculating 68_Ade5-5_filtered_re...\n",
      "\n"
     ]
    },
    {
     "name": "stdout",
     "output_type": "stream",
     "text": [
      "\n",
      "Ade5-5      N    ref \n",
      "  1139    775      1 \n"
     ]
    },
    {
     "name": "stderr",
     "output_type": "stream",
     "text": [
      "\u001b[36mℹ\u001b[39m \u001b[90minvalid tbl_tree object. Missing column: parent,node.\u001b[39m\n",
      "\n",
      "\u001b[36mℹ\u001b[39m \u001b[90minvalid tbl_tree object. Missing column: parent,node.\u001b[39m\n",
      "\n",
      "Calculating 68_Ade5_filtered_re...\n",
      "\n"
     ]
    },
    {
     "name": "stdout",
     "output_type": "stream",
     "text": [
      "\n",
      "Ade5-1 Ade5-2 Ade5-3 Ade5-4 Ade5-5      N    ref \n",
      "   924    196    197    454   1139    775      1 \n"
     ]
    },
    {
     "name": "stderr",
     "output_type": "stream",
     "text": [
      "\u001b[36mℹ\u001b[39m \u001b[90minvalid tbl_tree object. Missing column: parent,node.\u001b[39m\n",
      "\n",
      "\u001b[36mℹ\u001b[39m \u001b[90minvalid tbl_tree object. Missing column: parent,node.\u001b[39m\n",
      "\n",
      "Calculating 71_Ade3_filtered_re...\n",
      "\n"
     ]
    },
    {
     "name": "stdout",
     "output_type": "stream",
     "text": [
      "\n",
      "Ade3    N  ref \n",
      "3039  660    1 \n"
     ]
    },
    {
     "name": "stderr",
     "output_type": "stream",
     "text": [
      "\u001b[36mℹ\u001b[39m \u001b[90minvalid tbl_tree object. Missing column: parent,node.\u001b[39m\n",
      "\n",
      "\u001b[36mℹ\u001b[39m \u001b[90minvalid tbl_tree object. Missing column: parent,node.\u001b[39m\n",
      "\n",
      "Calculating 72_Ade1_filtered_re...\n",
      "\n"
     ]
    },
    {
     "name": "stdout",
     "output_type": "stream",
     "text": [
      "\n",
      "Ade1    N  ref \n",
      "3268 2284    1 \n"
     ]
    },
    {
     "name": "stderr",
     "output_type": "stream",
     "text": [
      "\u001b[36mℹ\u001b[39m \u001b[90minvalid tbl_tree object. Missing column: parent,node.\u001b[39m\n",
      "\n",
      "\u001b[36mℹ\u001b[39m \u001b[90minvalid tbl_tree object. Missing column: parent,node.\u001b[39m\n",
      "\n",
      "Calculating 72_Ade2_filtered_re...\n",
      "\n"
     ]
    },
    {
     "name": "stdout",
     "output_type": "stream",
     "text": [
      "\n",
      "Ade2    N  ref \n",
      "1244 2284    1 \n"
     ]
    },
    {
     "name": "stderr",
     "output_type": "stream",
     "text": [
      "\u001b[36mℹ\u001b[39m \u001b[90minvalid tbl_tree object. Missing column: parent,node.\u001b[39m\n",
      "\n",
      "\u001b[36mℹ\u001b[39m \u001b[90minvalid tbl_tree object. Missing column: parent,node.\u001b[39m\n",
      "\n",
      "Calculating 72_Ade4_filtered_re...\n",
      "\n"
     ]
    },
    {
     "name": "stdout",
     "output_type": "stream",
     "text": [
      "\n",
      "Ade4    N  ref \n",
      "3753 2284    1 \n"
     ]
    },
    {
     "name": "stderr",
     "output_type": "stream",
     "text": [
      "\u001b[36mℹ\u001b[39m \u001b[90minvalid tbl_tree object. Missing column: parent,node.\u001b[39m\n",
      "\n",
      "\u001b[36mℹ\u001b[39m \u001b[90minvalid tbl_tree object. Missing column: parent,node.\u001b[39m\n",
      "\n",
      "Calculating 72_Ade5_filtered_re...\n",
      "\n"
     ]
    },
    {
     "name": "stdout",
     "output_type": "stream",
     "text": [
      "\n",
      "Ade5    N  ref \n",
      "2896 2284    1 \n"
     ]
    },
    {
     "name": "stderr",
     "output_type": "stream",
     "text": [
      "\u001b[36mℹ\u001b[39m \u001b[90minvalid tbl_tree object. Missing column: parent,node.\u001b[39m\n",
      "\n",
      "\u001b[36mℹ\u001b[39m \u001b[90minvalid tbl_tree object. Missing column: parent,node.\u001b[39m\n",
      "\n",
      "Calculating 72_Ade6_filtered_re...\n",
      "\n"
     ]
    },
    {
     "name": "stdout",
     "output_type": "stream",
     "text": [
      "\n",
      "Ade6    N  ref \n",
      "2987 2284    1 \n"
     ]
    },
    {
     "name": "stderr",
     "output_type": "stream",
     "text": [
      "\u001b[36mℹ\u001b[39m \u001b[90minvalid tbl_tree object. Missing column: parent,node.\u001b[39m\n",
      "\n",
      "\u001b[36mℹ\u001b[39m \u001b[90minvalid tbl_tree object. Missing column: parent,node.\u001b[39m\n",
      "\n",
      "Calculating 72_Ade8_filtered_re...\n",
      "\n"
     ]
    },
    {
     "name": "stdout",
     "output_type": "stream",
     "text": [
      "\n",
      "Ade8    N  ref \n",
      "2015 2284    1 \n"
     ]
    },
    {
     "name": "stderr",
     "output_type": "stream",
     "text": [
      "\u001b[36mℹ\u001b[39m \u001b[90minvalid tbl_tree object. Missing column: parent,node.\u001b[39m\n",
      "\n",
      "\u001b[36mℹ\u001b[39m \u001b[90minvalid tbl_tree object. Missing column: parent,node.\u001b[39m\n",
      "\n",
      "Calculating 72_Ade9_filtered_re...\n",
      "\n"
     ]
    },
    {
     "name": "stdout",
     "output_type": "stream",
     "text": [
      "\n",
      "Ade9    N  ref \n",
      "2919 2284    1 \n"
     ]
    },
    {
     "name": "stderr",
     "output_type": "stream",
     "text": [
      "\u001b[36mℹ\u001b[39m \u001b[90minvalid tbl_tree object. Missing column: parent,node.\u001b[39m\n",
      "\n",
      "\u001b[36mℹ\u001b[39m \u001b[90minvalid tbl_tree object. Missing column: parent,node.\u001b[39m\n",
      "\n",
      "Calculating 75_Ade11_filtered_re...\n",
      "\n"
     ]
    },
    {
     "name": "stdout",
     "output_type": "stream",
     "text": [
      "\n",
      "Ade11     N   ref \n",
      "  506  1227     1 \n"
     ]
    },
    {
     "name": "stderr",
     "output_type": "stream",
     "text": [
      "\u001b[36mℹ\u001b[39m \u001b[90minvalid tbl_tree object. Missing column: parent,node.\u001b[39m\n",
      "\n",
      "\u001b[36mℹ\u001b[39m \u001b[90minvalid tbl_tree object. Missing column: parent,node.\u001b[39m\n",
      "\n",
      "Calculating 75_Ade3_filtered_re...\n",
      "\n"
     ]
    },
    {
     "name": "stdout",
     "output_type": "stream",
     "text": [
      "\n",
      "Ade3    N  ref \n",
      " 122 1227    1 \n"
     ]
    },
    {
     "name": "stderr",
     "output_type": "stream",
     "text": [
      "\u001b[36mℹ\u001b[39m \u001b[90minvalid tbl_tree object. Missing column: parent,node.\u001b[39m\n",
      "\n",
      "\u001b[36mℹ\u001b[39m \u001b[90minvalid tbl_tree object. Missing column: parent,node.\u001b[39m\n",
      "\n",
      "Calculating 75_Ade5_filtered_re...\n",
      "\n"
     ]
    },
    {
     "name": "stdout",
     "output_type": "stream",
     "text": [
      "\n",
      "Ade5    N  ref \n",
      " 633 1227    1 \n"
     ]
    },
    {
     "name": "stderr",
     "output_type": "stream",
     "text": [
      "\u001b[36mℹ\u001b[39m \u001b[90minvalid tbl_tree object. Missing column: parent,node.\u001b[39m\n",
      "\n",
      "\u001b[36mℹ\u001b[39m \u001b[90minvalid tbl_tree object. Missing column: parent,node.\u001b[39m\n",
      "\n",
      "Calculating 75_Ade8_filtered_re...\n",
      "\n"
     ]
    },
    {
     "name": "stdout",
     "output_type": "stream",
     "text": [
      "\n",
      "Ade8    N  ref \n",
      "1316 1227    1 \n"
     ]
    },
    {
     "name": "stderr",
     "output_type": "stream",
     "text": [
      "\u001b[36mℹ\u001b[39m \u001b[90minvalid tbl_tree object. Missing column: parent,node.\u001b[39m\n",
      "\n",
      "\u001b[36mℹ\u001b[39m \u001b[90minvalid tbl_tree object. Missing column: parent,node.\u001b[39m\n",
      "\n",
      "Calculating WT1_N7_filtered_re...\n",
      "\n"
     ]
    },
    {
     "name": "stdout",
     "output_type": "stream",
     "text": [
      "\n",
      "  N5   N7  ref \n",
      "1266 1313    1 \n"
     ]
    },
    {
     "name": "stderr",
     "output_type": "stream",
     "text": [
      "\u001b[36mℹ\u001b[39m \u001b[90minvalid tbl_tree object. Missing column: parent,node.\u001b[39m\n",
      "\n",
      "\u001b[36mℹ\u001b[39m \u001b[90minvalid tbl_tree object. Missing column: parent,node.\u001b[39m\n",
      "\n",
      "Calculating WT2_N5_filtered_re...\n",
      "\n"
     ]
    },
    {
     "name": "stdout",
     "output_type": "stream",
     "text": [
      "\n",
      "  N3   N5  ref \n",
      "3649 2780    1 \n"
     ]
    },
    {
     "name": "stderr",
     "output_type": "stream",
     "text": [
      "\u001b[36mℹ\u001b[39m \u001b[90minvalid tbl_tree object. Missing column: parent,node.\u001b[39m\n",
      "\n",
      "\u001b[36mℹ\u001b[39m \u001b[90minvalid tbl_tree object. Missing column: parent,node.\u001b[39m\n",
      "\n"
     ]
    },
    {
     "data": {
      "text/html": [
       "<strong>png:</strong> 2"
      ],
      "text/latex": [
       "\\textbf{png:} 2"
      ],
      "text/markdown": [
       "**png:** 2"
      ],
      "text/plain": [
       "png \n",
       "  2 "
      ]
     },
     "metadata": {},
     "output_type": "display_data"
    },
    {
     "name": "stderr",
     "output_type": "stream",
     "text": [
      "Calculating 132_T1_filtered_re...\n",
      "\n"
     ]
    },
    {
     "name": "stdout",
     "output_type": "stream",
     "text": [
      "\n",
      "   N  ref   T1 \n",
      "1517    1 2629 \n"
     ]
    },
    {
     "name": "stderr",
     "output_type": "stream",
     "text": [
      "\u001b[33m!\u001b[39m # Invaild edge matrix for \u001b[34m\u001b[34m<phylo>\u001b[34m\u001b[39m. A \u001b[34m\u001b[34m<tbl_df>\u001b[34m\u001b[39m is returned.\n",
      "\n",
      "\u001b[33m!\u001b[39m # Invaild edge matrix for \u001b[34m\u001b[34m<phylo>\u001b[34m\u001b[39m. A \u001b[34m\u001b[34m<tbl_df>\u001b[34m\u001b[39m is returned.\n",
      "\n",
      "\u001b[36mℹ\u001b[39m \u001b[90minvalid tbl_tree object. Missing column: label.\u001b[39m\n",
      "\n",
      "\u001b[36mℹ\u001b[39m \u001b[90minvalid tbl_tree object. Missing column: label.\u001b[39m\n",
      "\n",
      "\u001b[33m!\u001b[39m # Invaild edge matrix for \u001b[34m\u001b[34m<phylo>\u001b[34m\u001b[39m. A \u001b[34m\u001b[34m<tbl_df>\u001b[34m\u001b[39m is returned.\n",
      "\n",
      "\u001b[33m!\u001b[39m # Invaild edge matrix for \u001b[34m\u001b[34m<phylo>\u001b[34m\u001b[39m. A \u001b[34m\u001b[34m<tbl_df>\u001b[34m\u001b[39m is returned.\n",
      "\n",
      "\u001b[1m\u001b[22mScale for \u001b[32my\u001b[39m is already present.\n",
      "Adding another scale for \u001b[32my\u001b[39m, which will replace the existing scale.\n",
      "\u001b[1m\u001b[22mScale for \u001b[32mfill\u001b[39m is already present.\n",
      "Adding another scale for \u001b[32mfill\u001b[39m, which will replace the existing scale.\n",
      "Calculating 142_T1_filtered_re...\n",
      "\n"
     ]
    },
    {
     "name": "stdout",
     "output_type": "stream",
     "text": [
      "\n",
      "   N  ref   T1 \n",
      "3327    1 5691 \n"
     ]
    },
    {
     "name": "stderr",
     "output_type": "stream",
     "text": [
      "\u001b[33m!\u001b[39m # Invaild edge matrix for \u001b[34m\u001b[34m<phylo>\u001b[34m\u001b[39m. A \u001b[34m\u001b[34m<tbl_df>\u001b[34m\u001b[39m is returned.\n",
      "\n",
      "\u001b[33m!\u001b[39m # Invaild edge matrix for \u001b[34m\u001b[34m<phylo>\u001b[34m\u001b[39m. A \u001b[34m\u001b[34m<tbl_df>\u001b[34m\u001b[39m is returned.\n",
      "\n",
      "\u001b[36mℹ\u001b[39m \u001b[90minvalid tbl_tree object. Missing column: label.\u001b[39m\n",
      "\n",
      "\u001b[36mℹ\u001b[39m \u001b[90minvalid tbl_tree object. Missing column: label.\u001b[39m\n",
      "\n",
      "\u001b[33m!\u001b[39m # Invaild edge matrix for \u001b[34m\u001b[34m<phylo>\u001b[34m\u001b[39m. A \u001b[34m\u001b[34m<tbl_df>\u001b[34m\u001b[39m is returned.\n",
      "\n",
      "\u001b[33m!\u001b[39m # Invaild edge matrix for \u001b[34m\u001b[34m<phylo>\u001b[34m\u001b[39m. A \u001b[34m\u001b[34m<tbl_df>\u001b[34m\u001b[39m is returned.\n",
      "\n",
      "\u001b[1m\u001b[22mScale for \u001b[32my\u001b[39m is already present.\n",
      "Adding another scale for \u001b[32my\u001b[39m, which will replace the existing scale.\n",
      "\u001b[1m\u001b[22mScale for \u001b[32mfill\u001b[39m is already present.\n",
      "Adding another scale for \u001b[32mfill\u001b[39m, which will replace the existing scale.\n",
      "Calculating 142_T2_filtered_re...\n",
      "\n"
     ]
    },
    {
     "name": "stdout",
     "output_type": "stream",
     "text": [
      "\n",
      "   N  ref   T2 \n",
      "3327    1 5853 \n"
     ]
    },
    {
     "name": "stderr",
     "output_type": "stream",
     "text": [
      "\u001b[33m!\u001b[39m # Invaild edge matrix for \u001b[34m\u001b[34m<phylo>\u001b[34m\u001b[39m. A \u001b[34m\u001b[34m<tbl_df>\u001b[34m\u001b[39m is returned.\n",
      "\n",
      "\u001b[33m!\u001b[39m # Invaild edge matrix for \u001b[34m\u001b[34m<phylo>\u001b[34m\u001b[39m. A \u001b[34m\u001b[34m<tbl_df>\u001b[34m\u001b[39m is returned.\n",
      "\n",
      "\u001b[36mℹ\u001b[39m \u001b[90minvalid tbl_tree object. Missing column: label.\u001b[39m\n",
      "\n",
      "\u001b[36mℹ\u001b[39m \u001b[90minvalid tbl_tree object. Missing column: label.\u001b[39m\n",
      "\n",
      "\u001b[33m!\u001b[39m # Invaild edge matrix for \u001b[34m\u001b[34m<phylo>\u001b[34m\u001b[39m. A \u001b[34m\u001b[34m<tbl_df>\u001b[34m\u001b[39m is returned.\n",
      "\n",
      "\u001b[33m!\u001b[39m # Invaild edge matrix for \u001b[34m\u001b[34m<phylo>\u001b[34m\u001b[39m. A \u001b[34m\u001b[34m<tbl_df>\u001b[34m\u001b[39m is returned.\n",
      "\n",
      "\u001b[1m\u001b[22mScale for \u001b[32my\u001b[39m is already present.\n",
      "Adding another scale for \u001b[32my\u001b[39m, which will replace the existing scale.\n",
      "\u001b[1m\u001b[22mScale for \u001b[32mfill\u001b[39m is already present.\n",
      "Adding another scale for \u001b[32mfill\u001b[39m, which will replace the existing scale.\n",
      "Calculating 142_T5-4_filtered_re...\n",
      "\n"
     ]
    },
    {
     "name": "stdout",
     "output_type": "stream",
     "text": [
      "\n",
      "   N  ref T5-4 \n",
      "3327    1  749 \n"
     ]
    },
    {
     "name": "stderr",
     "output_type": "stream",
     "text": [
      "\u001b[33m!\u001b[39m # Invaild edge matrix for \u001b[34m\u001b[34m<phylo>\u001b[34m\u001b[39m. A \u001b[34m\u001b[34m<tbl_df>\u001b[34m\u001b[39m is returned.\n",
      "\n",
      "\u001b[33m!\u001b[39m # Invaild edge matrix for \u001b[34m\u001b[34m<phylo>\u001b[34m\u001b[39m. A \u001b[34m\u001b[34m<tbl_df>\u001b[34m\u001b[39m is returned.\n",
      "\n",
      "\u001b[36mℹ\u001b[39m \u001b[90minvalid tbl_tree object. Missing column: label.\u001b[39m\n",
      "\n",
      "\u001b[36mℹ\u001b[39m \u001b[90minvalid tbl_tree object. Missing column: label.\u001b[39m\n",
      "\n",
      "\u001b[33m!\u001b[39m # Invaild edge matrix for \u001b[34m\u001b[34m<phylo>\u001b[34m\u001b[39m. A \u001b[34m\u001b[34m<tbl_df>\u001b[34m\u001b[39m is returned.\n",
      "\n",
      "\u001b[33m!\u001b[39m # Invaild edge matrix for \u001b[34m\u001b[34m<phylo>\u001b[34m\u001b[39m. A \u001b[34m\u001b[34m<tbl_df>\u001b[34m\u001b[39m is returned.\n",
      "\n",
      "\u001b[1m\u001b[22mScale for \u001b[32my\u001b[39m is already present.\n",
      "Adding another scale for \u001b[32my\u001b[39m, which will replace the existing scale.\n",
      "\u001b[1m\u001b[22mScale for \u001b[32mfill\u001b[39m is already present.\n",
      "Adding another scale for \u001b[32mfill\u001b[39m, which will replace the existing scale.\n",
      "Calculating 148_T1_filtered_re...\n",
      "\n"
     ]
    },
    {
     "name": "stdout",
     "output_type": "stream",
     "text": [
      "\n",
      "   N  ref   T1 \n",
      "4085    1 1626 \n"
     ]
    },
    {
     "name": "stderr",
     "output_type": "stream",
     "text": [
      "\u001b[33m!\u001b[39m # Invaild edge matrix for \u001b[34m\u001b[34m<phylo>\u001b[34m\u001b[39m. A \u001b[34m\u001b[34m<tbl_df>\u001b[34m\u001b[39m is returned.\n",
      "\n",
      "\u001b[33m!\u001b[39m # Invaild edge matrix for \u001b[34m\u001b[34m<phylo>\u001b[34m\u001b[39m. A \u001b[34m\u001b[34m<tbl_df>\u001b[34m\u001b[39m is returned.\n",
      "\n",
      "\u001b[36mℹ\u001b[39m \u001b[90minvalid tbl_tree object. Missing column: label.\u001b[39m\n",
      "\n",
      "\u001b[36mℹ\u001b[39m \u001b[90minvalid tbl_tree object. Missing column: label.\u001b[39m\n",
      "\n",
      "\u001b[33m!\u001b[39m # Invaild edge matrix for \u001b[34m\u001b[34m<phylo>\u001b[34m\u001b[39m. A \u001b[34m\u001b[34m<tbl_df>\u001b[34m\u001b[39m is returned.\n",
      "\n",
      "\u001b[33m!\u001b[39m # Invaild edge matrix for \u001b[34m\u001b[34m<phylo>\u001b[34m\u001b[39m. A \u001b[34m\u001b[34m<tbl_df>\u001b[34m\u001b[39m is returned.\n",
      "\n",
      "\u001b[1m\u001b[22mScale for \u001b[32my\u001b[39m is already present.\n",
      "Adding another scale for \u001b[32my\u001b[39m, which will replace the existing scale.\n",
      "\u001b[1m\u001b[22mScale for \u001b[32mfill\u001b[39m is already present.\n",
      "Adding another scale for \u001b[32mfill\u001b[39m, which will replace the existing scale.\n",
      "Calculating 148_T3_filtered_re...\n",
      "\n"
     ]
    },
    {
     "name": "stdout",
     "output_type": "stream",
     "text": [
      "\n",
      "   N  ref   T3 \n",
      "4085    1 2324 \n"
     ]
    },
    {
     "name": "stderr",
     "output_type": "stream",
     "text": [
      "\u001b[33m!\u001b[39m # Invaild edge matrix for \u001b[34m\u001b[34m<phylo>\u001b[34m\u001b[39m. A \u001b[34m\u001b[34m<tbl_df>\u001b[34m\u001b[39m is returned.\n",
      "\n",
      "\u001b[33m!\u001b[39m # Invaild edge matrix for \u001b[34m\u001b[34m<phylo>\u001b[34m\u001b[39m. A \u001b[34m\u001b[34m<tbl_df>\u001b[34m\u001b[39m is returned.\n",
      "\n",
      "\u001b[36mℹ\u001b[39m \u001b[90minvalid tbl_tree object. Missing column: label.\u001b[39m\n",
      "\n",
      "\u001b[36mℹ\u001b[39m \u001b[90minvalid tbl_tree object. Missing column: label.\u001b[39m\n",
      "\n",
      "\u001b[33m!\u001b[39m # Invaild edge matrix for \u001b[34m\u001b[34m<phylo>\u001b[34m\u001b[39m. A \u001b[34m\u001b[34m<tbl_df>\u001b[34m\u001b[39m is returned.\n",
      "\n",
      "\u001b[33m!\u001b[39m # Invaild edge matrix for \u001b[34m\u001b[34m<phylo>\u001b[34m\u001b[39m. A \u001b[34m\u001b[34m<tbl_df>\u001b[34m\u001b[39m is returned.\n",
      "\n",
      "\u001b[1m\u001b[22mScale for \u001b[32my\u001b[39m is already present.\n",
      "Adding another scale for \u001b[32my\u001b[39m, which will replace the existing scale.\n",
      "\u001b[1m\u001b[22mScale for \u001b[32mfill\u001b[39m is already present.\n",
      "Adding another scale for \u001b[32mfill\u001b[39m, which will replace the existing scale.\n",
      "Calculating 151_T4_filtered_re...\n",
      "\n"
     ]
    },
    {
     "name": "stdout",
     "output_type": "stream",
     "text": [
      "\n",
      "  N ref  T4 \n",
      "289   1 426 \n"
     ]
    },
    {
     "name": "stderr",
     "output_type": "stream",
     "text": [
      "\u001b[33m!\u001b[39m # Invaild edge matrix for \u001b[34m\u001b[34m<phylo>\u001b[34m\u001b[39m. A \u001b[34m\u001b[34m<tbl_df>\u001b[34m\u001b[39m is returned.\n",
      "\n",
      "\u001b[33m!\u001b[39m # Invaild edge matrix for \u001b[34m\u001b[34m<phylo>\u001b[34m\u001b[39m. A \u001b[34m\u001b[34m<tbl_df>\u001b[34m\u001b[39m is returned.\n",
      "\n",
      "\u001b[36mℹ\u001b[39m \u001b[90minvalid tbl_tree object. Missing column: label.\u001b[39m\n",
      "\n",
      "\u001b[36mℹ\u001b[39m \u001b[90minvalid tbl_tree object. Missing column: label.\u001b[39m\n",
      "\n",
      "\u001b[33m!\u001b[39m # Invaild edge matrix for \u001b[34m\u001b[34m<phylo>\u001b[34m\u001b[39m. A \u001b[34m\u001b[34m<tbl_df>\u001b[34m\u001b[39m is returned.\n",
      "\n",
      "\u001b[33m!\u001b[39m # Invaild edge matrix for \u001b[34m\u001b[34m<phylo>\u001b[34m\u001b[39m. A \u001b[34m\u001b[34m<tbl_df>\u001b[34m\u001b[39m is returned.\n",
      "\n",
      "\u001b[1m\u001b[22mScale for \u001b[32my\u001b[39m is already present.\n",
      "Adding another scale for \u001b[32my\u001b[39m, which will replace the existing scale.\n",
      "\u001b[1m\u001b[22mScale for \u001b[32mfill\u001b[39m is already present.\n",
      "Adding another scale for \u001b[32mfill\u001b[39m, which will replace the existing scale.\n",
      "Calculating 16_T_filtered_re...\n",
      "\n"
     ]
    },
    {
     "name": "stdout",
     "output_type": "stream",
     "text": [
      "\n",
      "   N  ref    T \n",
      "3835    1 3543 \n"
     ]
    },
    {
     "name": "stderr",
     "output_type": "stream",
     "text": [
      "\u001b[33m!\u001b[39m # Invaild edge matrix for \u001b[34m\u001b[34m<phylo>\u001b[34m\u001b[39m. A \u001b[34m\u001b[34m<tbl_df>\u001b[34m\u001b[39m is returned.\n",
      "\n",
      "\u001b[33m!\u001b[39m # Invaild edge matrix for \u001b[34m\u001b[34m<phylo>\u001b[34m\u001b[39m. A \u001b[34m\u001b[34m<tbl_df>\u001b[34m\u001b[39m is returned.\n",
      "\n",
      "\u001b[36mℹ\u001b[39m \u001b[90minvalid tbl_tree object. Missing column: label.\u001b[39m\n",
      "\n",
      "\u001b[36mℹ\u001b[39m \u001b[90minvalid tbl_tree object. Missing column: label.\u001b[39m\n",
      "\n",
      "\u001b[33m!\u001b[39m # Invaild edge matrix for \u001b[34m\u001b[34m<phylo>\u001b[34m\u001b[39m. A \u001b[34m\u001b[34m<tbl_df>\u001b[34m\u001b[39m is returned.\n",
      "\n",
      "\u001b[33m!\u001b[39m # Invaild edge matrix for \u001b[34m\u001b[34m<phylo>\u001b[34m\u001b[39m. A \u001b[34m\u001b[34m<tbl_df>\u001b[34m\u001b[39m is returned.\n",
      "\n",
      "\u001b[1m\u001b[22mScale for \u001b[32my\u001b[39m is already present.\n",
      "Adding another scale for \u001b[32my\u001b[39m, which will replace the existing scale.\n",
      "\u001b[1m\u001b[22mScale for \u001b[32mfill\u001b[39m is already present.\n",
      "Adding another scale for \u001b[32mfill\u001b[39m, which will replace the existing scale.\n",
      "Calculating 17_T4_filtered_re...\n",
      "\n"
     ]
    },
    {
     "name": "stdout",
     "output_type": "stream",
     "text": [
      "\n",
      "  N ref  T4 \n",
      "337   1 290 \n"
     ]
    },
    {
     "name": "stderr",
     "output_type": "stream",
     "text": [
      "\u001b[33m!\u001b[39m # Invaild edge matrix for \u001b[34m\u001b[34m<phylo>\u001b[34m\u001b[39m. A \u001b[34m\u001b[34m<tbl_df>\u001b[34m\u001b[39m is returned.\n",
      "\n",
      "\u001b[33m!\u001b[39m # Invaild edge matrix for \u001b[34m\u001b[34m<phylo>\u001b[34m\u001b[39m. A \u001b[34m\u001b[34m<tbl_df>\u001b[34m\u001b[39m is returned.\n",
      "\n",
      "\u001b[36mℹ\u001b[39m \u001b[90minvalid tbl_tree object. Missing column: label.\u001b[39m\n",
      "\n",
      "\u001b[36mℹ\u001b[39m \u001b[90minvalid tbl_tree object. Missing column: label.\u001b[39m\n",
      "\n",
      "\u001b[33m!\u001b[39m # Invaild edge matrix for \u001b[34m\u001b[34m<phylo>\u001b[34m\u001b[39m. A \u001b[34m\u001b[34m<tbl_df>\u001b[34m\u001b[39m is returned.\n",
      "\n",
      "\u001b[33m!\u001b[39m # Invaild edge matrix for \u001b[34m\u001b[34m<phylo>\u001b[34m\u001b[39m. A \u001b[34m\u001b[34m<tbl_df>\u001b[34m\u001b[39m is returned.\n",
      "\n",
      "\u001b[1m\u001b[22mScale for \u001b[32my\u001b[39m is already present.\n",
      "Adding another scale for \u001b[32my\u001b[39m, which will replace the existing scale.\n",
      "\u001b[1m\u001b[22mScale for \u001b[32mfill\u001b[39m is already present.\n",
      "Adding another scale for \u001b[32mfill\u001b[39m, which will replace the existing scale.\n",
      "Calculating 18_T3_filtered_re...\n",
      "\n"
     ]
    },
    {
     "name": "stdout",
     "output_type": "stream",
     "text": [
      "\n",
      "   N  ref   T3 \n",
      "1517    1 1007 \n"
     ]
    },
    {
     "name": "stderr",
     "output_type": "stream",
     "text": [
      "\u001b[33m!\u001b[39m # Invaild edge matrix for \u001b[34m\u001b[34m<phylo>\u001b[34m\u001b[39m. A \u001b[34m\u001b[34m<tbl_df>\u001b[34m\u001b[39m is returned.\n",
      "\n",
      "\u001b[33m!\u001b[39m # Invaild edge matrix for \u001b[34m\u001b[34m<phylo>\u001b[34m\u001b[39m. A \u001b[34m\u001b[34m<tbl_df>\u001b[34m\u001b[39m is returned.\n",
      "\n",
      "\u001b[36mℹ\u001b[39m \u001b[90minvalid tbl_tree object. Missing column: label.\u001b[39m\n",
      "\n",
      "\u001b[36mℹ\u001b[39m \u001b[90minvalid tbl_tree object. Missing column: label.\u001b[39m\n",
      "\n",
      "\u001b[33m!\u001b[39m # Invaild edge matrix for \u001b[34m\u001b[34m<phylo>\u001b[34m\u001b[39m. A \u001b[34m\u001b[34m<tbl_df>\u001b[34m\u001b[39m is returned.\n",
      "\n",
      "\u001b[33m!\u001b[39m # Invaild edge matrix for \u001b[34m\u001b[34m<phylo>\u001b[34m\u001b[39m. A \u001b[34m\u001b[34m<tbl_df>\u001b[34m\u001b[39m is returned.\n",
      "\n",
      "\u001b[1m\u001b[22mScale for \u001b[32my\u001b[39m is already present.\n",
      "Adding another scale for \u001b[32my\u001b[39m, which will replace the existing scale.\n",
      "\u001b[1m\u001b[22mScale for \u001b[32mfill\u001b[39m is already present.\n",
      "Adding another scale for \u001b[32mfill\u001b[39m, which will replace the existing scale.\n",
      "Calculating 18_T4_filtered_re...\n",
      "\n"
     ]
    },
    {
     "name": "stdout",
     "output_type": "stream",
     "text": [
      "\n",
      "   N  ref   T4 \n",
      "1517    1  161 \n"
     ]
    },
    {
     "name": "stderr",
     "output_type": "stream",
     "text": [
      "\u001b[33m!\u001b[39m # Invaild edge matrix for \u001b[34m\u001b[34m<phylo>\u001b[34m\u001b[39m. A \u001b[34m\u001b[34m<tbl_df>\u001b[34m\u001b[39m is returned.\n",
      "\n",
      "\u001b[33m!\u001b[39m # Invaild edge matrix for \u001b[34m\u001b[34m<phylo>\u001b[34m\u001b[39m. A \u001b[34m\u001b[34m<tbl_df>\u001b[34m\u001b[39m is returned.\n",
      "\n",
      "\u001b[36mℹ\u001b[39m \u001b[90minvalid tbl_tree object. Missing column: label.\u001b[39m\n",
      "\n",
      "\u001b[36mℹ\u001b[39m \u001b[90minvalid tbl_tree object. Missing column: label.\u001b[39m\n",
      "\n",
      "\u001b[33m!\u001b[39m # Invaild edge matrix for \u001b[34m\u001b[34m<phylo>\u001b[34m\u001b[39m. A \u001b[34m\u001b[34m<tbl_df>\u001b[34m\u001b[39m is returned.\n",
      "\n",
      "\u001b[33m!\u001b[39m # Invaild edge matrix for \u001b[34m\u001b[34m<phylo>\u001b[34m\u001b[39m. A \u001b[34m\u001b[34m<tbl_df>\u001b[34m\u001b[39m is returned.\n",
      "\n",
      "\u001b[1m\u001b[22mScale for \u001b[32my\u001b[39m is already present.\n",
      "Adding another scale for \u001b[32my\u001b[39m, which will replace the existing scale.\n",
      "\u001b[1m\u001b[22mScale for \u001b[32mfill\u001b[39m is already present.\n",
      "Adding another scale for \u001b[32mfill\u001b[39m, which will replace the existing scale.\n",
      "Calculating 19_T1_filtered_re...\n",
      "\n"
     ]
    },
    {
     "name": "stdout",
     "output_type": "stream",
     "text": [
      "\n",
      "   N  ref   T1 \n",
      "1375    1  660 \n"
     ]
    },
    {
     "name": "stderr",
     "output_type": "stream",
     "text": [
      "\u001b[33m!\u001b[39m # Invaild edge matrix for \u001b[34m\u001b[34m<phylo>\u001b[34m\u001b[39m. A \u001b[34m\u001b[34m<tbl_df>\u001b[34m\u001b[39m is returned.\n",
      "\n",
      "\u001b[33m!\u001b[39m # Invaild edge matrix for \u001b[34m\u001b[34m<phylo>\u001b[34m\u001b[39m. A \u001b[34m\u001b[34m<tbl_df>\u001b[34m\u001b[39m is returned.\n",
      "\n",
      "\u001b[36mℹ\u001b[39m \u001b[90minvalid tbl_tree object. Missing column: label.\u001b[39m\n",
      "\n",
      "\u001b[36mℹ\u001b[39m \u001b[90minvalid tbl_tree object. Missing column: label.\u001b[39m\n",
      "\n",
      "\u001b[33m!\u001b[39m # Invaild edge matrix for \u001b[34m\u001b[34m<phylo>\u001b[34m\u001b[39m. A \u001b[34m\u001b[34m<tbl_df>\u001b[34m\u001b[39m is returned.\n",
      "\n",
      "\u001b[33m!\u001b[39m # Invaild edge matrix for \u001b[34m\u001b[34m<phylo>\u001b[34m\u001b[39m. A \u001b[34m\u001b[34m<tbl_df>\u001b[34m\u001b[39m is returned.\n",
      "\n",
      "\u001b[1m\u001b[22mScale for \u001b[32my\u001b[39m is already present.\n",
      "Adding another scale for \u001b[32my\u001b[39m, which will replace the existing scale.\n",
      "\u001b[1m\u001b[22mScale for \u001b[32mfill\u001b[39m is already present.\n",
      "Adding another scale for \u001b[32mfill\u001b[39m, which will replace the existing scale.\n",
      "Calculating 19_T3_filtered_re...\n",
      "\n"
     ]
    },
    {
     "name": "stdout",
     "output_type": "stream",
     "text": [
      "\n",
      "   N  ref   T3 \n",
      "1375    1 1642 \n"
     ]
    },
    {
     "name": "stderr",
     "output_type": "stream",
     "text": [
      "\u001b[33m!\u001b[39m # Invaild edge matrix for \u001b[34m\u001b[34m<phylo>\u001b[34m\u001b[39m. A \u001b[34m\u001b[34m<tbl_df>\u001b[34m\u001b[39m is returned.\n",
      "\n",
      "\u001b[33m!\u001b[39m # Invaild edge matrix for \u001b[34m\u001b[34m<phylo>\u001b[34m\u001b[39m. A \u001b[34m\u001b[34m<tbl_df>\u001b[34m\u001b[39m is returned.\n",
      "\n",
      "\u001b[36mℹ\u001b[39m \u001b[90minvalid tbl_tree object. Missing column: label.\u001b[39m\n",
      "\n",
      "\u001b[36mℹ\u001b[39m \u001b[90minvalid tbl_tree object. Missing column: label.\u001b[39m\n",
      "\n",
      "\u001b[33m!\u001b[39m # Invaild edge matrix for \u001b[34m\u001b[34m<phylo>\u001b[34m\u001b[39m. A \u001b[34m\u001b[34m<tbl_df>\u001b[34m\u001b[39m is returned.\n",
      "\n",
      "\u001b[33m!\u001b[39m # Invaild edge matrix for \u001b[34m\u001b[34m<phylo>\u001b[34m\u001b[39m. A \u001b[34m\u001b[34m<tbl_df>\u001b[34m\u001b[39m is returned.\n",
      "\n",
      "\u001b[1m\u001b[22mScale for \u001b[32my\u001b[39m is already present.\n",
      "Adding another scale for \u001b[32my\u001b[39m, which will replace the existing scale.\n",
      "\u001b[1m\u001b[22mScale for \u001b[32mfill\u001b[39m is already present.\n",
      "Adding another scale for \u001b[32mfill\u001b[39m, which will replace the existing scale.\n",
      "Calculating 19_T4_filtered_re...\n",
      "\n"
     ]
    },
    {
     "name": "stdout",
     "output_type": "stream",
     "text": [
      "\n",
      "   N  ref   T4 \n",
      "1375    1 1336 \n"
     ]
    },
    {
     "name": "stderr",
     "output_type": "stream",
     "text": [
      "\u001b[33m!\u001b[39m # Invaild edge matrix for \u001b[34m\u001b[34m<phylo>\u001b[34m\u001b[39m. A \u001b[34m\u001b[34m<tbl_df>\u001b[34m\u001b[39m is returned.\n",
      "\n",
      "\u001b[33m!\u001b[39m # Invaild edge matrix for \u001b[34m\u001b[34m<phylo>\u001b[34m\u001b[39m. A \u001b[34m\u001b[34m<tbl_df>\u001b[34m\u001b[39m is returned.\n",
      "\n",
      "\u001b[36mℹ\u001b[39m \u001b[90minvalid tbl_tree object. Missing column: label.\u001b[39m\n",
      "\n",
      "\u001b[36mℹ\u001b[39m \u001b[90minvalid tbl_tree object. Missing column: label.\u001b[39m\n",
      "\n",
      "\u001b[33m!\u001b[39m # Invaild edge matrix for \u001b[34m\u001b[34m<phylo>\u001b[34m\u001b[39m. A \u001b[34m\u001b[34m<tbl_df>\u001b[34m\u001b[39m is returned.\n",
      "\n",
      "\u001b[33m!\u001b[39m # Invaild edge matrix for \u001b[34m\u001b[34m<phylo>\u001b[34m\u001b[39m. A \u001b[34m\u001b[34m<tbl_df>\u001b[34m\u001b[39m is returned.\n",
      "\n",
      "\u001b[1m\u001b[22mScale for \u001b[32my\u001b[39m is already present.\n",
      "Adding another scale for \u001b[32my\u001b[39m, which will replace the existing scale.\n",
      "\u001b[1m\u001b[22mScale for \u001b[32mfill\u001b[39m is already present.\n",
      "Adding another scale for \u001b[32mfill\u001b[39m, which will replace the existing scale.\n",
      "Calculating 19_T5_filtered_re...\n",
      "\n"
     ]
    },
    {
     "name": "stdout",
     "output_type": "stream",
     "text": [
      "\n",
      "   N  ref   T5 \n",
      "1375    1  778 \n"
     ]
    },
    {
     "name": "stderr",
     "output_type": "stream",
     "text": [
      "\u001b[33m!\u001b[39m # Invaild edge matrix for \u001b[34m\u001b[34m<phylo>\u001b[34m\u001b[39m. A \u001b[34m\u001b[34m<tbl_df>\u001b[34m\u001b[39m is returned.\n",
      "\n",
      "\u001b[33m!\u001b[39m # Invaild edge matrix for \u001b[34m\u001b[34m<phylo>\u001b[34m\u001b[39m. A \u001b[34m\u001b[34m<tbl_df>\u001b[34m\u001b[39m is returned.\n",
      "\n",
      "\u001b[36mℹ\u001b[39m \u001b[90minvalid tbl_tree object. Missing column: label.\u001b[39m\n",
      "\n",
      "\u001b[36mℹ\u001b[39m \u001b[90minvalid tbl_tree object. Missing column: label.\u001b[39m\n",
      "\n",
      "\u001b[33m!\u001b[39m # Invaild edge matrix for \u001b[34m\u001b[34m<phylo>\u001b[34m\u001b[39m. A \u001b[34m\u001b[34m<tbl_df>\u001b[34m\u001b[39m is returned.\n",
      "\n",
      "\u001b[33m!\u001b[39m # Invaild edge matrix for \u001b[34m\u001b[34m<phylo>\u001b[34m\u001b[39m. A \u001b[34m\u001b[34m<tbl_df>\u001b[34m\u001b[39m is returned.\n",
      "\n",
      "\u001b[1m\u001b[22mScale for \u001b[32my\u001b[39m is already present.\n",
      "Adding another scale for \u001b[32my\u001b[39m, which will replace the existing scale.\n",
      "\u001b[1m\u001b[22mScale for \u001b[32mfill\u001b[39m is already present.\n",
      "Adding another scale for \u001b[32mfill\u001b[39m, which will replace the existing scale.\n",
      "Calculating 2_T2_filtered_re...\n",
      "\n"
     ]
    },
    {
     "name": "stdout",
     "output_type": "stream",
     "text": [
      "\n",
      "  N ref  T2 \n",
      "206   1  39 \n"
     ]
    },
    {
     "name": "stderr",
     "output_type": "stream",
     "text": [
      "\u001b[33m!\u001b[39m # Invaild edge matrix for \u001b[34m\u001b[34m<phylo>\u001b[34m\u001b[39m. A \u001b[34m\u001b[34m<tbl_df>\u001b[34m\u001b[39m is returned.\n",
      "\n",
      "\u001b[33m!\u001b[39m # Invaild edge matrix for \u001b[34m\u001b[34m<phylo>\u001b[34m\u001b[39m. A \u001b[34m\u001b[34m<tbl_df>\u001b[34m\u001b[39m is returned.\n",
      "\n",
      "\u001b[36mℹ\u001b[39m \u001b[90minvalid tbl_tree object. Missing column: label.\u001b[39m\n",
      "\n",
      "\u001b[36mℹ\u001b[39m \u001b[90minvalid tbl_tree object. Missing column: label.\u001b[39m\n",
      "\n",
      "\u001b[33m!\u001b[39m # Invaild edge matrix for \u001b[34m\u001b[34m<phylo>\u001b[34m\u001b[39m. A \u001b[34m\u001b[34m<tbl_df>\u001b[34m\u001b[39m is returned.\n",
      "\n",
      "\u001b[33m!\u001b[39m # Invaild edge matrix for \u001b[34m\u001b[34m<phylo>\u001b[34m\u001b[39m. A \u001b[34m\u001b[34m<tbl_df>\u001b[34m\u001b[39m is returned.\n",
      "\n",
      "\u001b[1m\u001b[22mScale for \u001b[32my\u001b[39m is already present.\n",
      "Adding another scale for \u001b[32my\u001b[39m, which will replace the existing scale.\n",
      "\u001b[1m\u001b[22mScale for \u001b[32mfill\u001b[39m is already present.\n",
      "Adding another scale for \u001b[32mfill\u001b[39m, which will replace the existing scale.\n",
      "Calculating 2_T3_filtered_re...\n",
      "\n"
     ]
    },
    {
     "name": "stdout",
     "output_type": "stream",
     "text": [
      "\n",
      "  N ref  T3 \n",
      "206   1  55 \n"
     ]
    },
    {
     "name": "stderr",
     "output_type": "stream",
     "text": [
      "\u001b[33m!\u001b[39m # Invaild edge matrix for \u001b[34m\u001b[34m<phylo>\u001b[34m\u001b[39m. A \u001b[34m\u001b[34m<tbl_df>\u001b[34m\u001b[39m is returned.\n",
      "\n",
      "\u001b[33m!\u001b[39m # Invaild edge matrix for \u001b[34m\u001b[34m<phylo>\u001b[34m\u001b[39m. A \u001b[34m\u001b[34m<tbl_df>\u001b[34m\u001b[39m is returned.\n",
      "\n",
      "\u001b[36mℹ\u001b[39m \u001b[90minvalid tbl_tree object. Missing column: label.\u001b[39m\n",
      "\n",
      "\u001b[36mℹ\u001b[39m \u001b[90minvalid tbl_tree object. Missing column: label.\u001b[39m\n",
      "\n",
      "\u001b[33m!\u001b[39m # Invaild edge matrix for \u001b[34m\u001b[34m<phylo>\u001b[34m\u001b[39m. A \u001b[34m\u001b[34m<tbl_df>\u001b[34m\u001b[39m is returned.\n",
      "\n",
      "\u001b[33m!\u001b[39m # Invaild edge matrix for \u001b[34m\u001b[34m<phylo>\u001b[34m\u001b[39m. A \u001b[34m\u001b[34m<tbl_df>\u001b[34m\u001b[39m is returned.\n",
      "\n",
      "\u001b[1m\u001b[22mScale for \u001b[32my\u001b[39m is already present.\n",
      "Adding another scale for \u001b[32my\u001b[39m, which will replace the existing scale.\n",
      "\u001b[1m\u001b[22mScale for \u001b[32mfill\u001b[39m is already present.\n",
      "Adding another scale for \u001b[32mfill\u001b[39m, which will replace the existing scale.\n",
      "Calculating 47_T1_filtered_re...\n",
      "\n"
     ]
    },
    {
     "name": "stdout",
     "output_type": "stream",
     "text": [
      "\n",
      "   N  ref   T1 \n",
      "2196    1 1043 \n"
     ]
    },
    {
     "name": "stderr",
     "output_type": "stream",
     "text": [
      "\u001b[33m!\u001b[39m # Invaild edge matrix for \u001b[34m\u001b[34m<phylo>\u001b[34m\u001b[39m. A \u001b[34m\u001b[34m<tbl_df>\u001b[34m\u001b[39m is returned.\n",
      "\n",
      "\u001b[33m!\u001b[39m # Invaild edge matrix for \u001b[34m\u001b[34m<phylo>\u001b[34m\u001b[39m. A \u001b[34m\u001b[34m<tbl_df>\u001b[34m\u001b[39m is returned.\n",
      "\n",
      "\u001b[36mℹ\u001b[39m \u001b[90minvalid tbl_tree object. Missing column: label.\u001b[39m\n",
      "\n",
      "\u001b[36mℹ\u001b[39m \u001b[90minvalid tbl_tree object. Missing column: label.\u001b[39m\n",
      "\n",
      "\u001b[33m!\u001b[39m # Invaild edge matrix for \u001b[34m\u001b[34m<phylo>\u001b[34m\u001b[39m. A \u001b[34m\u001b[34m<tbl_df>\u001b[34m\u001b[39m is returned.\n",
      "\n",
      "\u001b[33m!\u001b[39m # Invaild edge matrix for \u001b[34m\u001b[34m<phylo>\u001b[34m\u001b[39m. A \u001b[34m\u001b[34m<tbl_df>\u001b[34m\u001b[39m is returned.\n",
      "\n",
      "\u001b[1m\u001b[22mScale for \u001b[32my\u001b[39m is already present.\n",
      "Adding another scale for \u001b[32my\u001b[39m, which will replace the existing scale.\n",
      "\u001b[1m\u001b[22mScale for \u001b[32mfill\u001b[39m is already present.\n",
      "Adding another scale for \u001b[32mfill\u001b[39m, which will replace the existing scale.\n",
      "Calculating 47_T4_filtered_re...\n",
      "\n"
     ]
    },
    {
     "name": "stdout",
     "output_type": "stream",
     "text": [
      "\n",
      "  N ref  T4 \n",
      "111   1 272 \n"
     ]
    },
    {
     "name": "stderr",
     "output_type": "stream",
     "text": [
      "\u001b[33m!\u001b[39m # Invaild edge matrix for \u001b[34m\u001b[34m<phylo>\u001b[34m\u001b[39m. A \u001b[34m\u001b[34m<tbl_df>\u001b[34m\u001b[39m is returned.\n",
      "\n",
      "\u001b[33m!\u001b[39m # Invaild edge matrix for \u001b[34m\u001b[34m<phylo>\u001b[34m\u001b[39m. A \u001b[34m\u001b[34m<tbl_df>\u001b[34m\u001b[39m is returned.\n",
      "\n",
      "\u001b[36mℹ\u001b[39m \u001b[90minvalid tbl_tree object. Missing column: label.\u001b[39m\n",
      "\n",
      "\u001b[36mℹ\u001b[39m \u001b[90minvalid tbl_tree object. Missing column: label.\u001b[39m\n",
      "\n",
      "\u001b[33m!\u001b[39m # Invaild edge matrix for \u001b[34m\u001b[34m<phylo>\u001b[34m\u001b[39m. A \u001b[34m\u001b[34m<tbl_df>\u001b[34m\u001b[39m is returned.\n",
      "\n",
      "\u001b[33m!\u001b[39m # Invaild edge matrix for \u001b[34m\u001b[34m<phylo>\u001b[34m\u001b[39m. A \u001b[34m\u001b[34m<tbl_df>\u001b[34m\u001b[39m is returned.\n",
      "\n",
      "\u001b[1m\u001b[22mScale for \u001b[32my\u001b[39m is already present.\n",
      "Adding another scale for \u001b[32my\u001b[39m, which will replace the existing scale.\n",
      "\u001b[1m\u001b[22mScale for \u001b[32mfill\u001b[39m is already present.\n",
      "Adding another scale for \u001b[32mfill\u001b[39m, which will replace the existing scale.\n",
      "Calculating 47_T5_filtered_re...\n",
      "\n"
     ]
    },
    {
     "name": "stdout",
     "output_type": "stream",
     "text": [
      "\n",
      "  N ref  T5 \n",
      "437   1 728 \n"
     ]
    },
    {
     "name": "stderr",
     "output_type": "stream",
     "text": [
      "\u001b[33m!\u001b[39m # Invaild edge matrix for \u001b[34m\u001b[34m<phylo>\u001b[34m\u001b[39m. A \u001b[34m\u001b[34m<tbl_df>\u001b[34m\u001b[39m is returned.\n",
      "\n",
      "\u001b[33m!\u001b[39m # Invaild edge matrix for \u001b[34m\u001b[34m<phylo>\u001b[34m\u001b[39m. A \u001b[34m\u001b[34m<tbl_df>\u001b[34m\u001b[39m is returned.\n",
      "\n",
      "\u001b[36mℹ\u001b[39m \u001b[90minvalid tbl_tree object. Missing column: label.\u001b[39m\n",
      "\n",
      "\u001b[36mℹ\u001b[39m \u001b[90minvalid tbl_tree object. Missing column: label.\u001b[39m\n",
      "\n",
      "\u001b[33m!\u001b[39m # Invaild edge matrix for \u001b[34m\u001b[34m<phylo>\u001b[34m\u001b[39m. A \u001b[34m\u001b[34m<tbl_df>\u001b[34m\u001b[39m is returned.\n",
      "\n",
      "\u001b[33m!\u001b[39m # Invaild edge matrix for \u001b[34m\u001b[34m<phylo>\u001b[34m\u001b[39m. A \u001b[34m\u001b[34m<tbl_df>\u001b[34m\u001b[39m is returned.\n",
      "\n",
      "\u001b[1m\u001b[22mScale for \u001b[32my\u001b[39m is already present.\n",
      "Adding another scale for \u001b[32my\u001b[39m, which will replace the existing scale.\n",
      "\u001b[1m\u001b[22mScale for \u001b[32mfill\u001b[39m is already present.\n",
      "Adding another scale for \u001b[32mfill\u001b[39m, which will replace the existing scale.\n",
      "Calculating 47_T6_filtered_re...\n",
      "\n"
     ]
    },
    {
     "name": "stdout",
     "output_type": "stream",
     "text": [
      "\n",
      "   N  ref   T6 \n",
      "1043    1  176 \n"
     ]
    },
    {
     "name": "stderr",
     "output_type": "stream",
     "text": [
      "\u001b[33m!\u001b[39m # Invaild edge matrix for \u001b[34m\u001b[34m<phylo>\u001b[34m\u001b[39m. A \u001b[34m\u001b[34m<tbl_df>\u001b[34m\u001b[39m is returned.\n",
      "\n",
      "\u001b[33m!\u001b[39m # Invaild edge matrix for \u001b[34m\u001b[34m<phylo>\u001b[34m\u001b[39m. A \u001b[34m\u001b[34m<tbl_df>\u001b[34m\u001b[39m is returned.\n",
      "\n",
      "\u001b[36mℹ\u001b[39m \u001b[90minvalid tbl_tree object. Missing column: label.\u001b[39m\n",
      "\n",
      "\u001b[36mℹ\u001b[39m \u001b[90minvalid tbl_tree object. Missing column: label.\u001b[39m\n",
      "\n",
      "\u001b[33m!\u001b[39m # Invaild edge matrix for \u001b[34m\u001b[34m<phylo>\u001b[34m\u001b[39m. A \u001b[34m\u001b[34m<tbl_df>\u001b[34m\u001b[39m is returned.\n",
      "\n",
      "\u001b[33m!\u001b[39m # Invaild edge matrix for \u001b[34m\u001b[34m<phylo>\u001b[34m\u001b[39m. A \u001b[34m\u001b[34m<tbl_df>\u001b[34m\u001b[39m is returned.\n",
      "\n",
      "\u001b[1m\u001b[22mScale for \u001b[32my\u001b[39m is already present.\n",
      "Adding another scale for \u001b[32my\u001b[39m, which will replace the existing scale.\n",
      "\u001b[1m\u001b[22mScale for \u001b[32mfill\u001b[39m is already present.\n",
      "Adding another scale for \u001b[32mfill\u001b[39m, which will replace the existing scale.\n",
      "Calculating 47_T8_filtered_re...\n",
      "\n"
     ]
    },
    {
     "name": "stdout",
     "output_type": "stream",
     "text": [
      "\n",
      "   N  ref   T8 \n",
      "3438    1  938 \n"
     ]
    },
    {
     "name": "stderr",
     "output_type": "stream",
     "text": [
      "\u001b[33m!\u001b[39m # Invaild edge matrix for \u001b[34m\u001b[34m<phylo>\u001b[34m\u001b[39m. A \u001b[34m\u001b[34m<tbl_df>\u001b[34m\u001b[39m is returned.\n",
      "\n",
      "\u001b[33m!\u001b[39m # Invaild edge matrix for \u001b[34m\u001b[34m<phylo>\u001b[34m\u001b[39m. A \u001b[34m\u001b[34m<tbl_df>\u001b[34m\u001b[39m is returned.\n",
      "\n",
      "\u001b[36mℹ\u001b[39m \u001b[90minvalid tbl_tree object. Missing column: label.\u001b[39m\n",
      "\n",
      "\u001b[36mℹ\u001b[39m \u001b[90minvalid tbl_tree object. Missing column: label.\u001b[39m\n",
      "\n",
      "\u001b[33m!\u001b[39m # Invaild edge matrix for \u001b[34m\u001b[34m<phylo>\u001b[34m\u001b[39m. A \u001b[34m\u001b[34m<tbl_df>\u001b[34m\u001b[39m is returned.\n",
      "\n",
      "\u001b[33m!\u001b[39m # Invaild edge matrix for \u001b[34m\u001b[34m<phylo>\u001b[34m\u001b[39m. A \u001b[34m\u001b[34m<tbl_df>\u001b[34m\u001b[39m is returned.\n",
      "\n",
      "\u001b[1m\u001b[22mScale for \u001b[32my\u001b[39m is already present.\n",
      "Adding another scale for \u001b[32my\u001b[39m, which will replace the existing scale.\n",
      "\u001b[1m\u001b[22mScale for \u001b[32mfill\u001b[39m is already present.\n",
      "Adding another scale for \u001b[32mfill\u001b[39m, which will replace the existing scale.\n",
      "Calculating 49_T1_filtered_re...\n",
      "\n"
     ]
    },
    {
     "name": "stdout",
     "output_type": "stream",
     "text": [
      "\n",
      "  N ref  T1 \n",
      "161   1 794 \n"
     ]
    },
    {
     "name": "stderr",
     "output_type": "stream",
     "text": [
      "\u001b[33m!\u001b[39m # Invaild edge matrix for \u001b[34m\u001b[34m<phylo>\u001b[34m\u001b[39m. A \u001b[34m\u001b[34m<tbl_df>\u001b[34m\u001b[39m is returned.\n",
      "\n",
      "\u001b[33m!\u001b[39m # Invaild edge matrix for \u001b[34m\u001b[34m<phylo>\u001b[34m\u001b[39m. A \u001b[34m\u001b[34m<tbl_df>\u001b[34m\u001b[39m is returned.\n",
      "\n",
      "\u001b[36mℹ\u001b[39m \u001b[90minvalid tbl_tree object. Missing column: label.\u001b[39m\n",
      "\n",
      "\u001b[36mℹ\u001b[39m \u001b[90minvalid tbl_tree object. Missing column: label.\u001b[39m\n",
      "\n",
      "\u001b[33m!\u001b[39m # Invaild edge matrix for \u001b[34m\u001b[34m<phylo>\u001b[34m\u001b[39m. A \u001b[34m\u001b[34m<tbl_df>\u001b[34m\u001b[39m is returned.\n",
      "\n",
      "\u001b[33m!\u001b[39m # Invaild edge matrix for \u001b[34m\u001b[34m<phylo>\u001b[34m\u001b[39m. A \u001b[34m\u001b[34m<tbl_df>\u001b[34m\u001b[39m is returned.\n",
      "\n",
      "\u001b[1m\u001b[22mScale for \u001b[32my\u001b[39m is already present.\n",
      "Adding another scale for \u001b[32my\u001b[39m, which will replace the existing scale.\n",
      "\u001b[1m\u001b[22mScale for \u001b[32mfill\u001b[39m is already present.\n",
      "Adding another scale for \u001b[32mfill\u001b[39m, which will replace the existing scale.\n",
      "Calculating 49_T3_filtered_re...\n",
      "\n"
     ]
    },
    {
     "name": "stdout",
     "output_type": "stream",
     "text": [
      "\n",
      "   N  ref   T3 \n",
      " 161    1 1569 \n"
     ]
    },
    {
     "name": "stderr",
     "output_type": "stream",
     "text": [
      "\u001b[33m!\u001b[39m # Invaild edge matrix for \u001b[34m\u001b[34m<phylo>\u001b[34m\u001b[39m. A \u001b[34m\u001b[34m<tbl_df>\u001b[34m\u001b[39m is returned.\n",
      "\n",
      "\u001b[33m!\u001b[39m # Invaild edge matrix for \u001b[34m\u001b[34m<phylo>\u001b[34m\u001b[39m. A \u001b[34m\u001b[34m<tbl_df>\u001b[34m\u001b[39m is returned.\n",
      "\n",
      "\u001b[36mℹ\u001b[39m \u001b[90minvalid tbl_tree object. Missing column: label.\u001b[39m\n",
      "\n",
      "\u001b[36mℹ\u001b[39m \u001b[90minvalid tbl_tree object. Missing column: label.\u001b[39m\n",
      "\n",
      "\u001b[33m!\u001b[39m # Invaild edge matrix for \u001b[34m\u001b[34m<phylo>\u001b[34m\u001b[39m. A \u001b[34m\u001b[34m<tbl_df>\u001b[34m\u001b[39m is returned.\n",
      "\n",
      "\u001b[33m!\u001b[39m # Invaild edge matrix for \u001b[34m\u001b[34m<phylo>\u001b[34m\u001b[39m. A \u001b[34m\u001b[34m<tbl_df>\u001b[34m\u001b[39m is returned.\n",
      "\n",
      "\u001b[1m\u001b[22mScale for \u001b[32my\u001b[39m is already present.\n",
      "Adding another scale for \u001b[32my\u001b[39m, which will replace the existing scale.\n",
      "\u001b[1m\u001b[22mScale for \u001b[32mfill\u001b[39m is already present.\n",
      "Adding another scale for \u001b[32mfill\u001b[39m, which will replace the existing scale.\n",
      "Calculating 4_T_filtered_re...\n",
      "\n"
     ]
    },
    {
     "name": "stdout",
     "output_type": "stream",
     "text": [
      "\n",
      "   N  ref    T \n",
      "1517    1 3513 \n"
     ]
    },
    {
     "name": "stderr",
     "output_type": "stream",
     "text": [
      "\u001b[33m!\u001b[39m # Invaild edge matrix for \u001b[34m\u001b[34m<phylo>\u001b[34m\u001b[39m. A \u001b[34m\u001b[34m<tbl_df>\u001b[34m\u001b[39m is returned.\n",
      "\n",
      "\u001b[33m!\u001b[39m # Invaild edge matrix for \u001b[34m\u001b[34m<phylo>\u001b[34m\u001b[39m. A \u001b[34m\u001b[34m<tbl_df>\u001b[34m\u001b[39m is returned.\n",
      "\n",
      "\u001b[36mℹ\u001b[39m \u001b[90minvalid tbl_tree object. Missing column: label.\u001b[39m\n",
      "\n",
      "\u001b[36mℹ\u001b[39m \u001b[90minvalid tbl_tree object. Missing column: label.\u001b[39m\n",
      "\n",
      "\u001b[33m!\u001b[39m # Invaild edge matrix for \u001b[34m\u001b[34m<phylo>\u001b[34m\u001b[39m. A \u001b[34m\u001b[34m<tbl_df>\u001b[34m\u001b[39m is returned.\n",
      "\n",
      "\u001b[33m!\u001b[39m # Invaild edge matrix for \u001b[34m\u001b[34m<phylo>\u001b[34m\u001b[39m. A \u001b[34m\u001b[34m<tbl_df>\u001b[34m\u001b[39m is returned.\n",
      "\n",
      "\u001b[1m\u001b[22mScale for \u001b[32my\u001b[39m is already present.\n",
      "Adding another scale for \u001b[32my\u001b[39m, which will replace the existing scale.\n",
      "\u001b[1m\u001b[22mScale for \u001b[32mfill\u001b[39m is already present.\n",
      "Adding another scale for \u001b[32mfill\u001b[39m, which will replace the existing scale.\n",
      "Calculating 50_T_filtered_re...\n",
      "\n"
     ]
    },
    {
     "name": "stdout",
     "output_type": "stream",
     "text": [
      "\n",
      "   N  ref    T \n",
      "2149    1 1075 \n"
     ]
    },
    {
     "name": "stderr",
     "output_type": "stream",
     "text": [
      "\u001b[33m!\u001b[39m # Invaild edge matrix for \u001b[34m\u001b[34m<phylo>\u001b[34m\u001b[39m. A \u001b[34m\u001b[34m<tbl_df>\u001b[34m\u001b[39m is returned.\n",
      "\n",
      "\u001b[33m!\u001b[39m # Invaild edge matrix for \u001b[34m\u001b[34m<phylo>\u001b[34m\u001b[39m. A \u001b[34m\u001b[34m<tbl_df>\u001b[34m\u001b[39m is returned.\n",
      "\n",
      "\u001b[36mℹ\u001b[39m \u001b[90minvalid tbl_tree object. Missing column: label.\u001b[39m\n",
      "\n",
      "\u001b[36mℹ\u001b[39m \u001b[90minvalid tbl_tree object. Missing column: label.\u001b[39m\n",
      "\n",
      "\u001b[33m!\u001b[39m # Invaild edge matrix for \u001b[34m\u001b[34m<phylo>\u001b[34m\u001b[39m. A \u001b[34m\u001b[34m<tbl_df>\u001b[34m\u001b[39m is returned.\n",
      "\n",
      "\u001b[33m!\u001b[39m # Invaild edge matrix for \u001b[34m\u001b[34m<phylo>\u001b[34m\u001b[39m. A \u001b[34m\u001b[34m<tbl_df>\u001b[34m\u001b[39m is returned.\n",
      "\n",
      "\u001b[1m\u001b[22mScale for \u001b[32my\u001b[39m is already present.\n",
      "Adding another scale for \u001b[32my\u001b[39m, which will replace the existing scale.\n",
      "\u001b[1m\u001b[22mScale for \u001b[32mfill\u001b[39m is already present.\n",
      "Adding another scale for \u001b[32mfill\u001b[39m, which will replace the existing scale.\n",
      "Calculating 5_T_filtered_re...\n",
      "\n"
     ]
    },
    {
     "name": "stdout",
     "output_type": "stream",
     "text": [
      "\n",
      "   N  ref    T \n",
      "3765    1 3803 \n"
     ]
    },
    {
     "name": "stderr",
     "output_type": "stream",
     "text": [
      "\u001b[33m!\u001b[39m # Invaild edge matrix for \u001b[34m\u001b[34m<phylo>\u001b[34m\u001b[39m. A \u001b[34m\u001b[34m<tbl_df>\u001b[34m\u001b[39m is returned.\n",
      "\n",
      "\u001b[33m!\u001b[39m # Invaild edge matrix for \u001b[34m\u001b[34m<phylo>\u001b[34m\u001b[39m. A \u001b[34m\u001b[34m<tbl_df>\u001b[34m\u001b[39m is returned.\n",
      "\n",
      "\u001b[36mℹ\u001b[39m \u001b[90minvalid tbl_tree object. Missing column: label.\u001b[39m\n",
      "\n",
      "\u001b[36mℹ\u001b[39m \u001b[90minvalid tbl_tree object. Missing column: label.\u001b[39m\n",
      "\n",
      "\u001b[33m!\u001b[39m # Invaild edge matrix for \u001b[34m\u001b[34m<phylo>\u001b[34m\u001b[39m. A \u001b[34m\u001b[34m<tbl_df>\u001b[34m\u001b[39m is returned.\n",
      "\n",
      "\u001b[33m!\u001b[39m # Invaild edge matrix for \u001b[34m\u001b[34m<phylo>\u001b[34m\u001b[39m. A \u001b[34m\u001b[34m<tbl_df>\u001b[34m\u001b[39m is returned.\n",
      "\n",
      "\u001b[1m\u001b[22mScale for \u001b[32my\u001b[39m is already present.\n",
      "Adding another scale for \u001b[32my\u001b[39m, which will replace the existing scale.\n",
      "\u001b[1m\u001b[22mScale for \u001b[32mfill\u001b[39m is already present.\n",
      "Adding another scale for \u001b[32mfill\u001b[39m, which will replace the existing scale.\n",
      "Calculating 65_T1_filtered_re...\n",
      "\n"
     ]
    },
    {
     "name": "stdout",
     "output_type": "stream",
     "text": [
      "\n",
      "  N ref  T1 \n",
      "253   1 122 \n"
     ]
    },
    {
     "name": "stderr",
     "output_type": "stream",
     "text": [
      "\u001b[33m!\u001b[39m # Invaild edge matrix for \u001b[34m\u001b[34m<phylo>\u001b[34m\u001b[39m. A \u001b[34m\u001b[34m<tbl_df>\u001b[34m\u001b[39m is returned.\n",
      "\n",
      "\u001b[33m!\u001b[39m # Invaild edge matrix for \u001b[34m\u001b[34m<phylo>\u001b[34m\u001b[39m. A \u001b[34m\u001b[34m<tbl_df>\u001b[34m\u001b[39m is returned.\n",
      "\n",
      "\u001b[36mℹ\u001b[39m \u001b[90minvalid tbl_tree object. Missing column: label.\u001b[39m\n",
      "\n",
      "\u001b[36mℹ\u001b[39m \u001b[90minvalid tbl_tree object. Missing column: label.\u001b[39m\n",
      "\n",
      "\u001b[33m!\u001b[39m # Invaild edge matrix for \u001b[34m\u001b[34m<phylo>\u001b[34m\u001b[39m. A \u001b[34m\u001b[34m<tbl_df>\u001b[34m\u001b[39m is returned.\n",
      "\n",
      "\u001b[33m!\u001b[39m # Invaild edge matrix for \u001b[34m\u001b[34m<phylo>\u001b[34m\u001b[39m. A \u001b[34m\u001b[34m<tbl_df>\u001b[34m\u001b[39m is returned.\n",
      "\n",
      "\u001b[1m\u001b[22mScale for \u001b[32my\u001b[39m is already present.\n",
      "Adding another scale for \u001b[32my\u001b[39m, which will replace the existing scale.\n",
      "\u001b[1m\u001b[22mScale for \u001b[32mfill\u001b[39m is already present.\n",
      "Adding another scale for \u001b[32mfill\u001b[39m, which will replace the existing scale.\n",
      "Calculating 65_T3_filtered_re...\n",
      "\n"
     ]
    },
    {
     "name": "stdout",
     "output_type": "stream",
     "text": [
      "\n",
      "  N ref  T3 \n",
      "253   1 343 \n"
     ]
    },
    {
     "name": "stderr",
     "output_type": "stream",
     "text": [
      "\u001b[33m!\u001b[39m # Invaild edge matrix for \u001b[34m\u001b[34m<phylo>\u001b[34m\u001b[39m. A \u001b[34m\u001b[34m<tbl_df>\u001b[34m\u001b[39m is returned.\n",
      "\n",
      "\u001b[33m!\u001b[39m # Invaild edge matrix for \u001b[34m\u001b[34m<phylo>\u001b[34m\u001b[39m. A \u001b[34m\u001b[34m<tbl_df>\u001b[34m\u001b[39m is returned.\n",
      "\n",
      "\u001b[36mℹ\u001b[39m \u001b[90minvalid tbl_tree object. Missing column: label.\u001b[39m\n",
      "\n",
      "\u001b[36mℹ\u001b[39m \u001b[90minvalid tbl_tree object. Missing column: label.\u001b[39m\n",
      "\n",
      "\u001b[33m!\u001b[39m # Invaild edge matrix for \u001b[34m\u001b[34m<phylo>\u001b[34m\u001b[39m. A \u001b[34m\u001b[34m<tbl_df>\u001b[34m\u001b[39m is returned.\n",
      "\n",
      "\u001b[33m!\u001b[39m # Invaild edge matrix for \u001b[34m\u001b[34m<phylo>\u001b[34m\u001b[39m. A \u001b[34m\u001b[34m<tbl_df>\u001b[34m\u001b[39m is returned.\n",
      "\n",
      "\u001b[1m\u001b[22mScale for \u001b[32my\u001b[39m is already present.\n",
      "Adding another scale for \u001b[32my\u001b[39m, which will replace the existing scale.\n",
      "\u001b[1m\u001b[22mScale for \u001b[32mfill\u001b[39m is already present.\n",
      "Adding another scale for \u001b[32mfill\u001b[39m, which will replace the existing scale.\n",
      "Calculating 66_T_filtered_re...\n",
      "\n"
     ]
    },
    {
     "name": "stdout",
     "output_type": "stream",
     "text": [
      "\n",
      "   N  ref    T \n",
      "2023    1  463 \n"
     ]
    },
    {
     "name": "stderr",
     "output_type": "stream",
     "text": [
      "\u001b[33m!\u001b[39m # Invaild edge matrix for \u001b[34m\u001b[34m<phylo>\u001b[34m\u001b[39m. A \u001b[34m\u001b[34m<tbl_df>\u001b[34m\u001b[39m is returned.\n",
      "\n",
      "\u001b[33m!\u001b[39m # Invaild edge matrix for \u001b[34m\u001b[34m<phylo>\u001b[34m\u001b[39m. A \u001b[34m\u001b[34m<tbl_df>\u001b[34m\u001b[39m is returned.\n",
      "\n",
      "\u001b[36mℹ\u001b[39m \u001b[90minvalid tbl_tree object. Missing column: label.\u001b[39m\n",
      "\n",
      "\u001b[36mℹ\u001b[39m \u001b[90minvalid tbl_tree object. Missing column: label.\u001b[39m\n",
      "\n",
      "\u001b[33m!\u001b[39m # Invaild edge matrix for \u001b[34m\u001b[34m<phylo>\u001b[34m\u001b[39m. A \u001b[34m\u001b[34m<tbl_df>\u001b[34m\u001b[39m is returned.\n",
      "\n",
      "\u001b[33m!\u001b[39m # Invaild edge matrix for \u001b[34m\u001b[34m<phylo>\u001b[34m\u001b[39m. A \u001b[34m\u001b[34m<tbl_df>\u001b[34m\u001b[39m is returned.\n",
      "\n",
      "\u001b[1m\u001b[22mScale for \u001b[32my\u001b[39m is already present.\n",
      "Adding another scale for \u001b[32my\u001b[39m, which will replace the existing scale.\n",
      "\u001b[1m\u001b[22mScale for \u001b[32mfill\u001b[39m is already present.\n",
      "Adding another scale for \u001b[32mfill\u001b[39m, which will replace the existing scale.\n",
      "Calculating 68_Ade1_filtered_re...\n",
      "\n"
     ]
    },
    {
     "name": "stdout",
     "output_type": "stream",
     "text": [
      "\n",
      "Ade1    N  ref \n",
      "1042  775    1 \n"
     ]
    },
    {
     "name": "stderr",
     "output_type": "stream",
     "text": [
      "\u001b[33m!\u001b[39m # Invaild edge matrix for \u001b[34m\u001b[34m<phylo>\u001b[34m\u001b[39m. A \u001b[34m\u001b[34m<tbl_df>\u001b[34m\u001b[39m is returned.\n",
      "\n",
      "\u001b[33m!\u001b[39m # Invaild edge matrix for \u001b[34m\u001b[34m<phylo>\u001b[34m\u001b[39m. A \u001b[34m\u001b[34m<tbl_df>\u001b[34m\u001b[39m is returned.\n",
      "\n",
      "\u001b[36mℹ\u001b[39m \u001b[90minvalid tbl_tree object. Missing column: label.\u001b[39m\n",
      "\n",
      "\u001b[36mℹ\u001b[39m \u001b[90minvalid tbl_tree object. Missing column: label.\u001b[39m\n",
      "\n",
      "\u001b[33m!\u001b[39m # Invaild edge matrix for \u001b[34m\u001b[34m<phylo>\u001b[34m\u001b[39m. A \u001b[34m\u001b[34m<tbl_df>\u001b[34m\u001b[39m is returned.\n",
      "\n",
      "\u001b[33m!\u001b[39m # Invaild edge matrix for \u001b[34m\u001b[34m<phylo>\u001b[34m\u001b[39m. A \u001b[34m\u001b[34m<tbl_df>\u001b[34m\u001b[39m is returned.\n",
      "\n",
      "\u001b[1m\u001b[22mScale for \u001b[32my\u001b[39m is already present.\n",
      "Adding another scale for \u001b[32my\u001b[39m, which will replace the existing scale.\n",
      "\u001b[1m\u001b[22mScale for \u001b[32mfill\u001b[39m is already present.\n",
      "Adding another scale for \u001b[32mfill\u001b[39m, which will replace the existing scale.\n",
      "Calculating 68_Ade2_filtered_re...\n",
      "\n"
     ]
    },
    {
     "name": "stdout",
     "output_type": "stream",
     "text": [
      "\n",
      "Ade2    N  ref \n",
      "1634  775    1 \n"
     ]
    },
    {
     "name": "stderr",
     "output_type": "stream",
     "text": [
      "\u001b[33m!\u001b[39m # Invaild edge matrix for \u001b[34m\u001b[34m<phylo>\u001b[34m\u001b[39m. A \u001b[34m\u001b[34m<tbl_df>\u001b[34m\u001b[39m is returned.\n",
      "\n",
      "\u001b[33m!\u001b[39m # Invaild edge matrix for \u001b[34m\u001b[34m<phylo>\u001b[34m\u001b[39m. A \u001b[34m\u001b[34m<tbl_df>\u001b[34m\u001b[39m is returned.\n",
      "\n",
      "\u001b[36mℹ\u001b[39m \u001b[90minvalid tbl_tree object. Missing column: label.\u001b[39m\n",
      "\n",
      "\u001b[36mℹ\u001b[39m \u001b[90minvalid tbl_tree object. Missing column: label.\u001b[39m\n",
      "\n",
      "\u001b[33m!\u001b[39m # Invaild edge matrix for \u001b[34m\u001b[34m<phylo>\u001b[34m\u001b[39m. A \u001b[34m\u001b[34m<tbl_df>\u001b[34m\u001b[39m is returned.\n",
      "\n",
      "\u001b[33m!\u001b[39m # Invaild edge matrix for \u001b[34m\u001b[34m<phylo>\u001b[34m\u001b[39m. A \u001b[34m\u001b[34m<tbl_df>\u001b[34m\u001b[39m is returned.\n",
      "\n",
      "\u001b[1m\u001b[22mScale for \u001b[32my\u001b[39m is already present.\n",
      "Adding another scale for \u001b[32my\u001b[39m, which will replace the existing scale.\n",
      "\u001b[1m\u001b[22mScale for \u001b[32mfill\u001b[39m is already present.\n",
      "Adding another scale for \u001b[32mfill\u001b[39m, which will replace the existing scale.\n",
      "Calculating 68_Ade3_filtered_re...\n",
      "\n"
     ]
    },
    {
     "name": "stdout",
     "output_type": "stream",
     "text": [
      "\n",
      "Ade3    N  ref \n",
      " 785  775    1 \n"
     ]
    },
    {
     "name": "stderr",
     "output_type": "stream",
     "text": [
      "\u001b[33m!\u001b[39m # Invaild edge matrix for \u001b[34m\u001b[34m<phylo>\u001b[34m\u001b[39m. A \u001b[34m\u001b[34m<tbl_df>\u001b[34m\u001b[39m is returned.\n",
      "\n",
      "\u001b[33m!\u001b[39m # Invaild edge matrix for \u001b[34m\u001b[34m<phylo>\u001b[34m\u001b[39m. A \u001b[34m\u001b[34m<tbl_df>\u001b[34m\u001b[39m is returned.\n",
      "\n",
      "\u001b[36mℹ\u001b[39m \u001b[90minvalid tbl_tree object. Missing column: label.\u001b[39m\n",
      "\n",
      "\u001b[36mℹ\u001b[39m \u001b[90minvalid tbl_tree object. Missing column: label.\u001b[39m\n",
      "\n",
      "\u001b[33m!\u001b[39m # Invaild edge matrix for \u001b[34m\u001b[34m<phylo>\u001b[34m\u001b[39m. A \u001b[34m\u001b[34m<tbl_df>\u001b[34m\u001b[39m is returned.\n",
      "\n",
      "\u001b[33m!\u001b[39m # Invaild edge matrix for \u001b[34m\u001b[34m<phylo>\u001b[34m\u001b[39m. A \u001b[34m\u001b[34m<tbl_df>\u001b[34m\u001b[39m is returned.\n",
      "\n",
      "\u001b[1m\u001b[22mScale for \u001b[32my\u001b[39m is already present.\n",
      "Adding another scale for \u001b[32my\u001b[39m, which will replace the existing scale.\n",
      "\u001b[1m\u001b[22mScale for \u001b[32mfill\u001b[39m is already present.\n",
      "Adding another scale for \u001b[32mfill\u001b[39m, which will replace the existing scale.\n",
      "Calculating 68_Ade4_filtered_re...\n",
      "\n"
     ]
    },
    {
     "name": "stdout",
     "output_type": "stream",
     "text": [
      "\n",
      "Ade4    N  ref \n",
      "2012  775    1 \n"
     ]
    },
    {
     "name": "stderr",
     "output_type": "stream",
     "text": [
      "\u001b[33m!\u001b[39m # Invaild edge matrix for \u001b[34m\u001b[34m<phylo>\u001b[34m\u001b[39m. A \u001b[34m\u001b[34m<tbl_df>\u001b[34m\u001b[39m is returned.\n",
      "\n",
      "\u001b[33m!\u001b[39m # Invaild edge matrix for \u001b[34m\u001b[34m<phylo>\u001b[34m\u001b[39m. A \u001b[34m\u001b[34m<tbl_df>\u001b[34m\u001b[39m is returned.\n",
      "\n",
      "\u001b[36mℹ\u001b[39m \u001b[90minvalid tbl_tree object. Missing column: label.\u001b[39m\n",
      "\n",
      "\u001b[36mℹ\u001b[39m \u001b[90minvalid tbl_tree object. Missing column: label.\u001b[39m\n",
      "\n",
      "\u001b[33m!\u001b[39m # Invaild edge matrix for \u001b[34m\u001b[34m<phylo>\u001b[34m\u001b[39m. A \u001b[34m\u001b[34m<tbl_df>\u001b[34m\u001b[39m is returned.\n",
      "\n",
      "\u001b[33m!\u001b[39m # Invaild edge matrix for \u001b[34m\u001b[34m<phylo>\u001b[34m\u001b[39m. A \u001b[34m\u001b[34m<tbl_df>\u001b[34m\u001b[39m is returned.\n",
      "\n",
      "\u001b[1m\u001b[22mScale for \u001b[32my\u001b[39m is already present.\n",
      "Adding another scale for \u001b[32my\u001b[39m, which will replace the existing scale.\n",
      "\u001b[1m\u001b[22mScale for \u001b[32mfill\u001b[39m is already present.\n",
      "Adding another scale for \u001b[32mfill\u001b[39m, which will replace the existing scale.\n",
      "Calculating 68_Ade5-1_filtered_re...\n",
      "\n"
     ]
    },
    {
     "name": "stdout",
     "output_type": "stream",
     "text": [
      "\n",
      "Ade5-1      N    ref \n",
      "   924    775      1 \n"
     ]
    },
    {
     "name": "stderr",
     "output_type": "stream",
     "text": [
      "\u001b[33m!\u001b[39m # Invaild edge matrix for \u001b[34m\u001b[34m<phylo>\u001b[34m\u001b[39m. A \u001b[34m\u001b[34m<tbl_df>\u001b[34m\u001b[39m is returned.\n",
      "\n",
      "\u001b[33m!\u001b[39m # Invaild edge matrix for \u001b[34m\u001b[34m<phylo>\u001b[34m\u001b[39m. A \u001b[34m\u001b[34m<tbl_df>\u001b[34m\u001b[39m is returned.\n",
      "\n",
      "\u001b[36mℹ\u001b[39m \u001b[90minvalid tbl_tree object. Missing column: label.\u001b[39m\n",
      "\n",
      "\u001b[36mℹ\u001b[39m \u001b[90minvalid tbl_tree object. Missing column: label.\u001b[39m\n",
      "\n",
      "\u001b[33m!\u001b[39m # Invaild edge matrix for \u001b[34m\u001b[34m<phylo>\u001b[34m\u001b[39m. A \u001b[34m\u001b[34m<tbl_df>\u001b[34m\u001b[39m is returned.\n",
      "\n",
      "\u001b[33m!\u001b[39m # Invaild edge matrix for \u001b[34m\u001b[34m<phylo>\u001b[34m\u001b[39m. A \u001b[34m\u001b[34m<tbl_df>\u001b[34m\u001b[39m is returned.\n",
      "\n",
      "\u001b[1m\u001b[22mScale for \u001b[32my\u001b[39m is already present.\n",
      "Adding another scale for \u001b[32my\u001b[39m, which will replace the existing scale.\n",
      "\u001b[1m\u001b[22mScale for \u001b[32mfill\u001b[39m is already present.\n",
      "Adding another scale for \u001b[32mfill\u001b[39m, which will replace the existing scale.\n",
      "Calculating 68_Ade5-2_filtered_re...\n",
      "\n"
     ]
    },
    {
     "name": "stdout",
     "output_type": "stream",
     "text": [
      "\n",
      "Ade5-2      N    ref \n",
      "   196    775      1 \n"
     ]
    },
    {
     "name": "stderr",
     "output_type": "stream",
     "text": [
      "\u001b[33m!\u001b[39m # Invaild edge matrix for \u001b[34m\u001b[34m<phylo>\u001b[34m\u001b[39m. A \u001b[34m\u001b[34m<tbl_df>\u001b[34m\u001b[39m is returned.\n",
      "\n",
      "\u001b[33m!\u001b[39m # Invaild edge matrix for \u001b[34m\u001b[34m<phylo>\u001b[34m\u001b[39m. A \u001b[34m\u001b[34m<tbl_df>\u001b[34m\u001b[39m is returned.\n",
      "\n",
      "\u001b[36mℹ\u001b[39m \u001b[90minvalid tbl_tree object. Missing column: label.\u001b[39m\n",
      "\n",
      "\u001b[36mℹ\u001b[39m \u001b[90minvalid tbl_tree object. Missing column: label.\u001b[39m\n",
      "\n",
      "\u001b[33m!\u001b[39m # Invaild edge matrix for \u001b[34m\u001b[34m<phylo>\u001b[34m\u001b[39m. A \u001b[34m\u001b[34m<tbl_df>\u001b[34m\u001b[39m is returned.\n",
      "\n",
      "\u001b[33m!\u001b[39m # Invaild edge matrix for \u001b[34m\u001b[34m<phylo>\u001b[34m\u001b[39m. A \u001b[34m\u001b[34m<tbl_df>\u001b[34m\u001b[39m is returned.\n",
      "\n",
      "\u001b[1m\u001b[22mScale for \u001b[32my\u001b[39m is already present.\n",
      "Adding another scale for \u001b[32my\u001b[39m, which will replace the existing scale.\n",
      "\u001b[1m\u001b[22mScale for \u001b[32mfill\u001b[39m is already present.\n",
      "Adding another scale for \u001b[32mfill\u001b[39m, which will replace the existing scale.\n",
      "Calculating 68_Ade5-3_filtered_re...\n",
      "\n"
     ]
    },
    {
     "name": "stdout",
     "output_type": "stream",
     "text": [
      "\n",
      "Ade5-3      N    ref \n",
      "   197    775      1 \n"
     ]
    },
    {
     "name": "stderr",
     "output_type": "stream",
     "text": [
      "\u001b[33m!\u001b[39m # Invaild edge matrix for \u001b[34m\u001b[34m<phylo>\u001b[34m\u001b[39m. A \u001b[34m\u001b[34m<tbl_df>\u001b[34m\u001b[39m is returned.\n",
      "\n",
      "\u001b[33m!\u001b[39m # Invaild edge matrix for \u001b[34m\u001b[34m<phylo>\u001b[34m\u001b[39m. A \u001b[34m\u001b[34m<tbl_df>\u001b[34m\u001b[39m is returned.\n",
      "\n",
      "\u001b[36mℹ\u001b[39m \u001b[90minvalid tbl_tree object. Missing column: label.\u001b[39m\n",
      "\n",
      "\u001b[36mℹ\u001b[39m \u001b[90minvalid tbl_tree object. Missing column: label.\u001b[39m\n",
      "\n",
      "\u001b[33m!\u001b[39m # Invaild edge matrix for \u001b[34m\u001b[34m<phylo>\u001b[34m\u001b[39m. A \u001b[34m\u001b[34m<tbl_df>\u001b[34m\u001b[39m is returned.\n",
      "\n",
      "\u001b[33m!\u001b[39m # Invaild edge matrix for \u001b[34m\u001b[34m<phylo>\u001b[34m\u001b[39m. A \u001b[34m\u001b[34m<tbl_df>\u001b[34m\u001b[39m is returned.\n",
      "\n",
      "\u001b[1m\u001b[22mScale for \u001b[32my\u001b[39m is already present.\n",
      "Adding another scale for \u001b[32my\u001b[39m, which will replace the existing scale.\n",
      "\u001b[1m\u001b[22mScale for \u001b[32mfill\u001b[39m is already present.\n",
      "Adding another scale for \u001b[32mfill\u001b[39m, which will replace the existing scale.\n",
      "Calculating 68_Ade5-4_filtered_re...\n",
      "\n"
     ]
    },
    {
     "name": "stdout",
     "output_type": "stream",
     "text": [
      "\n",
      "Ade5-4      N    ref \n",
      "   454    775      1 \n"
     ]
    },
    {
     "name": "stderr",
     "output_type": "stream",
     "text": [
      "\u001b[33m!\u001b[39m # Invaild edge matrix for \u001b[34m\u001b[34m<phylo>\u001b[34m\u001b[39m. A \u001b[34m\u001b[34m<tbl_df>\u001b[34m\u001b[39m is returned.\n",
      "\n",
      "\u001b[33m!\u001b[39m # Invaild edge matrix for \u001b[34m\u001b[34m<phylo>\u001b[34m\u001b[39m. A \u001b[34m\u001b[34m<tbl_df>\u001b[34m\u001b[39m is returned.\n",
      "\n",
      "\u001b[36mℹ\u001b[39m \u001b[90minvalid tbl_tree object. Missing column: label.\u001b[39m\n",
      "\n",
      "\u001b[36mℹ\u001b[39m \u001b[90minvalid tbl_tree object. Missing column: label.\u001b[39m\n",
      "\n",
      "\u001b[33m!\u001b[39m # Invaild edge matrix for \u001b[34m\u001b[34m<phylo>\u001b[34m\u001b[39m. A \u001b[34m\u001b[34m<tbl_df>\u001b[34m\u001b[39m is returned.\n",
      "\n",
      "\u001b[33m!\u001b[39m # Invaild edge matrix for \u001b[34m\u001b[34m<phylo>\u001b[34m\u001b[39m. A \u001b[34m\u001b[34m<tbl_df>\u001b[34m\u001b[39m is returned.\n",
      "\n",
      "\u001b[1m\u001b[22mScale for \u001b[32my\u001b[39m is already present.\n",
      "Adding another scale for \u001b[32my\u001b[39m, which will replace the existing scale.\n",
      "\u001b[1m\u001b[22mScale for \u001b[32mfill\u001b[39m is already present.\n",
      "Adding another scale for \u001b[32mfill\u001b[39m, which will replace the existing scale.\n",
      "Calculating 68_Ade5-5_filtered_re...\n",
      "\n"
     ]
    },
    {
     "name": "stdout",
     "output_type": "stream",
     "text": [
      "\n",
      "Ade5-5      N    ref \n",
      "  1139    775      1 \n"
     ]
    },
    {
     "name": "stderr",
     "output_type": "stream",
     "text": [
      "\u001b[33m!\u001b[39m # Invaild edge matrix for \u001b[34m\u001b[34m<phylo>\u001b[34m\u001b[39m. A \u001b[34m\u001b[34m<tbl_df>\u001b[34m\u001b[39m is returned.\n",
      "\n",
      "\u001b[33m!\u001b[39m # Invaild edge matrix for \u001b[34m\u001b[34m<phylo>\u001b[34m\u001b[39m. A \u001b[34m\u001b[34m<tbl_df>\u001b[34m\u001b[39m is returned.\n",
      "\n",
      "\u001b[36mℹ\u001b[39m \u001b[90minvalid tbl_tree object. Missing column: label.\u001b[39m\n",
      "\n",
      "\u001b[36mℹ\u001b[39m \u001b[90minvalid tbl_tree object. Missing column: label.\u001b[39m\n",
      "\n",
      "\u001b[33m!\u001b[39m # Invaild edge matrix for \u001b[34m\u001b[34m<phylo>\u001b[34m\u001b[39m. A \u001b[34m\u001b[34m<tbl_df>\u001b[34m\u001b[39m is returned.\n",
      "\n",
      "\u001b[33m!\u001b[39m # Invaild edge matrix for \u001b[34m\u001b[34m<phylo>\u001b[34m\u001b[39m. A \u001b[34m\u001b[34m<tbl_df>\u001b[34m\u001b[39m is returned.\n",
      "\n",
      "\u001b[1m\u001b[22mScale for \u001b[32my\u001b[39m is already present.\n",
      "Adding another scale for \u001b[32my\u001b[39m, which will replace the existing scale.\n",
      "\u001b[1m\u001b[22mScale for \u001b[32mfill\u001b[39m is already present.\n",
      "Adding another scale for \u001b[32mfill\u001b[39m, which will replace the existing scale.\n",
      "Calculating 68_Ade5_filtered_re...\n",
      "\n"
     ]
    },
    {
     "name": "stdout",
     "output_type": "stream",
     "text": [
      "\n",
      "Ade5-1 Ade5-2 Ade5-3 Ade5-4 Ade5-5      N    ref \n",
      "   924    196    197    454   1139    775      1 \n"
     ]
    },
    {
     "name": "stderr",
     "output_type": "stream",
     "text": [
      "\u001b[33m!\u001b[39m # Invaild edge matrix for \u001b[34m\u001b[34m<phylo>\u001b[34m\u001b[39m. A \u001b[34m\u001b[34m<tbl_df>\u001b[34m\u001b[39m is returned.\n",
      "\n",
      "\u001b[33m!\u001b[39m # Invaild edge matrix for \u001b[34m\u001b[34m<phylo>\u001b[34m\u001b[39m. A \u001b[34m\u001b[34m<tbl_df>\u001b[34m\u001b[39m is returned.\n",
      "\n",
      "\u001b[36mℹ\u001b[39m \u001b[90minvalid tbl_tree object. Missing column: label.\u001b[39m\n",
      "\n",
      "\u001b[36mℹ\u001b[39m \u001b[90minvalid tbl_tree object. Missing column: label.\u001b[39m\n",
      "\n",
      "\u001b[33m!\u001b[39m # Invaild edge matrix for \u001b[34m\u001b[34m<phylo>\u001b[34m\u001b[39m. A \u001b[34m\u001b[34m<tbl_df>\u001b[34m\u001b[39m is returned.\n",
      "\n",
      "\u001b[33m!\u001b[39m # Invaild edge matrix for \u001b[34m\u001b[34m<phylo>\u001b[34m\u001b[39m. A \u001b[34m\u001b[34m<tbl_df>\u001b[34m\u001b[39m is returned.\n",
      "\n",
      "\u001b[1m\u001b[22mScale for \u001b[32my\u001b[39m is already present.\n",
      "Adding another scale for \u001b[32my\u001b[39m, which will replace the existing scale.\n",
      "\u001b[1m\u001b[22mScale for \u001b[32mfill\u001b[39m is already present.\n",
      "Adding another scale for \u001b[32mfill\u001b[39m, which will replace the existing scale.\n",
      "Calculating 71_Ade3_filtered_re...\n",
      "\n"
     ]
    },
    {
     "name": "stdout",
     "output_type": "stream",
     "text": [
      "\n",
      "Ade3    N  ref \n",
      "3039  660    1 \n"
     ]
    },
    {
     "name": "stderr",
     "output_type": "stream",
     "text": [
      "\u001b[33m!\u001b[39m # Invaild edge matrix for \u001b[34m\u001b[34m<phylo>\u001b[34m\u001b[39m. A \u001b[34m\u001b[34m<tbl_df>\u001b[34m\u001b[39m is returned.\n",
      "\n",
      "\u001b[33m!\u001b[39m # Invaild edge matrix for \u001b[34m\u001b[34m<phylo>\u001b[34m\u001b[39m. A \u001b[34m\u001b[34m<tbl_df>\u001b[34m\u001b[39m is returned.\n",
      "\n",
      "\u001b[36mℹ\u001b[39m \u001b[90minvalid tbl_tree object. Missing column: label.\u001b[39m\n",
      "\n",
      "\u001b[36mℹ\u001b[39m \u001b[90minvalid tbl_tree object. Missing column: label.\u001b[39m\n",
      "\n",
      "\u001b[33m!\u001b[39m # Invaild edge matrix for \u001b[34m\u001b[34m<phylo>\u001b[34m\u001b[39m. A \u001b[34m\u001b[34m<tbl_df>\u001b[34m\u001b[39m is returned.\n",
      "\n",
      "\u001b[33m!\u001b[39m # Invaild edge matrix for \u001b[34m\u001b[34m<phylo>\u001b[34m\u001b[39m. A \u001b[34m\u001b[34m<tbl_df>\u001b[34m\u001b[39m is returned.\n",
      "\n",
      "\u001b[1m\u001b[22mScale for \u001b[32my\u001b[39m is already present.\n",
      "Adding another scale for \u001b[32my\u001b[39m, which will replace the existing scale.\n",
      "\u001b[1m\u001b[22mScale for \u001b[32mfill\u001b[39m is already present.\n",
      "Adding another scale for \u001b[32mfill\u001b[39m, which will replace the existing scale.\n",
      "Calculating 72_Ade1_filtered_re...\n",
      "\n"
     ]
    },
    {
     "name": "stdout",
     "output_type": "stream",
     "text": [
      "\n",
      "Ade1    N  ref \n",
      "3268 2284    1 \n"
     ]
    },
    {
     "name": "stderr",
     "output_type": "stream",
     "text": [
      "\u001b[33m!\u001b[39m # Invaild edge matrix for \u001b[34m\u001b[34m<phylo>\u001b[34m\u001b[39m. A \u001b[34m\u001b[34m<tbl_df>\u001b[34m\u001b[39m is returned.\n",
      "\n",
      "\u001b[33m!\u001b[39m # Invaild edge matrix for \u001b[34m\u001b[34m<phylo>\u001b[34m\u001b[39m. A \u001b[34m\u001b[34m<tbl_df>\u001b[34m\u001b[39m is returned.\n",
      "\n",
      "\u001b[36mℹ\u001b[39m \u001b[90minvalid tbl_tree object. Missing column: label.\u001b[39m\n",
      "\n",
      "\u001b[36mℹ\u001b[39m \u001b[90minvalid tbl_tree object. Missing column: label.\u001b[39m\n",
      "\n",
      "\u001b[33m!\u001b[39m # Invaild edge matrix for \u001b[34m\u001b[34m<phylo>\u001b[34m\u001b[39m. A \u001b[34m\u001b[34m<tbl_df>\u001b[34m\u001b[39m is returned.\n",
      "\n",
      "\u001b[33m!\u001b[39m # Invaild edge matrix for \u001b[34m\u001b[34m<phylo>\u001b[34m\u001b[39m. A \u001b[34m\u001b[34m<tbl_df>\u001b[34m\u001b[39m is returned.\n",
      "\n",
      "\u001b[1m\u001b[22mScale for \u001b[32my\u001b[39m is already present.\n",
      "Adding another scale for \u001b[32my\u001b[39m, which will replace the existing scale.\n",
      "\u001b[1m\u001b[22mScale for \u001b[32mfill\u001b[39m is already present.\n",
      "Adding another scale for \u001b[32mfill\u001b[39m, which will replace the existing scale.\n",
      "Calculating 72_Ade2_filtered_re...\n",
      "\n"
     ]
    },
    {
     "name": "stdout",
     "output_type": "stream",
     "text": [
      "\n",
      "Ade2    N  ref \n",
      "1244 2284    1 \n"
     ]
    },
    {
     "name": "stderr",
     "output_type": "stream",
     "text": [
      "\u001b[33m!\u001b[39m # Invaild edge matrix for \u001b[34m\u001b[34m<phylo>\u001b[34m\u001b[39m. A \u001b[34m\u001b[34m<tbl_df>\u001b[34m\u001b[39m is returned.\n",
      "\n",
      "\u001b[33m!\u001b[39m # Invaild edge matrix for \u001b[34m\u001b[34m<phylo>\u001b[34m\u001b[39m. A \u001b[34m\u001b[34m<tbl_df>\u001b[34m\u001b[39m is returned.\n",
      "\n",
      "\u001b[36mℹ\u001b[39m \u001b[90minvalid tbl_tree object. Missing column: label.\u001b[39m\n",
      "\n",
      "\u001b[36mℹ\u001b[39m \u001b[90minvalid tbl_tree object. Missing column: label.\u001b[39m\n",
      "\n",
      "\u001b[33m!\u001b[39m # Invaild edge matrix for \u001b[34m\u001b[34m<phylo>\u001b[34m\u001b[39m. A \u001b[34m\u001b[34m<tbl_df>\u001b[34m\u001b[39m is returned.\n",
      "\n",
      "\u001b[33m!\u001b[39m # Invaild edge matrix for \u001b[34m\u001b[34m<phylo>\u001b[34m\u001b[39m. A \u001b[34m\u001b[34m<tbl_df>\u001b[34m\u001b[39m is returned.\n",
      "\n",
      "\u001b[1m\u001b[22mScale for \u001b[32my\u001b[39m is already present.\n",
      "Adding another scale for \u001b[32my\u001b[39m, which will replace the existing scale.\n",
      "\u001b[1m\u001b[22mScale for \u001b[32mfill\u001b[39m is already present.\n",
      "Adding another scale for \u001b[32mfill\u001b[39m, which will replace the existing scale.\n",
      "Calculating 72_Ade4_filtered_re...\n",
      "\n"
     ]
    },
    {
     "name": "stdout",
     "output_type": "stream",
     "text": [
      "\n",
      "Ade4    N  ref \n",
      "3753 2284    1 \n"
     ]
    },
    {
     "name": "stderr",
     "output_type": "stream",
     "text": [
      "\u001b[33m!\u001b[39m # Invaild edge matrix for \u001b[34m\u001b[34m<phylo>\u001b[34m\u001b[39m. A \u001b[34m\u001b[34m<tbl_df>\u001b[34m\u001b[39m is returned.\n",
      "\n",
      "\u001b[33m!\u001b[39m # Invaild edge matrix for \u001b[34m\u001b[34m<phylo>\u001b[34m\u001b[39m. A \u001b[34m\u001b[34m<tbl_df>\u001b[34m\u001b[39m is returned.\n",
      "\n",
      "\u001b[36mℹ\u001b[39m \u001b[90minvalid tbl_tree object. Missing column: label.\u001b[39m\n",
      "\n",
      "\u001b[36mℹ\u001b[39m \u001b[90minvalid tbl_tree object. Missing column: label.\u001b[39m\n",
      "\n",
      "\u001b[33m!\u001b[39m # Invaild edge matrix for \u001b[34m\u001b[34m<phylo>\u001b[34m\u001b[39m. A \u001b[34m\u001b[34m<tbl_df>\u001b[34m\u001b[39m is returned.\n",
      "\n",
      "\u001b[33m!\u001b[39m # Invaild edge matrix for \u001b[34m\u001b[34m<phylo>\u001b[34m\u001b[39m. A \u001b[34m\u001b[34m<tbl_df>\u001b[34m\u001b[39m is returned.\n",
      "\n",
      "\u001b[1m\u001b[22mScale for \u001b[32my\u001b[39m is already present.\n",
      "Adding another scale for \u001b[32my\u001b[39m, which will replace the existing scale.\n",
      "\u001b[1m\u001b[22mScale for \u001b[32mfill\u001b[39m is already present.\n",
      "Adding another scale for \u001b[32mfill\u001b[39m, which will replace the existing scale.\n",
      "Calculating 72_Ade5_filtered_re...\n",
      "\n"
     ]
    },
    {
     "name": "stdout",
     "output_type": "stream",
     "text": [
      "\n",
      "Ade5    N  ref \n",
      "2896 2284    1 \n"
     ]
    },
    {
     "name": "stderr",
     "output_type": "stream",
     "text": [
      "\u001b[33m!\u001b[39m # Invaild edge matrix for \u001b[34m\u001b[34m<phylo>\u001b[34m\u001b[39m. A \u001b[34m\u001b[34m<tbl_df>\u001b[34m\u001b[39m is returned.\n",
      "\n",
      "\u001b[33m!\u001b[39m # Invaild edge matrix for \u001b[34m\u001b[34m<phylo>\u001b[34m\u001b[39m. A \u001b[34m\u001b[34m<tbl_df>\u001b[34m\u001b[39m is returned.\n",
      "\n",
      "\u001b[36mℹ\u001b[39m \u001b[90minvalid tbl_tree object. Missing column: label.\u001b[39m\n",
      "\n",
      "\u001b[36mℹ\u001b[39m \u001b[90minvalid tbl_tree object. Missing column: label.\u001b[39m\n",
      "\n",
      "\u001b[33m!\u001b[39m # Invaild edge matrix for \u001b[34m\u001b[34m<phylo>\u001b[34m\u001b[39m. A \u001b[34m\u001b[34m<tbl_df>\u001b[34m\u001b[39m is returned.\n",
      "\n",
      "\u001b[33m!\u001b[39m # Invaild edge matrix for \u001b[34m\u001b[34m<phylo>\u001b[34m\u001b[39m. A \u001b[34m\u001b[34m<tbl_df>\u001b[34m\u001b[39m is returned.\n",
      "\n",
      "\u001b[1m\u001b[22mScale for \u001b[32my\u001b[39m is already present.\n",
      "Adding another scale for \u001b[32my\u001b[39m, which will replace the existing scale.\n",
      "\u001b[1m\u001b[22mScale for \u001b[32mfill\u001b[39m is already present.\n",
      "Adding another scale for \u001b[32mfill\u001b[39m, which will replace the existing scale.\n",
      "Calculating 72_Ade6_filtered_re...\n",
      "\n"
     ]
    },
    {
     "name": "stdout",
     "output_type": "stream",
     "text": [
      "\n",
      "Ade6    N  ref \n",
      "2987 2284    1 \n"
     ]
    },
    {
     "name": "stderr",
     "output_type": "stream",
     "text": [
      "\u001b[33m!\u001b[39m # Invaild edge matrix for \u001b[34m\u001b[34m<phylo>\u001b[34m\u001b[39m. A \u001b[34m\u001b[34m<tbl_df>\u001b[34m\u001b[39m is returned.\n",
      "\n",
      "\u001b[33m!\u001b[39m # Invaild edge matrix for \u001b[34m\u001b[34m<phylo>\u001b[34m\u001b[39m. A \u001b[34m\u001b[34m<tbl_df>\u001b[34m\u001b[39m is returned.\n",
      "\n",
      "\u001b[36mℹ\u001b[39m \u001b[90minvalid tbl_tree object. Missing column: label.\u001b[39m\n",
      "\n",
      "\u001b[36mℹ\u001b[39m \u001b[90minvalid tbl_tree object. Missing column: label.\u001b[39m\n",
      "\n",
      "\u001b[33m!\u001b[39m # Invaild edge matrix for \u001b[34m\u001b[34m<phylo>\u001b[34m\u001b[39m. A \u001b[34m\u001b[34m<tbl_df>\u001b[34m\u001b[39m is returned.\n",
      "\n",
      "\u001b[33m!\u001b[39m # Invaild edge matrix for \u001b[34m\u001b[34m<phylo>\u001b[34m\u001b[39m. A \u001b[34m\u001b[34m<tbl_df>\u001b[34m\u001b[39m is returned.\n",
      "\n",
      "\u001b[1m\u001b[22mScale for \u001b[32my\u001b[39m is already present.\n",
      "Adding another scale for \u001b[32my\u001b[39m, which will replace the existing scale.\n",
      "\u001b[1m\u001b[22mScale for \u001b[32mfill\u001b[39m is already present.\n",
      "Adding another scale for \u001b[32mfill\u001b[39m, which will replace the existing scale.\n",
      "Calculating 72_Ade8_filtered_re...\n",
      "\n"
     ]
    },
    {
     "name": "stdout",
     "output_type": "stream",
     "text": [
      "\n",
      "Ade8    N  ref \n",
      "2015 2284    1 \n"
     ]
    },
    {
     "name": "stderr",
     "output_type": "stream",
     "text": [
      "\u001b[33m!\u001b[39m # Invaild edge matrix for \u001b[34m\u001b[34m<phylo>\u001b[34m\u001b[39m. A \u001b[34m\u001b[34m<tbl_df>\u001b[34m\u001b[39m is returned.\n",
      "\n",
      "\u001b[33m!\u001b[39m # Invaild edge matrix for \u001b[34m\u001b[34m<phylo>\u001b[34m\u001b[39m. A \u001b[34m\u001b[34m<tbl_df>\u001b[34m\u001b[39m is returned.\n",
      "\n",
      "\u001b[36mℹ\u001b[39m \u001b[90minvalid tbl_tree object. Missing column: label.\u001b[39m\n",
      "\n",
      "\u001b[36mℹ\u001b[39m \u001b[90minvalid tbl_tree object. Missing column: label.\u001b[39m\n",
      "\n",
      "\u001b[33m!\u001b[39m # Invaild edge matrix for \u001b[34m\u001b[34m<phylo>\u001b[34m\u001b[39m. A \u001b[34m\u001b[34m<tbl_df>\u001b[34m\u001b[39m is returned.\n",
      "\n",
      "\u001b[33m!\u001b[39m # Invaild edge matrix for \u001b[34m\u001b[34m<phylo>\u001b[34m\u001b[39m. A \u001b[34m\u001b[34m<tbl_df>\u001b[34m\u001b[39m is returned.\n",
      "\n",
      "\u001b[1m\u001b[22mScale for \u001b[32my\u001b[39m is already present.\n",
      "Adding another scale for \u001b[32my\u001b[39m, which will replace the existing scale.\n",
      "\u001b[1m\u001b[22mScale for \u001b[32mfill\u001b[39m is already present.\n",
      "Adding another scale for \u001b[32mfill\u001b[39m, which will replace the existing scale.\n",
      "Calculating 72_Ade9_filtered_re...\n",
      "\n"
     ]
    },
    {
     "name": "stdout",
     "output_type": "stream",
     "text": [
      "\n",
      "Ade9    N  ref \n",
      "2919 2284    1 \n"
     ]
    },
    {
     "name": "stderr",
     "output_type": "stream",
     "text": [
      "\u001b[33m!\u001b[39m # Invaild edge matrix for \u001b[34m\u001b[34m<phylo>\u001b[34m\u001b[39m. A \u001b[34m\u001b[34m<tbl_df>\u001b[34m\u001b[39m is returned.\n",
      "\n",
      "\u001b[33m!\u001b[39m # Invaild edge matrix for \u001b[34m\u001b[34m<phylo>\u001b[34m\u001b[39m. A \u001b[34m\u001b[34m<tbl_df>\u001b[34m\u001b[39m is returned.\n",
      "\n",
      "\u001b[36mℹ\u001b[39m \u001b[90minvalid tbl_tree object. Missing column: label.\u001b[39m\n",
      "\n",
      "\u001b[36mℹ\u001b[39m \u001b[90minvalid tbl_tree object. Missing column: label.\u001b[39m\n",
      "\n",
      "\u001b[33m!\u001b[39m # Invaild edge matrix for \u001b[34m\u001b[34m<phylo>\u001b[34m\u001b[39m. A \u001b[34m\u001b[34m<tbl_df>\u001b[34m\u001b[39m is returned.\n",
      "\n",
      "\u001b[33m!\u001b[39m # Invaild edge matrix for \u001b[34m\u001b[34m<phylo>\u001b[34m\u001b[39m. A \u001b[34m\u001b[34m<tbl_df>\u001b[34m\u001b[39m is returned.\n",
      "\n",
      "\u001b[1m\u001b[22mScale for \u001b[32my\u001b[39m is already present.\n",
      "Adding another scale for \u001b[32my\u001b[39m, which will replace the existing scale.\n",
      "\u001b[1m\u001b[22mScale for \u001b[32mfill\u001b[39m is already present.\n",
      "Adding another scale for \u001b[32mfill\u001b[39m, which will replace the existing scale.\n",
      "Calculating 75_Ade11_filtered_re...\n",
      "\n"
     ]
    },
    {
     "name": "stdout",
     "output_type": "stream",
     "text": [
      "\n",
      "Ade11     N   ref \n",
      "  506  1227     1 \n"
     ]
    },
    {
     "name": "stderr",
     "output_type": "stream",
     "text": [
      "\u001b[33m!\u001b[39m # Invaild edge matrix for \u001b[34m\u001b[34m<phylo>\u001b[34m\u001b[39m. A \u001b[34m\u001b[34m<tbl_df>\u001b[34m\u001b[39m is returned.\n",
      "\n",
      "\u001b[33m!\u001b[39m # Invaild edge matrix for \u001b[34m\u001b[34m<phylo>\u001b[34m\u001b[39m. A \u001b[34m\u001b[34m<tbl_df>\u001b[34m\u001b[39m is returned.\n",
      "\n",
      "\u001b[36mℹ\u001b[39m \u001b[90minvalid tbl_tree object. Missing column: label.\u001b[39m\n",
      "\n",
      "\u001b[36mℹ\u001b[39m \u001b[90minvalid tbl_tree object. Missing column: label.\u001b[39m\n",
      "\n",
      "\u001b[33m!\u001b[39m # Invaild edge matrix for \u001b[34m\u001b[34m<phylo>\u001b[34m\u001b[39m. A \u001b[34m\u001b[34m<tbl_df>\u001b[34m\u001b[39m is returned.\n",
      "\n",
      "\u001b[33m!\u001b[39m # Invaild edge matrix for \u001b[34m\u001b[34m<phylo>\u001b[34m\u001b[39m. A \u001b[34m\u001b[34m<tbl_df>\u001b[34m\u001b[39m is returned.\n",
      "\n",
      "\u001b[1m\u001b[22mScale for \u001b[32my\u001b[39m is already present.\n",
      "Adding another scale for \u001b[32my\u001b[39m, which will replace the existing scale.\n",
      "\u001b[1m\u001b[22mScale for \u001b[32mfill\u001b[39m is already present.\n",
      "Adding another scale for \u001b[32mfill\u001b[39m, which will replace the existing scale.\n",
      "Calculating 75_Ade3_filtered_re...\n",
      "\n"
     ]
    },
    {
     "name": "stdout",
     "output_type": "stream",
     "text": [
      "\n",
      "Ade3    N  ref \n",
      " 122 1227    1 \n"
     ]
    },
    {
     "name": "stderr",
     "output_type": "stream",
     "text": [
      "\u001b[33m!\u001b[39m # Invaild edge matrix for \u001b[34m\u001b[34m<phylo>\u001b[34m\u001b[39m. A \u001b[34m\u001b[34m<tbl_df>\u001b[34m\u001b[39m is returned.\n",
      "\n",
      "\u001b[33m!\u001b[39m # Invaild edge matrix for \u001b[34m\u001b[34m<phylo>\u001b[34m\u001b[39m. A \u001b[34m\u001b[34m<tbl_df>\u001b[34m\u001b[39m is returned.\n",
      "\n",
      "\u001b[36mℹ\u001b[39m \u001b[90minvalid tbl_tree object. Missing column: label.\u001b[39m\n",
      "\n",
      "\u001b[36mℹ\u001b[39m \u001b[90minvalid tbl_tree object. Missing column: label.\u001b[39m\n",
      "\n",
      "\u001b[33m!\u001b[39m # Invaild edge matrix for \u001b[34m\u001b[34m<phylo>\u001b[34m\u001b[39m. A \u001b[34m\u001b[34m<tbl_df>\u001b[34m\u001b[39m is returned.\n",
      "\n",
      "\u001b[33m!\u001b[39m # Invaild edge matrix for \u001b[34m\u001b[34m<phylo>\u001b[34m\u001b[39m. A \u001b[34m\u001b[34m<tbl_df>\u001b[34m\u001b[39m is returned.\n",
      "\n",
      "\u001b[1m\u001b[22mScale for \u001b[32my\u001b[39m is already present.\n",
      "Adding another scale for \u001b[32my\u001b[39m, which will replace the existing scale.\n",
      "\u001b[1m\u001b[22mScale for \u001b[32mfill\u001b[39m is already present.\n",
      "Adding another scale for \u001b[32mfill\u001b[39m, which will replace the existing scale.\n",
      "Calculating 75_Ade5_filtered_re...\n",
      "\n"
     ]
    },
    {
     "name": "stdout",
     "output_type": "stream",
     "text": [
      "\n",
      "Ade5    N  ref \n",
      " 633 1227    1 \n"
     ]
    },
    {
     "name": "stderr",
     "output_type": "stream",
     "text": [
      "\u001b[33m!\u001b[39m # Invaild edge matrix for \u001b[34m\u001b[34m<phylo>\u001b[34m\u001b[39m. A \u001b[34m\u001b[34m<tbl_df>\u001b[34m\u001b[39m is returned.\n",
      "\n",
      "\u001b[33m!\u001b[39m # Invaild edge matrix for \u001b[34m\u001b[34m<phylo>\u001b[34m\u001b[39m. A \u001b[34m\u001b[34m<tbl_df>\u001b[34m\u001b[39m is returned.\n",
      "\n",
      "\u001b[36mℹ\u001b[39m \u001b[90minvalid tbl_tree object. Missing column: label.\u001b[39m\n",
      "\n",
      "\u001b[36mℹ\u001b[39m \u001b[90minvalid tbl_tree object. Missing column: label.\u001b[39m\n",
      "\n",
      "\u001b[33m!\u001b[39m # Invaild edge matrix for \u001b[34m\u001b[34m<phylo>\u001b[34m\u001b[39m. A \u001b[34m\u001b[34m<tbl_df>\u001b[34m\u001b[39m is returned.\n",
      "\n",
      "\u001b[33m!\u001b[39m # Invaild edge matrix for \u001b[34m\u001b[34m<phylo>\u001b[34m\u001b[39m. A \u001b[34m\u001b[34m<tbl_df>\u001b[34m\u001b[39m is returned.\n",
      "\n",
      "\u001b[1m\u001b[22mScale for \u001b[32my\u001b[39m is already present.\n",
      "Adding another scale for \u001b[32my\u001b[39m, which will replace the existing scale.\n",
      "\u001b[1m\u001b[22mScale for \u001b[32mfill\u001b[39m is already present.\n",
      "Adding another scale for \u001b[32mfill\u001b[39m, which will replace the existing scale.\n",
      "Calculating 75_Ade8_filtered_re...\n",
      "\n"
     ]
    },
    {
     "name": "stdout",
     "output_type": "stream",
     "text": [
      "\n",
      "Ade8    N  ref \n",
      "1316 1227    1 \n"
     ]
    },
    {
     "name": "stderr",
     "output_type": "stream",
     "text": [
      "\u001b[33m!\u001b[39m # Invaild edge matrix for \u001b[34m\u001b[34m<phylo>\u001b[34m\u001b[39m. A \u001b[34m\u001b[34m<tbl_df>\u001b[34m\u001b[39m is returned.\n",
      "\n",
      "\u001b[33m!\u001b[39m # Invaild edge matrix for \u001b[34m\u001b[34m<phylo>\u001b[34m\u001b[39m. A \u001b[34m\u001b[34m<tbl_df>\u001b[34m\u001b[39m is returned.\n",
      "\n",
      "\u001b[36mℹ\u001b[39m \u001b[90minvalid tbl_tree object. Missing column: label.\u001b[39m\n",
      "\n",
      "\u001b[36mℹ\u001b[39m \u001b[90minvalid tbl_tree object. Missing column: label.\u001b[39m\n",
      "\n",
      "\u001b[33m!\u001b[39m # Invaild edge matrix for \u001b[34m\u001b[34m<phylo>\u001b[34m\u001b[39m. A \u001b[34m\u001b[34m<tbl_df>\u001b[34m\u001b[39m is returned.\n",
      "\n",
      "\u001b[33m!\u001b[39m # Invaild edge matrix for \u001b[34m\u001b[34m<phylo>\u001b[34m\u001b[39m. A \u001b[34m\u001b[34m<tbl_df>\u001b[34m\u001b[39m is returned.\n",
      "\n",
      "\u001b[1m\u001b[22mScale for \u001b[32my\u001b[39m is already present.\n",
      "Adding another scale for \u001b[32my\u001b[39m, which will replace the existing scale.\n",
      "\u001b[1m\u001b[22mScale for \u001b[32mfill\u001b[39m is already present.\n",
      "Adding another scale for \u001b[32mfill\u001b[39m, which will replace the existing scale.\n",
      "Calculating WT1_N7_filtered_re...\n",
      "\n"
     ]
    },
    {
     "name": "stdout",
     "output_type": "stream",
     "text": [
      "\n",
      "  N5   N7  ref \n",
      "1266 1313    1 \n"
     ]
    },
    {
     "name": "stderr",
     "output_type": "stream",
     "text": [
      "\u001b[33m!\u001b[39m # Invaild edge matrix for \u001b[34m\u001b[34m<phylo>\u001b[34m\u001b[39m. A \u001b[34m\u001b[34m<tbl_df>\u001b[34m\u001b[39m is returned.\n",
      "\n",
      "\u001b[33m!\u001b[39m # Invaild edge matrix for \u001b[34m\u001b[34m<phylo>\u001b[34m\u001b[39m. A \u001b[34m\u001b[34m<tbl_df>\u001b[34m\u001b[39m is returned.\n",
      "\n",
      "\u001b[36mℹ\u001b[39m \u001b[90minvalid tbl_tree object. Missing column: label.\u001b[39m\n",
      "\n",
      "\u001b[36mℹ\u001b[39m \u001b[90minvalid tbl_tree object. Missing column: label.\u001b[39m\n",
      "\n",
      "\u001b[33m!\u001b[39m # Invaild edge matrix for \u001b[34m\u001b[34m<phylo>\u001b[34m\u001b[39m. A \u001b[34m\u001b[34m<tbl_df>\u001b[34m\u001b[39m is returned.\n",
      "\n",
      "\u001b[33m!\u001b[39m # Invaild edge matrix for \u001b[34m\u001b[34m<phylo>\u001b[34m\u001b[39m. A \u001b[34m\u001b[34m<tbl_df>\u001b[34m\u001b[39m is returned.\n",
      "\n",
      "\u001b[1m\u001b[22mScale for \u001b[32my\u001b[39m is already present.\n",
      "Adding another scale for \u001b[32my\u001b[39m, which will replace the existing scale.\n",
      "\u001b[1m\u001b[22mScale for \u001b[32mfill\u001b[39m is already present.\n",
      "Adding another scale for \u001b[32mfill\u001b[39m, which will replace the existing scale.\n",
      "Calculating WT2_N5_filtered_re...\n",
      "\n"
     ]
    },
    {
     "name": "stdout",
     "output_type": "stream",
     "text": [
      "\n",
      "  N3   N5  ref \n",
      "3649 2780    1 \n"
     ]
    },
    {
     "name": "stderr",
     "output_type": "stream",
     "text": [
      "\u001b[33m!\u001b[39m # Invaild edge matrix for \u001b[34m\u001b[34m<phylo>\u001b[34m\u001b[39m. A \u001b[34m\u001b[34m<tbl_df>\u001b[34m\u001b[39m is returned.\n",
      "\n",
      "\u001b[33m!\u001b[39m # Invaild edge matrix for \u001b[34m\u001b[34m<phylo>\u001b[34m\u001b[39m. A \u001b[34m\u001b[34m<tbl_df>\u001b[34m\u001b[39m is returned.\n",
      "\n",
      "\u001b[36mℹ\u001b[39m \u001b[90minvalid tbl_tree object. Missing column: label.\u001b[39m\n",
      "\n",
      "\u001b[36mℹ\u001b[39m \u001b[90minvalid tbl_tree object. Missing column: label.\u001b[39m\n",
      "\n",
      "\u001b[33m!\u001b[39m # Invaild edge matrix for \u001b[34m\u001b[34m<phylo>\u001b[34m\u001b[39m. A \u001b[34m\u001b[34m<tbl_df>\u001b[34m\u001b[39m is returned.\n",
      "\n",
      "\u001b[33m!\u001b[39m # Invaild edge matrix for \u001b[34m\u001b[34m<phylo>\u001b[34m\u001b[39m. A \u001b[34m\u001b[34m<tbl_df>\u001b[34m\u001b[39m is returned.\n",
      "\n",
      "\u001b[1m\u001b[22mScale for \u001b[32my\u001b[39m is already present.\n",
      "Adding another scale for \u001b[32my\u001b[39m, which will replace the existing scale.\n",
      "\u001b[1m\u001b[22mScale for \u001b[32mfill\u001b[39m is already present.\n",
      "Adding another scale for \u001b[32mfill\u001b[39m, which will replace the existing scale.\n"
     ]
    },
    {
     "data": {
      "text/plain": [
       "$`1`\n",
       "\n",
       "$`2`\n",
       "\n",
       "$`3`\n",
       "\n",
       "$`4`\n",
       "\n",
       "$`5`\n",
       "\n",
       "attr(,\"class\")\n",
       "[1] \"list\"      \"ggarrange\""
      ]
     },
     "metadata": {},
     "output_type": "display_data"
    },
    {
     "data": {
      "text/html": [
       "<strong>png:</strong> 2"
      ],
      "text/latex": [
       "\\textbf{png:} 2"
      ],
      "text/markdown": [
       "**png:** 2"
      ],
      "text/plain": [
       "png \n",
       "  2 "
      ]
     },
     "metadata": {},
     "output_type": "display_data"
    }
   ],
   "source": [
    "##--------------------------------------------------------------------------------------------------\n",
    "samples=c('132_T1_filtered_re','142_T1_filtered_re','142_T2_filtered_re','142_T5-4_filtered_re','148_T1_filtered_re','148_T3_filtered_re','151_T4_filtered_re',\n",
    "         '16_T_filtered_re','17_T4_filtered_re','18_T3_filtered_re','18_T4_filtered_re','19_T1_filtered_re','19_T3_filtered_re','19_T4_filtered_re',\n",
    "         '19_T5_filtered_re','2_T2_filtered_re','2_T3_filtered_re','47_T1_filtered_re','47_T4_filtered_re','47_T5_filtered_re','47_T6_filtered_re','47_T8_filtered_re',\n",
    "         '49_T1_filtered_re','49_T3_filtered_re','4_T_filtered_re','50_T_filtered_re','5_T_filtered_re','65_T1_filtered_re','65_T3_filtered_re','66_T_filtered_re',\n",
    "         '68_P1_filtered_re','68_P2_filtered_re','68_P3_filtered_re','68_P4_filtered_re','68_P5-1_filtered_re','68_P5-2_filtered_re','68_P5-3_filtered_re',\n",
    "         '68_P5-4_filtered_re','68_P5-5_filtered_re','68_P5_filtered_re','71_P3_filtered_re','72_P1_filtered_re','72_P2_filtered_re','72_P4_filtered_re',\n",
    "         '72_P5_filtered_re','72_P6_filtered_re','72_P8_filtered_re','72_P9_filtered_re','75_P11_filtered_re','75_P3_filtered_re','75_P5_filtered_re',\n",
    "         '75_P8_filtered_re','WT1_N7_filtered_re','WT2_N5_filtered_re')\n",
    "labNames=c('132_T1','142_T1','142_T2','142_T5','148_T1','148_T3','151_T4',\n",
    "         '16_T','17_T4','18_T3','18_T4','19_T1','19_T3','19_T4',\n",
    "         '19_T5','2_T2','2_T3','47_T1','47_T4','47_T5','47_T6','47_T8',\n",
    "         '49_T1','49_T3','4_T','50_T','5_T','65_T1','65_T3','66_T',\n",
    "         '68_P1','68_P2','68_P3','68_P4','68_P5-1','68_P5-2','68_P5-3',\n",
    "         '68_P5-4','68_P5-5','68_P5','71_P3','72_P1','72_P2','72_P4',\n",
    "         '72_P5','72_P6','72_P8','72_P9','75_P11','75_P3','75_P5',\n",
    "         '75_P8','WT1_N7','WT2_N5')\n",
    "PHYDIR = \"/data2/kantian/LineageTracing/SMALT/0.Results/2.filteredNT_re/\"\n",
    "TREEDIR = PHYDIR\n",
    "OUTDIR=\"/data2/kantian/LineageTracing/SMALT/0.Results/figures/\"\n",
    "##--------------------------------------------------------------------------------------------------\n",
    "pdf(file = paste0(OUTDIR,\"3.1.plotTree_NTfiltered_re_rect_2panels.pdf\"), height = 12, width = 12)\n",
    ".plotTree_rect_2panel(samples, PHYDIR,TREEDIR,labNames)\n",
    "dev.off()\n",
    "p3 <- .plotTree(samples, PHYDIR,TREEDIR,labNames,layOut = \"circular\", branchLength = \"branch.length\",colorTip=TRUE,logBranch=TRUE,sampleSize = TRUE)\n",
    "pdf(file = paste0(OUTDIR,\"3.1.plotTree_NTfiltered_re_circular.pdf\"), height = 10, width = 15)\n",
    "ggarrange(p3[[1]],p3[[2]],p3[[3]],p3[[4]],p3[[5]],p3[[6]],p3[[7]],p3[[8]],p3[[9]],p3[[10]],\n",
    "          p3[[11]],p3[[12]],p3[[13]],p3[[14]],p3[[15]],p3[[16]],p3[[17]],p3[[18]],p3[[19]],p3[[20]],\n",
    "          p3[[21]],p3[[22]],p3[[23]],p3[[24]],p3[[25]],p3[[26]],p3[[27]],p3[[28]],p3[[29]],p3[[30]],\n",
    "          p3[[31]],p3[[32]],p3[[33]],p3[[34]],p3[[35]],p3[[36]],p3[[37]],p3[[38]],p3[[39]],p3[[40]],\n",
    "          p3[[41]],p3[[42]],p3[[43]],p3[[44]],p3[[45]],p3[[46]],p3[[47]],p3[[48]],p3[[49]],p3[[50]],\n",
    "          p3[[51]],p3[[52]],p3[[53]],p3[[54]],\n",
    "            nrow = 3, ncol=4)\n",
    "dev.off()\n"
   ]
  }
 ],
 "metadata": {
  "kernelspec": {
   "display_name": "smalt_R4.2",
   "language": "R",
   "name": "ir"
  },
  "language_info": {
   "codemirror_mode": "r",
   "file_extension": ".r",
   "mimetype": "text/x-r-source",
   "name": "R",
   "pygments_lexer": "r",
   "version": "4.2.0"
  }
 },
 "nbformat": 4,
 "nbformat_minor": 5
}
