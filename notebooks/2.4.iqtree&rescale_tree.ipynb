{
 "cells": [
  {
   "cell_type": "code",
   "execution_count": 2,
   "id": "818b9442-88a4-421f-88a9-2c08deb93809",
   "metadata": {},
   "outputs": [],
   "source": [
    "from ete3 import Tree\n",
    "# from ete3 import TreeStyle\n",
    "import os\n",
    "import matplotlib as plt\n",
    "from Bio import Phylo\n",
    "import numpy as np\n",
    "import pandas as pd\n",
    "# import matplotlib.pyplot as plt\n",
    "from sklearn.linear_model import LinearRegression\n"
   ]
  },
  {
   "cell_type": "markdown",
   "id": "f53d0ab5-1a92-44fb-a899-1113e22762ce",
   "metadata": {},
   "source": [
    "## 1.CRC"
   ]
  },
  {
   "cell_type": "code",
   "execution_count": 9,
   "id": "057fab61-1d21-4fb0-bbe1-846cabd35d8f",
   "metadata": {},
   "outputs": [
    {
     "name": "stdout",
     "output_type": "stream",
     "text": [
      "5_T_filtered_re10\n"
     ]
    },
    {
     "name": "stderr",
     "output_type": "stream",
     "text": [
      "/tmp/ipykernel_23398/30923370.py:29: FutureWarning: Series.__getitem__ treating keys as positions is deprecated. In a future version, integer keys will always be treated as labels (consistent with DataFrame behavior). To access a value by position, use `ser.iloc[pos]`\n",
      "  mut_nums[\"numMuts\"] = [mut_nums[\"bi\"][i].count(\"1\") for i in range(mut_nums.shape[0])]\n"
     ]
    },
    {
     "name": "stdout",
     "output_type": "stream",
     "text": [
      "1503.2067903601549\n",
      "5_T_filtered_re1\n"
     ]
    },
    {
     "name": "stderr",
     "output_type": "stream",
     "text": [
      "/tmp/ipykernel_23398/30923370.py:29: FutureWarning: Series.__getitem__ treating keys as positions is deprecated. In a future version, integer keys will always be treated as labels (consistent with DataFrame behavior). To access a value by position, use `ser.iloc[pos]`\n",
      "  mut_nums[\"numMuts\"] = [mut_nums[\"bi\"][i].count(\"1\") for i in range(mut_nums.shape[0])]\n"
     ]
    },
    {
     "name": "stdout",
     "output_type": "stream",
     "text": [
      "1449.9354348245986\n",
      "5_T_filtered_re2\n"
     ]
    },
    {
     "name": "stderr",
     "output_type": "stream",
     "text": [
      "/tmp/ipykernel_23398/30923370.py:29: FutureWarning: Series.__getitem__ treating keys as positions is deprecated. In a future version, integer keys will always be treated as labels (consistent with DataFrame behavior). To access a value by position, use `ser.iloc[pos]`\n",
      "  mut_nums[\"numMuts\"] = [mut_nums[\"bi\"][i].count(\"1\") for i in range(mut_nums.shape[0])]\n"
     ]
    },
    {
     "name": "stdout",
     "output_type": "stream",
     "text": [
      "1450.5792142381065\n",
      "5_T_filtered_re3\n"
     ]
    },
    {
     "name": "stderr",
     "output_type": "stream",
     "text": [
      "/tmp/ipykernel_23398/30923370.py:29: FutureWarning: Series.__getitem__ treating keys as positions is deprecated. In a future version, integer keys will always be treated as labels (consistent with DataFrame behavior). To access a value by position, use `ser.iloc[pos]`\n",
      "  mut_nums[\"numMuts\"] = [mut_nums[\"bi\"][i].count(\"1\") for i in range(mut_nums.shape[0])]\n"
     ]
    },
    {
     "name": "stdout",
     "output_type": "stream",
     "text": [
      "1249.1223621981767\n",
      "5_T_filtered_re4\n"
     ]
    },
    {
     "name": "stderr",
     "output_type": "stream",
     "text": [
      "/tmp/ipykernel_23398/30923370.py:29: FutureWarning: Series.__getitem__ treating keys as positions is deprecated. In a future version, integer keys will always be treated as labels (consistent with DataFrame behavior). To access a value by position, use `ser.iloc[pos]`\n",
      "  mut_nums[\"numMuts\"] = [mut_nums[\"bi\"][i].count(\"1\") for i in range(mut_nums.shape[0])]\n"
     ]
    },
    {
     "name": "stdout",
     "output_type": "stream",
     "text": [
      "1429.633631204778\n",
      "5_T_filtered_re5\n"
     ]
    },
    {
     "name": "stderr",
     "output_type": "stream",
     "text": [
      "/tmp/ipykernel_23398/30923370.py:29: FutureWarning: Series.__getitem__ treating keys as positions is deprecated. In a future version, integer keys will always be treated as labels (consistent with DataFrame behavior). To access a value by position, use `ser.iloc[pos]`\n",
      "  mut_nums[\"numMuts\"] = [mut_nums[\"bi\"][i].count(\"1\") for i in range(mut_nums.shape[0])]\n"
     ]
    },
    {
     "name": "stdout",
     "output_type": "stream",
     "text": [
      "1460.9679692790623\n",
      "5_T_filtered_re6\n"
     ]
    },
    {
     "name": "stderr",
     "output_type": "stream",
     "text": [
      "/tmp/ipykernel_23398/30923370.py:29: FutureWarning: Series.__getitem__ treating keys as positions is deprecated. In a future version, integer keys will always be treated as labels (consistent with DataFrame behavior). To access a value by position, use `ser.iloc[pos]`\n",
      "  mut_nums[\"numMuts\"] = [mut_nums[\"bi\"][i].count(\"1\") for i in range(mut_nums.shape[0])]\n"
     ]
    },
    {
     "name": "stdout",
     "output_type": "stream",
     "text": [
      "1371.4634438057146\n",
      "5_T_filtered_re7\n"
     ]
    },
    {
     "name": "stderr",
     "output_type": "stream",
     "text": [
      "/tmp/ipykernel_23398/30923370.py:29: FutureWarning: Series.__getitem__ treating keys as positions is deprecated. In a future version, integer keys will always be treated as labels (consistent with DataFrame behavior). To access a value by position, use `ser.iloc[pos]`\n",
      "  mut_nums[\"numMuts\"] = [mut_nums[\"bi\"][i].count(\"1\") for i in range(mut_nums.shape[0])]\n"
     ]
    },
    {
     "name": "stdout",
     "output_type": "stream",
     "text": [
      "1469.5635130223704\n",
      "5_T_filtered_re8\n"
     ]
    },
    {
     "name": "stderr",
     "output_type": "stream",
     "text": [
      "/tmp/ipykernel_23398/30923370.py:29: FutureWarning: Series.__getitem__ treating keys as positions is deprecated. In a future version, integer keys will always be treated as labels (consistent with DataFrame behavior). To access a value by position, use `ser.iloc[pos]`\n",
      "  mut_nums[\"numMuts\"] = [mut_nums[\"bi\"][i].count(\"1\") for i in range(mut_nums.shape[0])]\n"
     ]
    },
    {
     "name": "stdout",
     "output_type": "stream",
     "text": [
      "1379.7201648602882\n",
      "5_T_filtered_re9\n"
     ]
    },
    {
     "name": "stderr",
     "output_type": "stream",
     "text": [
      "/tmp/ipykernel_23398/30923370.py:29: FutureWarning: Series.__getitem__ treating keys as positions is deprecated. In a future version, integer keys will always be treated as labels (consistent with DataFrame behavior). To access a value by position, use `ser.iloc[pos]`\n",
      "  mut_nums[\"numMuts\"] = [mut_nums[\"bi\"][i].count(\"1\") for i in range(mut_nums.shape[0])]\n"
     ]
    },
    {
     "name": "stdout",
     "output_type": "stream",
     "text": [
      "1279.6156200006624\n",
      "5_T_filtered_re\n"
     ]
    },
    {
     "name": "stderr",
     "output_type": "stream",
     "text": [
      "/tmp/ipykernel_23398/30923370.py:29: FutureWarning: Series.__getitem__ treating keys as positions is deprecated. In a future version, integer keys will always be treated as labels (consistent with DataFrame behavior). To access a value by position, use `ser.iloc[pos]`\n",
      "  mut_nums[\"numMuts\"] = [mut_nums[\"bi\"][i].count(\"1\") for i in range(mut_nums.shape[0])]\n"
     ]
    },
    {
     "name": "stdout",
     "output_type": "stream",
     "text": [
      "1135.587084358487\n"
     ]
    }
   ],
   "source": [
    "\"\"\"\n",
    "ML tree, post filtering based on mutation frequency distribution.\n",
    "!!! This step was done after iqtree tree reconstruction.\n",
    "\"\"\"\n",
    "# samples = [\"5_N\",\"5_T\",\"16_N\",\"16_T\"]\n",
    "# samples = [\"4\",\"5\",\"16\",\"49\"]\n",
    "# samples = [\"WT1\",\"WT2\"]\n",
    "######################################################################################################################\n",
    "TREEDIR=\"/data2/kantian/LineageTracing/SMALT/0.Results/2.filteredNT_re/5_T/\"\n",
    "PHYDIR=OUTDIR=TREEDIR\n",
    "samples=['5_T_filtered_re10','5_T_filtered_re1','5_T_filtered_re2','5_T_filtered_re3','5_T_filtered_re4','5_T_filtered_re5',\n",
    "         '5_T_filtered_re6','5_T_filtered_re7','5_T_filtered_re8','5_T_filtered_re9','5_T_filtered_re']\n",
    "# samples=['16_T_filtered_re','5_T_filtered_re']\n",
    "######################################################################################################################\n",
    "# TREEDIR=\"/data2/kantian/LineageTracing/SMALT/0.Results0.99/2.filteredNT_re/\"\n",
    "# PHYDIR=OUTDIR=TREEDIR\n",
    "# samples = ['142_T1_filtered_re','142_T2_filtered_re','148_T3_filtered_re','5_T_filtered_re','142_T5-2_filtered_re','142_T5-4_filtered_re']\n",
    "# ######################################################################################################################\n",
    "# TREEDIR=\"/data2/kantian/LineageTracing/SMALT/0.Results0.99/2.filteredNT/\"\n",
    "# PHYDIR=OUTDIR=TREEDIR\n",
    "# samples = ['142_T1_filtered','142_T2_filtered','148_T3_filtered','5_T_filtered','142_T5-2_filtered','142_T5-4_filtered']\n",
    "# ######################################################################################################################\n",
    "\"\"\"\n",
    "rescale tree branch length in mutation numbers\n",
    "\"\"\"\n",
    "for mySample in samples:\n",
    "    print(mySample)\n",
    "    mut_nums = pd.read_csv(PHYDIR + mySample+\".phy\", delimiter = \" \", skiprows=1,header = None, names = [\"name\",\"bi\"], index_col=0)\n",
    "    mut_nums[\"numMuts\"] = [mut_nums[\"bi\"][i].count(\"1\") for i in range(mut_nums.shape[0])]\n",
    "    tree = Phylo.read(TREEDIR+mySample+\".phy\"+\".treefile\", \"newick\")\n",
    "    tree_depths = tree.depths()\n",
    "    depths = []\n",
    "    mutations = []\n",
    "    for i in tree_depths:\n",
    "        if i.name in mut_nums.index:\n",
    "            depths.append(tree_depths[i])\n",
    "            mutations.append(mut_nums.loc[i.name].numMuts)\n",
    "    depths = np.array(depths)\n",
    "    mutations = np.array(mutations)\n",
    "    mutations\n",
    "\n",
    "    reg = LinearRegression(fit_intercept=False).fit(depths.reshape(-1,1), mutations)\n",
    "    scale = reg.coef_[0]\n",
    "    print(scale)\n",
    "\n",
    "    for clade in tree.get_terminals():\n",
    "        clade.branch_length = float(scale * clade.branch_length)\n",
    "    for clade in tree.get_nonterminals()[1:]:\n",
    "        clade.branch_length = float(scale * clade.branch_length)\n",
    "\n",
    "    Phylo.write(tree, OUTDIR+mySample+\"_rescale.nwk\",\"newick\")"
   ]
  }
 ],
 "metadata": {
  "kernelspec": {
   "display_name": "smalt_python3.11",
   "language": "python",
   "name": "smalt_python3.11"
  },
  "language_info": {
   "codemirror_mode": {
    "name": "ipython",
    "version": 3
   },
   "file_extension": ".py",
   "mimetype": "text/x-python",
   "name": "python",
   "nbconvert_exporter": "python",
   "pygments_lexer": "ipython3",
   "version": "3.11.0"
  }
 },
 "nbformat": 4,
 "nbformat_minor": 5
}
