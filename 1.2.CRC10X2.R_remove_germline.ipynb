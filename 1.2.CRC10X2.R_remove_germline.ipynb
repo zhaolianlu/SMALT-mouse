{
 "cells": [
  {
   "cell_type": "code",
   "execution_count": 7,
   "id": "7318ebe1-cd86-447f-a967-ff96f6e0d1fa",
   "metadata": {},
   "outputs": [
    {
     "name": "stderr",
     "output_type": "stream",
     "text": [
      "Warning message:\n",
      "“package ‘tidyr’ was built under R version 4.2.3”\n"
     ]
    }
   ],
   "source": [
    "library(data.table)\n",
    "library(dplyr)\n",
    "library(tidyr)"
   ]
  },
  {
   "cell_type": "markdown",
   "id": "b011ec1b-8485-4f0c-8463-9cd457f973df",
   "metadata": {},
   "source": [
    "## CRC10X2 remove germline mutations (run after 1.1 and before 1.2)"
   ]
  },
  {
   "cell_type": "code",
   "execution_count": 8,
   "id": "c1f494e5-5189-4d4b-bc3c-000c31e4c667",
   "metadata": {},
   "outputs": [
    {
     "name": "stderr",
     "output_type": "stream",
     "text": [
      "Calculating 142_T1...\n",
      "\n"
     ]
    }
   ],
   "source": [
    "INDIR = \"/data2/kantian/LineageTracing/SMALT/0.Results0.99/1.N2T2/\"\n",
    "OUTDIR = \"/data2/kantian/LineageTracing/SMALT/0.Results/1.N2T2/\"\n",
    "if (! file.exists(OUTDIR)){\n",
    "        dir.create(OUTDIR)\n",
    "}\n",
    "setwd(INDIR)\n",
    "samples = c('142_T1','142_T2','148_T3','148_T1','142_T5-2','142_T5-4')\n",
    "\n",
    "for(my.sample in samples){\n",
    "    message(\"Calculating \",my.sample,\"...\")\n",
    "    x <- read.delim(paste0(INDIR,my.sample,\"_N4T4.phy\"),header = F, sep = \" \",\n",
    "                    colClasses=c(\"character\",\"character\"),skip = 2,\n",
    "                    col.names = c(\"cellID\",\"bi\"))\n",
    "    setDT(x)\n",
    "    numSite=nchar(x$bi[1])\n",
    "    y <- x %>% separate(bi, paste0(\"V\",0:numSite),\"\")\n",
    "    y[, 3:ncol(y)] <- sapply(y[, 3:ncol(y)], as.numeric)\n",
    "    print(which(colSums(y[,3:ncol(y)])>=nrow(y)*0.99))\n",
    "    y[,which(colSums(y[,3:ncol(y)])>=nrow(y)*0.99)+2]=0\n",
    "    y <- y[rowSums(y[,3:ncol(y)])>=2,]\n",
    "    z <- data.frame(cellID = y$cellID, bi=sapply(as.list(1:nrow(y)),function(i){paste(y[i,3:ncol(y)], collapse=\"\")}))\n",
    "    refRow=data.frame(cellID=\"ref\",bi=paste(rep(\"0\",numSite),collapse=\"\"))\n",
    "    z <- rbind(refRow,z)\n",
    "    colnames(z) <- c(as.character(nrow(z)),as.character(numSite))\n",
    "    write.table(z, file=paste0(OUTDIR, my.sample, \"_N2T2.phy\"),sep=\" \", row.names = F, quote = F)\n",
    "}\n"
   ]
  },
  {
   "cell_type": "code",
   "execution_count": 46,
   "id": "8f25016a-7551-4b44-a2e8-917a04d4b295",
   "metadata": {},
   "outputs": [
    {
     "name": "stderr",
     "output_type": "stream",
     "text": [
      "Calculating 19_T1...\n",
      "\n"
     ]
    },
    {
     "name": "stdout",
     "output_type": "stream",
     "text": [
      "named integer(0)\n"
     ]
    },
    {
     "name": "stderr",
     "output_type": "stream",
     "text": [
      "Calculating 19_T3...\n",
      "\n"
     ]
    },
    {
     "name": "stdout",
     "output_type": "stream",
     "text": [
      "V2605 \n",
      " 2605 \n"
     ]
    },
    {
     "name": "stderr",
     "output_type": "stream",
     "text": [
      "Calculating 19_T4...\n",
      "\n"
     ]
    },
    {
     "name": "stdout",
     "output_type": "stream",
     "text": [
      "V2605 \n",
      " 2605 \n"
     ]
    },
    {
     "name": "stderr",
     "output_type": "stream",
     "text": [
      "Calculating 19_T5...\n",
      "\n"
     ]
    },
    {
     "name": "stdout",
     "output_type": "stream",
     "text": [
      "V2605 \n",
      " 2605 \n"
     ]
    }
   ],
   "source": [
    "INDIR = \"/data2/kantian/LineageTracing/SMALT/0.Results0.99/1.N2T2/\"\n",
    "OUTDIR = \"/data2/kantian/LineageTracing/SMALT/0.Results/1.N2T2/\"\n",
    "if (! file.exists(OUTDIR)){\n",
    "        dir.create(OUTDIR)\n",
    "}\n",
    "setwd(INDIR)\n",
    "samples = c('19_T1','19_T3','19_T4','19_T5')\n",
    "\n",
    "for(my.sample in samples){\n",
    "    message(\"Calculating \",my.sample,\"...\")\n",
    "    x <- read.delim(paste0(INDIR,my.sample,\"_N2T2.phy\"),header = F, sep = \" \",\n",
    "                    colClasses=c(\"character\",\"character\"),skip = 2,\n",
    "                    col.names = c(\"cellID\",\"bi\"))\n",
    "    setDT(x)\n",
    "    numSite=nchar(x$bi[1])\n",
    "    y <- x %>% separate(bi, paste0(\"V\",0:numSite),\"\")\n",
    "    y[, 3:ncol(y)] <- sapply(y[, 3:ncol(y)], as.numeric)\n",
    "    print(which(colSums(y[,3:ncol(y)])>=nrow(y)*0.90))\n",
    "    # print(which.max())\n",
    "    y[,which(colSums(y[,3:ncol(y)])>=nrow(y)*0.90)+2]=0\n",
    "    y <- y[rowSums(y[,3:ncol(y)])>=2,]\n",
    "    z <- data.frame(cellID = y$cellID, bi=sapply(as.list(1:nrow(y)),function(i){paste(y[i,3:ncol(y)], collapse=\"\")}))\n",
    "    refRow=data.frame(cellID=\"ref\",bi=paste(rep(\"0\",numSite),collapse=\"\"))\n",
    "    z <- rbind(refRow,z)\n",
    "    colnames(z) <- c(as.character(nrow(z)),as.character(numSite))\n",
    "    write.table(z, file=paste0(OUTDIR, my.sample, \"_N2T2.phy\"),sep=\" \", row.names = F, quote = F)\n",
    "}\n"
   ]
  },
  {
   "cell_type": "code",
   "execution_count": 47,
   "id": "3fd67d26-8496-4f1d-8353-47a08d1c63ec",
   "metadata": {},
   "outputs": [
    {
     "name": "stderr",
     "output_type": "stream",
     "text": [
      "Calculating 47_T1...\n",
      "\n"
     ]
    },
    {
     "name": "stdout",
     "output_type": "stream",
     "text": [
      "V2674 \n",
      " 2674 \n"
     ]
    },
    {
     "name": "stderr",
     "output_type": "stream",
     "text": [
      "Calculating 47_T4...\n",
      "\n"
     ]
    },
    {
     "name": "stdout",
     "output_type": "stream",
     "text": [
      "V2674 \n",
      " 2674 \n"
     ]
    },
    {
     "name": "stderr",
     "output_type": "stream",
     "text": [
      "Calculating 47_T5...\n",
      "\n"
     ]
    },
    {
     "name": "stdout",
     "output_type": "stream",
     "text": [
      "V2674 \n",
      " 2674 \n"
     ]
    },
    {
     "name": "stderr",
     "output_type": "stream",
     "text": [
      "Calculating 47_T6...\n",
      "\n"
     ]
    },
    {
     "name": "stdout",
     "output_type": "stream",
     "text": [
      "V2674 \n",
      " 2674 \n"
     ]
    },
    {
     "name": "stderr",
     "output_type": "stream",
     "text": [
      "Calculating 47_T8...\n",
      "\n"
     ]
    },
    {
     "name": "stdout",
     "output_type": "stream",
     "text": [
      "V2674 \n",
      " 2674 \n"
     ]
    }
   ],
   "source": [
    "INDIR = \"/data2/kantian/LineageTracing/SMALT/0.Results0.99/1.N2T2/\"\n",
    "OUTDIR = \"/data2/kantian/LineageTracing/SMALT/0.Results/1.N2T2/\"\n",
    "if (! file.exists(OUTDIR)){\n",
    "        dir.create(OUTDIR)\n",
    "}\n",
    "setwd(INDIR)\n",
    "samples = c('47_T1','47_T4','47_T5','47_T6','47_T8')\n",
    "\n",
    "for(my.sample in samples){\n",
    "    message(\"Calculating \",my.sample,\"...\")\n",
    "    x <- read.delim(paste0(INDIR,my.sample,\"_N2T2.phy\"),header = F, sep = \" \",\n",
    "                    colClasses=c(\"character\",\"character\"),skip = 2,\n",
    "                    col.names = c(\"cellID\",\"bi\"))\n",
    "    setDT(x)\n",
    "    numSite=nchar(x$bi[1])\n",
    "    y <- x %>% separate(bi, paste0(\"V\",0:numSite),\"\")\n",
    "    y[, 3:ncol(y)] <- sapply(y[, 3:ncol(y)], as.numeric)\n",
    "    print(which(colSums(y[,3:ncol(y)])>=nrow(y)*0.80))\n",
    "    y[,which(colSums(y[,3:ncol(y)])>=nrow(y)*0.80)+2]=0\n",
    "    y <- y[rowSums(y[,3:ncol(y)])>=2,]\n",
    "    z <- data.frame(cellID = y$cellID, bi=sapply(as.list(1:nrow(y)),function(i){paste(y[i,3:ncol(y)], collapse=\"\")}))\n",
    "    refRow=data.frame(cellID=\"ref\",bi=paste(rep(\"0\",numSite),collapse=\"\"))\n",
    "    z <- rbind(refRow,z)\n",
    "    colnames(z) <- c(as.character(nrow(z)),as.character(numSite))\n",
    "    write.table(z, file=paste0(OUTDIR, my.sample, \"_N2T2.phy\"),sep=\" \", row.names = F, quote = F)\n",
    "}\n"
   ]
  },
  {
   "cell_type": "code",
   "execution_count": null,
   "id": "b514db14-233c-4e1d-87f0-05c813412cc5",
   "metadata": {},
   "outputs": [],
   "source": []
  }
 ],
 "metadata": {
  "kernelspec": {
   "display_name": "smalt_R4.2",
   "language": "R",
   "name": "ir"
  },
  "language_info": {
   "codemirror_mode": "r",
   "file_extension": ".r",
   "mimetype": "text/x-r-source",
   "name": "R",
   "pygments_lexer": "r",
   "version": "4.2.0"
  }
 },
 "nbformat": 4,
 "nbformat_minor": 5
}
