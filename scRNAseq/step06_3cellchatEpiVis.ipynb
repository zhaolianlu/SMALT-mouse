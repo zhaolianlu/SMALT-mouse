{
 "cells": [
  {
   "cell_type": "code",
   "execution_count": 9,
   "id": "e052d506-a1b6-42e6-b5d5-736ff06ecd33",
   "metadata": {},
   "outputs": [],
   "source": [
    "library(tidyverse)\n",
    "library(CellChat)\n",
    "library(repr)\n",
    "library(scales)\n",
    "library(writexl)"
   ]
  },
  {
   "cell_type": "code",
   "execution_count": 2,
   "id": "a2a44f92-70fa-4c6c-9078-ad675b2eb287",
   "metadata": {},
   "outputs": [],
   "source": [
    "dsID=str_c(\"ds\",1:50,sep = \"\")"
   ]
  },
  {
   "cell_type": "code",
   "execution_count": null,
   "id": "6892effd-5cc6-44f8-8a10-22d7c8897537",
   "metadata": {},
   "outputs": [],
   "source": [
    "dsID"
   ]
  },
  {
   "cell_type": "code",
   "execution_count": 4,
   "id": "8f2b45f6-a204-4d9f-96aa-a8edb010d98d",
   "metadata": {},
   "outputs": [],
   "source": [
    "sampleID=c(\"148_T1\",\"148_T3\",\"142_T5-4\",\"132_T1\",\"142_T2\",\"18_T3\",\"18_T4\",\"17_T4\",\"151_T4\",\"WT1\",\"WT2\")"
   ]
  },
  {
   "cell_type": "code",
   "execution_count": 5,
   "id": "e1604159-c14d-4d30-a5c9-3689567bd7e3",
   "metadata": {},
   "outputs": [],
   "source": [
    "ds_sample=tibble(ds=rep(dsID,each = length(sampleID)),\n",
    "                sample=rep(sampleID,length(dsID)))"
   ]
  },
  {
   "cell_type": "code",
   "execution_count": 6,
   "id": "44209f08-6911-4050-afab-7a24edd0cbfd",
   "metadata": {},
   "outputs": [],
   "source": [
    "longLRtable=function(DS,SAMPLE){\n",
    "    file=str_c(\"/data2/xiangwei/projects/zhaolian/16cellchat/cellchatEpidownsample/\",\n",
    "           DS,\"/results/\",SAMPLE,\"count.csv\",sep=\"\")\n",
    "    LRtable=read.table(file,sep = \",\")\n",
    "    LRtable=LRtable%>%rownames_to_column(var=\"celltype1\")%>%pivot_longer(-celltype1,names_to = \"celltype2\",values_to = \"LRnum\")%>%\n",
    "mutate(dsID=DS,sampleID=SAMPLE)\n",
    "}"
   ]
  },
  {
   "cell_type": "code",
   "execution_count": 7,
   "id": "399ce6af-c7e3-41c8-ac7e-ca310e54f4a9",
   "metadata": {},
   "outputs": [],
   "source": [
    "LRalltable=map2_dfr(ds_sample$ds,ds_sample$sample,longLRtable)"
   ]
  },
  {
   "cell_type": "code",
   "execution_count": 8,
   "id": "79e6368c-3bab-4f5d-b2b4-38e42d3cc153",
   "metadata": {},
   "outputs": [
    {
     "data": {
      "text/html": [
       "<style>\n",
       ".list-inline {list-style: none; margin:0; padding: 0}\n",
       ".list-inline>li {display: inline-block}\n",
       ".list-inline>li:not(:last-child)::after {content: \"\\00b7\"; padding: 0 .5ex}\n",
       "</style>\n",
       "<ol class=list-inline><li>38818</li><li>5</li></ol>\n"
      ],
      "text/latex": [
       "\\begin{enumerate*}\n",
       "\\item 38818\n",
       "\\item 5\n",
       "\\end{enumerate*}\n"
      ],
      "text/markdown": [
       "1. 38818\n",
       "2. 5\n",
       "\n",
       "\n"
      ],
      "text/plain": [
       "[1] 38818     5"
      ]
     },
     "metadata": {},
     "output_type": "display_data"
    },
    {
     "data": {
      "text/html": [
       "<table class=\"dataframe\">\n",
       "<caption>A tibble: 6 × 5</caption>\n",
       "<thead>\n",
       "\t<tr><th scope=col>celltype1</th><th scope=col>celltype2</th><th scope=col>LRnum</th><th scope=col>dsID</th><th scope=col>sampleID</th></tr>\n",
       "\t<tr><th scope=col>&lt;chr&gt;</th><th scope=col>&lt;chr&gt;</th><th scope=col>&lt;int&gt;</th><th scope=col>&lt;chr&gt;</th><th scope=col>&lt;chr&gt;</th></tr>\n",
       "</thead>\n",
       "<tbody>\n",
       "\t<tr><td>Epi-Goblet</td><td>Epi.Goblet</td><td> 3</td><td>ds1</td><td>148_T1</td></tr>\n",
       "\t<tr><td>Epi-Goblet</td><td>Epi.Mdga2 </td><td> 8</td><td>ds1</td><td>148_T1</td></tr>\n",
       "\t<tr><td>Epi-Goblet</td><td>Epi.Mgst3 </td><td> 0</td><td>ds1</td><td>148_T1</td></tr>\n",
       "\t<tr><td>Epi-Goblet</td><td>Epi.Mt3   </td><td> 1</td><td>ds1</td><td>148_T1</td></tr>\n",
       "\t<tr><td>Epi-Goblet</td><td>Epi.Peak1 </td><td> 5</td><td>ds1</td><td>148_T1</td></tr>\n",
       "\t<tr><td>Epi-Goblet</td><td>Epi.Ptprd </td><td>16</td><td>ds1</td><td>148_T1</td></tr>\n",
       "</tbody>\n",
       "</table>\n"
      ],
      "text/latex": [
       "A tibble: 6 × 5\n",
       "\\begin{tabular}{lllll}\n",
       " celltype1 & celltype2 & LRnum & dsID & sampleID\\\\\n",
       " <chr> & <chr> & <int> & <chr> & <chr>\\\\\n",
       "\\hline\n",
       "\t Epi-Goblet & Epi.Goblet &  3 & ds1 & 148\\_T1\\\\\n",
       "\t Epi-Goblet & Epi.Mdga2  &  8 & ds1 & 148\\_T1\\\\\n",
       "\t Epi-Goblet & Epi.Mgst3  &  0 & ds1 & 148\\_T1\\\\\n",
       "\t Epi-Goblet & Epi.Mt3    &  1 & ds1 & 148\\_T1\\\\\n",
       "\t Epi-Goblet & Epi.Peak1  &  5 & ds1 & 148\\_T1\\\\\n",
       "\t Epi-Goblet & Epi.Ptprd  & 16 & ds1 & 148\\_T1\\\\\n",
       "\\end{tabular}\n"
      ],
      "text/markdown": [
       "\n",
       "A tibble: 6 × 5\n",
       "\n",
       "| celltype1 &lt;chr&gt; | celltype2 &lt;chr&gt; | LRnum &lt;int&gt; | dsID &lt;chr&gt; | sampleID &lt;chr&gt; |\n",
       "|---|---|---|---|---|\n",
       "| Epi-Goblet | Epi.Goblet |  3 | ds1 | 148_T1 |\n",
       "| Epi-Goblet | Epi.Mdga2  |  8 | ds1 | 148_T1 |\n",
       "| Epi-Goblet | Epi.Mgst3  |  0 | ds1 | 148_T1 |\n",
       "| Epi-Goblet | Epi.Mt3    |  1 | ds1 | 148_T1 |\n",
       "| Epi-Goblet | Epi.Peak1  |  5 | ds1 | 148_T1 |\n",
       "| Epi-Goblet | Epi.Ptprd  | 16 | ds1 | 148_T1 |\n",
       "\n"
      ],
      "text/plain": [
       "  celltype1  celltype2  LRnum dsID sampleID\n",
       "1 Epi-Goblet Epi.Goblet  3    ds1  148_T1  \n",
       "2 Epi-Goblet Epi.Mdga2   8    ds1  148_T1  \n",
       "3 Epi-Goblet Epi.Mgst3   0    ds1  148_T1  \n",
       "4 Epi-Goblet Epi.Mt3     1    ds1  148_T1  \n",
       "5 Epi-Goblet Epi.Peak1   5    ds1  148_T1  \n",
       "6 Epi-Goblet Epi.Ptprd  16    ds1  148_T1  "
      ]
     },
     "metadata": {},
     "output_type": "display_data"
    },
    {
     "data": {
      "text/plain": [
       "\n",
       "  132_T1   142_T2 142_T5-4   148_T1   148_T3   151_T4    17_T4    18_T3 \n",
       "    4050     4050     4050     3200     4050     3065     3287     3185 \n",
       "   18_T4      WT1      WT2 \n",
       "    4981     2450     2450 "
      ]
     },
     "metadata": {},
     "output_type": "display_data"
    }
   ],
   "source": [
    "dim(LRalltable)\n",
    "head(LRalltable)\n",
    "table(LRalltable$sampleID)"
   ]
  },
  {
   "cell_type": "code",
   "execution_count": 10,
   "id": "f6e4b7d2-f200-467a-aaef-a68a1f697be3",
   "metadata": {},
   "outputs": [],
   "source": [
    "write_xlsx(LRalltable,\"results/LRalltable.xlsx\")"
   ]
  },
  {
   "cell_type": "markdown",
   "id": "0026ad6a-ad97-40db-a2f6-89bf9d3b01f3",
   "metadata": {},
   "source": [
    "# make LRtable"
   ]
  },
  {
   "cell_type": "markdown",
   "id": "bb640256-a9be-4bcd-b534-c4cb072f70a6",
   "metadata": {},
   "source": [
    "## wtLRtable"
   ]
  },
  {
   "cell_type": "code",
   "execution_count": 151,
   "id": "1670dc9e-31c7-4d36-8302-3b875ef1f504",
   "metadata": {},
   "outputs": [
    {
     "data": {
      "text/html": [
       "<style>\n",
       ".list-inline {list-style: none; margin:0; padding: 0}\n",
       ".list-inline>li {display: inline-block}\n",
       ".list-inline>li:not(:last-child)::after {content: \"\\00b7\"; padding: 0 .5ex}\n",
       "</style>\n",
       "<ol class=list-inline><li>4900</li><li>5</li></ol>\n"
      ],
      "text/latex": [
       "\\begin{enumerate*}\n",
       "\\item 4900\n",
       "\\item 5\n",
       "\\end{enumerate*}\n"
      ],
      "text/markdown": [
       "1. 4900\n",
       "2. 5\n",
       "\n",
       "\n"
      ],
      "text/plain": [
       "[1] 4900    5"
      ]
     },
     "metadata": {},
     "output_type": "display_data"
    }
   ],
   "source": [
    "wtLRtable=LRalltable%>%filter(sampleID %in% c(\"WT1\",\"WT2\"))\n",
    "dim(wtLRtable)"
   ]
  },
  {
   "cell_type": "markdown",
   "id": "89e81a20-cdcb-4062-8236-f89bb4985a1f",
   "metadata": {},
   "source": [
    "## earlyLRtable"
   ]
  },
  {
   "cell_type": "code",
   "execution_count": 111,
   "id": "4a7062af-6d11-4171-832e-f51c4f2fd0fd",
   "metadata": {},
   "outputs": [
    {
     "data": {
      "text/html": [
       "<style>\n",
       ".list-inline {list-style: none; margin:0; padding: 0}\n",
       ".list-inline>li {display: inline-block}\n",
       ".list-inline>li:not(:last-child)::after {content: \"\\00b7\"; padding: 0 .5ex}\n",
       "</style>\n",
       "<ol class=list-inline><li>22618</li><li>5</li></ol>\n"
      ],
      "text/latex": [
       "\\begin{enumerate*}\n",
       "\\item 22618\n",
       "\\item 5\n",
       "\\end{enumerate*}\n"
      ],
      "text/markdown": [
       "1. 22618\n",
       "2. 5\n",
       "\n",
       "\n"
      ],
      "text/plain": [
       "[1] 22618     5"
      ]
     },
     "metadata": {},
     "output_type": "display_data"
    }
   ],
   "source": [
    "earlyLRtable=LRalltable%>%filter(sampleID %in% c(\"132_T1\",\"142_T2\",\"18_T3\",\"18_T4\",\"17_T4\",\"151_T4\"))\n",
    "dim(earlyLRtable)"
   ]
  },
  {
   "cell_type": "markdown",
   "id": "1540f625-7467-432f-b316-4c8bfe79f19a",
   "metadata": {},
   "source": [
    "## lateLRtable"
   ]
  },
  {
   "cell_type": "code",
   "execution_count": 153,
   "id": "81a677e9-a6db-414b-92dd-ea1d4bb8f07e",
   "metadata": {},
   "outputs": [
    {
     "data": {
      "text/html": [
       "<style>\n",
       ".list-inline {list-style: none; margin:0; padding: 0}\n",
       ".list-inline>li {display: inline-block}\n",
       ".list-inline>li:not(:last-child)::after {content: \"\\00b7\"; padding: 0 .5ex}\n",
       "</style>\n",
       "<ol class=list-inline><li>11300</li><li>5</li></ol>\n"
      ],
      "text/latex": [
       "\\begin{enumerate*}\n",
       "\\item 11300\n",
       "\\item 5\n",
       "\\end{enumerate*}\n"
      ],
      "text/markdown": [
       "1. 11300\n",
       "2. 5\n",
       "\n",
       "\n"
      ],
      "text/plain": [
       "[1] 11300     5"
      ]
     },
     "metadata": {},
     "output_type": "display_data"
    }
   ],
   "source": [
    "lateLRtable=LRalltable%>%filter(sampleID %in% c(\"148_T1\",\"148_T3\",\"142_T5-4\"))\n",
    "dim(lateLRtable)"
   ]
  },
  {
   "cell_type": "code",
   "execution_count": 212,
   "id": "bba4cb25-9b30-4f09-a5ab-e8f1254fdc36",
   "metadata": {},
   "outputs": [],
   "source": [
    "df=wtLRtable"
   ]
  },
  {
   "cell_type": "code",
   "execution_count": 223,
   "id": "c36bd661-ac61-4ba4-a455-a223f0337764",
   "metadata": {},
   "outputs": [],
   "source": [
    "df=earlyLRtable"
   ]
  },
  {
   "cell_type": "code",
   "execution_count": 234,
   "id": "16e20073-e253-4263-9366-ef3c270222ae",
   "metadata": {},
   "outputs": [],
   "source": [
    "df=lateLRtable"
   ]
  },
  {
   "cell_type": "code",
   "execution_count": 235,
   "id": "2ab807ad-c115-4173-a93d-4116475fbdc6",
   "metadata": {},
   "outputs": [
    {
     "data": {
      "text/html": [
       "<table class=\"dataframe\">\n",
       "<caption>A tibble: 6 × 5</caption>\n",
       "<thead>\n",
       "\t<tr><th scope=col>celltype1</th><th scope=col>celltype2</th><th scope=col>LRnum</th><th scope=col>dsID</th><th scope=col>sampleID</th></tr>\n",
       "\t<tr><th scope=col>&lt;chr&gt;</th><th scope=col>&lt;chr&gt;</th><th scope=col>&lt;int&gt;</th><th scope=col>&lt;chr&gt;</th><th scope=col>&lt;chr&gt;</th></tr>\n",
       "</thead>\n",
       "<tbody>\n",
       "\t<tr><td>Epi-Goblet</td><td>Epi.Goblet</td><td> 3</td><td>ds1</td><td>148_T1</td></tr>\n",
       "\t<tr><td>Epi-Goblet</td><td>Epi.Mdga2 </td><td> 8</td><td>ds1</td><td>148_T1</td></tr>\n",
       "\t<tr><td>Epi-Goblet</td><td>Epi.Mgst3 </td><td> 0</td><td>ds1</td><td>148_T1</td></tr>\n",
       "\t<tr><td>Epi-Goblet</td><td>Epi.Mt3   </td><td> 1</td><td>ds1</td><td>148_T1</td></tr>\n",
       "\t<tr><td>Epi-Goblet</td><td>Epi.Peak1 </td><td> 5</td><td>ds1</td><td>148_T1</td></tr>\n",
       "\t<tr><td>Epi-Goblet</td><td>Epi.Ptprd </td><td>16</td><td>ds1</td><td>148_T1</td></tr>\n",
       "</tbody>\n",
       "</table>\n"
      ],
      "text/latex": [
       "A tibble: 6 × 5\n",
       "\\begin{tabular}{lllll}\n",
       " celltype1 & celltype2 & LRnum & dsID & sampleID\\\\\n",
       " <chr> & <chr> & <int> & <chr> & <chr>\\\\\n",
       "\\hline\n",
       "\t Epi-Goblet & Epi.Goblet &  3 & ds1 & 148\\_T1\\\\\n",
       "\t Epi-Goblet & Epi.Mdga2  &  8 & ds1 & 148\\_T1\\\\\n",
       "\t Epi-Goblet & Epi.Mgst3  &  0 & ds1 & 148\\_T1\\\\\n",
       "\t Epi-Goblet & Epi.Mt3    &  1 & ds1 & 148\\_T1\\\\\n",
       "\t Epi-Goblet & Epi.Peak1  &  5 & ds1 & 148\\_T1\\\\\n",
       "\t Epi-Goblet & Epi.Ptprd  & 16 & ds1 & 148\\_T1\\\\\n",
       "\\end{tabular}\n"
      ],
      "text/markdown": [
       "\n",
       "A tibble: 6 × 5\n",
       "\n",
       "| celltype1 &lt;chr&gt; | celltype2 &lt;chr&gt; | LRnum &lt;int&gt; | dsID &lt;chr&gt; | sampleID &lt;chr&gt; |\n",
       "|---|---|---|---|---|\n",
       "| Epi-Goblet | Epi.Goblet |  3 | ds1 | 148_T1 |\n",
       "| Epi-Goblet | Epi.Mdga2  |  8 | ds1 | 148_T1 |\n",
       "| Epi-Goblet | Epi.Mgst3  |  0 | ds1 | 148_T1 |\n",
       "| Epi-Goblet | Epi.Mt3    |  1 | ds1 | 148_T1 |\n",
       "| Epi-Goblet | Epi.Peak1  |  5 | ds1 | 148_T1 |\n",
       "| Epi-Goblet | Epi.Ptprd  | 16 | ds1 | 148_T1 |\n",
       "\n"
      ],
      "text/plain": [
       "  celltype1  celltype2  LRnum dsID sampleID\n",
       "1 Epi-Goblet Epi.Goblet  3    ds1  148_T1  \n",
       "2 Epi-Goblet Epi.Mdga2   8    ds1  148_T1  \n",
       "3 Epi-Goblet Epi.Mgst3   0    ds1  148_T1  \n",
       "4 Epi-Goblet Epi.Mt3     1    ds1  148_T1  \n",
       "5 Epi-Goblet Epi.Peak1   5    ds1  148_T1  \n",
       "6 Epi-Goblet Epi.Ptprd  16    ds1  148_T1  "
      ]
     },
     "metadata": {},
     "output_type": "display_data"
    }
   ],
   "source": [
    "head(df)"
   ]
  },
  {
   "cell_type": "code",
   "execution_count": 236,
   "id": "6eceee35-54dd-48e8-b400-1955f0b3121f",
   "metadata": {},
   "outputs": [],
   "source": [
    "df=df%>%mutate(celltype=str_c(celltype1,celltype2,sep = \"_\"))"
   ]
  },
  {
   "cell_type": "code",
   "execution_count": 237,
   "id": "9d8c0dd8-9da4-4efc-ba03-87ea6a2ee9a3",
   "metadata": {},
   "outputs": [],
   "source": [
    "avgTable=df%>%group_by(celltype)%>%summarise(n=n(),LRavg=mean(LRnum))"
   ]
  },
  {
   "cell_type": "code",
   "execution_count": 238,
   "id": "86f4e392-c9f9-431b-b883-b72357a17a09",
   "metadata": {},
   "outputs": [],
   "source": [
    "avgTable=avgTable%>%separate(celltype,into = c(\"celltype1\",\"celltype2\"),sep = \"_\")%>%select(-n)"
   ]
  },
  {
   "cell_type": "code",
   "execution_count": 239,
   "id": "a6ddf10e-5036-44ab-b5f0-431a3da904c6",
   "metadata": {},
   "outputs": [],
   "source": [
    "widerAvgTable=avgTable%>%pivot_wider(names_from = celltype2,values_from = LRavg)"
   ]
  },
  {
   "cell_type": "code",
   "execution_count": 240,
   "id": "11a356a2-2f07-468b-858a-25d767a04a68",
   "metadata": {},
   "outputs": [],
   "source": [
    "widerAvgTable=widerAvgTable%>%column_to_rownames(\"celltype1\")"
   ]
  },
  {
   "cell_type": "code",
   "execution_count": 241,
   "id": "81366e58-ae91-4b75-90a1-da2a39d299ff",
   "metadata": {},
   "outputs": [],
   "source": [
    "celltypeID=rownames(widerAvgTable)"
   ]
  },
  {
   "cell_type": "code",
   "execution_count": 242,
   "id": "14863fd1-edb4-42dc-9f43-c8ce79ea6ac7",
   "metadata": {},
   "outputs": [],
   "source": [
    "colnames(widerAvgTable)=celltypeID"
   ]
  },
  {
   "cell_type": "code",
   "execution_count": 243,
   "id": "5adf6d5e-939e-41cf-a064-0c4f77da3698",
   "metadata": {},
   "outputs": [],
   "source": [
    "widerAvgTable=as.matrix(widerAvgTable)"
   ]
  },
  {
   "cell_type": "code",
   "execution_count": 222,
   "id": "dd4ba950-b5be-4e91-8e8d-b8a619196d58",
   "metadata": {},
   "outputs": [],
   "source": [
    "write.table(widerAvgTable,\"results/WTwiderAvgLRTable.csv\",sep = \",\")"
   ]
  },
  {
   "cell_type": "code",
   "execution_count": 233,
   "id": "a0e9449a-7d3b-4fa1-aab6-4089f02d483d",
   "metadata": {},
   "outputs": [],
   "source": [
    "write.table(widerAvgTable,\"results/earlyWiderAvgLRTable.csv\",sep = \",\")"
   ]
  },
  {
   "cell_type": "code",
   "execution_count": 244,
   "id": "987b1f7e-dead-4e38-bf24-f001ad1f905c",
   "metadata": {},
   "outputs": [],
   "source": [
    "write.table(widerAvgTable,\"results/lateWiderAvgLRTable.csv\",sep = \",\")"
   ]
  },
  {
   "cell_type": "markdown",
   "id": "116c29b5-c1c7-4c8f-a896-a3a2bd1d9e52",
   "metadata": {},
   "source": [
    "## persampleLRtable"
   ]
  },
  {
   "cell_type": "code",
   "execution_count": 11,
   "id": "cb3dadf3-c9fd-411e-858a-fcfa2ed19ae7",
   "metadata": {},
   "outputs": [],
   "source": [
    "persampleLRtable=vector(\"list\",length = length(sampleID))\n",
    "names(persampleLRtable)=sampleID"
   ]
  },
  {
   "cell_type": "code",
   "execution_count": 12,
   "id": "ab2a8a7e-a791-4cb7-8e08-a554eff73444",
   "metadata": {},
   "outputs": [],
   "source": [
    "for(i in seq_along(sampleID)){\n",
    "df=LRalltable%>%filter(sampleID %in% !!sampleID[i])\n",
    "df=df%>%mutate(celltype=str_c(celltype1,celltype2,sep = \"_\"))\n",
    "avgTable=df%>%group_by(celltype)%>%summarise(n=n(),LRavg=sum(LRnum)/50)\n",
    "avgTable=avgTable%>%separate(celltype,into = c(\"celltype1\",\"celltype2\"),sep = \"_\")%>%select(-n)\n",
    "widerAvgTable=avgTable%>%pivot_wider(names_from = celltype2,values_from = LRavg,values_fill=0)\n",
    "widerAvgTable=widerAvgTable%>%column_to_rownames(\"celltype1\")\n",
    "celltypeID=rownames(widerAvgTable)\n",
    "colnames(widerAvgTable)=celltypeID\n",
    "widerAvgTable=as.matrix(widerAvgTable)\n",
    "persampleLRtable[[i]]=widerAvgTable\n",
    "    }"
   ]
  },
  {
   "cell_type": "code",
   "execution_count": 13,
   "id": "04db65b8-1ecb-40f7-94b5-9954f0e9bc72",
   "metadata": {},
   "outputs": [
    {
     "data": {
      "text/html": [
       "<table class=\"dataframe\">\n",
       "<caption>A matrix: 8 × 8 of type dbl</caption>\n",
       "<thead>\n",
       "\t<tr><th></th><th scope=col>Epi-Goblet</th><th scope=col>Epi-Mdga2</th><th scope=col>Epi-Mgst3</th><th scope=col>Epi-Mt3</th><th scope=col>Epi-Peak1</th><th scope=col>Epi-Ptprd</th><th scope=col>Epi-Saa1</th><th scope=col>Epi-Srgn</th></tr>\n",
       "</thead>\n",
       "<tbody>\n",
       "\t<tr><th scope=row>Epi-Goblet</th><td> 3.66</td><td> 7.60</td><td> 1.82</td><td>0.76</td><td> 5.72</td><td>17.56</td><td> 5.60</td><td> 7.06</td></tr>\n",
       "\t<tr><th scope=row>Epi-Mdga2</th><td> 9.56</td><td>20.14</td><td> 9.08</td><td>4.90</td><td>14.76</td><td>30.78</td><td>17.24</td><td> 8.80</td></tr>\n",
       "\t<tr><th scope=row>Epi-Mgst3</th><td> 3.32</td><td> 6.28</td><td> 4.38</td><td>2.44</td><td> 5.06</td><td>13.56</td><td> 6.34</td><td> 6.80</td></tr>\n",
       "\t<tr><th scope=row>Epi-Mt3</th><td> 2.76</td><td> 6.08</td><td> 4.16</td><td>4.06</td><td> 5.14</td><td>11.68</td><td> 5.94</td><td> 7.28</td></tr>\n",
       "\t<tr><th scope=row>Epi-Peak1</th><td> 5.62</td><td>14.22</td><td> 6.32</td><td>2.54</td><td>13.06</td><td>27.60</td><td>13.88</td><td> 7.90</td></tr>\n",
       "\t<tr><th scope=row>Epi-Ptprd</th><td>14.94</td><td>28.64</td><td>14.24</td><td>4.20</td><td>26.64</td><td>45.68</td><td>27.56</td><td>11.60</td></tr>\n",
       "\t<tr><th scope=row>Epi-Saa1</th><td>10.84</td><td>21.34</td><td>10.48</td><td>2.54</td><td>19.84</td><td>40.14</td><td>21.16</td><td>12.66</td></tr>\n",
       "\t<tr><th scope=row>Epi-Srgn</th><td> 3.34</td><td>10.88</td><td> 5.74</td><td>4.98</td><td> 9.08</td><td>21.10</td><td>12.46</td><td> 9.48</td></tr>\n",
       "</tbody>\n",
       "</table>\n"
      ],
      "text/latex": [
       "A matrix: 8 × 8 of type dbl\n",
       "\\begin{tabular}{r|llllllll}\n",
       "  & Epi-Goblet & Epi-Mdga2 & Epi-Mgst3 & Epi-Mt3 & Epi-Peak1 & Epi-Ptprd & Epi-Saa1 & Epi-Srgn\\\\\n",
       "\\hline\n",
       "\tEpi-Goblet &  3.66 &  7.60 &  1.82 & 0.76 &  5.72 & 17.56 &  5.60 &  7.06\\\\\n",
       "\tEpi-Mdga2 &  9.56 & 20.14 &  9.08 & 4.90 & 14.76 & 30.78 & 17.24 &  8.80\\\\\n",
       "\tEpi-Mgst3 &  3.32 &  6.28 &  4.38 & 2.44 &  5.06 & 13.56 &  6.34 &  6.80\\\\\n",
       "\tEpi-Mt3 &  2.76 &  6.08 &  4.16 & 4.06 &  5.14 & 11.68 &  5.94 &  7.28\\\\\n",
       "\tEpi-Peak1 &  5.62 & 14.22 &  6.32 & 2.54 & 13.06 & 27.60 & 13.88 &  7.90\\\\\n",
       "\tEpi-Ptprd & 14.94 & 28.64 & 14.24 & 4.20 & 26.64 & 45.68 & 27.56 & 11.60\\\\\n",
       "\tEpi-Saa1 & 10.84 & 21.34 & 10.48 & 2.54 & 19.84 & 40.14 & 21.16 & 12.66\\\\\n",
       "\tEpi-Srgn &  3.34 & 10.88 &  5.74 & 4.98 &  9.08 & 21.10 & 12.46 &  9.48\\\\\n",
       "\\end{tabular}\n"
      ],
      "text/markdown": [
       "\n",
       "A matrix: 8 × 8 of type dbl\n",
       "\n",
       "| <!--/--> | Epi-Goblet | Epi-Mdga2 | Epi-Mgst3 | Epi-Mt3 | Epi-Peak1 | Epi-Ptprd | Epi-Saa1 | Epi-Srgn |\n",
       "|---|---|---|---|---|---|---|---|---|\n",
       "| Epi-Goblet |  3.66 |  7.60 |  1.82 | 0.76 |  5.72 | 17.56 |  5.60 |  7.06 |\n",
       "| Epi-Mdga2 |  9.56 | 20.14 |  9.08 | 4.90 | 14.76 | 30.78 | 17.24 |  8.80 |\n",
       "| Epi-Mgst3 |  3.32 |  6.28 |  4.38 | 2.44 |  5.06 | 13.56 |  6.34 |  6.80 |\n",
       "| Epi-Mt3 |  2.76 |  6.08 |  4.16 | 4.06 |  5.14 | 11.68 |  5.94 |  7.28 |\n",
       "| Epi-Peak1 |  5.62 | 14.22 |  6.32 | 2.54 | 13.06 | 27.60 | 13.88 |  7.90 |\n",
       "| Epi-Ptprd | 14.94 | 28.64 | 14.24 | 4.20 | 26.64 | 45.68 | 27.56 | 11.60 |\n",
       "| Epi-Saa1 | 10.84 | 21.34 | 10.48 | 2.54 | 19.84 | 40.14 | 21.16 | 12.66 |\n",
       "| Epi-Srgn |  3.34 | 10.88 |  5.74 | 4.98 |  9.08 | 21.10 | 12.46 |  9.48 |\n",
       "\n"
      ],
      "text/plain": [
       "           Epi-Goblet Epi-Mdga2 Epi-Mgst3 Epi-Mt3 Epi-Peak1 Epi-Ptprd Epi-Saa1\n",
       "Epi-Goblet  3.66       7.60      1.82     0.76     5.72     17.56      5.60   \n",
       "Epi-Mdga2   9.56      20.14      9.08     4.90    14.76     30.78     17.24   \n",
       "Epi-Mgst3   3.32       6.28      4.38     2.44     5.06     13.56      6.34   \n",
       "Epi-Mt3     2.76       6.08      4.16     4.06     5.14     11.68      5.94   \n",
       "Epi-Peak1   5.62      14.22      6.32     2.54    13.06     27.60     13.88   \n",
       "Epi-Ptprd  14.94      28.64     14.24     4.20    26.64     45.68     27.56   \n",
       "Epi-Saa1   10.84      21.34     10.48     2.54    19.84     40.14     21.16   \n",
       "Epi-Srgn    3.34      10.88      5.74     4.98     9.08     21.10     12.46   \n",
       "           Epi-Srgn\n",
       "Epi-Goblet  7.06   \n",
       "Epi-Mdga2   8.80   \n",
       "Epi-Mgst3   6.80   \n",
       "Epi-Mt3     7.28   \n",
       "Epi-Peak1   7.90   \n",
       "Epi-Ptprd  11.60   \n",
       "Epi-Saa1   12.66   \n",
       "Epi-Srgn    9.48   "
      ]
     },
     "metadata": {},
     "output_type": "display_data"
    }
   ],
   "source": [
    "persampleLRtable[[1]]"
   ]
  },
  {
   "cell_type": "code",
   "execution_count": null,
   "id": "62d28b55-e2d9-4c69-b2d5-6f18a63748bf",
   "metadata": {},
   "outputs": [],
   "source": [
    "avgLRnum=vector(\"numeric\",length = length(sampleID))\n",
    "for(i in seq_along(sampleID)){\n",
    "avgLRnum[i]=sum(persampleLRtable[[i]])\n",
    "    }\n",
    "sampleID\n",
    "avgLRnum"
   ]
  },
  {
   "cell_type": "code",
   "execution_count": 15,
   "id": "0b24b196-3df9-4342-8279-782b4612ab85",
   "metadata": {},
   "outputs": [],
   "source": [
    "saveRDS(persampleLRtable,\"results/persampleLRtable.rds\")"
   ]
  },
  {
   "cell_type": "markdown",
   "id": "fa8aa7a2-610d-4922-a558-4d803ca22fab",
   "metadata": {},
   "source": [
    "# make cellnumTable"
   ]
  },
  {
   "cell_type": "code",
   "execution_count": 82,
   "id": "701a2635-4d8b-405e-96a9-7d351b6fba73",
   "metadata": {},
   "outputs": [],
   "source": [
    "longCellNum=function(DS){\n",
    "    file=str_c(\"/data2/xiangwei/projects/zhaolian/16cellchat/cellchatEpidownsample/\",\n",
    "           DS,\"/results/\",\"cellnum.csv\",sep=\"\")\n",
    "    cellNumTable=read.table(file,sep = \",\")\n",
    "    cellNumTable=cellNumTable%>%rownames_to_column(var=\"celltype\")%>%pivot_longer(-celltype,names_to = \"sampleID\",values_to = \"cellnum\")%>%\n",
    "mutate(dsID=DS)\n",
    "}"
   ]
  },
  {
   "cell_type": "code",
   "execution_count": 84,
   "id": "0cf5ad38-d223-4c1b-9824-f956f5684950",
   "metadata": {},
   "outputs": [],
   "source": [
    "cellnumAllTable=map_dfr(dsID,longCellNum)"
   ]
  },
  {
   "cell_type": "code",
   "execution_count": null,
   "id": "cf905930-5ab1-4904-a5e8-a5c4975c85aa",
   "metadata": {},
   "outputs": [],
   "source": [
    "#10celltype*11sample*50times=5500\n",
    "dim(cellnumAllTable)\n",
    "head(cellnumAllTable)"
   ]
  },
  {
   "cell_type": "code",
   "execution_count": 164,
   "id": "dabb50db-9642-4950-a9fa-4c09ed00f352",
   "metadata": {},
   "outputs": [
    {
     "data": {
      "text/plain": [
       "\n",
       "      WT1       WT2   X132_T1   X142_T2 X142_T5.4   X148_T1   X148_T3   X151_T4 \n",
       "      500       500       500       500       500       500       500       500 \n",
       "   X17_T4    X18_T3    X18_T4 \n",
       "      500       500       500 "
      ]
     },
     "metadata": {},
     "output_type": "display_data"
    }
   ],
   "source": [
    "table(cellnumAllTable$sampleID)"
   ]
  },
  {
   "cell_type": "markdown",
   "id": "304a8cb5-b789-4760-b186-dd0e11a0f1f5",
   "metadata": {},
   "source": [
    "## wtCellNumTable"
   ]
  },
  {
   "cell_type": "code",
   "execution_count": 162,
   "id": "375a4718-bce1-4e58-bc17-867a1207640a",
   "metadata": {},
   "outputs": [
    {
     "data": {
      "text/html": [
       "<style>\n",
       ".list-inline {list-style: none; margin:0; padding: 0}\n",
       ".list-inline>li {display: inline-block}\n",
       ".list-inline>li:not(:last-child)::after {content: \"\\00b7\"; padding: 0 .5ex}\n",
       "</style>\n",
       "<ol class=list-inline><li>1000</li><li>4</li></ol>\n"
      ],
      "text/latex": [
       "\\begin{enumerate*}\n",
       "\\item 1000\n",
       "\\item 4\n",
       "\\end{enumerate*}\n"
      ],
      "text/markdown": [
       "1. 1000\n",
       "2. 4\n",
       "\n",
       "\n"
      ],
      "text/plain": [
       "[1] 1000    4"
      ]
     },
     "metadata": {},
     "output_type": "display_data"
    }
   ],
   "source": [
    "wtCellNumTable=cellnumAllTable%>%filter(sampleID %in% c(\"WT1\",\"WT2\"))\n",
    "dim(wtCellNumTable)"
   ]
  },
  {
   "cell_type": "markdown",
   "id": "4392dcdc-7a45-400c-95ce-e8de4fda1319",
   "metadata": {},
   "source": [
    "## earlyCellNumTable"
   ]
  },
  {
   "cell_type": "code",
   "execution_count": 165,
   "id": "312a838d-7ada-4b15-8f9b-e2a18cb1ae70",
   "metadata": {},
   "outputs": [
    {
     "data": {
      "text/html": [
       "<style>\n",
       ".list-inline {list-style: none; margin:0; padding: 0}\n",
       ".list-inline>li {display: inline-block}\n",
       ".list-inline>li:not(:last-child)::after {content: \"\\00b7\"; padding: 0 .5ex}\n",
       "</style>\n",
       "<ol class=list-inline><li>3000</li><li>4</li></ol>\n"
      ],
      "text/latex": [
       "\\begin{enumerate*}\n",
       "\\item 3000\n",
       "\\item 4\n",
       "\\end{enumerate*}\n"
      ],
      "text/markdown": [
       "1. 3000\n",
       "2. 4\n",
       "\n",
       "\n"
      ],
      "text/plain": [
       "[1] 3000    4"
      ]
     },
     "metadata": {},
     "output_type": "display_data"
    }
   ],
   "source": [
    "earlyCellNumTable=cellnumAllTable%>%filter(sampleID %in% c(\"X132_T1\",\"X142_T2\",\"X18_T3\",\"X18_T4\",\"X17_T4\",\"X151_T4\"))\n",
    "dim(earlyCellNumTable)"
   ]
  },
  {
   "cell_type": "markdown",
   "id": "41b9ebed-cd86-4ebe-aacc-9b5a170e3717",
   "metadata": {},
   "source": [
    "## lateCellNumTable"
   ]
  },
  {
   "cell_type": "code",
   "execution_count": 168,
   "id": "5d589ebf-0ee8-4052-a2f1-b584edf567ba",
   "metadata": {},
   "outputs": [
    {
     "data": {
      "text/html": [
       "<style>\n",
       ".list-inline {list-style: none; margin:0; padding: 0}\n",
       ".list-inline>li {display: inline-block}\n",
       ".list-inline>li:not(:last-child)::after {content: \"\\00b7\"; padding: 0 .5ex}\n",
       "</style>\n",
       "<ol class=list-inline><li>1500</li><li>4</li></ol>\n"
      ],
      "text/latex": [
       "\\begin{enumerate*}\n",
       "\\item 1500\n",
       "\\item 4\n",
       "\\end{enumerate*}\n"
      ],
      "text/markdown": [
       "1. 1500\n",
       "2. 4\n",
       "\n",
       "\n"
      ],
      "text/plain": [
       "[1] 1500    4"
      ]
     },
     "metadata": {},
     "output_type": "display_data"
    }
   ],
   "source": [
    "lateCellNumTable=cellnumAllTable%>%filter(sampleID %in% c(\"X148_T1\",\"X148_T3\",\"X142_T5.4\"))\n",
    "dim(lateCellNumTable)"
   ]
  },
  {
   "cell_type": "code",
   "execution_count": 170,
   "id": "87f9f89c-4197-43ff-9342-9a019352d9c1",
   "metadata": {},
   "outputs": [],
   "source": [
    "celldf=wtCellNumTable"
   ]
  },
  {
   "cell_type": "code",
   "execution_count": 175,
   "id": "4730091a-3c38-480e-8234-3d77f266eca1",
   "metadata": {},
   "outputs": [],
   "source": [
    "celldf=earlyCellNumTable"
   ]
  },
  {
   "cell_type": "code",
   "execution_count": 180,
   "id": "aa2aed9a-6ca0-4ebd-81cb-dc5360364abf",
   "metadata": {},
   "outputs": [],
   "source": [
    "celldf=lateCellNumTable"
   ]
  },
  {
   "cell_type": "code",
   "execution_count": 181,
   "id": "76d0ffec-41ba-4ce7-b174-6b08e10150f7",
   "metadata": {},
   "outputs": [
    {
     "data": {
      "text/plain": [
       "\n",
       "X142_T5.4   X148_T1   X148_T3 \n",
       "      500       500       500 "
      ]
     },
     "metadata": {},
     "output_type": "display_data"
    }
   ],
   "source": [
    "table(celldf$sampleID)"
   ]
  },
  {
   "cell_type": "code",
   "execution_count": 182,
   "id": "b56a72cb-ebef-4cc7-80f5-077592c75e06",
   "metadata": {},
   "outputs": [],
   "source": [
    "avgCellTable=celldf%>%group_by(celltype)%>%summarise(n=n(),cellNumAvg=mean(cellnum))"
   ]
  },
  {
   "cell_type": "code",
   "execution_count": 174,
   "id": "ca3405f3-bd1f-492f-ad2b-21c538fae610",
   "metadata": {},
   "outputs": [],
   "source": [
    "write.table(avgCellTable,\"results/WTavgCellNumTable.csv\",sep = \",\")"
   ]
  },
  {
   "cell_type": "code",
   "execution_count": 179,
   "id": "a1b59e80-f45f-444b-abf2-be36db31a02e",
   "metadata": {},
   "outputs": [],
   "source": [
    "write.table(avgCellTable,\"results/earlyAvgCellNumTable.csv\",sep = \",\")"
   ]
  },
  {
   "cell_type": "code",
   "execution_count": 184,
   "id": "80b4a1d3-24d4-4bb8-bd3a-3ef7f7055465",
   "metadata": {},
   "outputs": [],
   "source": [
    "write.table(avgCellTable,\"results/lateAvgCellNumTable.csv\",sep = \",\")"
   ]
  },
  {
   "cell_type": "markdown",
   "id": "fa681b64-8489-4927-adbd-6cd1c30063fd",
   "metadata": {},
   "source": [
    "## persampleCellNum"
   ]
  },
  {
   "cell_type": "code",
   "execution_count": 330,
   "id": "7ec76afe-187c-4b08-bf7c-02c66cdc81f6",
   "metadata": {},
   "outputs": [],
   "source": [
    "         #c(\"148_T1\",\"148_T3\",\"142_T5-4\",\"132_T1\",\"142_T2\",\"18_T3\",\"18_T4\",\"17_T4\",\"151_T4\",\"WT1\",\"WT2\")\n",
    "sampleIDX=c(\"X148_T1\",\"X148_T3\",\"X142_T5.4\",\"X132_T1\",\"X142_T2\",\"X18_T3\",\"X18_T4\",\"X17_T4\",\"X151_T4\",\"WT1\",\"WT2\")"
   ]
  },
  {
   "cell_type": "code",
   "execution_count": 331,
   "id": "bfe8213b-768f-4ea4-a675-1c648a15636b",
   "metadata": {},
   "outputs": [],
   "source": [
    "persampleCellNum=vector(\"list\",length = length(sampleID))\n",
    "names(persampleCellNum)=sampleID"
   ]
  },
  {
   "cell_type": "code",
   "execution_count": 332,
   "id": "f4412a3a-8e30-4beb-8abb-489d590c42c4",
   "metadata": {},
   "outputs": [],
   "source": [
    "for(i in seq_along(sampleID)){\n",
    "celldf=cellnumAllTable%>%filter(sampleID %in% !!sampleIDX[i])\n",
    "persampleCellNum[[i]]=celldf%>%group_by(celltype)%>%summarise(n=n(),cellNumAvg=mean(cellnum))\n",
    "    }"
   ]
  },
  {
   "cell_type": "markdown",
   "id": "9091c744-787c-4ff8-b303-9976e7c8ea3e",
   "metadata": {},
   "source": [
    "#  plot"
   ]
  },
  {
   "cell_type": "markdown",
   "id": "b78da8cf-bb7b-4937-a5e8-1b42d8a0ba75",
   "metadata": {},
   "source": [
    "## max value"
   ]
  },
  {
   "cell_type": "code",
   "execution_count": 346,
   "id": "74f91784-aeb6-4b13-94ee-3d6ff01784ab",
   "metadata": {},
   "outputs": [],
   "source": [
    "sampleGroupSize=vector(\"numeric\",length = length(sampleID))\n",
    "sampleCount=vector(\"numeric\",length = length(sampleID))"
   ]
  },
  {
   "cell_type": "code",
   "execution_count": 351,
   "id": "addbf475-a90f-486f-8c9f-56843f803aa6",
   "metadata": {},
   "outputs": [
    {
     "data": {
      "text/html": [
       "<style>\n",
       ".list-inline {list-style: none; margin:0; padding: 0}\n",
       ".list-inline>li {display: inline-block}\n",
       ".list-inline>li:not(:last-child)::after {content: \"\\00b7\"; padding: 0 .5ex}\n",
       "</style>\n",
       "<ol class=list-inline><li>'148_T1'</li><li>'148_T3'</li><li>'142_T5-4'</li><li>'132_T1'</li><li>'142_T2'</li><li>'18_T3'</li><li>'18_T4'</li><li>'17_T4'</li><li>'151_T4'</li><li>'WT1'</li><li>'WT2'</li></ol>\n"
      ],
      "text/latex": [
       "\\begin{enumerate*}\n",
       "\\item '148\\_T1'\n",
       "\\item '148\\_T3'\n",
       "\\item '142\\_T5-4'\n",
       "\\item '132\\_T1'\n",
       "\\item '142\\_T2'\n",
       "\\item '18\\_T3'\n",
       "\\item '18\\_T4'\n",
       "\\item '17\\_T4'\n",
       "\\item '151\\_T4'\n",
       "\\item 'WT1'\n",
       "\\item 'WT2'\n",
       "\\end{enumerate*}\n"
      ],
      "text/markdown": [
       "1. '148_T1'\n",
       "2. '148_T3'\n",
       "3. '142_T5-4'\n",
       "4. '132_T1'\n",
       "5. '142_T2'\n",
       "6. '18_T3'\n",
       "7. '18_T4'\n",
       "8. '17_T4'\n",
       "9. '151_T4'\n",
       "10. 'WT1'\n",
       "11. 'WT2'\n",
       "\n",
       "\n"
      ],
      "text/plain": [
       " [1] \"148_T1\"   \"148_T3\"   \"142_T5-4\" \"132_T1\"   \"142_T2\"   \"18_T3\"   \n",
       " [7] \"18_T4\"    \"17_T4\"    \"151_T4\"   \"WT1\"      \"WT2\"     "
      ]
     },
     "metadata": {},
     "output_type": "display_data"
    },
    {
     "data": {
      "text/html": [
       "299"
      ],
      "text/latex": [
       "299"
      ],
      "text/markdown": [
       "299"
      ],
      "text/plain": [
       "[1] 299"
      ]
     },
     "metadata": {},
     "output_type": "display_data"
    },
    {
     "data": {
      "text/html": [
       "67.36"
      ],
      "text/latex": [
       "67.36"
      ],
      "text/markdown": [
       "67.36"
      ],
      "text/plain": [
       "[1] 67.36"
      ]
     },
     "metadata": {},
     "output_type": "display_data"
    }
   ],
   "source": [
    "for (i in seq_along(sampleID)) {\n",
    "  sampleGroupSize[i]=max(persampleCellNum[[i]]$cellNumAvg)\n",
    "  sampleCount[i]=max(persampleLRtable[[i]])\n",
    "}\n",
    "sampleID\n",
    "max(sampleGroupSize)\n",
    "max(sampleCount)"
   ]
  },
  {
   "cell_type": "markdown",
   "id": "e01ab860-40eb-4773-bf84-786ebe5c514e",
   "metadata": {},
   "source": [
    "## plot"
   ]
  },
  {
   "cell_type": "code",
   "execution_count": 401,
   "id": "6019e017-660c-404f-ad36-8ba1c4b52f3e",
   "metadata": {},
   "outputs": [],
   "source": [
    "numClusterCheck=vector(\"numeric\",length = 10)\n",
    "for (i in c(1:7,9:11)) {\n",
    "pdf(file = str_c(\"results/plot/\",sampleID[i],\"network.pdf\"),height = 5,width = 5)\n",
    "groupSize=persampleCellNum[[i]]%>%filter(cellNumAvg>6.89)\n",
    "numClusterCheck[i]=identical(nrow(persampleLRtable[[i]]),nrow(groupSize))\n",
    "netVisual_circle(persampleLRtable[[i]], vertex.weight = groupSize$cellNumAvg,idents.use = rownames(persampleLRtable[[i]]),\n",
    "                 vertex.weight.max = 299, edge.weight.max = 67.36,\n",
    "                 weight.scale = T, label.edge= F, \n",
    "                 )\n",
    "dev.off() \n",
    "}"
   ]
  },
  {
   "cell_type": "code",
   "execution_count": null,
   "id": "6143fd1f-8e7e-4fcf-a865-803fe1c889e6",
   "metadata": {},
   "outputs": [],
   "source": [
    "pdf(file = str_c(\"results/plot/\",sampleID[8],\"network.pdf\"),height = 5,width = 5)\n",
    "groupSize=persampleCellNum[[8]]%>%filter(cellNumAvg>1)\n",
    "netVisual_circle(persampleLRtable[[8]], vertex.weight = groupSize$cellNumAvg,idents.use = rownames(persampleLRtable[[8]]),\n",
    "                 vertex.weight.max = 299, edge.weight.max = 67.36,\n",
    "                 weight.scale = T, label.edge= F, \n",
    "                 )\n",
    "dev.off()"
   ]
  },
  {
   "cell_type": "code",
   "execution_count": 412,
   "id": "82cd4602-1d7a-4dbd-bc0a-02c11b40aaf0",
   "metadata": {},
   "outputs": [],
   "source": [
    "save.image(\"results/episum_image\")"
   ]
  },
  {
   "cell_type": "code",
   "execution_count": null,
   "id": "0ca77948-736e-4ad6-91ad-ef69ab0df410",
   "metadata": {},
   "outputs": [],
   "source": []
  }
 ],
 "metadata": {
  "kernelspec": {
   "display_name": "Rseurat5",
   "language": "R",
   "name": "rseurat5"
  },
  "language_info": {
   "codemirror_mode": "r",
   "file_extension": ".r",
   "mimetype": "text/x-r-source",
   "name": "R",
   "pygments_lexer": "r",
   "version": "4.3.1"
  }
 },
 "nbformat": 4,
 "nbformat_minor": 5
}
