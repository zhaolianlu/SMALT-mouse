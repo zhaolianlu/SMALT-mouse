{
 "cells": [
  {
   "cell_type": "code",
   "execution_count": null,
   "id": "81e106f3-666a-48c7-a2d9-b213e543665d",
   "metadata": {},
   "outputs": [],
   "source": [
    "library(tidyverse)\n",
    "library(writexl)"
   ]
  },
  {
   "cell_type": "markdown",
   "id": "c9ab2b09-5379-4a23-9fa8-c9279e18361c",
   "metadata": {},
   "source": [
    "# batch1"
   ]
  },
  {
   "cell_type": "code",
   "execution_count": 52,
   "id": "edd49703-1f19-41f3-8c39-2ac8adcb97e5",
   "metadata": {},
   "outputs": [],
   "source": [
    "sample_seq=c(\"17T4.176\",\"18T3.177\",\"18T4.178\",\n",
    "                    \"132T1.179\",\"151T4.181\")"
   ]
  },
  {
   "cell_type": "code",
   "execution_count": 53,
   "id": "cd4a2ae4-fee4-404d-b034-c6f48c37a1f1",
   "metadata": {},
   "outputs": [
    {
     "data": {
      "text/html": [
       "<style>\n",
       ".list-inline {list-style: none; margin:0; padding: 0}\n",
       ".list-inline>li {display: inline-block}\n",
       ".list-inline>li:not(:last-child)::after {content: \"\\00b7\"; padding: 0 .5ex}\n",
       "</style>\n",
       "<ol class=list-inline><li>'17T4'</li><li>'18T3'</li><li>'18T4'</li><li>'132T1'</li><li>'151T4'</li></ol>\n"
      ],
      "text/latex": [
       "\\begin{enumerate*}\n",
       "\\item '17T4'\n",
       "\\item '18T3'\n",
       "\\item '18T4'\n",
       "\\item '132T1'\n",
       "\\item '151T4'\n",
       "\\end{enumerate*}\n"
      ],
      "text/markdown": [
       "1. '17T4'\n",
       "2. '18T3'\n",
       "3. '18T4'\n",
       "4. '132T1'\n",
       "5. '151T4'\n",
       "\n",
       "\n"
      ],
      "text/plain": [
       "[1] \"17T4\"  \"18T3\"  \"18T4\"  \"132T1\" \"151T4\""
      ]
     },
     "metadata": {},
     "output_type": "display_data"
    }
   ],
   "source": [
    "samples=str_split_fixed(sample_seq,\"\\\\.\",2)[,1]\n",
    "samples"
   ]
  },
  {
   "cell_type": "code",
   "execution_count": 54,
   "id": "0fbf156c-b561-4573-9d9e-6c1191614256",
   "metadata": {},
   "outputs": [
    {
     "data": {
      "text/html": [
       "<strong>17T4:</strong> '/data2/xiangwei/projects/zhaolian_old/cellrangerMulti/run/17T4/outs/per_sample_outs/17T4/metrics_summary.csv'"
      ],
      "text/latex": [
       "\\textbf{17T4:} '/data2/xiangwei/projects/zhaolian\\_old/cellrangerMulti/run/17T4/outs/per\\_sample\\_outs/17T4/metrics\\_summary.csv'"
      ],
      "text/markdown": [
       "**17T4:** '/data2/xiangwei/projects/zhaolian_old/cellrangerMulti/run/17T4/outs/per_sample_outs/17T4/metrics_summary.csv'"
      ],
      "text/plain": [
       "                                                                                                          17T4 \n",
       "\"/data2/xiangwei/projects/zhaolian_old/cellrangerMulti/run/17T4/outs/per_sample_outs/17T4/metrics_summary.csv\" "
      ]
     },
     "metadata": {},
     "output_type": "display_data"
    }
   ],
   "source": [
    "files1 = str_c(\"/data2/xiangwei/projects/zhaolian_old/cellrangerMulti/run/\",\n",
    "              samples,\n",
    "              \"/outs/per_sample_outs/\",\n",
    "              samples,\n",
    "              \"/metrics_summary.csv\",sep = \"\")\n",
    "names(files1)=samples\n",
    "files1[1]"
   ]
  },
  {
   "cell_type": "code",
   "execution_count": null,
   "id": "788e5d00-7280-4cd0-b808-1aab40986e67",
   "metadata": {},
   "outputs": [],
   "source": [
    "QCres1= read_csv(files1)\n",
    "dim(QCres1)"
   ]
  },
  {
   "cell_type": "code",
   "execution_count": 56,
   "id": "98d69775-8276-476a-aa1c-b204fb819417",
   "metadata": {},
   "outputs": [
    {
     "data": {
      "text/html": [
       "395"
      ],
      "text/latex": [
       "395"
      ],
      "text/markdown": [
       "395"
      ],
      "text/plain": [
       "[1] 395"
      ]
     },
     "metadata": {},
     "output_type": "display_data"
    }
   ],
   "source": [
    "sampleID=rep(samples,each = 79)\n",
    "length(sampleID)"
   ]
  },
  {
   "cell_type": "code",
   "execution_count": 57,
   "id": "1e88df81-9df4-464f-8ad5-42fa0bcc2b24",
   "metadata": {},
   "outputs": [],
   "source": [
    "QCres1=QCres1%>%mutate(sampleID=sampleID)"
   ]
  },
  {
   "cell_type": "code",
   "execution_count": 58,
   "id": "83506bb9-43e0-41c9-880a-ed10fadcf1b5",
   "metadata": {},
   "outputs": [
    {
     "data": {
      "text/html": [
       "<table class=\"dataframe\">\n",
       "<caption>A tibble: 6 × 7</caption>\n",
       "<thead>\n",
       "\t<tr><th scope=col>Category</th><th scope=col>Library Type</th><th scope=col>Grouped By</th><th scope=col>Group Name</th><th scope=col>Metric Name</th><th scope=col>Metric Value</th><th scope=col>sampleID</th></tr>\n",
       "\t<tr><th scope=col>&lt;chr&gt;</th><th scope=col>&lt;chr&gt;</th><th scope=col>&lt;chr&gt;</th><th scope=col>&lt;chr&gt;</th><th scope=col>&lt;chr&gt;</th><th scope=col>&lt;chr&gt;</th><th scope=col>&lt;chr&gt;</th></tr>\n",
       "</thead>\n",
       "<tbody>\n",
       "\t<tr><td>Cells</td><td>Gene Expression</td><td>NA</td><td>NA</td><td>Cells                            </td><td>11,051</td><td>17T4</td></tr>\n",
       "\t<tr><td>Cells</td><td>Gene Expression</td><td>NA</td><td>NA</td><td>Confidently mapped reads in cells</td><td>60.10%</td><td>17T4</td></tr>\n",
       "\t<tr><td>Cells</td><td>Gene Expression</td><td>NA</td><td>NA</td><td>Median UMI counts per cell       </td><td>3,638 </td><td>17T4</td></tr>\n",
       "\t<tr><td>Cells</td><td>Gene Expression</td><td>NA</td><td>NA</td><td>Median genes per cell            </td><td>1,513 </td><td>17T4</td></tr>\n",
       "\t<tr><td>Cells</td><td>Gene Expression</td><td>NA</td><td>NA</td><td>Median reads per cell            </td><td>13,636</td><td>17T4</td></tr>\n",
       "\t<tr><td>Cells</td><td>Gene Expression</td><td>NA</td><td>NA</td><td>Total genes detected             </td><td>25,197</td><td>17T4</td></tr>\n",
       "</tbody>\n",
       "</table>\n"
      ],
      "text/latex": [
       "A tibble: 6 × 7\n",
       "\\begin{tabular}{lllllll}\n",
       " Category & Library Type & Grouped By & Group Name & Metric Name & Metric Value & sampleID\\\\\n",
       " <chr> & <chr> & <chr> & <chr> & <chr> & <chr> & <chr>\\\\\n",
       "\\hline\n",
       "\t Cells & Gene Expression & NA & NA & Cells                             & 11,051 & 17T4\\\\\n",
       "\t Cells & Gene Expression & NA & NA & Confidently mapped reads in cells & 60.10\\% & 17T4\\\\\n",
       "\t Cells & Gene Expression & NA & NA & Median UMI counts per cell        & 3,638  & 17T4\\\\\n",
       "\t Cells & Gene Expression & NA & NA & Median genes per cell             & 1,513  & 17T4\\\\\n",
       "\t Cells & Gene Expression & NA & NA & Median reads per cell             & 13,636 & 17T4\\\\\n",
       "\t Cells & Gene Expression & NA & NA & Total genes detected              & 25,197 & 17T4\\\\\n",
       "\\end{tabular}\n"
      ],
      "text/markdown": [
       "\n",
       "A tibble: 6 × 7\n",
       "\n",
       "| Category &lt;chr&gt; | Library Type &lt;chr&gt; | Grouped By &lt;chr&gt; | Group Name &lt;chr&gt; | Metric Name &lt;chr&gt; | Metric Value &lt;chr&gt; | sampleID &lt;chr&gt; |\n",
       "|---|---|---|---|---|---|---|\n",
       "| Cells | Gene Expression | NA | NA | Cells                             | 11,051 | 17T4 |\n",
       "| Cells | Gene Expression | NA | NA | Confidently mapped reads in cells | 60.10% | 17T4 |\n",
       "| Cells | Gene Expression | NA | NA | Median UMI counts per cell        | 3,638  | 17T4 |\n",
       "| Cells | Gene Expression | NA | NA | Median genes per cell             | 1,513  | 17T4 |\n",
       "| Cells | Gene Expression | NA | NA | Median reads per cell             | 13,636 | 17T4 |\n",
       "| Cells | Gene Expression | NA | NA | Total genes detected              | 25,197 | 17T4 |\n",
       "\n"
      ],
      "text/plain": [
       "  Category Library Type    Grouped By Group Name\n",
       "1 Cells    Gene Expression NA         NA        \n",
       "2 Cells    Gene Expression NA         NA        \n",
       "3 Cells    Gene Expression NA         NA        \n",
       "4 Cells    Gene Expression NA         NA        \n",
       "5 Cells    Gene Expression NA         NA        \n",
       "6 Cells    Gene Expression NA         NA        \n",
       "  Metric Name                       Metric Value sampleID\n",
       "1 Cells                             11,051       17T4    \n",
       "2 Confidently mapped reads in cells 60.10%       17T4    \n",
       "3 Median UMI counts per cell        3,638        17T4    \n",
       "4 Median genes per cell             1,513        17T4    \n",
       "5 Median reads per cell             13,636       17T4    \n",
       "6 Total genes detected              25,197       17T4    "
      ]
     },
     "metadata": {},
     "output_type": "display_data"
    }
   ],
   "source": [
    "head(QCres1)"
   ]
  },
  {
   "cell_type": "code",
   "execution_count": 59,
   "id": "4f7a2ef9-af53-4d20-b81a-1a9475f56b5f",
   "metadata": {},
   "outputs": [],
   "source": [
    "cell_expression=QCres1%>%filter(`Library Type`==\"Gene Expression\")%>%\n",
    "filter(`Metric Name`==\"Cells\"|\n",
    "       `Metric Name`==\"Median reads per cell\"|\n",
    "       `Metric Name`==\"Confidently mapped reads in cells\"|\n",
    "       `Metric Name`==\"Median UMI counts per cell\"|\n",
    "       `Metric Name`==\"Median genes per cell\"|\n",
    "       `Metric Name`==\"Total genes detected\"|\n",
    "       `Metric Name`==\"Q30 RNA read\"|\n",
    "       `Metric Name`==\"Sequencing saturation\")%>%\n",
    "select(sampleID,`Metric Name`,`Metric Value`)%>%\n",
    "group_by(sampleID)%>%distinct(`Metric Name`,.keep_all = T)%>%\n",
    "pivot_wider(names_from = `Metric Name`,values_from = `Metric Value`)"
   ]
  },
  {
   "cell_type": "code",
   "execution_count": 60,
   "id": "b7d74fa7-8cb7-4ffc-a8b9-aad2085719e5",
   "metadata": {},
   "outputs": [
    {
     "data": {
      "text/html": [
       "<table class=\"dataframe\">\n",
       "<caption>A grouped_df: 5 × 9</caption>\n",
       "<thead>\n",
       "\t<tr><th scope=col>sampleID</th><th scope=col>Cells</th><th scope=col>Confidently mapped reads in cells</th><th scope=col>Median UMI counts per cell</th><th scope=col>Median genes per cell</th><th scope=col>Median reads per cell</th><th scope=col>Total genes detected</th><th scope=col>Q30 RNA read</th><th scope=col>Sequencing saturation</th></tr>\n",
       "\t<tr><th scope=col>&lt;chr&gt;</th><th scope=col>&lt;chr&gt;</th><th scope=col>&lt;chr&gt;</th><th scope=col>&lt;chr&gt;</th><th scope=col>&lt;chr&gt;</th><th scope=col>&lt;chr&gt;</th><th scope=col>&lt;chr&gt;</th><th scope=col>&lt;chr&gt;</th><th scope=col>&lt;chr&gt;</th></tr>\n",
       "</thead>\n",
       "<tbody>\n",
       "\t<tr><td>17T4 </td><td>11,051</td><td>60.10%</td><td>3,638</td><td>1,513</td><td>13,636</td><td>25,197</td><td>92.1%</td><td>47.78%</td></tr>\n",
       "\t<tr><td>18T3 </td><td>6,356 </td><td>63.72%</td><td>7,122</td><td>2,686</td><td>25,834</td><td>25,298</td><td>92.2%</td><td>54.80%</td></tr>\n",
       "\t<tr><td>18T4 </td><td>2,516 </td><td>63.35%</td><td>6,399</td><td>2,156</td><td>83,966</td><td>23,500</td><td>86.3%</td><td>77.78%</td></tr>\n",
       "\t<tr><td>132T1</td><td>5,683 </td><td>70.96%</td><td>5,706</td><td>2,026</td><td>25,493</td><td>24,859</td><td>93.3%</td><td>60.38%</td></tr>\n",
       "\t<tr><td>151T4</td><td>6,500 </td><td>65.79%</td><td>6,182</td><td>2,408</td><td>25,465</td><td>24,657</td><td>92.9%</td><td>56.77%</td></tr>\n",
       "</tbody>\n",
       "</table>\n"
      ],
      "text/latex": [
       "A grouped\\_df: 5 × 9\n",
       "\\begin{tabular}{lllllllll}\n",
       " sampleID & Cells & Confidently mapped reads in cells & Median UMI counts per cell & Median genes per cell & Median reads per cell & Total genes detected & Q30 RNA read & Sequencing saturation\\\\\n",
       " <chr> & <chr> & <chr> & <chr> & <chr> & <chr> & <chr> & <chr> & <chr>\\\\\n",
       "\\hline\n",
       "\t 17T4  & 11,051 & 60.10\\% & 3,638 & 1,513 & 13,636 & 25,197 & 92.1\\% & 47.78\\%\\\\\n",
       "\t 18T3  & 6,356  & 63.72\\% & 7,122 & 2,686 & 25,834 & 25,298 & 92.2\\% & 54.80\\%\\\\\n",
       "\t 18T4  & 2,516  & 63.35\\% & 6,399 & 2,156 & 83,966 & 23,500 & 86.3\\% & 77.78\\%\\\\\n",
       "\t 132T1 & 5,683  & 70.96\\% & 5,706 & 2,026 & 25,493 & 24,859 & 93.3\\% & 60.38\\%\\\\\n",
       "\t 151T4 & 6,500  & 65.79\\% & 6,182 & 2,408 & 25,465 & 24,657 & 92.9\\% & 56.77\\%\\\\\n",
       "\\end{tabular}\n"
      ],
      "text/markdown": [
       "\n",
       "A grouped_df: 5 × 9\n",
       "\n",
       "| sampleID &lt;chr&gt; | Cells &lt;chr&gt; | Confidently mapped reads in cells &lt;chr&gt; | Median UMI counts per cell &lt;chr&gt; | Median genes per cell &lt;chr&gt; | Median reads per cell &lt;chr&gt; | Total genes detected &lt;chr&gt; | Q30 RNA read &lt;chr&gt; | Sequencing saturation &lt;chr&gt; |\n",
       "|---|---|---|---|---|---|---|---|---|\n",
       "| 17T4  | 11,051 | 60.10% | 3,638 | 1,513 | 13,636 | 25,197 | 92.1% | 47.78% |\n",
       "| 18T3  | 6,356  | 63.72% | 7,122 | 2,686 | 25,834 | 25,298 | 92.2% | 54.80% |\n",
       "| 18T4  | 2,516  | 63.35% | 6,399 | 2,156 | 83,966 | 23,500 | 86.3% | 77.78% |\n",
       "| 132T1 | 5,683  | 70.96% | 5,706 | 2,026 | 25,493 | 24,859 | 93.3% | 60.38% |\n",
       "| 151T4 | 6,500  | 65.79% | 6,182 | 2,408 | 25,465 | 24,657 | 92.9% | 56.77% |\n",
       "\n"
      ],
      "text/plain": [
       "  sampleID Cells  Confidently mapped reads in cells Median UMI counts per cell\n",
       "1 17T4     11,051 60.10%                            3,638                     \n",
       "2 18T3     6,356  63.72%                            7,122                     \n",
       "3 18T4     2,516  63.35%                            6,399                     \n",
       "4 132T1    5,683  70.96%                            5,706                     \n",
       "5 151T4    6,500  65.79%                            6,182                     \n",
       "  Median genes per cell Median reads per cell Total genes detected Q30 RNA read\n",
       "1 1,513                 13,636                25,197               92.1%       \n",
       "2 2,686                 25,834                25,298               92.2%       \n",
       "3 2,156                 83,966                23,500               86.3%       \n",
       "4 2,026                 25,493                24,859               93.3%       \n",
       "5 2,408                 25,465                24,657               92.9%       \n",
       "  Sequencing saturation\n",
       "1 47.78%               \n",
       "2 54.80%               \n",
       "3 77.78%               \n",
       "4 60.38%               \n",
       "5 56.77%               "
      ]
     },
     "metadata": {},
     "output_type": "display_data"
    }
   ],
   "source": [
    "head(cell_expression)"
   ]
  },
  {
   "cell_type": "code",
   "execution_count": 61,
   "id": "4ab378f7-60a1-42ba-991f-d5f08acc3196",
   "metadata": {},
   "outputs": [],
   "source": [
    "write.table(cell_expression,\"results/batch1QC.csv\")"
   ]
  },
  {
   "cell_type": "markdown",
   "id": "3d8e246a-ec54-4c31-b7f1-b7c1567b5cfb",
   "metadata": {},
   "source": [
    "# batch2"
   ]
  },
  {
   "cell_type": "code",
   "execution_count": 62,
   "id": "6e37ea56-1f5d-4aeb-8f82-9c27302fd161",
   "metadata": {},
   "outputs": [],
   "source": [
    "sample_seq=c(\"142T2.234\",\"142T54.236\",\"148T1.238\",\"148T3.239\")"
   ]
  },
  {
   "cell_type": "code",
   "execution_count": 63,
   "id": "c79cc67d-3223-48a3-93a5-8e063d18fc94",
   "metadata": {},
   "outputs": [
    {
     "data": {
      "text/html": [
       "<style>\n",
       ".list-inline {list-style: none; margin:0; padding: 0}\n",
       ".list-inline>li {display: inline-block}\n",
       ".list-inline>li:not(:last-child)::after {content: \"\\00b7\"; padding: 0 .5ex}\n",
       "</style>\n",
       "<ol class=list-inline><li>'142T2'</li><li>'142T54'</li><li>'148T1'</li><li>'148T3'</li></ol>\n"
      ],
      "text/latex": [
       "\\begin{enumerate*}\n",
       "\\item '142T2'\n",
       "\\item '142T54'\n",
       "\\item '148T1'\n",
       "\\item '148T3'\n",
       "\\end{enumerate*}\n"
      ],
      "text/markdown": [
       "1. '142T2'\n",
       "2. '142T54'\n",
       "3. '148T1'\n",
       "4. '148T3'\n",
       "\n",
       "\n"
      ],
      "text/plain": [
       "[1] \"142T2\"  \"142T54\" \"148T1\"  \"148T3\" "
      ]
     },
     "metadata": {},
     "output_type": "display_data"
    }
   ],
   "source": [
    "samples=str_split_fixed(sample_seq,\"\\\\.\",2)[,1]\n",
    "samples"
   ]
  },
  {
   "cell_type": "code",
   "execution_count": 64,
   "id": "15116250-ff75-426b-82cd-cba03df2596e",
   "metadata": {},
   "outputs": [
    {
     "data": {
      "text/html": [
       "<strong>142T2:</strong> '/data2/xiangwei/projects/zhaolian/01cellrangerMulti/batch2/run/142T2/outs/per_sample_outs/142T2/metrics_summary.csv'"
      ],
      "text/latex": [
       "\\textbf{142T2:} '/data2/xiangwei/projects/zhaolian/01cellrangerMulti/batch2/run/142T2/outs/per\\_sample\\_outs/142T2/metrics\\_summary.csv'"
      ],
      "text/markdown": [
       "**142T2:** '/data2/xiangwei/projects/zhaolian/01cellrangerMulti/batch2/run/142T2/outs/per_sample_outs/142T2/metrics_summary.csv'"
      ],
      "text/plain": [
       "                                                                                                                142T2 \n",
       "\"/data2/xiangwei/projects/zhaolian/01cellrangerMulti/batch2/run/142T2/outs/per_sample_outs/142T2/metrics_summary.csv\" "
      ]
     },
     "metadata": {},
     "output_type": "display_data"
    }
   ],
   "source": [
    "files2 = str_c(\"/data2/xiangwei/projects/zhaolian/01cellrangerMulti/batch2/run/\",\n",
    "              samples,\n",
    "              \"/outs/per_sample_outs/\",\n",
    "              samples,\n",
    "              \"/metrics_summary.csv\",sep = \"\")\n",
    "names(files2)=samples\n",
    "files2[1]"
   ]
  },
  {
   "cell_type": "code",
   "execution_count": null,
   "id": "572106d3-5c3e-407b-9cbe-3ea9eb88928c",
   "metadata": {},
   "outputs": [],
   "source": [
    "QCres2= read_csv(files2)\n",
    "dim(QCres2)"
   ]
  },
  {
   "cell_type": "code",
   "execution_count": 66,
   "id": "4a6b5b8e-7435-4be5-955d-d30ac34a889f",
   "metadata": {},
   "outputs": [
    {
     "data": {
      "text/html": [
       "316"
      ],
      "text/latex": [
       "316"
      ],
      "text/markdown": [
       "316"
      ],
      "text/plain": [
       "[1] 316"
      ]
     },
     "metadata": {},
     "output_type": "display_data"
    }
   ],
   "source": [
    "sampleID=rep(samples,each = 79)\n",
    "length(sampleID)"
   ]
  },
  {
   "cell_type": "code",
   "execution_count": 67,
   "id": "c66d3970-290a-4c51-9bd3-73a8701c01f1",
   "metadata": {},
   "outputs": [],
   "source": [
    "QCres2=QCres2%>%mutate(sampleID=sampleID)"
   ]
  },
  {
   "cell_type": "code",
   "execution_count": 68,
   "id": "507655cb-3175-4308-8ddc-8a17e4816b4d",
   "metadata": {},
   "outputs": [
    {
     "data": {
      "text/html": [
       "<table class=\"dataframe\">\n",
       "<caption>A tibble: 6 × 7</caption>\n",
       "<thead>\n",
       "\t<tr><th scope=col>Category</th><th scope=col>Library Type</th><th scope=col>Grouped By</th><th scope=col>Group Name</th><th scope=col>Metric Name</th><th scope=col>Metric Value</th><th scope=col>sampleID</th></tr>\n",
       "\t<tr><th scope=col>&lt;chr&gt;</th><th scope=col>&lt;chr&gt;</th><th scope=col>&lt;chr&gt;</th><th scope=col>&lt;chr&gt;</th><th scope=col>&lt;chr&gt;</th><th scope=col>&lt;chr&gt;</th><th scope=col>&lt;chr&gt;</th></tr>\n",
       "</thead>\n",
       "<tbody>\n",
       "\t<tr><td>Cells</td><td>Gene Expression</td><td>NA</td><td>NA</td><td>Cells                            </td><td>6,937 </td><td>142T2</td></tr>\n",
       "\t<tr><td>Cells</td><td>Gene Expression</td><td>NA</td><td>NA</td><td>Confidently mapped reads in cells</td><td>83.91%</td><td>142T2</td></tr>\n",
       "\t<tr><td>Cells</td><td>Gene Expression</td><td>NA</td><td>NA</td><td>Median UMI counts per cell       </td><td>2,369 </td><td>142T2</td></tr>\n",
       "\t<tr><td>Cells</td><td>Gene Expression</td><td>NA</td><td>NA</td><td>Median genes per cell            </td><td>1,053 </td><td>142T2</td></tr>\n",
       "\t<tr><td>Cells</td><td>Gene Expression</td><td>NA</td><td>NA</td><td>Median reads per cell            </td><td>21,312</td><td>142T2</td></tr>\n",
       "\t<tr><td>Cells</td><td>Gene Expression</td><td>NA</td><td>NA</td><td>Total genes detected             </td><td>24,385</td><td>142T2</td></tr>\n",
       "</tbody>\n",
       "</table>\n"
      ],
      "text/latex": [
       "A tibble: 6 × 7\n",
       "\\begin{tabular}{lllllll}\n",
       " Category & Library Type & Grouped By & Group Name & Metric Name & Metric Value & sampleID\\\\\n",
       " <chr> & <chr> & <chr> & <chr> & <chr> & <chr> & <chr>\\\\\n",
       "\\hline\n",
       "\t Cells & Gene Expression & NA & NA & Cells                             & 6,937  & 142T2\\\\\n",
       "\t Cells & Gene Expression & NA & NA & Confidently mapped reads in cells & 83.91\\% & 142T2\\\\\n",
       "\t Cells & Gene Expression & NA & NA & Median UMI counts per cell        & 2,369  & 142T2\\\\\n",
       "\t Cells & Gene Expression & NA & NA & Median genes per cell             & 1,053  & 142T2\\\\\n",
       "\t Cells & Gene Expression & NA & NA & Median reads per cell             & 21,312 & 142T2\\\\\n",
       "\t Cells & Gene Expression & NA & NA & Total genes detected              & 24,385 & 142T2\\\\\n",
       "\\end{tabular}\n"
      ],
      "text/markdown": [
       "\n",
       "A tibble: 6 × 7\n",
       "\n",
       "| Category &lt;chr&gt; | Library Type &lt;chr&gt; | Grouped By &lt;chr&gt; | Group Name &lt;chr&gt; | Metric Name &lt;chr&gt; | Metric Value &lt;chr&gt; | sampleID &lt;chr&gt; |\n",
       "|---|---|---|---|---|---|---|\n",
       "| Cells | Gene Expression | NA | NA | Cells                             | 6,937  | 142T2 |\n",
       "| Cells | Gene Expression | NA | NA | Confidently mapped reads in cells | 83.91% | 142T2 |\n",
       "| Cells | Gene Expression | NA | NA | Median UMI counts per cell        | 2,369  | 142T2 |\n",
       "| Cells | Gene Expression | NA | NA | Median genes per cell             | 1,053  | 142T2 |\n",
       "| Cells | Gene Expression | NA | NA | Median reads per cell             | 21,312 | 142T2 |\n",
       "| Cells | Gene Expression | NA | NA | Total genes detected              | 24,385 | 142T2 |\n",
       "\n"
      ],
      "text/plain": [
       "  Category Library Type    Grouped By Group Name\n",
       "1 Cells    Gene Expression NA         NA        \n",
       "2 Cells    Gene Expression NA         NA        \n",
       "3 Cells    Gene Expression NA         NA        \n",
       "4 Cells    Gene Expression NA         NA        \n",
       "5 Cells    Gene Expression NA         NA        \n",
       "6 Cells    Gene Expression NA         NA        \n",
       "  Metric Name                       Metric Value sampleID\n",
       "1 Cells                             6,937        142T2   \n",
       "2 Confidently mapped reads in cells 83.91%       142T2   \n",
       "3 Median UMI counts per cell        2,369        142T2   \n",
       "4 Median genes per cell             1,053        142T2   \n",
       "5 Median reads per cell             21,312       142T2   \n",
       "6 Total genes detected              24,385       142T2   "
      ]
     },
     "metadata": {},
     "output_type": "display_data"
    }
   ],
   "source": [
    "head(QCres2)"
   ]
  },
  {
   "cell_type": "code",
   "execution_count": 69,
   "id": "5459f0c7-5900-4a0e-913d-a2311c8f7d54",
   "metadata": {},
   "outputs": [],
   "source": [
    "cell_expression=QCres2%>%filter(`Library Type`==\"Gene Expression\")%>%\n",
    "filter(`Metric Name`==\"Cells\"|\n",
    "       `Metric Name`==\"Median reads per cell\"|\n",
    "       `Metric Name`==\"Confidently mapped reads in cells\"|\n",
    "       `Metric Name`==\"Median UMI counts per cell\"|\n",
    "       `Metric Name`==\"Median genes per cell\"|\n",
    "       `Metric Name`==\"Total genes detected\"|\n",
    "       `Metric Name`==\"Q30 RNA read\"|\n",
    "       `Metric Name`==\"Sequencing saturation\")%>%\n",
    "select(sampleID,`Metric Name`,`Metric Value`)%>%\n",
    "group_by(sampleID)%>%distinct(`Metric Name`,.keep_all = T)%>%\n",
    "pivot_wider(names_from = `Metric Name`,values_from = `Metric Value`)"
   ]
  },
  {
   "cell_type": "code",
   "execution_count": 70,
   "id": "88907129-9438-4800-8916-c62791972d08",
   "metadata": {},
   "outputs": [
    {
     "data": {
      "text/html": [
       "<table class=\"dataframe\">\n",
       "<caption>A grouped_df: 4 × 9</caption>\n",
       "<thead>\n",
       "\t<tr><th scope=col>sampleID</th><th scope=col>Cells</th><th scope=col>Confidently mapped reads in cells</th><th scope=col>Median UMI counts per cell</th><th scope=col>Median genes per cell</th><th scope=col>Median reads per cell</th><th scope=col>Total genes detected</th><th scope=col>Q30 RNA read</th><th scope=col>Sequencing saturation</th></tr>\n",
       "\t<tr><th scope=col>&lt;chr&gt;</th><th scope=col>&lt;chr&gt;</th><th scope=col>&lt;chr&gt;</th><th scope=col>&lt;chr&gt;</th><th scope=col>&lt;chr&gt;</th><th scope=col>&lt;chr&gt;</th><th scope=col>&lt;chr&gt;</th><th scope=col>&lt;chr&gt;</th><th scope=col>&lt;chr&gt;</th></tr>\n",
       "</thead>\n",
       "<tbody>\n",
       "\t<tr><td>142T2 </td><td>6,937</td><td>83.91%</td><td>2,369</td><td>1,053</td><td>21,312</td><td>24,385</td><td>92.1%</td><td>85.21%</td></tr>\n",
       "\t<tr><td>142T54</td><td>7,245</td><td>85.11%</td><td>2,447</td><td>1,045</td><td>22,813</td><td>24,271</td><td>92.2%</td><td>85.98%</td></tr>\n",
       "\t<tr><td>148T1 </td><td>8,130</td><td>88.31%</td><td>2,121</td><td>906  </td><td>23,450</td><td>23,611</td><td>92.0%</td><td>88.19%</td></tr>\n",
       "\t<tr><td>148T3 </td><td>6,061</td><td>79.06%</td><td>2,254</td><td>1,054</td><td>26,221</td><td>23,758</td><td>92.2%</td><td>87.76%</td></tr>\n",
       "</tbody>\n",
       "</table>\n"
      ],
      "text/latex": [
       "A grouped\\_df: 4 × 9\n",
       "\\begin{tabular}{lllllllll}\n",
       " sampleID & Cells & Confidently mapped reads in cells & Median UMI counts per cell & Median genes per cell & Median reads per cell & Total genes detected & Q30 RNA read & Sequencing saturation\\\\\n",
       " <chr> & <chr> & <chr> & <chr> & <chr> & <chr> & <chr> & <chr> & <chr>\\\\\n",
       "\\hline\n",
       "\t 142T2  & 6,937 & 83.91\\% & 2,369 & 1,053 & 21,312 & 24,385 & 92.1\\% & 85.21\\%\\\\\n",
       "\t 142T54 & 7,245 & 85.11\\% & 2,447 & 1,045 & 22,813 & 24,271 & 92.2\\% & 85.98\\%\\\\\n",
       "\t 148T1  & 8,130 & 88.31\\% & 2,121 & 906   & 23,450 & 23,611 & 92.0\\% & 88.19\\%\\\\\n",
       "\t 148T3  & 6,061 & 79.06\\% & 2,254 & 1,054 & 26,221 & 23,758 & 92.2\\% & 87.76\\%\\\\\n",
       "\\end{tabular}\n"
      ],
      "text/markdown": [
       "\n",
       "A grouped_df: 4 × 9\n",
       "\n",
       "| sampleID &lt;chr&gt; | Cells &lt;chr&gt; | Confidently mapped reads in cells &lt;chr&gt; | Median UMI counts per cell &lt;chr&gt; | Median genes per cell &lt;chr&gt; | Median reads per cell &lt;chr&gt; | Total genes detected &lt;chr&gt; | Q30 RNA read &lt;chr&gt; | Sequencing saturation &lt;chr&gt; |\n",
       "|---|---|---|---|---|---|---|---|---|\n",
       "| 142T2  | 6,937 | 83.91% | 2,369 | 1,053 | 21,312 | 24,385 | 92.1% | 85.21% |\n",
       "| 142T54 | 7,245 | 85.11% | 2,447 | 1,045 | 22,813 | 24,271 | 92.2% | 85.98% |\n",
       "| 148T1  | 8,130 | 88.31% | 2,121 | 906   | 23,450 | 23,611 | 92.0% | 88.19% |\n",
       "| 148T3  | 6,061 | 79.06% | 2,254 | 1,054 | 26,221 | 23,758 | 92.2% | 87.76% |\n",
       "\n"
      ],
      "text/plain": [
       "  sampleID Cells Confidently mapped reads in cells Median UMI counts per cell\n",
       "1 142T2    6,937 83.91%                            2,369                     \n",
       "2 142T54   7,245 85.11%                            2,447                     \n",
       "3 148T1    8,130 88.31%                            2,121                     \n",
       "4 148T3    6,061 79.06%                            2,254                     \n",
       "  Median genes per cell Median reads per cell Total genes detected Q30 RNA read\n",
       "1 1,053                 21,312                24,385               92.1%       \n",
       "2 1,045                 22,813                24,271               92.2%       \n",
       "3 906                   23,450                23,611               92.0%       \n",
       "4 1,054                 26,221                23,758               92.2%       \n",
       "  Sequencing saturation\n",
       "1 85.21%               \n",
       "2 85.98%               \n",
       "3 88.19%               \n",
       "4 87.76%               "
      ]
     },
     "metadata": {},
     "output_type": "display_data"
    }
   ],
   "source": [
    "head(cell_expression)"
   ]
  },
  {
   "cell_type": "code",
   "execution_count": 71,
   "id": "822993a7-ada5-46c3-9cd7-ce14d1ac1ef0",
   "metadata": {},
   "outputs": [],
   "source": [
    "write.table(cell_expression,\"results/batch2QC.csv\")"
   ]
  },
  {
   "cell_type": "code",
   "execution_count": null,
   "id": "f65477f0-ee65-4bd2-8abf-436e44615b87",
   "metadata": {},
   "outputs": [],
   "source": []
  }
 ],
 "metadata": {
  "kernelspec": {
   "display_name": "Rseurat5",
   "language": "R",
   "name": "rseurat5"
  },
  "language_info": {
   "codemirror_mode": "r",
   "file_extension": ".r",
   "mimetype": "text/x-r-source",
   "name": "R",
   "pygments_lexer": "r",
   "version": "4.3.1"
  }
 },
 "nbformat": 4,
 "nbformat_minor": 5
}
