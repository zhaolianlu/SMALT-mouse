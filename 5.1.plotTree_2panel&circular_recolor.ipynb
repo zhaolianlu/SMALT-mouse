{
 "cells": [
  {
   "cell_type": "code",
   "execution_count": 1,
   "id": "500bd294-703e-4d74-9955-3bb5fbba8cf3",
   "metadata": {
    "scrolled": true
   },
   "outputs": [
    {
     "name": "stderr",
     "output_type": "stream",
     "text": [
      "Registered S3 methods overwritten by 'treeio':\n",
      "  method              from    \n",
      "  MRCA.phylo          tidytree\n",
      "  MRCA.treedata       tidytree\n",
      "  Nnode.treedata      tidytree\n",
      "  Ntip.treedata       tidytree\n",
      "  ancestor.phylo      tidytree\n",
      "  ancestor.treedata   tidytree\n",
      "  child.phylo         tidytree\n",
      "  child.treedata      tidytree\n",
      "  full_join.phylo     tidytree\n",
      "  full_join.treedata  tidytree\n",
      "  groupClade.phylo    tidytree\n",
      "  groupClade.treedata tidytree\n",
      "  groupOTU.phylo      tidytree\n",
      "  groupOTU.treedata   tidytree\n",
      "  is.rooted.treedata  tidytree\n",
      "  nodeid.phylo        tidytree\n",
      "  nodeid.treedata     tidytree\n",
      "  nodelab.phylo       tidytree\n",
      "  nodelab.treedata    tidytree\n",
      "  offspring.phylo     tidytree\n",
      "  offspring.treedata  tidytree\n",
      "  parent.phylo        tidytree\n",
      "  parent.treedata     tidytree\n",
      "  root.treedata       tidytree\n",
      "  rootnode.phylo      tidytree\n",
      "  sibling.phylo       tidytree\n",
      "\n",
      "\u001b[90mggtree v3.6.2 For help: https://yulab-smu.top/treedata-book/\n",
      "\n",
      "If you use the ggtree package suite in published research, please cite\n",
      "the appropriate paper(s):\n",
      "\n",
      "Guangchuang Yu, David Smith, Huachen Zhu, Yi Guan, Tommy Tsan-Yuk Lam.\n",
      "ggtree: an R package for visualization and annotation of phylogenetic\n",
      "trees with their covariates and other associated data. Methods in\n",
      "Ecology and Evolution. 2017, 8(1):28-36. doi:10.1111/2041-210X.12628\n",
      "\n",
      "G Yu. Data Integration, Manipulation and Visualization of Phylogenetic\n",
      "Trees (1st ed.). Chapman and Hall/CRC. 2022. ISBN: 9781032233574\n",
      "\n",
      "S Xu, Z Dai, P Guo, X Fu, S Liu, L Zhou, W Tang, T Feng, M Chen, L\n",
      "Zhan, T Wu, E Hu, Y Jiang, X Bo, G Yu. ggtreeExtra: Compact\n",
      "visualization of richly annotated phylogenetic data. Molecular Biology\n",
      "and Evolution. 2021, 38(9):4039-4042. doi: 10.1093/molbev/msab166 \u001b[39m\n",
      "\n",
      "\u001b[90mtreeio v1.22.0 For help: https://yulab-smu.top/treedata-book/\n",
      "\n",
      "If you use the ggtree package suite in published research, please cite\n",
      "the appropriate paper(s):\n",
      "\n",
      "LG Wang, TTY Lam, S Xu, Z Dai, L Zhou, T Feng, P Guo, CW Dunn, BR\n",
      "Jones, T Bradley, H Zhu, Y Guan, Y Jiang, G Yu. treeio: an R package\n",
      "for phylogenetic tree input and output with richly annotated and\n",
      "associated data. Molecular Biology and Evolution. 2020, 37(2):599-603.\n",
      "doi: 10.1093/molbev/msz240\n",
      "\n",
      "Guangchuang Yu.  Data Integration, Manipulation and Visualization of\n",
      "Phylogenetic Trees (1st edition). Chapman and Hall/CRC. 2022,\n",
      "doi:10.1201/9781003279242\n",
      "\n",
      "Shuangbin Xu, Lin Li, Xiao Luo, Meijun Chen, Wenli Tang, Li Zhan, Zehan\n",
      "Dai, Tommy T. Lam, Yi Guan, Guangchuang Yu. Ggtree: A serialized data\n",
      "object for visualization of a phylogenetic tree and annotation data.\n",
      "iMeta 2022, 1(4):e56. doi:10.1002/imt2.56 \u001b[39m\n",
      "\n",
      "Loading required package: ape\n",
      "\n",
      "\n",
      "Attaching package: ‘ape’\n",
      "\n",
      "\n",
      "The following object is masked from ‘package:treeio’:\n",
      "\n",
      "    drop.tip\n",
      "\n",
      "\n",
      "The following object is masked from ‘package:ggtree’:\n",
      "\n",
      "    rotate\n",
      "\n",
      "\n",
      "Warning message:\n",
      "“package ‘data.table’ was built under R version 4.2.3”\n",
      "Warning message:\n",
      "“package ‘stringr’ was built under R version 4.2.3”\n",
      "Loading required package: BiocGenerics\n",
      "\n",
      "\n",
      "Attaching package: ‘BiocGenerics’\n",
      "\n",
      "\n",
      "The following objects are masked from ‘package:stats’:\n",
      "\n",
      "    IQR, mad, sd, var, xtabs\n",
      "\n",
      "\n",
      "The following objects are masked from ‘package:base’:\n",
      "\n",
      "    anyDuplicated, aperm, append, as.data.frame, basename, cbind,\n",
      "    colnames, dirname, do.call, duplicated, eval, evalq, Filter, Find,\n",
      "    get, grep, grepl, intersect, is.unsorted, lapply, Map, mapply,\n",
      "    match, mget, order, paste, pmax, pmax.int, pmin, pmin.int,\n",
      "    Position, rank, rbind, Reduce, rownames, sapply, setdiff, sort,\n",
      "    table, tapply, union, unique, unsplit, which.max, which.min\n",
      "\n",
      "\n",
      "Loading required package: S4Vectors\n",
      "\n",
      "Loading required package: stats4\n",
      "\n",
      "\n",
      "Attaching package: ‘S4Vectors’\n",
      "\n",
      "\n",
      "The following objects are masked from ‘package:data.table’:\n",
      "\n",
      "    first, second\n",
      "\n",
      "\n",
      "The following object is masked from ‘package:ggtree’:\n",
      "\n",
      "    expand\n",
      "\n",
      "\n",
      "The following objects are masked from ‘package:base’:\n",
      "\n",
      "    expand.grid, I, unname\n",
      "\n",
      "\n",
      "Loading required package: IRanges\n",
      "\n",
      "\n",
      "Attaching package: ‘IRanges’\n",
      "\n",
      "\n",
      "The following object is masked from ‘package:data.table’:\n",
      "\n",
      "    shift\n",
      "\n",
      "\n",
      "The following object is masked from ‘package:ggtree’:\n",
      "\n",
      "    collapse\n",
      "\n",
      "\n",
      "Loading required package: XVector\n",
      "\n",
      "Loading required package: GenomeInfoDb\n",
      "\n",
      "\n",
      "Attaching package: ‘Biostrings’\n",
      "\n",
      "\n",
      "The following object is masked from ‘package:ape’:\n",
      "\n",
      "    complement\n",
      "\n",
      "\n",
      "The following object is masked from ‘package:treeio’:\n",
      "\n",
      "    mask\n",
      "\n",
      "\n",
      "The following object is masked from ‘package:base’:\n",
      "\n",
      "    strsplit\n",
      "\n",
      "\n",
      "Warning message:\n",
      "“package ‘ggpubr’ was built under R version 4.2.3”\n",
      "\n",
      "Attaching package: ‘ggpubr’\n",
      "\n",
      "\n",
      "The following object is masked from ‘package:ape’:\n",
      "\n",
      "    rotate\n",
      "\n",
      "\n",
      "The following object is masked from ‘package:ggtree’:\n",
      "\n",
      "    rotate\n",
      "\n",
      "\n"
     ]
    }
   ],
   "source": [
    "library(ggtree)\n",
    "library(treeio)\n",
    "library(phangorn)\n",
    "library(data.table)\n",
    "library(ips)\n",
    "library(stringr)\n",
    "library(Biostrings)\n",
    "library(ggplot2)\n",
    "library(ggpubr)\n"
   ]
  },
  {
   "cell_type": "code",
   "execution_count": 16,
   "id": "d4b01e31-8332-4a4d-80dc-de90f5e6af3e",
   "metadata": {},
   "outputs": [
    {
     "data": {
      "text/html": [
       "160"
      ],
      "text/latex": [
       "160"
      ],
      "text/markdown": [
       "160"
      ],
      "text/plain": [
       "[1] 160"
      ]
     },
     "metadata": {},
     "output_type": "display_data"
    }
   ],
   "source": [
    "detectCores()"
   ]
  },
  {
   "cell_type": "code",
   "execution_count": 2,
   "id": "cda73717-4a46-44fb-8ae9-0f08384170f1",
   "metadata": {},
   "outputs": [],
   "source": [
    "##------------------------------------------------------------------------------\n",
    "##------------------------------------------------------------------------------\n",
    "# \"\"\"\n",
    "# Calculate mutation table\n",
    "# input: binary table from phy files\n",
    "# output: mutation count at each position as a data frame\n",
    "# \"\"\"\n",
    ".mutTable <- function(binaryTable){\n",
    "  binaryTable = data.frame(binaryTable,do.call(rbind,str_split(binaryTable$V2,\"\")))\n",
    "  binaryTable <- binaryTable[,-2]\n",
    "  setDF(binaryTable)\n",
    "  colnames(binaryTable)[1] <- \"name\"\n",
    "  s = c()\n",
    "  for(i in 2:ncol(binaryTable)) {\n",
    "    binaryTable[,i] <- as.numeric(binaryTable[,i])\n",
    "    s <- c(s, sum(binaryTable[,i]))\n",
    "  }\n",
    "  s <- which(s>0)+1\n",
    "  binaryTable <- binaryTable[, c(1,s)]\n",
    "  new <- lapply(as.list(unique(binaryTable$name)),function(my.name){\n",
    "    df <- data.frame()\n",
    "    temp <- binaryTable[binaryTable$name == my.name,]\n",
    "    temp <- temp[,which(temp>0)]\n",
    "    if(!is.null(ncol(temp))){\n",
    "      for(j in 2:ncol(temp)){\n",
    "        df <- rbind(df, data.table(name = my.name, \n",
    "                                   pos = as.numeric(gsub(\"X\",\"\",colnames(temp)[j])), \n",
    "                                   mut = 1))\n",
    "      }\n",
    "    }\n",
    "    return(df)\n",
    "  })\n",
    "  df <- rbindlist(new)\n",
    "  return(df)\n",
    "}\n",
    "\n",
    "##------------------------------------------------------------------------------\n",
    "##------------------------------------------------------------------------------\n",
    ".plotTree_rect_2panel <- function(samples, PHYDIR, TREEDIR,labNames,sampleSize=TRUE){\n",
    "  setwd(TREEDIR)\n",
    "  for(i in 1:length(samples)){\n",
    "    message(\"Calculating \",samples[i], \"...\")\n",
    "    biTable <- read.table(paste0(PHYDIR,samples[i],\"_filtered_re_rescale.substituted_tumor_treev2.3.0.nwk.modified.phy\"),header = F,\n",
    "                          colClasses=c(\"character\", \"character\"),sep = \" \",skip=1)\n",
    "    if(!file.exists(paste0(TREEDIR,samples[i],\"_genotype_info_ML.txt\"))){\n",
    "      ##---generate info table\n",
    "      tipnames = biTable$V1\n",
    "      if(length(strsplit(tipnames[2],\"_\")[[1]]) ==1){\n",
    "        d1 <- substr(tipnames, 1,1)\n",
    "      }else{\n",
    "        d1=sapply(tipnames,function(x){\n",
    "          y = strsplit(x,\"_\")[[1]]\n",
    "          if(length(y)>2){\n",
    "            paste0(y[1],\"_\",y[2])\n",
    "          }else{y[1]}\n",
    "        },USE.NAMES = FALSE)\n",
    "      }\n",
    "      d1 <- data.frame(class = d1)\n",
    "      d1$id <- tipnames\n",
    "      d1 <- d1[,c(2,1)]\n",
    "      write.table(d1, file = paste0(TREEDIR,samples[i],\"_genotype_info_ML.txt\"),sep= \"\\t\", row.names = F, quote = F)\n",
    "    }\n",
    "    df_info <- read.table(paste0(TREEDIR,samples[i],\"_genotype_info_ML.txt\"), sep = \"\\t\", header = T)\n",
    "    table(df_info$class)\n",
    "    grp <- sapply(as.list(unique(df_info$class)),function(i){df_info[df_info$class==i,]$id})\n",
    "    names(grp) <- unique(df_info$class)\n",
    "    \n",
    "    # df_info$class <- factor(df_info$class, levels = c(\"T\",\"r\",\"N\"))\n",
    "    print(table(df_info$class))\n",
    "    if(!file.exists(paste0(samples[i],\"_mutation_table.txt\"))){\n",
    "      df <- .mutTable(biTable)\n",
    "      write.table(df, file = paste0(samples[i],\"_mutation_table.txt\"),sep = \"\\t\",\n",
    "                  row.names = F, quote = F)\n",
    "    }\n",
    "    df <- read.delim(paste0(samples[i],\"_mutation_table.txt\"), header = T)\n",
    "    setDT(df)\n",
    "    df2 <- lapply(as.list(as.list(unique(df$name))),function(nC){\n",
    "      data.table(name=nC, numMut = df[name==nC, sum(mut)])\n",
    "    })\n",
    "    df2 <- rbindlist(df2)\n",
    "    tree <- read.tree(paste0(samples[i],\"_filtered_re_rescale.substituted_tumor_treev2.3.0.nwk\"))\n",
    "    ##------------------------------\n",
    "    ## trim tree\n",
    "    # re <- names(tip[which(tip <= quantile(tip, 0.01) | tip >= quantile(tip, 0.99))])\n",
    "    tip <- tipHeights(tree)\n",
    "    re <- names(tip[which(tip >100)])\n",
    "    tree <- drop.tip(tree,re)\n",
    "    tree <- drop.tip(tree,\"ref\")\n",
    "    s = tree$tip.label\n",
    "    s <- substr(s, 1,1)\n",
    "    df <- df[!name %in% re]\n",
    "    if(length(strsplit(df$name[2],\"_\")[[1]]) ==1){\n",
    "      df$group <- substr(df$name, 1,1)\n",
    "      table(df$group)\n",
    "    }else{\n",
    "      df$group=sapply(df$name,function(x){\n",
    "        y = strsplit(x,\"_\")[[1]]\n",
    "        if(length(y)>2){\n",
    "          paste0(y[1],\"_\",y[2])\n",
    "        }else{y[1]}\n",
    "      },USE.NAMES = FALSE)\n",
    "      table(df$group)\n",
    "    }\n",
    "    mycols1 = c(N=\"#4F9EC2\",T=\"#C44754\")#N=\"#2885A9\",T=\"#9F1F31\" \n",
    "    mycols2 = c(N=\"#4F9EC2\",P=\"#C44754\")#ref=\"#b3de69\", \n",
    "    mycols3 = c(\"#C44754\",\"#66A61E\",\"#1B9E77\",\"#7570B3\",\"#D95F02\",\"#E7298A\",\"#E6AB02\",\"#A6761D\",\"#fb9a99\",\"#666666\")##Dark2 panel\n",
    "    ##--------------------------------------------------------------------------\n",
    "    df_info <- df_info[df_info$class != \"ref\",]\n",
    "    if(length(unique(df_info$class))==2 & \"N\" %in% unique(df_info$class) & \n",
    "       \"T\" %in% unique(df_info$class)){\n",
    "      mycols = mycols1\n",
    "    }else if(length(unique(df_info$class))==2 & \"N\" %in% unique(df_info$class) & \n",
    "             \"P\" %in% unique(df_info$class)){\n",
    "      mycols = mycols2\n",
    "    }else{\n",
    "      if(\"N\" %in% unique(df_info$class)){mycols = c(N=\"#4F9EC2\")}else{mycols = c()}\n",
    "      classes = unique(df_info$class)\n",
    "      classes <- classes[!classes %in% c(\"N\",\"ref\")]\n",
    "      for(my.class in 1:length(classes)){\n",
    "        temp = mycols3[my.class]\n",
    "        names(temp) <- classes[my.class]\n",
    "        mycols <- c(mycols, temp)\n",
    "      }\n",
    "    }\n",
    "    \n",
    "    p <- ggtree(tree, layout = \"rectangular\")#+ theme_tree2()#+xlim(0,lims)\n",
    "    p <- p %<+% df_info + geom_tippoint(aes(color=class))+\n",
    "      scale_color_manual(values=mycols,name=NULL)\n",
    "    p <- p+geom_facet(panel = \"Mutation\", data = df, geom = geom_point,\n",
    "                      mapping=aes(x = pos, color = class), shape = \".\")+\n",
    "      # geom_facet(panel = \"Mutation numbers\", data = df2, geom = geom_bar, \n",
    "      #            mapping = aes(x=numMut, fill=class,name=NULL),orientation=\"y\", stat=\"identity\")+\n",
    "      scale_fill_manual(values=mycols,name=NULL)+\n",
    "      ggtitle(labNames[i])+theme_classic()+#theme_tree2() + \n",
    "      theme(text = element_text(size=26),plot.title = element_text(hjust = 0.5, size = 30))\n",
    "    if(sampleSize == TRUE){\n",
    "      p <- p+ggtitle(paste0(labNames[i],\" (n=\",scales::comma(nrow(df_info)),\")\"))\n",
    "    }else{\n",
    "      p <- p+ggtitle(labNames[i])\n",
    "    }\n",
    "    \n",
    "    print(p)\n",
    "  }\n",
    "}\n",
    "\n",
    "##------------------------------------------------------------------------------\n",
    "##------------------------------------------------------------------------------\n",
    "##------------------------------------------------------------------------------\n",
    "##------------------------------------------------------------------------------\n",
    ".plotTree <- function(samples, PHYDIR, TREEDIR,labNames, layOut = \"rectagular\", \n",
    "                      branchLength = \"branch.length\",colorTip=TRUE,logBranch=FALSE,sampleSize=TRUE){\n",
    "  setwd(TREEDIR)\n",
    "  p2 <- list()\n",
    "  for(i in 1:length(samples)){\n",
    "    message(\"Calculating \",samples[i], \"...\")\n",
    "    if(!file.exists(paste0(TREEDIR,samples[i],\"_genotype_info_ML.txt\"))){\n",
    "      biTable <- read.table(paste0(PHYDIR,samples[i],\"_filtered_re_rescale.substituted_tumor_treev2.3.0.nwk.modified.phy\"),header = F,\n",
    "                            colClasses=c(\"character\", \"character\"),sep = \" \",skip=1)\n",
    "      ##---generate info table\n",
    "      tipnames = biTable$V1\n",
    "      if(length(strsplit(tipnames[2],\"_\")[[1]]) ==1){\n",
    "        d1 <- substr(tipnames, 1,1)\n",
    "      }else{\n",
    "        d1=sapply(tipnames,function(x){\n",
    "          y = strsplit(x,\"_\")[[1]]\n",
    "          if(length(y)>2){\n",
    "            paste0(y[1],\"_\",y[2])\n",
    "          }else{y[1]}\n",
    "        },USE.NAMES = FALSE)\n",
    "      }\n",
    "      d1 <- data.frame(class = d1)\n",
    "      d1$id <- tipnames\n",
    "      d1 <- d1[,c(2,1)]\n",
    "      write.table(d1, file = paste0(TREEDIR,samples[i],\"_genotype_info_ML.txt\"),sep= \"\\t\", row.names = F, quote = F)\n",
    "    }\n",
    "    df_info <- read.table(paste0(samples[i],\"_genotype_info_ML.txt\"), sep = \"\\t\", header = T)\n",
    "    print(table(df_info$class))\n",
    "    grp <- sapply(as.list(unique(df_info$class)),function(i){df_info[df_info$class==i,]$id})\n",
    "    names(grp) <- unique(df_info$class)\n",
    "    grp <- grp[names(grp) != \"ref\"]\n",
    "    tree <- read.tree(paste0(samples[i],\"_filtered_re_rescale.substituted_tumor_treev2.3.0.nwk\"))\n",
    "    ##------------------------------\n",
    "    ## trim tree\n",
    "    # re <- names(tip[which(tip <= quantile(tip, 0.01) | tip >= quantile(tip, 0.99))])\n",
    "    tip <- tipHeights(tree)\n",
    "    if(logBranch){\n",
    "        tree$edge.length <- log(tree$edge.length+1)\n",
    "    }\n",
    "    re <- names(tip[which(tip >100)])\n",
    "    tree <- drop.tip(tree,re)\n",
    "    tree <- drop.tip(tree,\"ref\")\n",
    "    s = tree$tip.label\n",
    "    s <- substr(s, 1,1)\n",
    "    \n",
    "    mycols1 = c(N=\"#2885A9\",T=\"#9F1F31\")#ref=\"#b3de69\", \n",
    "    mycols2 = c(N=\"#2885A9\",P=\"#9F1F31\")#ref=\"#b3de69\", \n",
    "    mycols3 = c(\"#9F1F31\",\"#66A61E\",\"#1B9E77\",\"#7570B3\",\"#D95F02\",\"#E7298A\",\"#E6AB02\",\"#A6761D\",\"#fb9a99\",\"#666666\")##fb9a99#Dark2 panel\n",
    "    #mycols3 = c(\"#2885A9\")##fb9a99#Dark2 panel\n",
    "    ##--------------------------------------------------------------------------\n",
    "    df_info <- df_info[df_info$class != \"ref\",]\n",
    "    if(length(unique(df_info$class))==2 & \"N\" %in% unique(df_info$class) & \n",
    "       \"T\" %in% unique(df_info$class)){\n",
    "      mycols = mycols1\n",
    "    }else if(length(unique(df_info$class))==2 & \"N\" %in% unique(df_info$class) & \n",
    "             \"P\" %in% unique(df_info$class)){\n",
    "      mycols = mycols2\n",
    "    }else{\n",
    "      if(\"N\" %in% unique(df_info$class)){mycols = c(N=\"#2885A9\")}else{mycols = c()}\n",
    "      classes = unique(df_info$class)\n",
    "      classes <- classes[!classes %in% c(\"N\",\"ref\")]\n",
    "      for(my.class in 1:length(classes)){\n",
    "        temp = mycols3[my.class]\n",
    "        names(temp) <- classes[my.class]\n",
    "        mycols <- c(mycols, temp)\n",
    "      }\n",
    "    }\n",
    "    ##--------------------------------------------------------------------------\n",
    "    if(colorTip){\n",
    "      rownames(df_info) <- df_info$id\n",
    "      # p <- ggtree(tree, layout = \"circular\", branch.length = branchLength)\n",
    "      p <- ggtree(tree,aes(color=class), layout=layOut,branch.length = branchLength,size=0.1) %<+% df_info  \n",
    "      p <- p+scale_color_manual(values=mycols,name=NULL,na.value = \"#A2A2A2\")\n",
    "    }else{\n",
    "      p <- ggtree(tree, layout = layOut, branch.length = branchLength)\n",
    "      p <- p+scale_color_manual(values=mycols,name=NULL)\n",
    "    }\n",
    "\n",
    "    p <- gheatmap(p, df_info[,\"class\",drop=FALSE], offset=.8, width=.2, colnames = FALSE, color=NA) +\n",
    "    theme(legend.position =\"right\",legend.key.size = unit(0.5, 'cm'))+\n",
    "    scale_fill_manual(values=mycols,name=NULL)\n",
    "    p <- p+theme(text = element_text(size=12),plot.title = element_text(hjust = 0.5, size = 14))\n",
    "    ##--------------------------------------------------------------------------\n",
    "        \n",
    "    ##--------------------------------------------------------------------------\n",
    "    if(sampleSize == TRUE){\n",
    "      p <- p+ggtitle(paste0(labNames[i],\" (n=\",scales::comma(nrow(df_info)),\")\"))\n",
    "    }else{\n",
    "      p <- p+ggtitle(labNames[i])\n",
    "    }\n",
    "    p2[[i]] <- p\n",
    "  }\n",
    "  return(p2)\n",
    "}\n"
   ]
  },
  {
   "cell_type": "markdown",
   "id": "f469085b-4475-460c-9fc7-4fdc9d903eac",
   "metadata": {},
   "source": [
    "## 1. filteredNT_re"
   ]
  },
  {
   "cell_type": "code",
   "execution_count": 12,
   "id": "d799f9eb-a6bb-47d4-9490-4d3ca90ad9d3",
   "metadata": {
    "scrolled": true
   },
   "outputs": [
    {
     "name": "stderr",
     "output_type": "stream",
     "text": [
      "Calculating 151_T4...\n",
      "\n"
     ]
    },
    {
     "name": "stdout",
     "output_type": "stream",
     "text": [
      "\n",
      "  N ref  T4 \n",
      "288   1 406 \n"
     ]
    },
    {
     "name": "stderr",
     "output_type": "stream",
     "text": [
      "\u001b[36mℹ\u001b[39m \u001b[90minvalid tbl_tree object. Missing column: parent,node.\u001b[39m\n",
      "\n",
      "\u001b[36mℹ\u001b[39m \u001b[90minvalid tbl_tree object. Missing column: parent,node.\u001b[39m\n",
      "\n",
      "Calculating 47_T6...\n",
      "\n"
     ]
    },
    {
     "name": "stdout",
     "output_type": "stream",
     "text": [
      "\n",
      "   N  ref   T6 \n",
      "1043    1  101 \n"
     ]
    },
    {
     "name": "stderr",
     "output_type": "stream",
     "text": [
      "\u001b[36mℹ\u001b[39m \u001b[90minvalid tbl_tree object. Missing column: parent,node.\u001b[39m\n",
      "\n",
      "\u001b[36mℹ\u001b[39m \u001b[90minvalid tbl_tree object. Missing column: parent,node.\u001b[39m\n",
      "\n",
      "Calculating 47_T8...\n",
      "\n"
     ]
    },
    {
     "name": "stdout",
     "output_type": "stream",
     "text": [
      "\n",
      "   N  ref   T8 \n",
      "3434    1  668 \n"
     ]
    },
    {
     "name": "stderr",
     "output_type": "stream",
     "text": [
      "\u001b[36mℹ\u001b[39m \u001b[90minvalid tbl_tree object. Missing column: parent,node.\u001b[39m\n",
      "\n",
      "\u001b[36mℹ\u001b[39m \u001b[90minvalid tbl_tree object. Missing column: parent,node.\u001b[39m\n",
      "\n",
      "Calculating 17_T4...\n",
      "\n"
     ]
    },
    {
     "name": "stdout",
     "output_type": "stream",
     "text": [
      "\n",
      "  N ref  T4 \n",
      "337   1 282 \n"
     ]
    },
    {
     "name": "stderr",
     "output_type": "stream",
     "text": [
      "\u001b[36mℹ\u001b[39m \u001b[90minvalid tbl_tree object. Missing column: parent,node.\u001b[39m\n",
      "\n",
      "\u001b[36mℹ\u001b[39m \u001b[90minvalid tbl_tree object. Missing column: parent,node.\u001b[39m\n",
      "\n",
      "Calculating 19_T4...\n",
      "\n"
     ]
    },
    {
     "name": "stdout",
     "output_type": "stream",
     "text": [
      "\n",
      "   N  ref   T4 \n",
      "1358    1 1310 \n"
     ]
    },
    {
     "name": "stderr",
     "output_type": "stream",
     "text": [
      "\u001b[36mℹ\u001b[39m \u001b[90minvalid tbl_tree object. Missing column: parent,node.\u001b[39m\n",
      "\n",
      "\u001b[36mℹ\u001b[39m \u001b[90minvalid tbl_tree object. Missing column: parent,node.\u001b[39m\n",
      "\n",
      "Calculating 18_T4...\n",
      "\n"
     ]
    },
    {
     "name": "stdout",
     "output_type": "stream",
     "text": [
      "\n",
      "   N  ref   T4 \n",
      "1517    1  148 \n"
     ]
    },
    {
     "name": "stderr",
     "output_type": "stream",
     "text": [
      "\u001b[36mℹ\u001b[39m \u001b[90minvalid tbl_tree object. Missing column: parent,node.\u001b[39m\n",
      "\n",
      "\u001b[36mℹ\u001b[39m \u001b[90minvalid tbl_tree object. Missing column: parent,node.\u001b[39m\n",
      "\n",
      "Calculating 19_T5...\n",
      "\n"
     ]
    },
    {
     "name": "stdout",
     "output_type": "stream",
     "text": [
      "\n",
      "   N  ref   T5 \n",
      "1367    1  745 \n"
     ]
    },
    {
     "name": "stderr",
     "output_type": "stream",
     "text": [
      "\u001b[36mℹ\u001b[39m \u001b[90minvalid tbl_tree object. Missing column: parent,node.\u001b[39m\n",
      "\n",
      "\u001b[36mℹ\u001b[39m \u001b[90minvalid tbl_tree object. Missing column: parent,node.\u001b[39m\n",
      "\n",
      "Calculating 50_T...\n",
      "\n"
     ]
    },
    {
     "name": "stdout",
     "output_type": "stream",
     "text": [
      "\n",
      "   N  ref    T \n",
      "2132    1  978 \n"
     ]
    },
    {
     "name": "stderr",
     "output_type": "stream",
     "text": [
      "\u001b[36mℹ\u001b[39m \u001b[90minvalid tbl_tree object. Missing column: parent,node.\u001b[39m\n",
      "\n",
      "\u001b[36mℹ\u001b[39m \u001b[90minvalid tbl_tree object. Missing column: parent,node.\u001b[39m\n",
      "\n",
      "Calculating 18_T3...\n",
      "\n"
     ]
    },
    {
     "name": "stdout",
     "output_type": "stream",
     "text": [
      "\n",
      "   N  ref   T3 \n",
      "1503    1  995 \n"
     ]
    },
    {
     "name": "stderr",
     "output_type": "stream",
     "text": [
      "\u001b[36mℹ\u001b[39m \u001b[90minvalid tbl_tree object. Missing column: parent,node.\u001b[39m\n",
      "\n",
      "\u001b[36mℹ\u001b[39m \u001b[90minvalid tbl_tree object. Missing column: parent,node.\u001b[39m\n",
      "\n",
      "Calculating 142_T2...\n",
      "\n"
     ]
    },
    {
     "name": "stdout",
     "output_type": "stream",
     "text": [
      "\n",
      "   N  ref   T2 \n",
      "3217    1 5764 \n"
     ]
    },
    {
     "name": "stderr",
     "output_type": "stream",
     "text": [
      "\u001b[36mℹ\u001b[39m \u001b[90minvalid tbl_tree object. Missing column: parent,node.\u001b[39m\n",
      "\n",
      "\u001b[36mℹ\u001b[39m \u001b[90minvalid tbl_tree object. Missing column: parent,node.\u001b[39m\n",
      "\n",
      "Calculating 47_T4...\n",
      "\n"
     ]
    },
    {
     "name": "stdout",
     "output_type": "stream",
     "text": [
      "\n",
      "  N ref  T4 \n",
      "106   1 261 \n"
     ]
    },
    {
     "name": "stderr",
     "output_type": "stream",
     "text": [
      "\u001b[36mℹ\u001b[39m \u001b[90minvalid tbl_tree object. Missing column: parent,node.\u001b[39m\n",
      "\n",
      "\u001b[36mℹ\u001b[39m \u001b[90minvalid tbl_tree object. Missing column: parent,node.\u001b[39m\n",
      "\n",
      "Calculating 19_T1...\n",
      "\n"
     ]
    },
    {
     "name": "stdout",
     "output_type": "stream",
     "text": [
      "\n",
      "   N  ref   T1 \n",
      "1365    1  601 \n"
     ]
    },
    {
     "name": "stderr",
     "output_type": "stream",
     "text": [
      "\u001b[36mℹ\u001b[39m \u001b[90minvalid tbl_tree object. Missing column: parent,node.\u001b[39m\n",
      "\n",
      "\u001b[36mℹ\u001b[39m \u001b[90minvalid tbl_tree object. Missing column: parent,node.\u001b[39m\n",
      "\n",
      "Calculating 132_T1...\n",
      "\n"
     ]
    },
    {
     "name": "stdout",
     "output_type": "stream",
     "text": [
      "\n",
      "   N  ref   T1 \n",
      "1464    1 2615 \n"
     ]
    },
    {
     "name": "stderr",
     "output_type": "stream",
     "text": [
      "\u001b[36mℹ\u001b[39m \u001b[90minvalid tbl_tree object. Missing column: parent,node.\u001b[39m\n",
      "\n",
      "\u001b[36mℹ\u001b[39m \u001b[90minvalid tbl_tree object. Missing column: parent,node.\u001b[39m\n",
      "\n",
      "Calculating 47_T5...\n",
      "\n"
     ]
    },
    {
     "name": "stdout",
     "output_type": "stream",
     "text": [
      "\n",
      "  N ref  T5 \n",
      "432   1 659 \n"
     ]
    },
    {
     "name": "stderr",
     "output_type": "stream",
     "text": [
      "\u001b[36mℹ\u001b[39m \u001b[90minvalid tbl_tree object. Missing column: parent,node.\u001b[39m\n",
      "\n",
      "\u001b[36mℹ\u001b[39m \u001b[90minvalid tbl_tree object. Missing column: parent,node.\u001b[39m\n",
      "\n",
      "Calculating 148_T3...\n",
      "\n"
     ]
    },
    {
     "name": "stdout",
     "output_type": "stream",
     "text": [
      "\n",
      "   N  ref   T3 \n",
      "4064    1 2165 \n"
     ]
    },
    {
     "name": "stderr",
     "output_type": "stream",
     "text": [
      "\u001b[36mℹ\u001b[39m \u001b[90minvalid tbl_tree object. Missing column: parent,node.\u001b[39m\n",
      "\n",
      "\u001b[36mℹ\u001b[39m \u001b[90minvalid tbl_tree object. Missing column: parent,node.\u001b[39m\n",
      "\n",
      "Calculating 65_T3...\n",
      "\n"
     ]
    },
    {
     "name": "stdout",
     "output_type": "stream",
     "text": [
      "\n",
      "  N ref  T3 \n",
      "253   1 304 \n"
     ]
    },
    {
     "name": "stderr",
     "output_type": "stream",
     "text": [
      "\u001b[36mℹ\u001b[39m \u001b[90minvalid tbl_tree object. Missing column: parent,node.\u001b[39m\n",
      "\n",
      "\u001b[36mℹ\u001b[39m \u001b[90minvalid tbl_tree object. Missing column: parent,node.\u001b[39m\n",
      "\n",
      "Calculating 47_T1...\n",
      "\n"
     ]
    },
    {
     "name": "stdout",
     "output_type": "stream",
     "text": [
      "\n",
      "   N  ref   T1 \n",
      "2177    1  901 \n"
     ]
    },
    {
     "name": "stderr",
     "output_type": "stream",
     "text": [
      "\u001b[36mℹ\u001b[39m \u001b[90minvalid tbl_tree object. Missing column: parent,node.\u001b[39m\n",
      "\n",
      "\u001b[36mℹ\u001b[39m \u001b[90minvalid tbl_tree object. Missing column: parent,node.\u001b[39m\n",
      "\n",
      "Calculating 148_T1...\n",
      "\n"
     ]
    },
    {
     "name": "stdout",
     "output_type": "stream",
     "text": [
      "\n",
      "   N  ref   T1 \n",
      "4054    1 1527 \n"
     ]
    },
    {
     "name": "stderr",
     "output_type": "stream",
     "text": [
      "\u001b[36mℹ\u001b[39m \u001b[90minvalid tbl_tree object. Missing column: parent,node.\u001b[39m\n",
      "\n",
      "\u001b[36mℹ\u001b[39m \u001b[90minvalid tbl_tree object. Missing column: parent,node.\u001b[39m\n",
      "\n",
      "Calculating 5_T...\n",
      "\n"
     ]
    },
    {
     "name": "stdout",
     "output_type": "stream",
     "text": [
      "\n",
      "   N  ref    T \n",
      "3744    1 3615 \n"
     ]
    },
    {
     "name": "stderr",
     "output_type": "stream",
     "text": [
      "\u001b[36mℹ\u001b[39m \u001b[90minvalid tbl_tree object. Missing column: parent,node.\u001b[39m\n",
      "\n",
      "\u001b[36mℹ\u001b[39m \u001b[90minvalid tbl_tree object. Missing column: parent,node.\u001b[39m\n",
      "\n",
      "Calculating 19_T3...\n",
      "\n"
     ]
    },
    {
     "name": "stdout",
     "output_type": "stream",
     "text": [
      "\n",
      "   N  ref   T3 \n",
      "1366    1 1623 \n"
     ]
    },
    {
     "name": "stderr",
     "output_type": "stream",
     "text": [
      "\u001b[36mℹ\u001b[39m \u001b[90minvalid tbl_tree object. Missing column: parent,node.\u001b[39m\n",
      "\n",
      "\u001b[36mℹ\u001b[39m \u001b[90minvalid tbl_tree object. Missing column: parent,node.\u001b[39m\n",
      "\n",
      "Calculating 66_T...\n",
      "\n"
     ]
    },
    {
     "name": "stdout",
     "output_type": "stream",
     "text": [
      "\n",
      "   N  ref    T \n",
      "2018    1  373 \n"
     ]
    },
    {
     "name": "stderr",
     "output_type": "stream",
     "text": [
      "\u001b[36mℹ\u001b[39m \u001b[90minvalid tbl_tree object. Missing column: parent,node.\u001b[39m\n",
      "\n",
      "\u001b[36mℹ\u001b[39m \u001b[90minvalid tbl_tree object. Missing column: parent,node.\u001b[39m\n",
      "\n",
      "Calculating 4_T...\n",
      "\n"
     ]
    },
    {
     "name": "stdout",
     "output_type": "stream",
     "text": [
      "\n",
      "   N  ref    T \n",
      "1433    1 3493 \n"
     ]
    },
    {
     "name": "stderr",
     "output_type": "stream",
     "text": [
      "\u001b[36mℹ\u001b[39m \u001b[90minvalid tbl_tree object. Missing column: parent,node.\u001b[39m\n",
      "\n",
      "\u001b[36mℹ\u001b[39m \u001b[90minvalid tbl_tree object. Missing column: parent,node.\u001b[39m\n",
      "\n",
      "Calculating 16_T...\n",
      "\n"
     ]
    },
    {
     "name": "stdout",
     "output_type": "stream",
     "text": [
      "\n",
      "   N  ref    T \n",
      "3741    1 3517 \n"
     ]
    },
    {
     "name": "stderr",
     "output_type": "stream",
     "text": [
      "\u001b[36mℹ\u001b[39m \u001b[90minvalid tbl_tree object. Missing column: parent,node.\u001b[39m\n",
      "\n",
      "\u001b[36mℹ\u001b[39m \u001b[90minvalid tbl_tree object. Missing column: parent,node.\u001b[39m\n",
      "\n",
      "Calculating 142_T1...\n",
      "\n"
     ]
    },
    {
     "name": "stdout",
     "output_type": "stream",
     "text": [
      "\n",
      "   N  ref   T1 \n",
      "3155    1 5668 \n"
     ]
    },
    {
     "name": "stderr",
     "output_type": "stream",
     "text": [
      "\u001b[36mℹ\u001b[39m \u001b[90minvalid tbl_tree object. Missing column: parent,node.\u001b[39m\n",
      "\n",
      "\u001b[36mℹ\u001b[39m \u001b[90minvalid tbl_tree object. Missing column: parent,node.\u001b[39m\n",
      "\n",
      "Calculating 49_T1...\n",
      "\n"
     ]
    },
    {
     "name": "stdout",
     "output_type": "stream",
     "text": [
      "\n",
      "  N ref  T1 \n",
      "157   1 775 \n"
     ]
    },
    {
     "name": "stderr",
     "output_type": "stream",
     "text": [
      "\u001b[36mℹ\u001b[39m \u001b[90minvalid tbl_tree object. Missing column: parent,node.\u001b[39m\n",
      "\n",
      "\u001b[36mℹ\u001b[39m \u001b[90minvalid tbl_tree object. Missing column: parent,node.\u001b[39m\n",
      "\n",
      "Calculating 49_T3...\n",
      "\n"
     ]
    },
    {
     "name": "stdout",
     "output_type": "stream",
     "text": [
      "\n",
      "   N  ref   T3 \n",
      " 141    1 1568 \n"
     ]
    },
    {
     "name": "stderr",
     "output_type": "stream",
     "text": [
      "\u001b[36mℹ\u001b[39m \u001b[90minvalid tbl_tree object. Missing column: parent,node.\u001b[39m\n",
      "\n",
      "\u001b[36mℹ\u001b[39m \u001b[90minvalid tbl_tree object. Missing column: parent,node.\u001b[39m\n",
      "\n",
      "Calculating 65_T1...\n",
      "\n"
     ]
    },
    {
     "name": "stdout",
     "output_type": "stream",
     "text": [
      "\n",
      "  N ref  T1 \n",
      "251   1 115 \n"
     ]
    },
    {
     "name": "stderr",
     "output_type": "stream",
     "text": [
      "\u001b[36mℹ\u001b[39m \u001b[90minvalid tbl_tree object. Missing column: parent,node.\u001b[39m\n",
      "\n",
      "\u001b[36mℹ\u001b[39m \u001b[90minvalid tbl_tree object. Missing column: parent,node.\u001b[39m\n",
      "\n"
     ]
    },
    {
     "data": {
      "text/html": [
       "<strong>png:</strong> 2"
      ],
      "text/latex": [
       "\\textbf{png:} 2"
      ],
      "text/markdown": [
       "**png:** 2"
      ],
      "text/plain": [
       "png \n",
       "  2 "
      ]
     },
     "metadata": {},
     "output_type": "display_data"
    },
    {
     "name": "stderr",
     "output_type": "stream",
     "text": [
      "Calculating 151_T4...\n",
      "\n"
     ]
    },
    {
     "name": "stdout",
     "output_type": "stream",
     "text": [
      "\n",
      "  N ref  T4 \n",
      "288   1 406 \n"
     ]
    },
    {
     "name": "stderr",
     "output_type": "stream",
     "text": [
      "\u001b[33m!\u001b[39m # Invaild edge matrix for \u001b[34m\u001b[34m<phylo>\u001b[34m\u001b[39m. A \u001b[34m\u001b[34m<tbl_df>\u001b[34m\u001b[39m is returned.\n",
      "\n",
      "\u001b[33m!\u001b[39m # Invaild edge matrix for \u001b[34m\u001b[34m<phylo>\u001b[34m\u001b[39m. A \u001b[34m\u001b[34m<tbl_df>\u001b[34m\u001b[39m is returned.\n",
      "\n",
      "\u001b[36mℹ\u001b[39m \u001b[90minvalid tbl_tree object. Missing column: label.\u001b[39m\n",
      "\n",
      "\u001b[36mℹ\u001b[39m \u001b[90minvalid tbl_tree object. Missing column: label.\u001b[39m\n",
      "\n",
      "\u001b[33m!\u001b[39m # Invaild edge matrix for \u001b[34m\u001b[34m<phylo>\u001b[34m\u001b[39m. A \u001b[34m\u001b[34m<tbl_df>\u001b[34m\u001b[39m is returned.\n",
      "\n",
      "\u001b[33m!\u001b[39m # Invaild edge matrix for \u001b[34m\u001b[34m<phylo>\u001b[34m\u001b[39m. A \u001b[34m\u001b[34m<tbl_df>\u001b[34m\u001b[39m is returned.\n",
      "\n",
      "\u001b[1m\u001b[22mScale for \u001b[32my\u001b[39m is already present.\n",
      "Adding another scale for \u001b[32my\u001b[39m, which will replace the existing scale.\n",
      "\u001b[1m\u001b[22mScale for \u001b[32mfill\u001b[39m is already present.\n",
      "Adding another scale for \u001b[32mfill\u001b[39m, which will replace the existing scale.\n",
      "Calculating 47_T6...\n",
      "\n"
     ]
    },
    {
     "name": "stdout",
     "output_type": "stream",
     "text": [
      "\n",
      "   N  ref   T6 \n",
      "1043    1  101 \n"
     ]
    },
    {
     "name": "stderr",
     "output_type": "stream",
     "text": [
      "\u001b[33m!\u001b[39m # Invaild edge matrix for \u001b[34m\u001b[34m<phylo>\u001b[34m\u001b[39m. A \u001b[34m\u001b[34m<tbl_df>\u001b[34m\u001b[39m is returned.\n",
      "\n",
      "\u001b[33m!\u001b[39m # Invaild edge matrix for \u001b[34m\u001b[34m<phylo>\u001b[34m\u001b[39m. A \u001b[34m\u001b[34m<tbl_df>\u001b[34m\u001b[39m is returned.\n",
      "\n",
      "\u001b[36mℹ\u001b[39m \u001b[90minvalid tbl_tree object. Missing column: label.\u001b[39m\n",
      "\n",
      "\u001b[36mℹ\u001b[39m \u001b[90minvalid tbl_tree object. Missing column: label.\u001b[39m\n",
      "\n",
      "\u001b[33m!\u001b[39m # Invaild edge matrix for \u001b[34m\u001b[34m<phylo>\u001b[34m\u001b[39m. A \u001b[34m\u001b[34m<tbl_df>\u001b[34m\u001b[39m is returned.\n",
      "\n",
      "\u001b[33m!\u001b[39m # Invaild edge matrix for \u001b[34m\u001b[34m<phylo>\u001b[34m\u001b[39m. A \u001b[34m\u001b[34m<tbl_df>\u001b[34m\u001b[39m is returned.\n",
      "\n",
      "\u001b[1m\u001b[22mScale for \u001b[32my\u001b[39m is already present.\n",
      "Adding another scale for \u001b[32my\u001b[39m, which will replace the existing scale.\n",
      "\u001b[1m\u001b[22mScale for \u001b[32mfill\u001b[39m is already present.\n",
      "Adding another scale for \u001b[32mfill\u001b[39m, which will replace the existing scale.\n",
      "Calculating 47_T8...\n",
      "\n"
     ]
    },
    {
     "name": "stdout",
     "output_type": "stream",
     "text": [
      "\n",
      "   N  ref   T8 \n",
      "3434    1  668 \n"
     ]
    },
    {
     "name": "stderr",
     "output_type": "stream",
     "text": [
      "\u001b[33m!\u001b[39m # Invaild edge matrix for \u001b[34m\u001b[34m<phylo>\u001b[34m\u001b[39m. A \u001b[34m\u001b[34m<tbl_df>\u001b[34m\u001b[39m is returned.\n",
      "\n",
      "\u001b[33m!\u001b[39m # Invaild edge matrix for \u001b[34m\u001b[34m<phylo>\u001b[34m\u001b[39m. A \u001b[34m\u001b[34m<tbl_df>\u001b[34m\u001b[39m is returned.\n",
      "\n",
      "\u001b[36mℹ\u001b[39m \u001b[90minvalid tbl_tree object. Missing column: label.\u001b[39m\n",
      "\n",
      "\u001b[36mℹ\u001b[39m \u001b[90minvalid tbl_tree object. Missing column: label.\u001b[39m\n",
      "\n",
      "\u001b[33m!\u001b[39m # Invaild edge matrix for \u001b[34m\u001b[34m<phylo>\u001b[34m\u001b[39m. A \u001b[34m\u001b[34m<tbl_df>\u001b[34m\u001b[39m is returned.\n",
      "\n",
      "\u001b[33m!\u001b[39m # Invaild edge matrix for \u001b[34m\u001b[34m<phylo>\u001b[34m\u001b[39m. A \u001b[34m\u001b[34m<tbl_df>\u001b[34m\u001b[39m is returned.\n",
      "\n",
      "\u001b[1m\u001b[22mScale for \u001b[32my\u001b[39m is already present.\n",
      "Adding another scale for \u001b[32my\u001b[39m, which will replace the existing scale.\n",
      "\u001b[1m\u001b[22mScale for \u001b[32mfill\u001b[39m is already present.\n",
      "Adding another scale for \u001b[32mfill\u001b[39m, which will replace the existing scale.\n",
      "Calculating 17_T4...\n",
      "\n"
     ]
    },
    {
     "name": "stdout",
     "output_type": "stream",
     "text": [
      "\n",
      "  N ref  T4 \n",
      "337   1 282 \n"
     ]
    },
    {
     "name": "stderr",
     "output_type": "stream",
     "text": [
      "\u001b[33m!\u001b[39m # Invaild edge matrix for \u001b[34m\u001b[34m<phylo>\u001b[34m\u001b[39m. A \u001b[34m\u001b[34m<tbl_df>\u001b[34m\u001b[39m is returned.\n",
      "\n",
      "\u001b[33m!\u001b[39m # Invaild edge matrix for \u001b[34m\u001b[34m<phylo>\u001b[34m\u001b[39m. A \u001b[34m\u001b[34m<tbl_df>\u001b[34m\u001b[39m is returned.\n",
      "\n",
      "\u001b[36mℹ\u001b[39m \u001b[90minvalid tbl_tree object. Missing column: label.\u001b[39m\n",
      "\n",
      "\u001b[36mℹ\u001b[39m \u001b[90minvalid tbl_tree object. Missing column: label.\u001b[39m\n",
      "\n",
      "\u001b[33m!\u001b[39m # Invaild edge matrix for \u001b[34m\u001b[34m<phylo>\u001b[34m\u001b[39m. A \u001b[34m\u001b[34m<tbl_df>\u001b[34m\u001b[39m is returned.\n",
      "\n",
      "\u001b[33m!\u001b[39m # Invaild edge matrix for \u001b[34m\u001b[34m<phylo>\u001b[34m\u001b[39m. A \u001b[34m\u001b[34m<tbl_df>\u001b[34m\u001b[39m is returned.\n",
      "\n",
      "\u001b[1m\u001b[22mScale for \u001b[32my\u001b[39m is already present.\n",
      "Adding another scale for \u001b[32my\u001b[39m, which will replace the existing scale.\n",
      "\u001b[1m\u001b[22mScale for \u001b[32mfill\u001b[39m is already present.\n",
      "Adding another scale for \u001b[32mfill\u001b[39m, which will replace the existing scale.\n",
      "Calculating 19_T4...\n",
      "\n"
     ]
    },
    {
     "name": "stdout",
     "output_type": "stream",
     "text": [
      "\n",
      "   N  ref   T4 \n",
      "1358    1 1310 \n"
     ]
    },
    {
     "name": "stderr",
     "output_type": "stream",
     "text": [
      "\u001b[33m!\u001b[39m # Invaild edge matrix for \u001b[34m\u001b[34m<phylo>\u001b[34m\u001b[39m. A \u001b[34m\u001b[34m<tbl_df>\u001b[34m\u001b[39m is returned.\n",
      "\n",
      "\u001b[33m!\u001b[39m # Invaild edge matrix for \u001b[34m\u001b[34m<phylo>\u001b[34m\u001b[39m. A \u001b[34m\u001b[34m<tbl_df>\u001b[34m\u001b[39m is returned.\n",
      "\n",
      "\u001b[36mℹ\u001b[39m \u001b[90minvalid tbl_tree object. Missing column: label.\u001b[39m\n",
      "\n",
      "\u001b[36mℹ\u001b[39m \u001b[90minvalid tbl_tree object. Missing column: label.\u001b[39m\n",
      "\n",
      "\u001b[33m!\u001b[39m # Invaild edge matrix for \u001b[34m\u001b[34m<phylo>\u001b[34m\u001b[39m. A \u001b[34m\u001b[34m<tbl_df>\u001b[34m\u001b[39m is returned.\n",
      "\n",
      "\u001b[33m!\u001b[39m # Invaild edge matrix for \u001b[34m\u001b[34m<phylo>\u001b[34m\u001b[39m. A \u001b[34m\u001b[34m<tbl_df>\u001b[34m\u001b[39m is returned.\n",
      "\n",
      "\u001b[1m\u001b[22mScale for \u001b[32my\u001b[39m is already present.\n",
      "Adding another scale for \u001b[32my\u001b[39m, which will replace the existing scale.\n",
      "\u001b[1m\u001b[22mScale for \u001b[32mfill\u001b[39m is already present.\n",
      "Adding another scale for \u001b[32mfill\u001b[39m, which will replace the existing scale.\n",
      "Calculating 18_T4...\n",
      "\n"
     ]
    },
    {
     "name": "stdout",
     "output_type": "stream",
     "text": [
      "\n",
      "   N  ref   T4 \n",
      "1517    1  148 \n"
     ]
    },
    {
     "name": "stderr",
     "output_type": "stream",
     "text": [
      "\u001b[33m!\u001b[39m # Invaild edge matrix for \u001b[34m\u001b[34m<phylo>\u001b[34m\u001b[39m. A \u001b[34m\u001b[34m<tbl_df>\u001b[34m\u001b[39m is returned.\n",
      "\n",
      "\u001b[33m!\u001b[39m # Invaild edge matrix for \u001b[34m\u001b[34m<phylo>\u001b[34m\u001b[39m. A \u001b[34m\u001b[34m<tbl_df>\u001b[34m\u001b[39m is returned.\n",
      "\n",
      "\u001b[36mℹ\u001b[39m \u001b[90minvalid tbl_tree object. Missing column: label.\u001b[39m\n",
      "\n",
      "\u001b[36mℹ\u001b[39m \u001b[90minvalid tbl_tree object. Missing column: label.\u001b[39m\n",
      "\n",
      "\u001b[33m!\u001b[39m # Invaild edge matrix for \u001b[34m\u001b[34m<phylo>\u001b[34m\u001b[39m. A \u001b[34m\u001b[34m<tbl_df>\u001b[34m\u001b[39m is returned.\n",
      "\n",
      "\u001b[33m!\u001b[39m # Invaild edge matrix for \u001b[34m\u001b[34m<phylo>\u001b[34m\u001b[39m. A \u001b[34m\u001b[34m<tbl_df>\u001b[34m\u001b[39m is returned.\n",
      "\n",
      "\u001b[1m\u001b[22mScale for \u001b[32my\u001b[39m is already present.\n",
      "Adding another scale for \u001b[32my\u001b[39m, which will replace the existing scale.\n",
      "\u001b[1m\u001b[22mScale for \u001b[32mfill\u001b[39m is already present.\n",
      "Adding another scale for \u001b[32mfill\u001b[39m, which will replace the existing scale.\n",
      "Calculating 19_T5...\n",
      "\n"
     ]
    },
    {
     "name": "stdout",
     "output_type": "stream",
     "text": [
      "\n",
      "   N  ref   T5 \n",
      "1367    1  745 \n"
     ]
    },
    {
     "name": "stderr",
     "output_type": "stream",
     "text": [
      "\u001b[33m!\u001b[39m # Invaild edge matrix for \u001b[34m\u001b[34m<phylo>\u001b[34m\u001b[39m. A \u001b[34m\u001b[34m<tbl_df>\u001b[34m\u001b[39m is returned.\n",
      "\n",
      "\u001b[33m!\u001b[39m # Invaild edge matrix for \u001b[34m\u001b[34m<phylo>\u001b[34m\u001b[39m. A \u001b[34m\u001b[34m<tbl_df>\u001b[34m\u001b[39m is returned.\n",
      "\n",
      "\u001b[36mℹ\u001b[39m \u001b[90minvalid tbl_tree object. Missing column: label.\u001b[39m\n",
      "\n",
      "\u001b[36mℹ\u001b[39m \u001b[90minvalid tbl_tree object. Missing column: label.\u001b[39m\n",
      "\n",
      "\u001b[33m!\u001b[39m # Invaild edge matrix for \u001b[34m\u001b[34m<phylo>\u001b[34m\u001b[39m. A \u001b[34m\u001b[34m<tbl_df>\u001b[34m\u001b[39m is returned.\n",
      "\n",
      "\u001b[33m!\u001b[39m # Invaild edge matrix for \u001b[34m\u001b[34m<phylo>\u001b[34m\u001b[39m. A \u001b[34m\u001b[34m<tbl_df>\u001b[34m\u001b[39m is returned.\n",
      "\n",
      "\u001b[1m\u001b[22mScale for \u001b[32my\u001b[39m is already present.\n",
      "Adding another scale for \u001b[32my\u001b[39m, which will replace the existing scale.\n",
      "\u001b[1m\u001b[22mScale for \u001b[32mfill\u001b[39m is already present.\n",
      "Adding another scale for \u001b[32mfill\u001b[39m, which will replace the existing scale.\n",
      "Calculating 50_T...\n",
      "\n"
     ]
    },
    {
     "name": "stdout",
     "output_type": "stream",
     "text": [
      "\n",
      "   N  ref    T \n",
      "2132    1  978 \n"
     ]
    },
    {
     "name": "stderr",
     "output_type": "stream",
     "text": [
      "\u001b[33m!\u001b[39m # Invaild edge matrix for \u001b[34m\u001b[34m<phylo>\u001b[34m\u001b[39m. A \u001b[34m\u001b[34m<tbl_df>\u001b[34m\u001b[39m is returned.\n",
      "\n",
      "\u001b[33m!\u001b[39m # Invaild edge matrix for \u001b[34m\u001b[34m<phylo>\u001b[34m\u001b[39m. A \u001b[34m\u001b[34m<tbl_df>\u001b[34m\u001b[39m is returned.\n",
      "\n",
      "\u001b[36mℹ\u001b[39m \u001b[90minvalid tbl_tree object. Missing column: label.\u001b[39m\n",
      "\n",
      "\u001b[36mℹ\u001b[39m \u001b[90minvalid tbl_tree object. Missing column: label.\u001b[39m\n",
      "\n",
      "\u001b[33m!\u001b[39m # Invaild edge matrix for \u001b[34m\u001b[34m<phylo>\u001b[34m\u001b[39m. A \u001b[34m\u001b[34m<tbl_df>\u001b[34m\u001b[39m is returned.\n",
      "\n",
      "\u001b[33m!\u001b[39m # Invaild edge matrix for \u001b[34m\u001b[34m<phylo>\u001b[34m\u001b[39m. A \u001b[34m\u001b[34m<tbl_df>\u001b[34m\u001b[39m is returned.\n",
      "\n",
      "\u001b[1m\u001b[22mScale for \u001b[32my\u001b[39m is already present.\n",
      "Adding another scale for \u001b[32my\u001b[39m, which will replace the existing scale.\n",
      "\u001b[1m\u001b[22mScale for \u001b[32mfill\u001b[39m is already present.\n",
      "Adding another scale for \u001b[32mfill\u001b[39m, which will replace the existing scale.\n",
      "Calculating 18_T3...\n",
      "\n"
     ]
    },
    {
     "name": "stdout",
     "output_type": "stream",
     "text": [
      "\n",
      "   N  ref   T3 \n",
      "1503    1  995 \n"
     ]
    },
    {
     "name": "stderr",
     "output_type": "stream",
     "text": [
      "\u001b[33m!\u001b[39m # Invaild edge matrix for \u001b[34m\u001b[34m<phylo>\u001b[34m\u001b[39m. A \u001b[34m\u001b[34m<tbl_df>\u001b[34m\u001b[39m is returned.\n",
      "\n",
      "\u001b[33m!\u001b[39m # Invaild edge matrix for \u001b[34m\u001b[34m<phylo>\u001b[34m\u001b[39m. A \u001b[34m\u001b[34m<tbl_df>\u001b[34m\u001b[39m is returned.\n",
      "\n",
      "\u001b[36mℹ\u001b[39m \u001b[90minvalid tbl_tree object. Missing column: label.\u001b[39m\n",
      "\n",
      "\u001b[36mℹ\u001b[39m \u001b[90minvalid tbl_tree object. Missing column: label.\u001b[39m\n",
      "\n",
      "\u001b[33m!\u001b[39m # Invaild edge matrix for \u001b[34m\u001b[34m<phylo>\u001b[34m\u001b[39m. A \u001b[34m\u001b[34m<tbl_df>\u001b[34m\u001b[39m is returned.\n",
      "\n",
      "\u001b[33m!\u001b[39m # Invaild edge matrix for \u001b[34m\u001b[34m<phylo>\u001b[34m\u001b[39m. A \u001b[34m\u001b[34m<tbl_df>\u001b[34m\u001b[39m is returned.\n",
      "\n",
      "\u001b[1m\u001b[22mScale for \u001b[32my\u001b[39m is already present.\n",
      "Adding another scale for \u001b[32my\u001b[39m, which will replace the existing scale.\n",
      "\u001b[1m\u001b[22mScale for \u001b[32mfill\u001b[39m is already present.\n",
      "Adding another scale for \u001b[32mfill\u001b[39m, which will replace the existing scale.\n",
      "Calculating 142_T2...\n",
      "\n"
     ]
    },
    {
     "name": "stdout",
     "output_type": "stream",
     "text": [
      "\n",
      "   N  ref   T2 \n",
      "3217    1 5764 \n"
     ]
    },
    {
     "name": "stderr",
     "output_type": "stream",
     "text": [
      "\u001b[33m!\u001b[39m # Invaild edge matrix for \u001b[34m\u001b[34m<phylo>\u001b[34m\u001b[39m. A \u001b[34m\u001b[34m<tbl_df>\u001b[34m\u001b[39m is returned.\n",
      "\n",
      "\u001b[33m!\u001b[39m # Invaild edge matrix for \u001b[34m\u001b[34m<phylo>\u001b[34m\u001b[39m. A \u001b[34m\u001b[34m<tbl_df>\u001b[34m\u001b[39m is returned.\n",
      "\n",
      "\u001b[36mℹ\u001b[39m \u001b[90minvalid tbl_tree object. Missing column: label.\u001b[39m\n",
      "\n",
      "\u001b[36mℹ\u001b[39m \u001b[90minvalid tbl_tree object. Missing column: label.\u001b[39m\n",
      "\n",
      "\u001b[33m!\u001b[39m # Invaild edge matrix for \u001b[34m\u001b[34m<phylo>\u001b[34m\u001b[39m. A \u001b[34m\u001b[34m<tbl_df>\u001b[34m\u001b[39m is returned.\n",
      "\n",
      "\u001b[33m!\u001b[39m # Invaild edge matrix for \u001b[34m\u001b[34m<phylo>\u001b[34m\u001b[39m. A \u001b[34m\u001b[34m<tbl_df>\u001b[34m\u001b[39m is returned.\n",
      "\n",
      "\u001b[1m\u001b[22mScale for \u001b[32my\u001b[39m is already present.\n",
      "Adding another scale for \u001b[32my\u001b[39m, which will replace the existing scale.\n",
      "\u001b[1m\u001b[22mScale for \u001b[32mfill\u001b[39m is already present.\n",
      "Adding another scale for \u001b[32mfill\u001b[39m, which will replace the existing scale.\n",
      "Calculating 47_T4...\n",
      "\n"
     ]
    },
    {
     "name": "stdout",
     "output_type": "stream",
     "text": [
      "\n",
      "  N ref  T4 \n",
      "106   1 261 \n"
     ]
    },
    {
     "name": "stderr",
     "output_type": "stream",
     "text": [
      "\u001b[33m!\u001b[39m # Invaild edge matrix for \u001b[34m\u001b[34m<phylo>\u001b[34m\u001b[39m. A \u001b[34m\u001b[34m<tbl_df>\u001b[34m\u001b[39m is returned.\n",
      "\n",
      "\u001b[33m!\u001b[39m # Invaild edge matrix for \u001b[34m\u001b[34m<phylo>\u001b[34m\u001b[39m. A \u001b[34m\u001b[34m<tbl_df>\u001b[34m\u001b[39m is returned.\n",
      "\n",
      "\u001b[36mℹ\u001b[39m \u001b[90minvalid tbl_tree object. Missing column: label.\u001b[39m\n",
      "\n",
      "\u001b[36mℹ\u001b[39m \u001b[90minvalid tbl_tree object. Missing column: label.\u001b[39m\n",
      "\n",
      "\u001b[33m!\u001b[39m # Invaild edge matrix for \u001b[34m\u001b[34m<phylo>\u001b[34m\u001b[39m. A \u001b[34m\u001b[34m<tbl_df>\u001b[34m\u001b[39m is returned.\n",
      "\n",
      "\u001b[33m!\u001b[39m # Invaild edge matrix for \u001b[34m\u001b[34m<phylo>\u001b[34m\u001b[39m. A \u001b[34m\u001b[34m<tbl_df>\u001b[34m\u001b[39m is returned.\n",
      "\n",
      "\u001b[1m\u001b[22mScale for \u001b[32my\u001b[39m is already present.\n",
      "Adding another scale for \u001b[32my\u001b[39m, which will replace the existing scale.\n",
      "\u001b[1m\u001b[22mScale for \u001b[32mfill\u001b[39m is already present.\n",
      "Adding another scale for \u001b[32mfill\u001b[39m, which will replace the existing scale.\n",
      "Calculating 19_T1...\n",
      "\n"
     ]
    },
    {
     "name": "stdout",
     "output_type": "stream",
     "text": [
      "\n",
      "   N  ref   T1 \n",
      "1365    1  601 \n"
     ]
    },
    {
     "name": "stderr",
     "output_type": "stream",
     "text": [
      "\u001b[33m!\u001b[39m # Invaild edge matrix for \u001b[34m\u001b[34m<phylo>\u001b[34m\u001b[39m. A \u001b[34m\u001b[34m<tbl_df>\u001b[34m\u001b[39m is returned.\n",
      "\n",
      "\u001b[33m!\u001b[39m # Invaild edge matrix for \u001b[34m\u001b[34m<phylo>\u001b[34m\u001b[39m. A \u001b[34m\u001b[34m<tbl_df>\u001b[34m\u001b[39m is returned.\n",
      "\n",
      "\u001b[36mℹ\u001b[39m \u001b[90minvalid tbl_tree object. Missing column: label.\u001b[39m\n",
      "\n",
      "\u001b[36mℹ\u001b[39m \u001b[90minvalid tbl_tree object. Missing column: label.\u001b[39m\n",
      "\n",
      "\u001b[33m!\u001b[39m # Invaild edge matrix for \u001b[34m\u001b[34m<phylo>\u001b[34m\u001b[39m. A \u001b[34m\u001b[34m<tbl_df>\u001b[34m\u001b[39m is returned.\n",
      "\n",
      "\u001b[33m!\u001b[39m # Invaild edge matrix for \u001b[34m\u001b[34m<phylo>\u001b[34m\u001b[39m. A \u001b[34m\u001b[34m<tbl_df>\u001b[34m\u001b[39m is returned.\n",
      "\n",
      "\u001b[1m\u001b[22mScale for \u001b[32my\u001b[39m is already present.\n",
      "Adding another scale for \u001b[32my\u001b[39m, which will replace the existing scale.\n",
      "\u001b[1m\u001b[22mScale for \u001b[32mfill\u001b[39m is already present.\n",
      "Adding another scale for \u001b[32mfill\u001b[39m, which will replace the existing scale.\n",
      "Calculating 132_T1...\n",
      "\n"
     ]
    },
    {
     "name": "stdout",
     "output_type": "stream",
     "text": [
      "\n",
      "   N  ref   T1 \n",
      "1464    1 2615 \n"
     ]
    },
    {
     "name": "stderr",
     "output_type": "stream",
     "text": [
      "\u001b[33m!\u001b[39m # Invaild edge matrix for \u001b[34m\u001b[34m<phylo>\u001b[34m\u001b[39m. A \u001b[34m\u001b[34m<tbl_df>\u001b[34m\u001b[39m is returned.\n",
      "\n",
      "\u001b[33m!\u001b[39m # Invaild edge matrix for \u001b[34m\u001b[34m<phylo>\u001b[34m\u001b[39m. A \u001b[34m\u001b[34m<tbl_df>\u001b[34m\u001b[39m is returned.\n",
      "\n",
      "\u001b[36mℹ\u001b[39m \u001b[90minvalid tbl_tree object. Missing column: label.\u001b[39m\n",
      "\n",
      "\u001b[36mℹ\u001b[39m \u001b[90minvalid tbl_tree object. Missing column: label.\u001b[39m\n",
      "\n",
      "\u001b[33m!\u001b[39m # Invaild edge matrix for \u001b[34m\u001b[34m<phylo>\u001b[34m\u001b[39m. A \u001b[34m\u001b[34m<tbl_df>\u001b[34m\u001b[39m is returned.\n",
      "\n",
      "\u001b[33m!\u001b[39m # Invaild edge matrix for \u001b[34m\u001b[34m<phylo>\u001b[34m\u001b[39m. A \u001b[34m\u001b[34m<tbl_df>\u001b[34m\u001b[39m is returned.\n",
      "\n",
      "\u001b[1m\u001b[22mScale for \u001b[32my\u001b[39m is already present.\n",
      "Adding another scale for \u001b[32my\u001b[39m, which will replace the existing scale.\n",
      "\u001b[1m\u001b[22mScale for \u001b[32mfill\u001b[39m is already present.\n",
      "Adding another scale for \u001b[32mfill\u001b[39m, which will replace the existing scale.\n",
      "Calculating 47_T5...\n",
      "\n"
     ]
    },
    {
     "name": "stdout",
     "output_type": "stream",
     "text": [
      "\n",
      "  N ref  T5 \n",
      "432   1 659 \n"
     ]
    },
    {
     "name": "stderr",
     "output_type": "stream",
     "text": [
      "\u001b[33m!\u001b[39m # Invaild edge matrix for \u001b[34m\u001b[34m<phylo>\u001b[34m\u001b[39m. A \u001b[34m\u001b[34m<tbl_df>\u001b[34m\u001b[39m is returned.\n",
      "\n",
      "\u001b[33m!\u001b[39m # Invaild edge matrix for \u001b[34m\u001b[34m<phylo>\u001b[34m\u001b[39m. A \u001b[34m\u001b[34m<tbl_df>\u001b[34m\u001b[39m is returned.\n",
      "\n",
      "\u001b[36mℹ\u001b[39m \u001b[90minvalid tbl_tree object. Missing column: label.\u001b[39m\n",
      "\n",
      "\u001b[36mℹ\u001b[39m \u001b[90minvalid tbl_tree object. Missing column: label.\u001b[39m\n",
      "\n",
      "\u001b[33m!\u001b[39m # Invaild edge matrix for \u001b[34m\u001b[34m<phylo>\u001b[34m\u001b[39m. A \u001b[34m\u001b[34m<tbl_df>\u001b[34m\u001b[39m is returned.\n",
      "\n",
      "\u001b[33m!\u001b[39m # Invaild edge matrix for \u001b[34m\u001b[34m<phylo>\u001b[34m\u001b[39m. A \u001b[34m\u001b[34m<tbl_df>\u001b[34m\u001b[39m is returned.\n",
      "\n",
      "\u001b[1m\u001b[22mScale for \u001b[32my\u001b[39m is already present.\n",
      "Adding another scale for \u001b[32my\u001b[39m, which will replace the existing scale.\n",
      "\u001b[1m\u001b[22mScale for \u001b[32mfill\u001b[39m is already present.\n",
      "Adding another scale for \u001b[32mfill\u001b[39m, which will replace the existing scale.\n",
      "Calculating 148_T3...\n",
      "\n"
     ]
    },
    {
     "name": "stdout",
     "output_type": "stream",
     "text": [
      "\n",
      "   N  ref   T3 \n",
      "4064    1 2165 \n"
     ]
    },
    {
     "name": "stderr",
     "output_type": "stream",
     "text": [
      "\u001b[33m!\u001b[39m # Invaild edge matrix for \u001b[34m\u001b[34m<phylo>\u001b[34m\u001b[39m. A \u001b[34m\u001b[34m<tbl_df>\u001b[34m\u001b[39m is returned.\n",
      "\n",
      "\u001b[33m!\u001b[39m # Invaild edge matrix for \u001b[34m\u001b[34m<phylo>\u001b[34m\u001b[39m. A \u001b[34m\u001b[34m<tbl_df>\u001b[34m\u001b[39m is returned.\n",
      "\n",
      "\u001b[36mℹ\u001b[39m \u001b[90minvalid tbl_tree object. Missing column: label.\u001b[39m\n",
      "\n",
      "\u001b[36mℹ\u001b[39m \u001b[90minvalid tbl_tree object. Missing column: label.\u001b[39m\n",
      "\n",
      "\u001b[33m!\u001b[39m # Invaild edge matrix for \u001b[34m\u001b[34m<phylo>\u001b[34m\u001b[39m. A \u001b[34m\u001b[34m<tbl_df>\u001b[34m\u001b[39m is returned.\n",
      "\n",
      "\u001b[33m!\u001b[39m # Invaild edge matrix for \u001b[34m\u001b[34m<phylo>\u001b[34m\u001b[39m. A \u001b[34m\u001b[34m<tbl_df>\u001b[34m\u001b[39m is returned.\n",
      "\n",
      "\u001b[1m\u001b[22mScale for \u001b[32my\u001b[39m is already present.\n",
      "Adding another scale for \u001b[32my\u001b[39m, which will replace the existing scale.\n",
      "\u001b[1m\u001b[22mScale for \u001b[32mfill\u001b[39m is already present.\n",
      "Adding another scale for \u001b[32mfill\u001b[39m, which will replace the existing scale.\n",
      "Calculating 65_T3...\n",
      "\n"
     ]
    },
    {
     "name": "stdout",
     "output_type": "stream",
     "text": [
      "\n",
      "  N ref  T3 \n",
      "253   1 304 \n"
     ]
    },
    {
     "name": "stderr",
     "output_type": "stream",
     "text": [
      "\u001b[33m!\u001b[39m # Invaild edge matrix for \u001b[34m\u001b[34m<phylo>\u001b[34m\u001b[39m. A \u001b[34m\u001b[34m<tbl_df>\u001b[34m\u001b[39m is returned.\n",
      "\n",
      "\u001b[33m!\u001b[39m # Invaild edge matrix for \u001b[34m\u001b[34m<phylo>\u001b[34m\u001b[39m. A \u001b[34m\u001b[34m<tbl_df>\u001b[34m\u001b[39m is returned.\n",
      "\n",
      "\u001b[36mℹ\u001b[39m \u001b[90minvalid tbl_tree object. Missing column: label.\u001b[39m\n",
      "\n",
      "\u001b[36mℹ\u001b[39m \u001b[90minvalid tbl_tree object. Missing column: label.\u001b[39m\n",
      "\n",
      "\u001b[33m!\u001b[39m # Invaild edge matrix for \u001b[34m\u001b[34m<phylo>\u001b[34m\u001b[39m. A \u001b[34m\u001b[34m<tbl_df>\u001b[34m\u001b[39m is returned.\n",
      "\n",
      "\u001b[33m!\u001b[39m # Invaild edge matrix for \u001b[34m\u001b[34m<phylo>\u001b[34m\u001b[39m. A \u001b[34m\u001b[34m<tbl_df>\u001b[34m\u001b[39m is returned.\n",
      "\n",
      "\u001b[1m\u001b[22mScale for \u001b[32my\u001b[39m is already present.\n",
      "Adding another scale for \u001b[32my\u001b[39m, which will replace the existing scale.\n",
      "\u001b[1m\u001b[22mScale for \u001b[32mfill\u001b[39m is already present.\n",
      "Adding another scale for \u001b[32mfill\u001b[39m, which will replace the existing scale.\n",
      "Calculating 47_T1...\n",
      "\n"
     ]
    },
    {
     "name": "stdout",
     "output_type": "stream",
     "text": [
      "\n",
      "   N  ref   T1 \n",
      "2177    1  901 \n"
     ]
    },
    {
     "name": "stderr",
     "output_type": "stream",
     "text": [
      "\u001b[33m!\u001b[39m # Invaild edge matrix for \u001b[34m\u001b[34m<phylo>\u001b[34m\u001b[39m. A \u001b[34m\u001b[34m<tbl_df>\u001b[34m\u001b[39m is returned.\n",
      "\n",
      "\u001b[33m!\u001b[39m # Invaild edge matrix for \u001b[34m\u001b[34m<phylo>\u001b[34m\u001b[39m. A \u001b[34m\u001b[34m<tbl_df>\u001b[34m\u001b[39m is returned.\n",
      "\n",
      "\u001b[36mℹ\u001b[39m \u001b[90minvalid tbl_tree object. Missing column: label.\u001b[39m\n",
      "\n",
      "\u001b[36mℹ\u001b[39m \u001b[90minvalid tbl_tree object. Missing column: label.\u001b[39m\n",
      "\n",
      "\u001b[33m!\u001b[39m # Invaild edge matrix for \u001b[34m\u001b[34m<phylo>\u001b[34m\u001b[39m. A \u001b[34m\u001b[34m<tbl_df>\u001b[34m\u001b[39m is returned.\n",
      "\n",
      "\u001b[33m!\u001b[39m # Invaild edge matrix for \u001b[34m\u001b[34m<phylo>\u001b[34m\u001b[39m. A \u001b[34m\u001b[34m<tbl_df>\u001b[34m\u001b[39m is returned.\n",
      "\n",
      "\u001b[1m\u001b[22mScale for \u001b[32my\u001b[39m is already present.\n",
      "Adding another scale for \u001b[32my\u001b[39m, which will replace the existing scale.\n",
      "\u001b[1m\u001b[22mScale for \u001b[32mfill\u001b[39m is already present.\n",
      "Adding another scale for \u001b[32mfill\u001b[39m, which will replace the existing scale.\n",
      "Calculating 148_T1...\n",
      "\n"
     ]
    },
    {
     "name": "stdout",
     "output_type": "stream",
     "text": [
      "\n",
      "   N  ref   T1 \n",
      "4054    1 1527 \n"
     ]
    },
    {
     "name": "stderr",
     "output_type": "stream",
     "text": [
      "\u001b[33m!\u001b[39m # Invaild edge matrix for \u001b[34m\u001b[34m<phylo>\u001b[34m\u001b[39m. A \u001b[34m\u001b[34m<tbl_df>\u001b[34m\u001b[39m is returned.\n",
      "\n",
      "\u001b[33m!\u001b[39m # Invaild edge matrix for \u001b[34m\u001b[34m<phylo>\u001b[34m\u001b[39m. A \u001b[34m\u001b[34m<tbl_df>\u001b[34m\u001b[39m is returned.\n",
      "\n",
      "\u001b[36mℹ\u001b[39m \u001b[90minvalid tbl_tree object. Missing column: label.\u001b[39m\n",
      "\n",
      "\u001b[36mℹ\u001b[39m \u001b[90minvalid tbl_tree object. Missing column: label.\u001b[39m\n",
      "\n",
      "\u001b[33m!\u001b[39m # Invaild edge matrix for \u001b[34m\u001b[34m<phylo>\u001b[34m\u001b[39m. A \u001b[34m\u001b[34m<tbl_df>\u001b[34m\u001b[39m is returned.\n",
      "\n",
      "\u001b[33m!\u001b[39m # Invaild edge matrix for \u001b[34m\u001b[34m<phylo>\u001b[34m\u001b[39m. A \u001b[34m\u001b[34m<tbl_df>\u001b[34m\u001b[39m is returned.\n",
      "\n",
      "\u001b[1m\u001b[22mScale for \u001b[32my\u001b[39m is already present.\n",
      "Adding another scale for \u001b[32my\u001b[39m, which will replace the existing scale.\n",
      "\u001b[1m\u001b[22mScale for \u001b[32mfill\u001b[39m is already present.\n",
      "Adding another scale for \u001b[32mfill\u001b[39m, which will replace the existing scale.\n",
      "Calculating 5_T...\n",
      "\n"
     ]
    },
    {
     "name": "stdout",
     "output_type": "stream",
     "text": [
      "\n",
      "   N  ref    T \n",
      "3744    1 3615 \n"
     ]
    },
    {
     "name": "stderr",
     "output_type": "stream",
     "text": [
      "\u001b[33m!\u001b[39m # Invaild edge matrix for \u001b[34m\u001b[34m<phylo>\u001b[34m\u001b[39m. A \u001b[34m\u001b[34m<tbl_df>\u001b[34m\u001b[39m is returned.\n",
      "\n",
      "\u001b[33m!\u001b[39m # Invaild edge matrix for \u001b[34m\u001b[34m<phylo>\u001b[34m\u001b[39m. A \u001b[34m\u001b[34m<tbl_df>\u001b[34m\u001b[39m is returned.\n",
      "\n",
      "\u001b[36mℹ\u001b[39m \u001b[90minvalid tbl_tree object. Missing column: label.\u001b[39m\n",
      "\n",
      "\u001b[36mℹ\u001b[39m \u001b[90minvalid tbl_tree object. Missing column: label.\u001b[39m\n",
      "\n",
      "\u001b[33m!\u001b[39m # Invaild edge matrix for \u001b[34m\u001b[34m<phylo>\u001b[34m\u001b[39m. A \u001b[34m\u001b[34m<tbl_df>\u001b[34m\u001b[39m is returned.\n",
      "\n",
      "\u001b[33m!\u001b[39m # Invaild edge matrix for \u001b[34m\u001b[34m<phylo>\u001b[34m\u001b[39m. A \u001b[34m\u001b[34m<tbl_df>\u001b[34m\u001b[39m is returned.\n",
      "\n",
      "\u001b[1m\u001b[22mScale for \u001b[32my\u001b[39m is already present.\n",
      "Adding another scale for \u001b[32my\u001b[39m, which will replace the existing scale.\n",
      "\u001b[1m\u001b[22mScale for \u001b[32mfill\u001b[39m is already present.\n",
      "Adding another scale for \u001b[32mfill\u001b[39m, which will replace the existing scale.\n",
      "Calculating 19_T3...\n",
      "\n"
     ]
    },
    {
     "name": "stdout",
     "output_type": "stream",
     "text": [
      "\n",
      "   N  ref   T3 \n",
      "1366    1 1623 \n"
     ]
    },
    {
     "name": "stderr",
     "output_type": "stream",
     "text": [
      "\u001b[33m!\u001b[39m # Invaild edge matrix for \u001b[34m\u001b[34m<phylo>\u001b[34m\u001b[39m. A \u001b[34m\u001b[34m<tbl_df>\u001b[34m\u001b[39m is returned.\n",
      "\n",
      "\u001b[33m!\u001b[39m # Invaild edge matrix for \u001b[34m\u001b[34m<phylo>\u001b[34m\u001b[39m. A \u001b[34m\u001b[34m<tbl_df>\u001b[34m\u001b[39m is returned.\n",
      "\n",
      "\u001b[36mℹ\u001b[39m \u001b[90minvalid tbl_tree object. Missing column: label.\u001b[39m\n",
      "\n",
      "\u001b[36mℹ\u001b[39m \u001b[90minvalid tbl_tree object. Missing column: label.\u001b[39m\n",
      "\n",
      "\u001b[33m!\u001b[39m # Invaild edge matrix for \u001b[34m\u001b[34m<phylo>\u001b[34m\u001b[39m. A \u001b[34m\u001b[34m<tbl_df>\u001b[34m\u001b[39m is returned.\n",
      "\n",
      "\u001b[33m!\u001b[39m # Invaild edge matrix for \u001b[34m\u001b[34m<phylo>\u001b[34m\u001b[39m. A \u001b[34m\u001b[34m<tbl_df>\u001b[34m\u001b[39m is returned.\n",
      "\n",
      "\u001b[1m\u001b[22mScale for \u001b[32my\u001b[39m is already present.\n",
      "Adding another scale for \u001b[32my\u001b[39m, which will replace the existing scale.\n",
      "\u001b[1m\u001b[22mScale for \u001b[32mfill\u001b[39m is already present.\n",
      "Adding another scale for \u001b[32mfill\u001b[39m, which will replace the existing scale.\n",
      "Calculating 66_T...\n",
      "\n"
     ]
    },
    {
     "name": "stdout",
     "output_type": "stream",
     "text": [
      "\n",
      "   N  ref    T \n",
      "2018    1  373 \n"
     ]
    },
    {
     "name": "stderr",
     "output_type": "stream",
     "text": [
      "\u001b[33m!\u001b[39m # Invaild edge matrix for \u001b[34m\u001b[34m<phylo>\u001b[34m\u001b[39m. A \u001b[34m\u001b[34m<tbl_df>\u001b[34m\u001b[39m is returned.\n",
      "\n",
      "\u001b[33m!\u001b[39m # Invaild edge matrix for \u001b[34m\u001b[34m<phylo>\u001b[34m\u001b[39m. A \u001b[34m\u001b[34m<tbl_df>\u001b[34m\u001b[39m is returned.\n",
      "\n",
      "\u001b[36mℹ\u001b[39m \u001b[90minvalid tbl_tree object. Missing column: label.\u001b[39m\n",
      "\n",
      "\u001b[36mℹ\u001b[39m \u001b[90minvalid tbl_tree object. Missing column: label.\u001b[39m\n",
      "\n",
      "\u001b[33m!\u001b[39m # Invaild edge matrix for \u001b[34m\u001b[34m<phylo>\u001b[34m\u001b[39m. A \u001b[34m\u001b[34m<tbl_df>\u001b[34m\u001b[39m is returned.\n",
      "\n",
      "\u001b[33m!\u001b[39m # Invaild edge matrix for \u001b[34m\u001b[34m<phylo>\u001b[34m\u001b[39m. A \u001b[34m\u001b[34m<tbl_df>\u001b[34m\u001b[39m is returned.\n",
      "\n",
      "\u001b[1m\u001b[22mScale for \u001b[32my\u001b[39m is already present.\n",
      "Adding another scale for \u001b[32my\u001b[39m, which will replace the existing scale.\n",
      "\u001b[1m\u001b[22mScale for \u001b[32mfill\u001b[39m is already present.\n",
      "Adding another scale for \u001b[32mfill\u001b[39m, which will replace the existing scale.\n",
      "Calculating 4_T...\n",
      "\n"
     ]
    },
    {
     "name": "stdout",
     "output_type": "stream",
     "text": [
      "\n",
      "   N  ref    T \n",
      "1433    1 3493 \n"
     ]
    },
    {
     "name": "stderr",
     "output_type": "stream",
     "text": [
      "\u001b[33m!\u001b[39m # Invaild edge matrix for \u001b[34m\u001b[34m<phylo>\u001b[34m\u001b[39m. A \u001b[34m\u001b[34m<tbl_df>\u001b[34m\u001b[39m is returned.\n",
      "\n",
      "\u001b[33m!\u001b[39m # Invaild edge matrix for \u001b[34m\u001b[34m<phylo>\u001b[34m\u001b[39m. A \u001b[34m\u001b[34m<tbl_df>\u001b[34m\u001b[39m is returned.\n",
      "\n",
      "\u001b[36mℹ\u001b[39m \u001b[90minvalid tbl_tree object. Missing column: label.\u001b[39m\n",
      "\n",
      "\u001b[36mℹ\u001b[39m \u001b[90minvalid tbl_tree object. Missing column: label.\u001b[39m\n",
      "\n",
      "\u001b[33m!\u001b[39m # Invaild edge matrix for \u001b[34m\u001b[34m<phylo>\u001b[34m\u001b[39m. A \u001b[34m\u001b[34m<tbl_df>\u001b[34m\u001b[39m is returned.\n",
      "\n",
      "\u001b[33m!\u001b[39m # Invaild edge matrix for \u001b[34m\u001b[34m<phylo>\u001b[34m\u001b[39m. A \u001b[34m\u001b[34m<tbl_df>\u001b[34m\u001b[39m is returned.\n",
      "\n",
      "\u001b[1m\u001b[22mScale for \u001b[32my\u001b[39m is already present.\n",
      "Adding another scale for \u001b[32my\u001b[39m, which will replace the existing scale.\n",
      "\u001b[1m\u001b[22mScale for \u001b[32mfill\u001b[39m is already present.\n",
      "Adding another scale for \u001b[32mfill\u001b[39m, which will replace the existing scale.\n",
      "Calculating 16_T...\n",
      "\n"
     ]
    },
    {
     "name": "stdout",
     "output_type": "stream",
     "text": [
      "\n",
      "   N  ref    T \n",
      "3741    1 3517 \n"
     ]
    },
    {
     "name": "stderr",
     "output_type": "stream",
     "text": [
      "\u001b[33m!\u001b[39m # Invaild edge matrix for \u001b[34m\u001b[34m<phylo>\u001b[34m\u001b[39m. A \u001b[34m\u001b[34m<tbl_df>\u001b[34m\u001b[39m is returned.\n",
      "\n",
      "\u001b[33m!\u001b[39m # Invaild edge matrix for \u001b[34m\u001b[34m<phylo>\u001b[34m\u001b[39m. A \u001b[34m\u001b[34m<tbl_df>\u001b[34m\u001b[39m is returned.\n",
      "\n",
      "\u001b[36mℹ\u001b[39m \u001b[90minvalid tbl_tree object. Missing column: label.\u001b[39m\n",
      "\n",
      "\u001b[36mℹ\u001b[39m \u001b[90minvalid tbl_tree object. Missing column: label.\u001b[39m\n",
      "\n",
      "\u001b[33m!\u001b[39m # Invaild edge matrix for \u001b[34m\u001b[34m<phylo>\u001b[34m\u001b[39m. A \u001b[34m\u001b[34m<tbl_df>\u001b[34m\u001b[39m is returned.\n",
      "\n",
      "\u001b[33m!\u001b[39m # Invaild edge matrix for \u001b[34m\u001b[34m<phylo>\u001b[34m\u001b[39m. A \u001b[34m\u001b[34m<tbl_df>\u001b[34m\u001b[39m is returned.\n",
      "\n",
      "\u001b[1m\u001b[22mScale for \u001b[32my\u001b[39m is already present.\n",
      "Adding another scale for \u001b[32my\u001b[39m, which will replace the existing scale.\n",
      "\u001b[1m\u001b[22mScale for \u001b[32mfill\u001b[39m is already present.\n",
      "Adding another scale for \u001b[32mfill\u001b[39m, which will replace the existing scale.\n",
      "Calculating 142_T1...\n",
      "\n"
     ]
    },
    {
     "name": "stdout",
     "output_type": "stream",
     "text": [
      "\n",
      "   N  ref   T1 \n",
      "3155    1 5668 \n"
     ]
    },
    {
     "name": "stderr",
     "output_type": "stream",
     "text": [
      "\u001b[33m!\u001b[39m # Invaild edge matrix for \u001b[34m\u001b[34m<phylo>\u001b[34m\u001b[39m. A \u001b[34m\u001b[34m<tbl_df>\u001b[34m\u001b[39m is returned.\n",
      "\n",
      "\u001b[33m!\u001b[39m # Invaild edge matrix for \u001b[34m\u001b[34m<phylo>\u001b[34m\u001b[39m. A \u001b[34m\u001b[34m<tbl_df>\u001b[34m\u001b[39m is returned.\n",
      "\n",
      "\u001b[36mℹ\u001b[39m \u001b[90minvalid tbl_tree object. Missing column: label.\u001b[39m\n",
      "\n",
      "\u001b[36mℹ\u001b[39m \u001b[90minvalid tbl_tree object. Missing column: label.\u001b[39m\n",
      "\n",
      "\u001b[33m!\u001b[39m # Invaild edge matrix for \u001b[34m\u001b[34m<phylo>\u001b[34m\u001b[39m. A \u001b[34m\u001b[34m<tbl_df>\u001b[34m\u001b[39m is returned.\n",
      "\n",
      "\u001b[33m!\u001b[39m # Invaild edge matrix for \u001b[34m\u001b[34m<phylo>\u001b[34m\u001b[39m. A \u001b[34m\u001b[34m<tbl_df>\u001b[34m\u001b[39m is returned.\n",
      "\n",
      "\u001b[1m\u001b[22mScale for \u001b[32my\u001b[39m is already present.\n",
      "Adding another scale for \u001b[32my\u001b[39m, which will replace the existing scale.\n",
      "\u001b[1m\u001b[22mScale for \u001b[32mfill\u001b[39m is already present.\n",
      "Adding another scale for \u001b[32mfill\u001b[39m, which will replace the existing scale.\n",
      "Calculating 49_T1...\n",
      "\n"
     ]
    },
    {
     "name": "stdout",
     "output_type": "stream",
     "text": [
      "\n",
      "  N ref  T1 \n",
      "157   1 775 \n"
     ]
    },
    {
     "name": "stderr",
     "output_type": "stream",
     "text": [
      "\u001b[33m!\u001b[39m # Invaild edge matrix for \u001b[34m\u001b[34m<phylo>\u001b[34m\u001b[39m. A \u001b[34m\u001b[34m<tbl_df>\u001b[34m\u001b[39m is returned.\n",
      "\n",
      "\u001b[33m!\u001b[39m # Invaild edge matrix for \u001b[34m\u001b[34m<phylo>\u001b[34m\u001b[39m. A \u001b[34m\u001b[34m<tbl_df>\u001b[34m\u001b[39m is returned.\n",
      "\n",
      "\u001b[36mℹ\u001b[39m \u001b[90minvalid tbl_tree object. Missing column: label.\u001b[39m\n",
      "\n",
      "\u001b[36mℹ\u001b[39m \u001b[90minvalid tbl_tree object. Missing column: label.\u001b[39m\n",
      "\n",
      "\u001b[33m!\u001b[39m # Invaild edge matrix for \u001b[34m\u001b[34m<phylo>\u001b[34m\u001b[39m. A \u001b[34m\u001b[34m<tbl_df>\u001b[34m\u001b[39m is returned.\n",
      "\n",
      "\u001b[33m!\u001b[39m # Invaild edge matrix for \u001b[34m\u001b[34m<phylo>\u001b[34m\u001b[39m. A \u001b[34m\u001b[34m<tbl_df>\u001b[34m\u001b[39m is returned.\n",
      "\n",
      "\u001b[1m\u001b[22mScale for \u001b[32my\u001b[39m is already present.\n",
      "Adding another scale for \u001b[32my\u001b[39m, which will replace the existing scale.\n",
      "\u001b[1m\u001b[22mScale for \u001b[32mfill\u001b[39m is already present.\n",
      "Adding another scale for \u001b[32mfill\u001b[39m, which will replace the existing scale.\n",
      "Calculating 49_T3...\n",
      "\n"
     ]
    },
    {
     "name": "stdout",
     "output_type": "stream",
     "text": [
      "\n",
      "   N  ref   T3 \n",
      " 141    1 1568 \n"
     ]
    },
    {
     "name": "stderr",
     "output_type": "stream",
     "text": [
      "\u001b[33m!\u001b[39m # Invaild edge matrix for \u001b[34m\u001b[34m<phylo>\u001b[34m\u001b[39m. A \u001b[34m\u001b[34m<tbl_df>\u001b[34m\u001b[39m is returned.\n",
      "\n",
      "\u001b[33m!\u001b[39m # Invaild edge matrix for \u001b[34m\u001b[34m<phylo>\u001b[34m\u001b[39m. A \u001b[34m\u001b[34m<tbl_df>\u001b[34m\u001b[39m is returned.\n",
      "\n",
      "\u001b[36mℹ\u001b[39m \u001b[90minvalid tbl_tree object. Missing column: label.\u001b[39m\n",
      "\n",
      "\u001b[36mℹ\u001b[39m \u001b[90minvalid tbl_tree object. Missing column: label.\u001b[39m\n",
      "\n",
      "\u001b[33m!\u001b[39m # Invaild edge matrix for \u001b[34m\u001b[34m<phylo>\u001b[34m\u001b[39m. A \u001b[34m\u001b[34m<tbl_df>\u001b[34m\u001b[39m is returned.\n",
      "\n",
      "\u001b[33m!\u001b[39m # Invaild edge matrix for \u001b[34m\u001b[34m<phylo>\u001b[34m\u001b[39m. A \u001b[34m\u001b[34m<tbl_df>\u001b[34m\u001b[39m is returned.\n",
      "\n",
      "\u001b[1m\u001b[22mScale for \u001b[32my\u001b[39m is already present.\n",
      "Adding another scale for \u001b[32my\u001b[39m, which will replace the existing scale.\n",
      "\u001b[1m\u001b[22mScale for \u001b[32mfill\u001b[39m is already present.\n",
      "Adding another scale for \u001b[32mfill\u001b[39m, which will replace the existing scale.\n",
      "Calculating 65_T1...\n",
      "\n"
     ]
    },
    {
     "name": "stdout",
     "output_type": "stream",
     "text": [
      "\n",
      "  N ref  T1 \n",
      "251   1 115 \n"
     ]
    },
    {
     "name": "stderr",
     "output_type": "stream",
     "text": [
      "\u001b[33m!\u001b[39m # Invaild edge matrix for \u001b[34m\u001b[34m<phylo>\u001b[34m\u001b[39m. A \u001b[34m\u001b[34m<tbl_df>\u001b[34m\u001b[39m is returned.\n",
      "\n",
      "\u001b[33m!\u001b[39m # Invaild edge matrix for \u001b[34m\u001b[34m<phylo>\u001b[34m\u001b[39m. A \u001b[34m\u001b[34m<tbl_df>\u001b[34m\u001b[39m is returned.\n",
      "\n",
      "\u001b[36mℹ\u001b[39m \u001b[90minvalid tbl_tree object. Missing column: label.\u001b[39m\n",
      "\n",
      "\u001b[36mℹ\u001b[39m \u001b[90minvalid tbl_tree object. Missing column: label.\u001b[39m\n",
      "\n",
      "\u001b[33m!\u001b[39m # Invaild edge matrix for \u001b[34m\u001b[34m<phylo>\u001b[34m\u001b[39m. A \u001b[34m\u001b[34m<tbl_df>\u001b[34m\u001b[39m is returned.\n",
      "\n",
      "\u001b[33m!\u001b[39m # Invaild edge matrix for \u001b[34m\u001b[34m<phylo>\u001b[34m\u001b[39m. A \u001b[34m\u001b[34m<tbl_df>\u001b[34m\u001b[39m is returned.\n",
      "\n",
      "\u001b[1m\u001b[22mScale for \u001b[32my\u001b[39m is already present.\n",
      "Adding another scale for \u001b[32my\u001b[39m, which will replace the existing scale.\n",
      "\u001b[1m\u001b[22mScale for \u001b[32mfill\u001b[39m is already present.\n",
      "Adding another scale for \u001b[32mfill\u001b[39m, which will replace the existing scale.\n"
     ]
    },
    {
     "ename": "ERROR",
     "evalue": "Error in p3[[28]]: subscript out of bounds\n",
     "output_type": "error",
     "traceback": [
      "Error in p3[[28]]: subscript out of bounds\nTraceback:\n"
     ]
    }
   ],
   "source": [
    "##--------------------------------------------------------------------------------------------------\n",
    "samples=c(\"151_T4\",\"47_T6\",\"47_T8\",\"17_T4\",\"19_T4\",\"18_T4\",\"19_T5\",\"50_T\",\"18_T3\",\"142_T2\",\n",
    "          \"47_T4\",\"19_T1\",\"132_T1\",\"47_T5\",\"148_T3\",\"65_T3\",\"47_T1\",#\"142_T5-4\",\n",
    "          \"148_T1\",\"5_T\",\"19_T3\",\"66_T\",\"4_T\",\"16_T\",\"142_T1\",\"49_T1\",\"49_T3\",\"65_T1\")\n",
    "labNames=c(\"151_T4\",\"47_T6\",\"47_T8\",\"17_T4\",\"19_T4\",\"18_T4\",\"19_T5\",\"50_T\",\"18_T3\",\"142_T2\",\n",
    "          \"47_T4\",\"19_T1\",\"132_T1\",\"47_T5\",\"148_T3\",\"65_T3\",\"47_T1\",#\"142_T5-4\",\n",
    "          \"148_T1\",\"5_T\",\"19_T3\",\"66_T\",\"4_T\",\"16_T\",\"142_T1\",\"49_T1\",\"49_T3\",\"65_T1\")\n",
    "PHYDIR = \"/data2/kantian/LineageTracing/SMALT/0.Results/5.trimmed_trees/\"\n",
    "TREEDIR = PHYDIR\n",
    "OUTDIR=\"/data2/kantian/LineageTracing/SMALT/0.Results/figures/\"\n",
    "##--------------------------------------------------------------------------------------------------\n",
    "pdf(file = paste0(OUTDIR,\"5.1.plotTree_NTfiltered_re_rect_2panels_trimmed.pdf\"), height = 12, width = 12)\n",
    ".plotTree_rect_2panel(samples, PHYDIR,TREEDIR,labNames)\n",
    "dev.off()\n",
    "p3 <- .plotTree(samples, PHYDIR,TREEDIR,labNames,layOut = \"circular\", branchLength = \"branch.length\",colorTip=TRUE,logBranch=TRUE,sampleSize = TRUE)\n",
    "pdf(file = paste0(OUTDIR,\"5.1.plotTree_NTfiltered_re_circular_trimmed.pdf\"), height = 10, width = 15)\n",
    "ggarrange(p3[[1]],p3[[2]],p3[[3]],p3[[4]],p3[[5]],p3[[6]],p3[[7]],p3[[8]],p3[[9]],p3[[10]],\n",
    "          p3[[11]],p3[[12]],p3[[13]],p3[[14]],p3[[15]],p3[[16]],p3[[17]],p3[[18]],p3[[19]],p3[[20]],\n",
    "          p3[[21]],p3[[22]],p3[[23]],p3[[24]],p3[[25]],p3[[26]],p3[[27]],p3[[28]],\n",
    "            nrow = 3, ncol=4)\n",
    "dev.off()\n"
   ]
  },
  {
   "cell_type": "code",
   "execution_count": 13,
   "id": "87859933-b745-4f61-b3ff-0acd343b44f5",
   "metadata": {},
   "outputs": [
    {
     "data": {
      "text/plain": [
       "$`1`\n",
       "\n",
       "$`2`\n",
       "\n",
       "$`3`\n",
       "\n",
       "attr(,\"class\")\n",
       "[1] \"list\"      \"ggarrange\""
      ]
     },
     "metadata": {},
     "output_type": "display_data"
    },
    {
     "data": {
      "text/html": [
       "<strong>png:</strong> 2"
      ],
      "text/latex": [
       "\\textbf{png:} 2"
      ],
      "text/markdown": [
       "**png:** 2"
      ],
      "text/plain": [
       "png \n",
       "  2 "
      ]
     },
     "metadata": {},
     "output_type": "display_data"
    }
   ],
   "source": [
    "pdf(file = paste0(OUTDIR,\"5.1.plotTree_NTfiltered_re_circular_trimmed.pdf\"), height = 10, width = 15)\n",
    "ggarrange(p3[[1]],p3[[2]],p3[[3]],p3[[4]],p3[[5]],p3[[6]],p3[[7]],p3[[8]],p3[[9]],p3[[10]],\n",
    "          p3[[11]],p3[[12]],p3[[13]],p3[[14]],p3[[15]],p3[[16]],p3[[17]],p3[[18]],p3[[19]],p3[[20]],\n",
    "          p3[[21]],p3[[22]],p3[[23]],p3[[24]],p3[[25]],p3[[26]],p3[[27]],\n",
    "            nrow = 3, ncol=4)\n",
    "dev.off()\n"
   ]
  },
  {
   "cell_type": "code",
   "execution_count": null,
   "id": "3fc54728-0a17-4019-956d-50f1ffecdc8f",
   "metadata": {},
   "outputs": [],
   "source": []
  }
 ],
 "metadata": {
  "kernelspec": {
   "display_name": "smalt_R4.2",
   "language": "R",
   "name": "ir"
  },
  "language_info": {
   "codemirror_mode": "r",
   "file_extension": ".r",
   "mimetype": "text/x-r-source",
   "name": "R",
   "pygments_lexer": "r",
   "version": "4.2.0"
  }
 },
 "nbformat": 4,
 "nbformat_minor": 5
}
